{
  "nbformat": 4,
  "nbformat_minor": 0,
  "metadata": {
    "colab": {
      "provenance": [],
      "machine_shape": "hm",
      "authorship_tag": "ABX9TyNpiXtLFYspDfir/pqu3ptW",
      "include_colab_link": true
    },
    "kernelspec": {
      "name": "python3",
      "display_name": "Python 3"
    },
    "language_info": {
      "name": "python"
    },
    "accelerator": "GPU",
    "gpuClass": "standard",
    "widgets": {
      "application/vnd.jupyter.widget-state+json": {
        "ec0927fb03e44ae28861f8e64b68c30a": {
          "model_module": "@jupyter-widgets/controls",
          "model_name": "HBoxModel",
          "model_module_version": "1.5.0",
          "state": {
            "_dom_classes": [],
            "_model_module": "@jupyter-widgets/controls",
            "_model_module_version": "1.5.0",
            "_model_name": "HBoxModel",
            "_view_count": null,
            "_view_module": "@jupyter-widgets/controls",
            "_view_module_version": "1.5.0",
            "_view_name": "HBoxView",
            "box_style": "",
            "children": [
              "IPY_MODEL_86b84c5a3af64fa8b4a91508907c78ce",
              "IPY_MODEL_5ec26fd6dfaf4adbbae51e6397bf87d5",
              "IPY_MODEL_7d21656ba8c04527b0c947597291759a"
            ],
            "layout": "IPY_MODEL_8d54510e2a4a4fc390504bd0209f8a9a"
          }
        },
        "86b84c5a3af64fa8b4a91508907c78ce": {
          "model_module": "@jupyter-widgets/controls",
          "model_name": "HTMLModel",
          "model_module_version": "1.5.0",
          "state": {
            "_dom_classes": [],
            "_model_module": "@jupyter-widgets/controls",
            "_model_module_version": "1.5.0",
            "_model_name": "HTMLModel",
            "_view_count": null,
            "_view_module": "@jupyter-widgets/controls",
            "_view_module_version": "1.5.0",
            "_view_name": "HTMLView",
            "description": "",
            "description_tooltip": null,
            "layout": "IPY_MODEL_c45d2c6070fa41a1bd425f83918055fb",
            "placeholder": "​",
            "style": "IPY_MODEL_06014d2a8efa427e99dac9746497cb1e",
            "value": "Downloading: 100%"
          }
        },
        "5ec26fd6dfaf4adbbae51e6397bf87d5": {
          "model_module": "@jupyter-widgets/controls",
          "model_name": "FloatProgressModel",
          "model_module_version": "1.5.0",
          "state": {
            "_dom_classes": [],
            "_model_module": "@jupyter-widgets/controls",
            "_model_module_version": "1.5.0",
            "_model_name": "FloatProgressModel",
            "_view_count": null,
            "_view_module": "@jupyter-widgets/controls",
            "_view_module_version": "1.5.0",
            "_view_name": "ProgressView",
            "bar_style": "success",
            "description": "",
            "description_tooltip": null,
            "layout": "IPY_MODEL_c042045f1bc74b78bbd266d7fd199a04",
            "max": 689,
            "min": 0,
            "orientation": "horizontal",
            "style": "IPY_MODEL_019445e9da014893b0499cc72095ddc8",
            "value": 689
          }
        },
        "7d21656ba8c04527b0c947597291759a": {
          "model_module": "@jupyter-widgets/controls",
          "model_name": "HTMLModel",
          "model_module_version": "1.5.0",
          "state": {
            "_dom_classes": [],
            "_model_module": "@jupyter-widgets/controls",
            "_model_module_version": "1.5.0",
            "_model_name": "HTMLModel",
            "_view_count": null,
            "_view_module": "@jupyter-widgets/controls",
            "_view_module_version": "1.5.0",
            "_view_name": "HTMLView",
            "description": "",
            "description_tooltip": null,
            "layout": "IPY_MODEL_df7aa3abbcec4ce5a66aa88899826587",
            "placeholder": "​",
            "style": "IPY_MODEL_531411bf3b62450d871a1bb3c0a9d133",
            "value": " 689/689 [00:00&lt;00:00, 36.1kB/s]"
          }
        },
        "8d54510e2a4a4fc390504bd0209f8a9a": {
          "model_module": "@jupyter-widgets/base",
          "model_name": "LayoutModel",
          "model_module_version": "1.2.0",
          "state": {
            "_model_module": "@jupyter-widgets/base",
            "_model_module_version": "1.2.0",
            "_model_name": "LayoutModel",
            "_view_count": null,
            "_view_module": "@jupyter-widgets/base",
            "_view_module_version": "1.2.0",
            "_view_name": "LayoutView",
            "align_content": null,
            "align_items": null,
            "align_self": null,
            "border": null,
            "bottom": null,
            "display": null,
            "flex": null,
            "flex_flow": null,
            "grid_area": null,
            "grid_auto_columns": null,
            "grid_auto_flow": null,
            "grid_auto_rows": null,
            "grid_column": null,
            "grid_gap": null,
            "grid_row": null,
            "grid_template_areas": null,
            "grid_template_columns": null,
            "grid_template_rows": null,
            "height": null,
            "justify_content": null,
            "justify_items": null,
            "left": null,
            "margin": null,
            "max_height": null,
            "max_width": null,
            "min_height": null,
            "min_width": null,
            "object_fit": null,
            "object_position": null,
            "order": null,
            "overflow": null,
            "overflow_x": null,
            "overflow_y": null,
            "padding": null,
            "right": null,
            "top": null,
            "visibility": null,
            "width": null
          }
        },
        "c45d2c6070fa41a1bd425f83918055fb": {
          "model_module": "@jupyter-widgets/base",
          "model_name": "LayoutModel",
          "model_module_version": "1.2.0",
          "state": {
            "_model_module": "@jupyter-widgets/base",
            "_model_module_version": "1.2.0",
            "_model_name": "LayoutModel",
            "_view_count": null,
            "_view_module": "@jupyter-widgets/base",
            "_view_module_version": "1.2.0",
            "_view_name": "LayoutView",
            "align_content": null,
            "align_items": null,
            "align_self": null,
            "border": null,
            "bottom": null,
            "display": null,
            "flex": null,
            "flex_flow": null,
            "grid_area": null,
            "grid_auto_columns": null,
            "grid_auto_flow": null,
            "grid_auto_rows": null,
            "grid_column": null,
            "grid_gap": null,
            "grid_row": null,
            "grid_template_areas": null,
            "grid_template_columns": null,
            "grid_template_rows": null,
            "height": null,
            "justify_content": null,
            "justify_items": null,
            "left": null,
            "margin": null,
            "max_height": null,
            "max_width": null,
            "min_height": null,
            "min_width": null,
            "object_fit": null,
            "object_position": null,
            "order": null,
            "overflow": null,
            "overflow_x": null,
            "overflow_y": null,
            "padding": null,
            "right": null,
            "top": null,
            "visibility": null,
            "width": null
          }
        },
        "06014d2a8efa427e99dac9746497cb1e": {
          "model_module": "@jupyter-widgets/controls",
          "model_name": "DescriptionStyleModel",
          "model_module_version": "1.5.0",
          "state": {
            "_model_module": "@jupyter-widgets/controls",
            "_model_module_version": "1.5.0",
            "_model_name": "DescriptionStyleModel",
            "_view_count": null,
            "_view_module": "@jupyter-widgets/base",
            "_view_module_version": "1.2.0",
            "_view_name": "StyleView",
            "description_width": ""
          }
        },
        "c042045f1bc74b78bbd266d7fd199a04": {
          "model_module": "@jupyter-widgets/base",
          "model_name": "LayoutModel",
          "model_module_version": "1.2.0",
          "state": {
            "_model_module": "@jupyter-widgets/base",
            "_model_module_version": "1.2.0",
            "_model_name": "LayoutModel",
            "_view_count": null,
            "_view_module": "@jupyter-widgets/base",
            "_view_module_version": "1.2.0",
            "_view_name": "LayoutView",
            "align_content": null,
            "align_items": null,
            "align_self": null,
            "border": null,
            "bottom": null,
            "display": null,
            "flex": null,
            "flex_flow": null,
            "grid_area": null,
            "grid_auto_columns": null,
            "grid_auto_flow": null,
            "grid_auto_rows": null,
            "grid_column": null,
            "grid_gap": null,
            "grid_row": null,
            "grid_template_areas": null,
            "grid_template_columns": null,
            "grid_template_rows": null,
            "height": null,
            "justify_content": null,
            "justify_items": null,
            "left": null,
            "margin": null,
            "max_height": null,
            "max_width": null,
            "min_height": null,
            "min_width": null,
            "object_fit": null,
            "object_position": null,
            "order": null,
            "overflow": null,
            "overflow_x": null,
            "overflow_y": null,
            "padding": null,
            "right": null,
            "top": null,
            "visibility": null,
            "width": null
          }
        },
        "019445e9da014893b0499cc72095ddc8": {
          "model_module": "@jupyter-widgets/controls",
          "model_name": "ProgressStyleModel",
          "model_module_version": "1.5.0",
          "state": {
            "_model_module": "@jupyter-widgets/controls",
            "_model_module_version": "1.5.0",
            "_model_name": "ProgressStyleModel",
            "_view_count": null,
            "_view_module": "@jupyter-widgets/base",
            "_view_module_version": "1.2.0",
            "_view_name": "StyleView",
            "bar_color": null,
            "description_width": ""
          }
        },
        "df7aa3abbcec4ce5a66aa88899826587": {
          "model_module": "@jupyter-widgets/base",
          "model_name": "LayoutModel",
          "model_module_version": "1.2.0",
          "state": {
            "_model_module": "@jupyter-widgets/base",
            "_model_module_version": "1.2.0",
            "_model_name": "LayoutModel",
            "_view_count": null,
            "_view_module": "@jupyter-widgets/base",
            "_view_module_version": "1.2.0",
            "_view_name": "LayoutView",
            "align_content": null,
            "align_items": null,
            "align_self": null,
            "border": null,
            "bottom": null,
            "display": null,
            "flex": null,
            "flex_flow": null,
            "grid_area": null,
            "grid_auto_columns": null,
            "grid_auto_flow": null,
            "grid_auto_rows": null,
            "grid_column": null,
            "grid_gap": null,
            "grid_row": null,
            "grid_template_areas": null,
            "grid_template_columns": null,
            "grid_template_rows": null,
            "height": null,
            "justify_content": null,
            "justify_items": null,
            "left": null,
            "margin": null,
            "max_height": null,
            "max_width": null,
            "min_height": null,
            "min_width": null,
            "object_fit": null,
            "object_position": null,
            "order": null,
            "overflow": null,
            "overflow_x": null,
            "overflow_y": null,
            "padding": null,
            "right": null,
            "top": null,
            "visibility": null,
            "width": null
          }
        },
        "531411bf3b62450d871a1bb3c0a9d133": {
          "model_module": "@jupyter-widgets/controls",
          "model_name": "DescriptionStyleModel",
          "model_module_version": "1.5.0",
          "state": {
            "_model_module": "@jupyter-widgets/controls",
            "_model_module_version": "1.5.0",
            "_model_name": "DescriptionStyleModel",
            "_view_count": null,
            "_view_module": "@jupyter-widgets/base",
            "_view_module_version": "1.2.0",
            "_view_name": "StyleView",
            "description_width": ""
          }
        },
        "864ee9d497a344b09ed0fe6c38fe3cbe": {
          "model_module": "@jupyter-widgets/controls",
          "model_name": "HBoxModel",
          "model_module_version": "1.5.0",
          "state": {
            "_dom_classes": [],
            "_model_module": "@jupyter-widgets/controls",
            "_model_module_version": "1.5.0",
            "_model_name": "HBoxModel",
            "_view_count": null,
            "_view_module": "@jupyter-widgets/controls",
            "_view_module_version": "1.5.0",
            "_view_name": "HBoxView",
            "box_style": "",
            "children": [
              "IPY_MODEL_ca2c15e5cedd42dfb549043d8753ded6",
              "IPY_MODEL_7f3868e2595c420db03c0d1f43fd7fe0",
              "IPY_MODEL_fba5ca81428a4305b8c09a772cc52dfc"
            ],
            "layout": "IPY_MODEL_591ed68761244b99a5c1a9fc9f4a23ae"
          }
        },
        "ca2c15e5cedd42dfb549043d8753ded6": {
          "model_module": "@jupyter-widgets/controls",
          "model_name": "HTMLModel",
          "model_module_version": "1.5.0",
          "state": {
            "_dom_classes": [],
            "_model_module": "@jupyter-widgets/controls",
            "_model_module_version": "1.5.0",
            "_model_name": "HTMLModel",
            "_view_count": null,
            "_view_module": "@jupyter-widgets/controls",
            "_view_module_version": "1.5.0",
            "_view_name": "HTMLView",
            "description": "",
            "description_tooltip": null,
            "layout": "IPY_MODEL_e67a1c4190eb47519affc3eb08397b41",
            "placeholder": "​",
            "style": "IPY_MODEL_0f42ed200b5b4918910acb828ade4fb6",
            "value": "Downloading: 100%"
          }
        },
        "7f3868e2595c420db03c0d1f43fd7fe0": {
          "model_module": "@jupyter-widgets/controls",
          "model_name": "FloatProgressModel",
          "model_module_version": "1.5.0",
          "state": {
            "_dom_classes": [],
            "_model_module": "@jupyter-widgets/controls",
            "_model_module_version": "1.5.0",
            "_model_name": "FloatProgressModel",
            "_view_count": null,
            "_view_module": "@jupyter-widgets/controls",
            "_view_module_version": "1.5.0",
            "_view_name": "ProgressView",
            "bar_style": "success",
            "description": "",
            "description_tooltip": null,
            "layout": "IPY_MODEL_fbcd5a91cdb4454f9231e46b8d9891fd",
            "max": 1042301,
            "min": 0,
            "orientation": "horizontal",
            "style": "IPY_MODEL_c477e23858e64e07befd22e2e7f113fe",
            "value": 1042301
          }
        },
        "fba5ca81428a4305b8c09a772cc52dfc": {
          "model_module": "@jupyter-widgets/controls",
          "model_name": "HTMLModel",
          "model_module_version": "1.5.0",
          "state": {
            "_dom_classes": [],
            "_model_module": "@jupyter-widgets/controls",
            "_model_module_version": "1.5.0",
            "_model_name": "HTMLModel",
            "_view_count": null,
            "_view_module": "@jupyter-widgets/controls",
            "_view_module_version": "1.5.0",
            "_view_name": "HTMLView",
            "description": "",
            "description_tooltip": null,
            "layout": "IPY_MODEL_9c4c6f6deb1c4a4ea0935318d67b9a36",
            "placeholder": "​",
            "style": "IPY_MODEL_0c4609ad60cf4abf85c556f998af6241",
            "value": " 1.04M/1.04M [00:01&lt;00:00, 1.21MB/s]"
          }
        },
        "591ed68761244b99a5c1a9fc9f4a23ae": {
          "model_module": "@jupyter-widgets/base",
          "model_name": "LayoutModel",
          "model_module_version": "1.2.0",
          "state": {
            "_model_module": "@jupyter-widgets/base",
            "_model_module_version": "1.2.0",
            "_model_name": "LayoutModel",
            "_view_count": null,
            "_view_module": "@jupyter-widgets/base",
            "_view_module_version": "1.2.0",
            "_view_name": "LayoutView",
            "align_content": null,
            "align_items": null,
            "align_self": null,
            "border": null,
            "bottom": null,
            "display": null,
            "flex": null,
            "flex_flow": null,
            "grid_area": null,
            "grid_auto_columns": null,
            "grid_auto_flow": null,
            "grid_auto_rows": null,
            "grid_column": null,
            "grid_gap": null,
            "grid_row": null,
            "grid_template_areas": null,
            "grid_template_columns": null,
            "grid_template_rows": null,
            "height": null,
            "justify_content": null,
            "justify_items": null,
            "left": null,
            "margin": null,
            "max_height": null,
            "max_width": null,
            "min_height": null,
            "min_width": null,
            "object_fit": null,
            "object_position": null,
            "order": null,
            "overflow": null,
            "overflow_x": null,
            "overflow_y": null,
            "padding": null,
            "right": null,
            "top": null,
            "visibility": null,
            "width": null
          }
        },
        "e67a1c4190eb47519affc3eb08397b41": {
          "model_module": "@jupyter-widgets/base",
          "model_name": "LayoutModel",
          "model_module_version": "1.2.0",
          "state": {
            "_model_module": "@jupyter-widgets/base",
            "_model_module_version": "1.2.0",
            "_model_name": "LayoutModel",
            "_view_count": null,
            "_view_module": "@jupyter-widgets/base",
            "_view_module_version": "1.2.0",
            "_view_name": "LayoutView",
            "align_content": null,
            "align_items": null,
            "align_self": null,
            "border": null,
            "bottom": null,
            "display": null,
            "flex": null,
            "flex_flow": null,
            "grid_area": null,
            "grid_auto_columns": null,
            "grid_auto_flow": null,
            "grid_auto_rows": null,
            "grid_column": null,
            "grid_gap": null,
            "grid_row": null,
            "grid_template_areas": null,
            "grid_template_columns": null,
            "grid_template_rows": null,
            "height": null,
            "justify_content": null,
            "justify_items": null,
            "left": null,
            "margin": null,
            "max_height": null,
            "max_width": null,
            "min_height": null,
            "min_width": null,
            "object_fit": null,
            "object_position": null,
            "order": null,
            "overflow": null,
            "overflow_x": null,
            "overflow_y": null,
            "padding": null,
            "right": null,
            "top": null,
            "visibility": null,
            "width": null
          }
        },
        "0f42ed200b5b4918910acb828ade4fb6": {
          "model_module": "@jupyter-widgets/controls",
          "model_name": "DescriptionStyleModel",
          "model_module_version": "1.5.0",
          "state": {
            "_model_module": "@jupyter-widgets/controls",
            "_model_module_version": "1.5.0",
            "_model_name": "DescriptionStyleModel",
            "_view_count": null,
            "_view_module": "@jupyter-widgets/base",
            "_view_module_version": "1.2.0",
            "_view_name": "StyleView",
            "description_width": ""
          }
        },
        "fbcd5a91cdb4454f9231e46b8d9891fd": {
          "model_module": "@jupyter-widgets/base",
          "model_name": "LayoutModel",
          "model_module_version": "1.2.0",
          "state": {
            "_model_module": "@jupyter-widgets/base",
            "_model_module_version": "1.2.0",
            "_model_name": "LayoutModel",
            "_view_count": null,
            "_view_module": "@jupyter-widgets/base",
            "_view_module_version": "1.2.0",
            "_view_name": "LayoutView",
            "align_content": null,
            "align_items": null,
            "align_self": null,
            "border": null,
            "bottom": null,
            "display": null,
            "flex": null,
            "flex_flow": null,
            "grid_area": null,
            "grid_auto_columns": null,
            "grid_auto_flow": null,
            "grid_auto_rows": null,
            "grid_column": null,
            "grid_gap": null,
            "grid_row": null,
            "grid_template_areas": null,
            "grid_template_columns": null,
            "grid_template_rows": null,
            "height": null,
            "justify_content": null,
            "justify_items": null,
            "left": null,
            "margin": null,
            "max_height": null,
            "max_width": null,
            "min_height": null,
            "min_width": null,
            "object_fit": null,
            "object_position": null,
            "order": null,
            "overflow": null,
            "overflow_x": null,
            "overflow_y": null,
            "padding": null,
            "right": null,
            "top": null,
            "visibility": null,
            "width": null
          }
        },
        "c477e23858e64e07befd22e2e7f113fe": {
          "model_module": "@jupyter-widgets/controls",
          "model_name": "ProgressStyleModel",
          "model_module_version": "1.5.0",
          "state": {
            "_model_module": "@jupyter-widgets/controls",
            "_model_module_version": "1.5.0",
            "_model_name": "ProgressStyleModel",
            "_view_count": null,
            "_view_module": "@jupyter-widgets/base",
            "_view_module_version": "1.2.0",
            "_view_name": "StyleView",
            "bar_color": null,
            "description_width": ""
          }
        },
        "9c4c6f6deb1c4a4ea0935318d67b9a36": {
          "model_module": "@jupyter-widgets/base",
          "model_name": "LayoutModel",
          "model_module_version": "1.2.0",
          "state": {
            "_model_module": "@jupyter-widgets/base",
            "_model_module_version": "1.2.0",
            "_model_name": "LayoutModel",
            "_view_count": null,
            "_view_module": "@jupyter-widgets/base",
            "_view_module_version": "1.2.0",
            "_view_name": "LayoutView",
            "align_content": null,
            "align_items": null,
            "align_self": null,
            "border": null,
            "bottom": null,
            "display": null,
            "flex": null,
            "flex_flow": null,
            "grid_area": null,
            "grid_auto_columns": null,
            "grid_auto_flow": null,
            "grid_auto_rows": null,
            "grid_column": null,
            "grid_gap": null,
            "grid_row": null,
            "grid_template_areas": null,
            "grid_template_columns": null,
            "grid_template_rows": null,
            "height": null,
            "justify_content": null,
            "justify_items": null,
            "left": null,
            "margin": null,
            "max_height": null,
            "max_width": null,
            "min_height": null,
            "min_width": null,
            "object_fit": null,
            "object_position": null,
            "order": null,
            "overflow": null,
            "overflow_x": null,
            "overflow_y": null,
            "padding": null,
            "right": null,
            "top": null,
            "visibility": null,
            "width": null
          }
        },
        "0c4609ad60cf4abf85c556f998af6241": {
          "model_module": "@jupyter-widgets/controls",
          "model_name": "DescriptionStyleModel",
          "model_module_version": "1.5.0",
          "state": {
            "_model_module": "@jupyter-widgets/controls",
            "_model_module_version": "1.5.0",
            "_model_name": "DescriptionStyleModel",
            "_view_count": null,
            "_view_module": "@jupyter-widgets/base",
            "_view_module_version": "1.2.0",
            "_view_name": "StyleView",
            "description_width": ""
          }
        },
        "9d739858e4b440bfb507a9c0681a2cc6": {
          "model_module": "@jupyter-widgets/controls",
          "model_name": "HBoxModel",
          "model_module_version": "1.5.0",
          "state": {
            "_dom_classes": [],
            "_model_module": "@jupyter-widgets/controls",
            "_model_module_version": "1.5.0",
            "_model_name": "HBoxModel",
            "_view_count": null,
            "_view_module": "@jupyter-widgets/controls",
            "_view_module_version": "1.5.0",
            "_view_name": "HBoxView",
            "box_style": "",
            "children": [
              "IPY_MODEL_b224868f65fc41a39b470d54b5e16c2a",
              "IPY_MODEL_7d0686e301fe49c7b312b78ec4ebb4a7",
              "IPY_MODEL_9d30ed832e844b8b8296bd0a2da0fea5"
            ],
            "layout": "IPY_MODEL_348134dff89a4599b89b46ad00fb92b3"
          }
        },
        "b224868f65fc41a39b470d54b5e16c2a": {
          "model_module": "@jupyter-widgets/controls",
          "model_name": "HTMLModel",
          "model_module_version": "1.5.0",
          "state": {
            "_dom_classes": [],
            "_model_module": "@jupyter-widgets/controls",
            "_model_module_version": "1.5.0",
            "_model_name": "HTMLModel",
            "_view_count": null,
            "_view_module": "@jupyter-widgets/controls",
            "_view_module_version": "1.5.0",
            "_view_name": "HTMLView",
            "description": "",
            "description_tooltip": null,
            "layout": "IPY_MODEL_192e019660a6468ba180fbb919dccd61",
            "placeholder": "​",
            "style": "IPY_MODEL_beab0cddbb984a358d595b5217c85eb5",
            "value": "Downloading: 100%"
          }
        },
        "7d0686e301fe49c7b312b78ec4ebb4a7": {
          "model_module": "@jupyter-widgets/controls",
          "model_name": "FloatProgressModel",
          "model_module_version": "1.5.0",
          "state": {
            "_dom_classes": [],
            "_model_module": "@jupyter-widgets/controls",
            "_model_module_version": "1.5.0",
            "_model_name": "FloatProgressModel",
            "_view_count": null,
            "_view_module": "@jupyter-widgets/controls",
            "_view_module_version": "1.5.0",
            "_view_name": "ProgressView",
            "bar_style": "success",
            "description": "",
            "description_tooltip": null,
            "layout": "IPY_MODEL_a6b5239433ba4c77b41be4a55623ea5e",
            "max": 456318,
            "min": 0,
            "orientation": "horizontal",
            "style": "IPY_MODEL_904065ae96914c35a8527518992c8b79",
            "value": 456318
          }
        },
        "9d30ed832e844b8b8296bd0a2da0fea5": {
          "model_module": "@jupyter-widgets/controls",
          "model_name": "HTMLModel",
          "model_module_version": "1.5.0",
          "state": {
            "_dom_classes": [],
            "_model_module": "@jupyter-widgets/controls",
            "_model_module_version": "1.5.0",
            "_model_name": "HTMLModel",
            "_view_count": null,
            "_view_module": "@jupyter-widgets/controls",
            "_view_module_version": "1.5.0",
            "_view_name": "HTMLView",
            "description": "",
            "description_tooltip": null,
            "layout": "IPY_MODEL_80206636bc304afab0fba009d5a1a2f3",
            "placeholder": "​",
            "style": "IPY_MODEL_28416eea3a08421f85af13a060f633b1",
            "value": " 456k/456k [00:00&lt;00:00, 640kB/s]"
          }
        },
        "348134dff89a4599b89b46ad00fb92b3": {
          "model_module": "@jupyter-widgets/base",
          "model_name": "LayoutModel",
          "model_module_version": "1.2.0",
          "state": {
            "_model_module": "@jupyter-widgets/base",
            "_model_module_version": "1.2.0",
            "_model_name": "LayoutModel",
            "_view_count": null,
            "_view_module": "@jupyter-widgets/base",
            "_view_module_version": "1.2.0",
            "_view_name": "LayoutView",
            "align_content": null,
            "align_items": null,
            "align_self": null,
            "border": null,
            "bottom": null,
            "display": null,
            "flex": null,
            "flex_flow": null,
            "grid_area": null,
            "grid_auto_columns": null,
            "grid_auto_flow": null,
            "grid_auto_rows": null,
            "grid_column": null,
            "grid_gap": null,
            "grid_row": null,
            "grid_template_areas": null,
            "grid_template_columns": null,
            "grid_template_rows": null,
            "height": null,
            "justify_content": null,
            "justify_items": null,
            "left": null,
            "margin": null,
            "max_height": null,
            "max_width": null,
            "min_height": null,
            "min_width": null,
            "object_fit": null,
            "object_position": null,
            "order": null,
            "overflow": null,
            "overflow_x": null,
            "overflow_y": null,
            "padding": null,
            "right": null,
            "top": null,
            "visibility": null,
            "width": null
          }
        },
        "192e019660a6468ba180fbb919dccd61": {
          "model_module": "@jupyter-widgets/base",
          "model_name": "LayoutModel",
          "model_module_version": "1.2.0",
          "state": {
            "_model_module": "@jupyter-widgets/base",
            "_model_module_version": "1.2.0",
            "_model_name": "LayoutModel",
            "_view_count": null,
            "_view_module": "@jupyter-widgets/base",
            "_view_module_version": "1.2.0",
            "_view_name": "LayoutView",
            "align_content": null,
            "align_items": null,
            "align_self": null,
            "border": null,
            "bottom": null,
            "display": null,
            "flex": null,
            "flex_flow": null,
            "grid_area": null,
            "grid_auto_columns": null,
            "grid_auto_flow": null,
            "grid_auto_rows": null,
            "grid_column": null,
            "grid_gap": null,
            "grid_row": null,
            "grid_template_areas": null,
            "grid_template_columns": null,
            "grid_template_rows": null,
            "height": null,
            "justify_content": null,
            "justify_items": null,
            "left": null,
            "margin": null,
            "max_height": null,
            "max_width": null,
            "min_height": null,
            "min_width": null,
            "object_fit": null,
            "object_position": null,
            "order": null,
            "overflow": null,
            "overflow_x": null,
            "overflow_y": null,
            "padding": null,
            "right": null,
            "top": null,
            "visibility": null,
            "width": null
          }
        },
        "beab0cddbb984a358d595b5217c85eb5": {
          "model_module": "@jupyter-widgets/controls",
          "model_name": "DescriptionStyleModel",
          "model_module_version": "1.5.0",
          "state": {
            "_model_module": "@jupyter-widgets/controls",
            "_model_module_version": "1.5.0",
            "_model_name": "DescriptionStyleModel",
            "_view_count": null,
            "_view_module": "@jupyter-widgets/base",
            "_view_module_version": "1.2.0",
            "_view_name": "StyleView",
            "description_width": ""
          }
        },
        "a6b5239433ba4c77b41be4a55623ea5e": {
          "model_module": "@jupyter-widgets/base",
          "model_name": "LayoutModel",
          "model_module_version": "1.2.0",
          "state": {
            "_model_module": "@jupyter-widgets/base",
            "_model_module_version": "1.2.0",
            "_model_name": "LayoutModel",
            "_view_count": null,
            "_view_module": "@jupyter-widgets/base",
            "_view_module_version": "1.2.0",
            "_view_name": "LayoutView",
            "align_content": null,
            "align_items": null,
            "align_self": null,
            "border": null,
            "bottom": null,
            "display": null,
            "flex": null,
            "flex_flow": null,
            "grid_area": null,
            "grid_auto_columns": null,
            "grid_auto_flow": null,
            "grid_auto_rows": null,
            "grid_column": null,
            "grid_gap": null,
            "grid_row": null,
            "grid_template_areas": null,
            "grid_template_columns": null,
            "grid_template_rows": null,
            "height": null,
            "justify_content": null,
            "justify_items": null,
            "left": null,
            "margin": null,
            "max_height": null,
            "max_width": null,
            "min_height": null,
            "min_width": null,
            "object_fit": null,
            "object_position": null,
            "order": null,
            "overflow": null,
            "overflow_x": null,
            "overflow_y": null,
            "padding": null,
            "right": null,
            "top": null,
            "visibility": null,
            "width": null
          }
        },
        "904065ae96914c35a8527518992c8b79": {
          "model_module": "@jupyter-widgets/controls",
          "model_name": "ProgressStyleModel",
          "model_module_version": "1.5.0",
          "state": {
            "_model_module": "@jupyter-widgets/controls",
            "_model_module_version": "1.5.0",
            "_model_name": "ProgressStyleModel",
            "_view_count": null,
            "_view_module": "@jupyter-widgets/base",
            "_view_module_version": "1.2.0",
            "_view_name": "StyleView",
            "bar_color": null,
            "description_width": ""
          }
        },
        "80206636bc304afab0fba009d5a1a2f3": {
          "model_module": "@jupyter-widgets/base",
          "model_name": "LayoutModel",
          "model_module_version": "1.2.0",
          "state": {
            "_model_module": "@jupyter-widgets/base",
            "_model_module_version": "1.2.0",
            "_model_name": "LayoutModel",
            "_view_count": null,
            "_view_module": "@jupyter-widgets/base",
            "_view_module_version": "1.2.0",
            "_view_name": "LayoutView",
            "align_content": null,
            "align_items": null,
            "align_self": null,
            "border": null,
            "bottom": null,
            "display": null,
            "flex": null,
            "flex_flow": null,
            "grid_area": null,
            "grid_auto_columns": null,
            "grid_auto_flow": null,
            "grid_auto_rows": null,
            "grid_column": null,
            "grid_gap": null,
            "grid_row": null,
            "grid_template_areas": null,
            "grid_template_columns": null,
            "grid_template_rows": null,
            "height": null,
            "justify_content": null,
            "justify_items": null,
            "left": null,
            "margin": null,
            "max_height": null,
            "max_width": null,
            "min_height": null,
            "min_width": null,
            "object_fit": null,
            "object_position": null,
            "order": null,
            "overflow": null,
            "overflow_x": null,
            "overflow_y": null,
            "padding": null,
            "right": null,
            "top": null,
            "visibility": null,
            "width": null
          }
        },
        "28416eea3a08421f85af13a060f633b1": {
          "model_module": "@jupyter-widgets/controls",
          "model_name": "DescriptionStyleModel",
          "model_module_version": "1.5.0",
          "state": {
            "_model_module": "@jupyter-widgets/controls",
            "_model_module_version": "1.5.0",
            "_model_name": "DescriptionStyleModel",
            "_view_count": null,
            "_view_module": "@jupyter-widgets/base",
            "_view_module_version": "1.2.0",
            "_view_name": "StyleView",
            "description_width": ""
          }
        },
        "01382b0051bf4de7b256abcd503134d4": {
          "model_module": "@jupyter-widgets/controls",
          "model_name": "HBoxModel",
          "model_module_version": "1.5.0",
          "state": {
            "_dom_classes": [],
            "_model_module": "@jupyter-widgets/controls",
            "_model_module_version": "1.5.0",
            "_model_name": "HBoxModel",
            "_view_count": null,
            "_view_module": "@jupyter-widgets/controls",
            "_view_module_version": "1.5.0",
            "_view_name": "HBoxView",
            "box_style": "",
            "children": [
              "IPY_MODEL_c3716f31c5f94d71b1b40990291a791e",
              "IPY_MODEL_cea335dd8d864b04a1aa9a76fe66af97",
              "IPY_MODEL_3dbcde0666bd4de0a8dbfeab2abd6ab7"
            ],
            "layout": "IPY_MODEL_9e14920e999f4d14a2a3720a6fa17b46"
          }
        },
        "c3716f31c5f94d71b1b40990291a791e": {
          "model_module": "@jupyter-widgets/controls",
          "model_name": "HTMLModel",
          "model_module_version": "1.5.0",
          "state": {
            "_dom_classes": [],
            "_model_module": "@jupyter-widgets/controls",
            "_model_module_version": "1.5.0",
            "_model_name": "HTMLModel",
            "_view_count": null,
            "_view_module": "@jupyter-widgets/controls",
            "_view_module_version": "1.5.0",
            "_view_name": "HTMLView",
            "description": "",
            "description_tooltip": null,
            "layout": "IPY_MODEL_0bf4148631a447e48bb2c2582fd94c60",
            "placeholder": "​",
            "style": "IPY_MODEL_7dfda5febe094e489742faf71b56d801",
            "value": "Downloading: 100%"
          }
        },
        "cea335dd8d864b04a1aa9a76fe66af97": {
          "model_module": "@jupyter-widgets/controls",
          "model_name": "FloatProgressModel",
          "model_module_version": "1.5.0",
          "state": {
            "_dom_classes": [],
            "_model_module": "@jupyter-widgets/controls",
            "_model_module_version": "1.5.0",
            "_model_name": "FloatProgressModel",
            "_view_count": null,
            "_view_module": "@jupyter-widgets/controls",
            "_view_module_version": "1.5.0",
            "_view_name": "ProgressView",
            "bar_style": "success",
            "description": "",
            "description_tooltip": null,
            "layout": "IPY_MODEL_31f86404ed494594824cddcb14c4aa4c",
            "max": 1355256,
            "min": 0,
            "orientation": "horizontal",
            "style": "IPY_MODEL_06058cfbaefa4ae598cc4d7d57360d50",
            "value": 1355256
          }
        },
        "3dbcde0666bd4de0a8dbfeab2abd6ab7": {
          "model_module": "@jupyter-widgets/controls",
          "model_name": "HTMLModel",
          "model_module_version": "1.5.0",
          "state": {
            "_dom_classes": [],
            "_model_module": "@jupyter-widgets/controls",
            "_model_module_version": "1.5.0",
            "_model_name": "HTMLModel",
            "_view_count": null,
            "_view_module": "@jupyter-widgets/controls",
            "_view_module_version": "1.5.0",
            "_view_name": "HTMLView",
            "description": "",
            "description_tooltip": null,
            "layout": "IPY_MODEL_f63f5e4109254feba171e5e592ab36e2",
            "placeholder": "​",
            "style": "IPY_MODEL_f0e12fbce8c149488799ec77769ee941",
            "value": " 1.36M/1.36M [00:01&lt;00:00, 1.17MB/s]"
          }
        },
        "9e14920e999f4d14a2a3720a6fa17b46": {
          "model_module": "@jupyter-widgets/base",
          "model_name": "LayoutModel",
          "model_module_version": "1.2.0",
          "state": {
            "_model_module": "@jupyter-widgets/base",
            "_model_module_version": "1.2.0",
            "_model_name": "LayoutModel",
            "_view_count": null,
            "_view_module": "@jupyter-widgets/base",
            "_view_module_version": "1.2.0",
            "_view_name": "LayoutView",
            "align_content": null,
            "align_items": null,
            "align_self": null,
            "border": null,
            "bottom": null,
            "display": null,
            "flex": null,
            "flex_flow": null,
            "grid_area": null,
            "grid_auto_columns": null,
            "grid_auto_flow": null,
            "grid_auto_rows": null,
            "grid_column": null,
            "grid_gap": null,
            "grid_row": null,
            "grid_template_areas": null,
            "grid_template_columns": null,
            "grid_template_rows": null,
            "height": null,
            "justify_content": null,
            "justify_items": null,
            "left": null,
            "margin": null,
            "max_height": null,
            "max_width": null,
            "min_height": null,
            "min_width": null,
            "object_fit": null,
            "object_position": null,
            "order": null,
            "overflow": null,
            "overflow_x": null,
            "overflow_y": null,
            "padding": null,
            "right": null,
            "top": null,
            "visibility": null,
            "width": null
          }
        },
        "0bf4148631a447e48bb2c2582fd94c60": {
          "model_module": "@jupyter-widgets/base",
          "model_name": "LayoutModel",
          "model_module_version": "1.2.0",
          "state": {
            "_model_module": "@jupyter-widgets/base",
            "_model_module_version": "1.2.0",
            "_model_name": "LayoutModel",
            "_view_count": null,
            "_view_module": "@jupyter-widgets/base",
            "_view_module_version": "1.2.0",
            "_view_name": "LayoutView",
            "align_content": null,
            "align_items": null,
            "align_self": null,
            "border": null,
            "bottom": null,
            "display": null,
            "flex": null,
            "flex_flow": null,
            "grid_area": null,
            "grid_auto_columns": null,
            "grid_auto_flow": null,
            "grid_auto_rows": null,
            "grid_column": null,
            "grid_gap": null,
            "grid_row": null,
            "grid_template_areas": null,
            "grid_template_columns": null,
            "grid_template_rows": null,
            "height": null,
            "justify_content": null,
            "justify_items": null,
            "left": null,
            "margin": null,
            "max_height": null,
            "max_width": null,
            "min_height": null,
            "min_width": null,
            "object_fit": null,
            "object_position": null,
            "order": null,
            "overflow": null,
            "overflow_x": null,
            "overflow_y": null,
            "padding": null,
            "right": null,
            "top": null,
            "visibility": null,
            "width": null
          }
        },
        "7dfda5febe094e489742faf71b56d801": {
          "model_module": "@jupyter-widgets/controls",
          "model_name": "DescriptionStyleModel",
          "model_module_version": "1.5.0",
          "state": {
            "_model_module": "@jupyter-widgets/controls",
            "_model_module_version": "1.5.0",
            "_model_name": "DescriptionStyleModel",
            "_view_count": null,
            "_view_module": "@jupyter-widgets/base",
            "_view_module_version": "1.2.0",
            "_view_name": "StyleView",
            "description_width": ""
          }
        },
        "31f86404ed494594824cddcb14c4aa4c": {
          "model_module": "@jupyter-widgets/base",
          "model_name": "LayoutModel",
          "model_module_version": "1.2.0",
          "state": {
            "_model_module": "@jupyter-widgets/base",
            "_model_module_version": "1.2.0",
            "_model_name": "LayoutModel",
            "_view_count": null,
            "_view_module": "@jupyter-widgets/base",
            "_view_module_version": "1.2.0",
            "_view_name": "LayoutView",
            "align_content": null,
            "align_items": null,
            "align_self": null,
            "border": null,
            "bottom": null,
            "display": null,
            "flex": null,
            "flex_flow": null,
            "grid_area": null,
            "grid_auto_columns": null,
            "grid_auto_flow": null,
            "grid_auto_rows": null,
            "grid_column": null,
            "grid_gap": null,
            "grid_row": null,
            "grid_template_areas": null,
            "grid_template_columns": null,
            "grid_template_rows": null,
            "height": null,
            "justify_content": null,
            "justify_items": null,
            "left": null,
            "margin": null,
            "max_height": null,
            "max_width": null,
            "min_height": null,
            "min_width": null,
            "object_fit": null,
            "object_position": null,
            "order": null,
            "overflow": null,
            "overflow_x": null,
            "overflow_y": null,
            "padding": null,
            "right": null,
            "top": null,
            "visibility": null,
            "width": null
          }
        },
        "06058cfbaefa4ae598cc4d7d57360d50": {
          "model_module": "@jupyter-widgets/controls",
          "model_name": "ProgressStyleModel",
          "model_module_version": "1.5.0",
          "state": {
            "_model_module": "@jupyter-widgets/controls",
            "_model_module_version": "1.5.0",
            "_model_name": "ProgressStyleModel",
            "_view_count": null,
            "_view_module": "@jupyter-widgets/base",
            "_view_module_version": "1.2.0",
            "_view_name": "StyleView",
            "bar_color": null,
            "description_width": ""
          }
        },
        "f63f5e4109254feba171e5e592ab36e2": {
          "model_module": "@jupyter-widgets/base",
          "model_name": "LayoutModel",
          "model_module_version": "1.2.0",
          "state": {
            "_model_module": "@jupyter-widgets/base",
            "_model_module_version": "1.2.0",
            "_model_name": "LayoutModel",
            "_view_count": null,
            "_view_module": "@jupyter-widgets/base",
            "_view_module_version": "1.2.0",
            "_view_name": "LayoutView",
            "align_content": null,
            "align_items": null,
            "align_self": null,
            "border": null,
            "bottom": null,
            "display": null,
            "flex": null,
            "flex_flow": null,
            "grid_area": null,
            "grid_auto_columns": null,
            "grid_auto_flow": null,
            "grid_auto_rows": null,
            "grid_column": null,
            "grid_gap": null,
            "grid_row": null,
            "grid_template_areas": null,
            "grid_template_columns": null,
            "grid_template_rows": null,
            "height": null,
            "justify_content": null,
            "justify_items": null,
            "left": null,
            "margin": null,
            "max_height": null,
            "max_width": null,
            "min_height": null,
            "min_width": null,
            "object_fit": null,
            "object_position": null,
            "order": null,
            "overflow": null,
            "overflow_x": null,
            "overflow_y": null,
            "padding": null,
            "right": null,
            "top": null,
            "visibility": null,
            "width": null
          }
        },
        "f0e12fbce8c149488799ec77769ee941": {
          "model_module": "@jupyter-widgets/controls",
          "model_name": "DescriptionStyleModel",
          "model_module_version": "1.5.0",
          "state": {
            "_model_module": "@jupyter-widgets/controls",
            "_model_module_version": "1.5.0",
            "_model_name": "DescriptionStyleModel",
            "_view_count": null,
            "_view_module": "@jupyter-widgets/base",
            "_view_module_version": "1.2.0",
            "_view_name": "StyleView",
            "description_width": ""
          }
        },
        "bcdca399295b4884adf94d8d9b0de5d0": {
          "model_module": "@jupyter-widgets/controls",
          "model_name": "HBoxModel",
          "model_module_version": "1.5.0",
          "state": {
            "_dom_classes": [],
            "_model_module": "@jupyter-widgets/controls",
            "_model_module_version": "1.5.0",
            "_model_name": "HBoxModel",
            "_view_count": null,
            "_view_module": "@jupyter-widgets/controls",
            "_view_module_version": "1.5.0",
            "_view_name": "HBoxView",
            "box_style": "",
            "children": [
              "IPY_MODEL_62fd793c496a4a22b75d6d3b24c881c0",
              "IPY_MODEL_10da3e9b85344119a5824c305ea301a4",
              "IPY_MODEL_d5916b46352f4a4e8faaa50b31cb6142"
            ],
            "layout": "IPY_MODEL_cf7e0ed884284639939b0f04617deae4"
          }
        },
        "62fd793c496a4a22b75d6d3b24c881c0": {
          "model_module": "@jupyter-widgets/controls",
          "model_name": "HTMLModel",
          "model_module_version": "1.5.0",
          "state": {
            "_dom_classes": [],
            "_model_module": "@jupyter-widgets/controls",
            "_model_module_version": "1.5.0",
            "_model_name": "HTMLModel",
            "_view_count": null,
            "_view_module": "@jupyter-widgets/controls",
            "_view_module_version": "1.5.0",
            "_view_name": "HTMLView",
            "description": "",
            "description_tooltip": null,
            "layout": "IPY_MODEL_e5042deb3c1d49cb8627b2b8ac82a720",
            "placeholder": "​",
            "style": "IPY_MODEL_b051655cc8544070ae2f6f947b036a66",
            "value": "Downloading: 100%"
          }
        },
        "10da3e9b85344119a5824c305ea301a4": {
          "model_module": "@jupyter-widgets/controls",
          "model_name": "FloatProgressModel",
          "model_module_version": "1.5.0",
          "state": {
            "_dom_classes": [],
            "_model_module": "@jupyter-widgets/controls",
            "_model_module_version": "1.5.0",
            "_model_name": "FloatProgressModel",
            "_view_count": null,
            "_view_module": "@jupyter-widgets/controls",
            "_view_module_version": "1.5.0",
            "_view_name": "ProgressView",
            "bar_style": "success",
            "description": "",
            "description_tooltip": null,
            "layout": "IPY_MODEL_cacc693ea559495f9bd20fb5eb3979d9",
            "max": 6431878936,
            "min": 0,
            "orientation": "horizontal",
            "style": "IPY_MODEL_74367b3f40e540e6b7506afbe3c99d42",
            "value": 6431878936
          }
        },
        "d5916b46352f4a4e8faaa50b31cb6142": {
          "model_module": "@jupyter-widgets/controls",
          "model_name": "HTMLModel",
          "model_module_version": "1.5.0",
          "state": {
            "_dom_classes": [],
            "_model_module": "@jupyter-widgets/controls",
            "_model_module_version": "1.5.0",
            "_model_name": "HTMLModel",
            "_view_count": null,
            "_view_module": "@jupyter-widgets/controls",
            "_view_module_version": "1.5.0",
            "_view_name": "HTMLView",
            "description": "",
            "description_tooltip": null,
            "layout": "IPY_MODEL_2bd064a6856044548dc4793c59cc75a4",
            "placeholder": "​",
            "style": "IPY_MODEL_97446700df144469b48ebc1929d6de5e",
            "value": " 6.43G/6.43G [04:40&lt;00:00, 23.2MB/s]"
          }
        },
        "cf7e0ed884284639939b0f04617deae4": {
          "model_module": "@jupyter-widgets/base",
          "model_name": "LayoutModel",
          "model_module_version": "1.2.0",
          "state": {
            "_model_module": "@jupyter-widgets/base",
            "_model_module_version": "1.2.0",
            "_model_name": "LayoutModel",
            "_view_count": null,
            "_view_module": "@jupyter-widgets/base",
            "_view_module_version": "1.2.0",
            "_view_name": "LayoutView",
            "align_content": null,
            "align_items": null,
            "align_self": null,
            "border": null,
            "bottom": null,
            "display": null,
            "flex": null,
            "flex_flow": null,
            "grid_area": null,
            "grid_auto_columns": null,
            "grid_auto_flow": null,
            "grid_auto_rows": null,
            "grid_column": null,
            "grid_gap": null,
            "grid_row": null,
            "grid_template_areas": null,
            "grid_template_columns": null,
            "grid_template_rows": null,
            "height": null,
            "justify_content": null,
            "justify_items": null,
            "left": null,
            "margin": null,
            "max_height": null,
            "max_width": null,
            "min_height": null,
            "min_width": null,
            "object_fit": null,
            "object_position": null,
            "order": null,
            "overflow": null,
            "overflow_x": null,
            "overflow_y": null,
            "padding": null,
            "right": null,
            "top": null,
            "visibility": null,
            "width": null
          }
        },
        "e5042deb3c1d49cb8627b2b8ac82a720": {
          "model_module": "@jupyter-widgets/base",
          "model_name": "LayoutModel",
          "model_module_version": "1.2.0",
          "state": {
            "_model_module": "@jupyter-widgets/base",
            "_model_module_version": "1.2.0",
            "_model_name": "LayoutModel",
            "_view_count": null,
            "_view_module": "@jupyter-widgets/base",
            "_view_module_version": "1.2.0",
            "_view_name": "LayoutView",
            "align_content": null,
            "align_items": null,
            "align_self": null,
            "border": null,
            "bottom": null,
            "display": null,
            "flex": null,
            "flex_flow": null,
            "grid_area": null,
            "grid_auto_columns": null,
            "grid_auto_flow": null,
            "grid_auto_rows": null,
            "grid_column": null,
            "grid_gap": null,
            "grid_row": null,
            "grid_template_areas": null,
            "grid_template_columns": null,
            "grid_template_rows": null,
            "height": null,
            "justify_content": null,
            "justify_items": null,
            "left": null,
            "margin": null,
            "max_height": null,
            "max_width": null,
            "min_height": null,
            "min_width": null,
            "object_fit": null,
            "object_position": null,
            "order": null,
            "overflow": null,
            "overflow_x": null,
            "overflow_y": null,
            "padding": null,
            "right": null,
            "top": null,
            "visibility": null,
            "width": null
          }
        },
        "b051655cc8544070ae2f6f947b036a66": {
          "model_module": "@jupyter-widgets/controls",
          "model_name": "DescriptionStyleModel",
          "model_module_version": "1.5.0",
          "state": {
            "_model_module": "@jupyter-widgets/controls",
            "_model_module_version": "1.5.0",
            "_model_name": "DescriptionStyleModel",
            "_view_count": null,
            "_view_module": "@jupyter-widgets/base",
            "_view_module_version": "1.2.0",
            "_view_name": "StyleView",
            "description_width": ""
          }
        },
        "cacc693ea559495f9bd20fb5eb3979d9": {
          "model_module": "@jupyter-widgets/base",
          "model_name": "LayoutModel",
          "model_module_version": "1.2.0",
          "state": {
            "_model_module": "@jupyter-widgets/base",
            "_model_module_version": "1.2.0",
            "_model_name": "LayoutModel",
            "_view_count": null,
            "_view_module": "@jupyter-widgets/base",
            "_view_module_version": "1.2.0",
            "_view_name": "LayoutView",
            "align_content": null,
            "align_items": null,
            "align_self": null,
            "border": null,
            "bottom": null,
            "display": null,
            "flex": null,
            "flex_flow": null,
            "grid_area": null,
            "grid_auto_columns": null,
            "grid_auto_flow": null,
            "grid_auto_rows": null,
            "grid_column": null,
            "grid_gap": null,
            "grid_row": null,
            "grid_template_areas": null,
            "grid_template_columns": null,
            "grid_template_rows": null,
            "height": null,
            "justify_content": null,
            "justify_items": null,
            "left": null,
            "margin": null,
            "max_height": null,
            "max_width": null,
            "min_height": null,
            "min_width": null,
            "object_fit": null,
            "object_position": null,
            "order": null,
            "overflow": null,
            "overflow_x": null,
            "overflow_y": null,
            "padding": null,
            "right": null,
            "top": null,
            "visibility": null,
            "width": null
          }
        },
        "74367b3f40e540e6b7506afbe3c99d42": {
          "model_module": "@jupyter-widgets/controls",
          "model_name": "ProgressStyleModel",
          "model_module_version": "1.5.0",
          "state": {
            "_model_module": "@jupyter-widgets/controls",
            "_model_module_version": "1.5.0",
            "_model_name": "ProgressStyleModel",
            "_view_count": null,
            "_view_module": "@jupyter-widgets/base",
            "_view_module_version": "1.2.0",
            "_view_name": "StyleView",
            "bar_color": null,
            "description_width": ""
          }
        },
        "2bd064a6856044548dc4793c59cc75a4": {
          "model_module": "@jupyter-widgets/base",
          "model_name": "LayoutModel",
          "model_module_version": "1.2.0",
          "state": {
            "_model_module": "@jupyter-widgets/base",
            "_model_module_version": "1.2.0",
            "_model_name": "LayoutModel",
            "_view_count": null,
            "_view_module": "@jupyter-widgets/base",
            "_view_module_version": "1.2.0",
            "_view_name": "LayoutView",
            "align_content": null,
            "align_items": null,
            "align_self": null,
            "border": null,
            "bottom": null,
            "display": null,
            "flex": null,
            "flex_flow": null,
            "grid_area": null,
            "grid_auto_columns": null,
            "grid_auto_flow": null,
            "grid_auto_rows": null,
            "grid_column": null,
            "grid_gap": null,
            "grid_row": null,
            "grid_template_areas": null,
            "grid_template_columns": null,
            "grid_template_rows": null,
            "height": null,
            "justify_content": null,
            "justify_items": null,
            "left": null,
            "margin": null,
            "max_height": null,
            "max_width": null,
            "min_height": null,
            "min_width": null,
            "object_fit": null,
            "object_position": null,
            "order": null,
            "overflow": null,
            "overflow_x": null,
            "overflow_y": null,
            "padding": null,
            "right": null,
            "top": null,
            "visibility": null,
            "width": null
          }
        },
        "97446700df144469b48ebc1929d6de5e": {
          "model_module": "@jupyter-widgets/controls",
          "model_name": "DescriptionStyleModel",
          "model_module_version": "1.5.0",
          "state": {
            "_model_module": "@jupyter-widgets/controls",
            "_model_module_version": "1.5.0",
            "_model_name": "DescriptionStyleModel",
            "_view_count": null,
            "_view_module": "@jupyter-widgets/base",
            "_view_module_version": "1.2.0",
            "_view_name": "StyleView",
            "description_width": ""
          }
        }
      }
    }
  },
  "cells": [
    {
      "cell_type": "markdown",
      "metadata": {
        "id": "view-in-github",
        "colab_type": "text"
      },
      "source": [
        "<a href=\"https://colab.research.google.com/github/noamshimsho/NLP/blob/main/Chapter_5_Text_Generation_sampling_methods.ipynb\" target=\"_parent\"><img src=\"https://colab.research.google.com/assets/colab-badge.svg\" alt=\"Open In Colab\"/></a>"
      ]
    },
    {
      "cell_type": "markdown",
      "source": [
        "In This Notebook:\n",
        "\n",
        "*   Causal Language Modeling (\"gpt2-xl\")\n",
        "*   Greedy Search Decoding\n",
        "*   Beam Search Decoding\n",
        "*   Top-k and Nucleus Sampling\n",
        "*   Contrastive Search\n",
        "\n",
        "\n",
        "\n",
        "\n"
      ],
      "metadata": {
        "id": "2VnGWVAav9R5"
      }
    },
    {
      "cell_type": "code",
      "execution_count": 1,
      "metadata": {
        "id": "U5zndPNnOFgK",
        "colab": {
          "base_uri": "https://localhost:8080/"
        },
        "outputId": "1e50481e-aa24-46c8-86c4-27efdcd2d43f"
      },
      "outputs": [
        {
          "output_type": "stream",
          "name": "stdout",
          "text": [
            "\u001b[2K     \u001b[90m━━━━━━━━━━━━━━━━━━━━━━━━━━━━━━━━━━━━━━━━\u001b[0m \u001b[32m5.8/5.8 MB\u001b[0m \u001b[31m38.1 MB/s\u001b[0m eta \u001b[36m0:00:00\u001b[0m\n",
            "\u001b[2K     \u001b[90m━━━━━━━━━━━━━━━━━━━━━━━━━━━━━━━━━━━━━━\u001b[0m \u001b[32m452.9/452.9 KB\u001b[0m \u001b[31m28.0 MB/s\u001b[0m eta \u001b[36m0:00:00\u001b[0m\n",
            "\u001b[2K     \u001b[90m━━━━━━━━━━━━━━━━━━━━━━━━━━━━━━━━━━━━━━━\u001b[0m \u001b[32m182.4/182.4 KB\u001b[0m \u001b[31m9.6 MB/s\u001b[0m eta \u001b[36m0:00:00\u001b[0m\n",
            "\u001b[2K     \u001b[90m━━━━━━━━━━━━━━━━━━━━━━━━━━━━━━━━━━━━━━━━\u001b[0m \u001b[32m7.6/7.6 MB\u001b[0m \u001b[31m78.9 MB/s\u001b[0m eta \u001b[36m0:00:00\u001b[0m\n",
            "\u001b[2K     \u001b[90m━━━━━━━━━━━━━━━━━━━━━━━━━━━━━━━━━━━━━━━━\u001b[0m \u001b[32m1.3/1.3 MB\u001b[0m \u001b[31m6.6 MB/s\u001b[0m eta \u001b[36m0:00:00\u001b[0m\n",
            "\u001b[2K     \u001b[90m━━━━━━━━━━━━━━━━━━━━━━━━━━━━━━━━━━━━━━━\u001b[0m \u001b[32m132.0/132.0 KB\u001b[0m \u001b[31m6.3 MB/s\u001b[0m eta \u001b[36m0:00:00\u001b[0m\n",
            "\u001b[2K     \u001b[90m━━━━━━━━━━━━━━━━━━━━━━━━━━━━━━━━━━━━━━━\u001b[0m \u001b[32m213.0/213.0 KB\u001b[0m \u001b[31m9.0 MB/s\u001b[0m eta \u001b[36m0:00:00\u001b[0m\n",
            "\u001b[2K     \u001b[90m━━━━━━━━━━━━━━━━━━━━━━━━━━━━━━━━━━━━━━━\u001b[0m \u001b[32m140.6/140.6 KB\u001b[0m \u001b[31m8.4 MB/s\u001b[0m eta \u001b[36m0:00:00\u001b[0m\n",
            "\u001b[?25h"
          ]
        }
      ],
      "source": [
        "!pip install -q transformers[sentencepiece] datasets"
      ]
    },
    {
      "cell_type": "markdown",
      "source": [
        "![image.png](data:image/png;base64,iVBORw0KGgoAAAANSUhEUgAAAlgAAAD7CAIAAAA5E33iAAAgAElEQVR4nOy9d5hcxZXwfarqps49WTmNkEBEkQxYRGMMa2wveLEXvOvwgu1d54TDOr72y3rX3v1srxNgFtvkIBNFFEIE5RxHGmk0OXVP53S7771V5/ujulsz0kgIIWnEzP0988zTfbvqVLh161Sde6oKcOwQiIj4X8u7WqP5lsHcE9uiNhd/WNnrcPHU9uiWvkwkW/rzun6BePeq3kTBXtmeWtoaL9r8zpW9XOBDGwfahgp7ovlHNw9ygX9c2Vuy+Qu7Yqs7U7Gc9b9r+hDxL+v6BzOlbf3Zp7ZFSzb/48peRHxyW3RrX7Y/Xfzrun5EvGtVb77kvL4vuWxP3LT5nSt7EfGBjQP7hgq7IrnHt0QE4h9X9hZt/lzL0Jqu9FDOundtHyLeu7Yvki2t60o/1xKzHPGHlb2OEIu3RFoGc/3p4n3r+x0h7lrVW7Cc19qSy/cmCpZz16peR4j71vf3pYstg7nFWyKOEH9Y2Ws54rmW2LqudCRbqgofyllrutLPtQwVbf7Hlb0C8fEtkV2R3L6hwgMbBxDxzpW9ps2X7Ym/vi+ZLzl3repFxL+u6+9PF7f3Z5/YGqlWyzPbhzb3ZgYzpT+v7UfE/13TF8tZqztTL+yKyWrhAh/dPLgnmm8bKjy0cYALvHNlb9HmS1vjK9tTiYJ996pegfjndf2RbGlLX+ap7VGHiz+s7LW5eHJbdMdAri9d/Mu6fkS8Z01fIm+v7Ei9tDtesBxZn49sHtwTze+J5h/eNCgQ71zZW7L5y7tjqzpS8bx19+recn1mSpt6Ms/sGBICf7+ix3LE4q2RlsFcd9K8f/0AIv5pdW8iby3fm3h9X6Jg8TtX9QqBD20a3BcrtEZzj2wedISQRX5pd2xNZyqWs+5Z3SfK9Vna2JNZsnOoZPPfr+jhAh/fEtkdyXclzPs39CPiPav70qb96t7EG/uSmWK5Ph/aOLAvXtjWn31ye1QI/OPKXssRL7TE1nalo1nrntV91frc3xJW9HCBj24ZbI3mO+PmgxsHEfGPK3tzJWdpa3xlRypTdGSRH9gw0Bk3t/Zln94Rtbn444pem4vnWmIbujN9qeJf1/cj4p/W9CYK1rqu9Au7hkyb/2FFj0B8ZNPg3qF8e6zw0MZBIfAPK3qKNn9sS2Tx1ggicnECH2MXl3c/BBFhTMmWHK/KbIElWwQ9Sjxv1/vUtOnoClUYSRedOq+aLjpBXSnYXCD4NRYv2PU+NVviHpVygaYtwh4llrfrvKppc0qJQknadOp8aqJgBw3F4VhyRNBQZMSq8EzRqfWq8bxd61XzNscRwh2PyhyBxZHCGSWMViIW7JChcIFcoEdjMucp0zFUyijJFp1aryoj5i0OAL6K8JTp+PWRwn2qaZWFyyLLnJeFq/sjGipVKDFtHtDLucpZnBDwqSxRsA8ocqiS84LNFUpoJVfxvB3yKI5AMVK4R6WMEtMWAZ1VhVMCXpVlSk7IUGSRRwj3qRnT0VWqDKuWsKHYI4UnTdurMkpI0TlQuEeluRIPVoTbXFgcQ4aSMp2QR0mbjkellJBsidd6lXjeDnsV0xJAwLdfuONVKaWkODznJU4peFSaLfGQocTzdtijWFxYHIOGkjadsEdJ7Rfu1HrVRMEOe5S8JQgBr8oSUnjB9ulMIJQcETLKRc4WHUbJ/pzn7bBHKTnCERgwlIzphDyKzBUhJG/xGo+SNp2goeQshxLiUWmyUG6ffl3hAi0upBwpXGVEYbR6s8JepWSXhVdz7lUpVIUXnaChFCrNbGyfaBeXdx1jqggRgMDytuT8Ru+UoD5m2XBxGRfsGMwBwhmT/YhAyFjnxsXl3QMdy8QJAECDX/OoDACkQh7+//BfDxXmqCMetfC3lPZOwhx1Vk+Y8JPnRpz8wt9Jrg4TRiAAgEdhhjqmT7SLy7uTsTeNJk3Hp1GNuQ+wi8s7Ilt0GKVezX2UXFzeHsoYpo0ABGDZnsR50wOzaz2j2nMQ5Zh3jLX1CYEQAkdi0EIEnBAVAgTIkZj43EYiECkh67ozXo1dPCskEOio9YaIiDDWY98TA6HUNRC7HCFjPyM8DBPwVcfhi+xWyMEcstMfvxxdkVEIQifWZHECFtnl6BhLRSj7uEc2Ry6YEWyu8yCMMtSN5e3eVNHmSMb7gD9gsOY6r8rIobp+WT8CoStpxnL2Cc/giYZRMiWoTToCL6p00elKFIuOoOO3kcj279fZ7DqPodADHhapGl/flwSAy5trRmlCiECIKFnZbVutWBwIGdc1hVTXffPnGVOnjnVuXN4djP2MsGBxXaFs5BAXEYDA09uHXm5NlBwx/m2BBAiQpoD2z+dPOq3Jd3BHJq/0p0t/XjfQkTCFGN/VAQAABFRKL5kd+seFTfpBXT9U6uTl1sSzO2N5ywEYv2pQQoAA1Pu1j53TeN604MEVUrA54ijLJxCREJLeuGnvj35S2NdeNSWPV5AAAWA+35RP3Dzrq18mjAHAhLOluLwdxl4Rru/OzKr1NPjV6oMtO7jnW2IPbIoEdUbH7+B1OASIaXOvxr7//llTgvpwXSiLny/xny/r7EkW/TqbCBUCAICQMp1rTq39zIVTDhgcyLdib7an7lzV59cYoxOikQCA5SAh8L33zWyu91brRD47uyJ5jdHm+pHGFSGAELOra/M//pMdiyvBACJOBJ2AQlixWPN3vz3zy19ELojrjudyaMbSWUZii2G+DgQAgBAoOuLVvUmfSimBiTD5AQAE9GksXXRea0vdcm4Tlse1AACISAnZ0JPpSRYDhsInSI0AEICwR1nblbn21LrJIwcHlBCb47K9CUOhjE6URgIAHpVmSnzZ3mRzvXe/wkMEQhyOjI54lEBOBykdfOKp0sCA3tAgbBvG+8y5DKVqbW3/o49N+cTNam3tRHzB7nLEjP0o6fzpwXqfBhXThZygpgqO6QhKyMTp4ABAICqUJPI2wAh3SVkn/WkLYIL0YWUQAAjYHON5B2C/fVxWSM7iKdNhdIJ4QZYRiAoB+ZK42kRka5nf5JtZY8ABVkBCAMDs6KSahpyf4NyOJUIQSp1U2k6lAGDMTV8uJzNjqQhly1y8NdIeN2Fi9fCHBA/9LmMc+ze8Je5QfjgHNxI5XlzZkVrVkap+HQEhE2u8MBy39bi8FWNpGpXt8+ZzJ8l2epjWevDaKYRj+VwTIh0RQEzYzsLlyKCEAODJZqiQrmZXzq0Z/tXFxeUI2T8jlJtwH1vphxcof3xqe7Qz8RYzwqItCpYo2JU/S5ScY5ZVAlByMFty0kWHTww/ApcjhxCp/MrkSo5pizHMz6hIxby8LbmmKw2jzghPbghj7oI/lzFEAQDOOaVUvmYQQhBCCCFCCACgR9s6hRCIyNjhNsKX3ct7Z4eDugKHnhESgFPqvapCoLKaCgDyJT6Qsd65zYMQsDnOr/dePb+GAHlsSyResBVK3m09ictxgQDIMyW8atlT918XTYukrWdbYppCTh7zgXwQzpkSeJeuFHDSaaCU+XwT137rMqYoB6irquY7ahU4PLoQ4i3lpEzHUOiomwXLt2IqJf96ybQa3wgr7q6B3P/3Rq/Kyg4VApESGUNaTRHLBiIi3S8JgKhMUKUhlAAgoC2wyad+7fLpjsCOhGmoVCAQChQJAmAlynBRiEiGfQU58SVAgVSTlqlQaW7dL4QAAAJSIHLqSUg5wyePSXZ4rqrFZ4SIcmFRIJycOT8eOAgLJwcmB/U3OpIWRwC4aGZob6TwTMsQI1SMvN3VRjVWE7JMyUEEOaw8ERBCGEPOCSVAKAghPVSBEBAChSiHkVcQUQioPIH7L3JOFDb1n26y0/nYsteoopQjuricQBRCyEsvvfTzn/9806ZNhJCLL774/vvvr62t3b59ezAYnDlz5vDJolyZW1VyiEgplXPHqjZFRMdx1qxZc999973yyisrVqyYOnXqqBpR+nh3JYo+jQUNZZRV5AAEwEH83Zs9FhcXzw5dd1r937ZGt/VnAUjB5gZSRyAiejVWsIQtEAAUSnSFMgoFWwiBKqMlhwOArlKVEjnGLzmIiIZKbY5eTdFVetcbPc/ujDXXezSFFCxhOYISoitUYwQATFs4AnWFFm3u0ahtowBQaHlRl6FSx0GLIyVgqJSR/akAgK4QnVEAkKcSKpSUHO7TGAcsWpwLZJR4VHYyvNchALbAosOFQEqJzqimEC4gV3IMlVqcEyA+jdqinHOVUUM9GTJ+XGAUknln4dTAornhF1vjFhc+jeUtbtrctIXFkQIYKqOkbFeQ9aYp1FBOuJUPEQhJFRwgCGCciKUChKBt28kk8/pEsYjcoYaHapqTS6EQ1PAwjyE1op3JolUiisr8PqIoAICO4+TzaNtE1ajHC4XMnG9/I7Oru+dP93rnnjKh/Xpcxghlw4YN119//ZQpU774xS9yzlevXp1OpxsaGi666KLrr79+8eLFMpzUefKz1GrVr1IFSh3JOWeMvfrqqzfffHMymQQAfmiPbfmkXtYcVhmFUe05CEAAEXrSpVTJntvoJQQiOWv3UKHBr/3re6eu78oEdaUpqD2zY+jimaEFk3yGSvdGC+t6MgnTfv+8uia/trozdfGssKaQFftSXakiAsyv9108K+jV2MaebHvcvPHsBgS4/vT6WbWeJS0xFPie6cELZ4YyRefNfcnudIkLXDQnPLPGeH1v8qp5tcv3JhdM9nlVuq0vt2hO2OJiaWuiwa8tmhNOm86yvQk5MD+1wXdpc9jhuKoj1RY3OeKHTq9XKNnWl7tibs2zLUOI8Pen10wK6Z0xc0VHKm8LOqYmLQLgCJwc0C+cHpwS1pIFZ313pjVWaPJrnzx/0httqdl1HoWRJS2xBp96/WnhaTX6zv78mq60Mx53+ySEmDa/dHZ4XpPX5vilS6et7Uyv7ckolBBCzp8auGROOJq1XmtLFhzhcGz0aZc3h+v82qbuzMa+7Am+k3KoumCSTz6UR7RV+TtLjheLvnnzpn7qnwcfud+/YEHw/Atjzz2b3rJj+q3/5G0+dWjJE4mVG4AyqtJpn7wpfMkV+Zatg397ykpkgRCtNjjp1k/4Tl+Y37m5/7Enp33i00g0z/SpCx99sPuPvy909FFNc1c7uJxIlAceeMBxnKVLl86bN6969aWXXhJC9Pb2Llmy5D3veU9DQwMhZOvWrT09Paeccsr8+fMBYP369cViceHChStXrgwEApdccglULKLnn3/+9u3bv/SlLz3zzDOKckhDjRy2/m1b9MIZobn1o+81KtEUYnAq5x6qQjSF+jS6aHb47Ml+RsjuSEFX6MWzQj6deVV6wYzgKQ3eXyzvOq3Je/704IImLwGYWmOcOdn//ef3zQgZ37pqRqLg5CznsuZwJFvyawoBCOhKUGclm3/i3MnXnFbbETdn1xmXzgn/9s2elZ3p+Y3eRbPD50wJ6Iysak+dNcW/oMm3cEpAU2hTULtgRrBQ4gqjTUGtya/+1+vd75tbe+vFU3pTRUNli+aEf/1a96ru9DlTA3PrPVc013CBb+5LfurCKXU+pS9jLZoTbouZrUN59bCvVI83hBBHiPkNnjOm+ATCWVMCl8+t+eHz+1SFLJoTPn2Sz6Ow1Z1pv8a+dcXMoMEGstYnL5w8t85zz7p+XaXjrOMiAIjgVZmcrNd4VXlqZskR85u8tR5FV+nFs0I1HuWuNf3NtZ7br5rBBaSLzufeO/WZ7UNPbB/yauyE2Y3lXqOv7k14NXbpnPBx34icELRtfVLTpI/eUHPB6Xam4J09u+HaD5h7dyFQz5zmxg9evemGj+b2dp5+1x9C51+Q2bpz2m23Nn3kw1s/eaudSJ7++994Zs/J72n3fujDmU2bmN9HNY15QJ86hSgKyn5hnLUnl5MbRXrKxGIxqQgdxyGEfPOb37Rte926dR/60IdWrFjR0NDw+c9//u677wYAxthPf/rTf/u3f/v+97+/dOnSM844Y8eOHQDwmc985u6775azw9raWkIIY0wc1twvh623nDup/PXQIeXRMTjsMxfgCOxJlu5a3WdxQQn53YqenM1Llvj3D849c4pfWrGEgD+t6d8dzX/6ginXLagzFHru9AAX+L1n25Ile0rAyFjOfesHvn/NrMe3Rl5qjS+cHLjmtNoXWuL/u7a/wa/++webbzizcVVnumAJRHh08+COwbxpC0TMFZ3fvNkzmLXu+Ls5tR71l8u7kwX7Fx85ZXJQNxi9/vT6jrj53SVtYY/63x855X3zalZ2pgoWtx28c1VvSyR//rTgtBr9P5Z2ruhMTwtpCqOqQsd2FCwQdYWu6sosa0smCs6i2aHbr5o5t87TGitwxF2DhYc3D+ZK/P3zaieFtJ+80L6xL/uVRdPff2rtMy2xWMFWx5eHkUD0qnTp3visGuOq+TX/7+UOiwuvxhRKexLF/1zehQj/7++aT53kc7i4vDns15WvP7mnO1388fvnXHNq3cutCfsEeiBLtfeBU+uGfz2+ECJKFnI+8NAjbb/4nym33Lzgd78deHxx+6/+OONzt83/xX8qfm/d5ZeEL7lsx62fGVj8bN0VF5379JLGv/9w/JVl/jMX7rztUz33P+E/ZQ5oWnLNxobrPpDd07vx+g95Zs2muu6+JnQ5wdAbbrhBCHHdddf94Ac/2L59u6IojLGlS5cahnHttdemUqmLLrpo+fLld999989//vNEInHNNdd8//vfLxQKkyZNYoz98Ic/3Llz58c+9rE///nP69evl9ZRx3HkG8TDpy1/fmFXvCdVgre/LlChZCBTihVsQogthC1wsl9fMMmvKIQLJACMEgKQtRyF0ZIjEIASEs1amkI/cf6kM5v8BYcDgE+jAODVqEbpnDoPAGzuy9Z4lbzN2+PmlKDu1xgQJAT2xU1HIEdklHABBZsTAgLAtNF0BKGEI5Y41vnVRr+2azAf8igEIFGw6/2arjBGSckWnYkipSRp2oBw49mNVzSHEYg8OWHMIQCmzQ2FntroHX7sAyOkO1lMFR0gcNokX8Z00kVnUkDrTRcFQq1X5QLfdZ6KbwkCVF8SB3RFV6icq+QtbnOklNgOCgSV0flNvu5k0RZY51V70kVdpSFDcfiJqxM59VzVmd7cl4UTtnyCEMKYFYsRxUCkgGhFo0T1oABAFLZVu2gRzyYyW7Ybs2bn93bbiUTo7NOdTAotc8ZXvjH15huIoohCSQ2HgFCiqlp9PZloGwW5nBwoV1111T333PPDH/7wjjvuuOOOO77+9a//8pe/DIfDAKBpWigUAoDFixdrmvbd734XAG6//fZXXnll9+7dcpXFjTfeqCjK7bffvnjx4rVr11588cXDHWoOj+wl5jV6wx4GR+XzrVKiMgIACiUfP7vprMl+jljrUwsWr75vUwgBAEqAABgqXd2ZPmOy/8pTaq48pebVPYm/rB+oTDSJIzDkUwGgfOoTgo2gMaLQsqO8rtC8xcvL/wkwUl7RQQkwAgBACUEUPo0RClfNq72suUYIDHqVoazNKCAgIaAqBAjtTZee3j70oTPqv3XVzNZI/q7VfTmLq2QstSEhYDm4cErg789sMBTKmHTDLVejphCFEkIgYCgBQ/nptc0IqKuUEvCodLx2XVU7hJDuoZW7TCub4iKCQolXY0GD/ccH5wpAv84IgK6e0HGBvE0zawyl6jx9wpJWVYCKJ3H5M5EO39r0ZmHmAaXHMRG2o9YEi32Rjl/+YtbXv3nmX+7Lblrb8vVv28kUqXiQnrh8u7gMQ0HEW2+99cYbb3z++ed//OMf/+pXv7rkkktuvPFGzrlcYk8I6e7u5pxfeeWVjLFIJGLbdl9fn6IoiJhOp2tqagzDEEJI7xgZ5W1k4R10oliZxHxgXt375tfeu6b/zfbUN6+aMbfOyyvjyuHiKQGTi7tW903bqX/0nMar5tUub0tW1+YTAmaJIwKj8nB0YACWQEdUl0mMkDbqZ0LAdhAA1ndn3uhIBXTFcnjRLruNyw1xBAKj5JmW2KrO9PtOqbnmtLpLZoWf3hnTjaOvincIAeACAzr73CVTuxLF/1zWOafe+80rZ1Sn9eWyI9hc5Er8rjV9CiOIaHPsz5Q0Rt91i7jfFpSMsDcOL6tA5AIjmdJ9GwZ9OnM4WlwM5e3q+OmEMTbHKw0v5PDPhDiJIWrMB0IJo+hYhFInV6Cq1vvAE0MvLZt80w0zvvz1KR+/qf2/f11en6Qo774lkC7jAkoIsSwrFAp94hOfuP/++xljy5cvp5RKLVi1cFJKTz311Obm5ssvv/wb3/jGvHnzisUiIaS6Hw0hRNO0t5W2fGj2xgppk8MRmEblqrVqKFFZw8UFntLktRxc25WJ5i1eCYS4f5Vb9bNCCBe4qjv9RlsKADwa4wIFokBUGe2Mm4TA/AbvUM7WKJ1da/SnizmLUzJiwZxUZpVs7P8s10LECnam6NT51C092eV7E+u7M93JIhkZiwIQAq2xwpJdMUQIephcjDhmELA51vtVQ6WbejJ74mbB5gLLN2V4tbdFCwGDxXPWsj2Jle2pHQO5oi3Gn9doFUJAIOZKvGAJMqzVAYBAIAQsjh2xQr1f604Wl+1JrupM744U7BNoF4XKFk49qeJA5mjeMhx9qpxD5WE74DMhJLN2BQvWe+fMLLTtM6Y2ag31uZ27heMQBTM79nT94W60Ta1pMiACpejYVjQqLNvVhS4nHgUAqgrMMAzOubSLAoCu69L5Zc6cOUKI3/3ud8OX3ufzecZYbW0tpbSnpwcRpTdpdToobaeHSVv+dm3lDf/h279cWU8Jkdu+EABKiKYQBFAo2d6XO29a4EuXTmuPmXPrvNIQqimEsfK6b5URSohpi+tOqzu9yZcsOmdN9icLdnvcPL3JRwlhlGiMdiSLO/pzNy1smlnrafSrdT7t/g3dCKApldWUAAhgqNSrUfnZo1JvZTcAj0oJQsHmz+2M3XzepP/+yCn92VLYUPpT1p1rej0q9WmUElJ0nPOmBj90ev1gzpoR1gFgY3dWU8byqA1EUBmNZu1k3r7xnEavxmbVGZSAqlBZ1SoliKArdGVn+tLmmp9cO2f7QI5SEtaVP63pGxp3zjIAIFto0rQpIV+7fMaG7sxr7Sm/xnRl/+1WVcIoWbonuXBa8D+vn7s7WtAVohJy15p+0zlx4wP5IuDiWaHK1+OfJCJRFMIYUVVAJKpKGCOqAqL8mQUC0ReXz/hy9xl33xVf/kbNxReWejp6/vev4QvPb/7e7YXuft+s6UTVo0ueASClwUjNxRee88iD/ff9Ob2lhXmMk247V5dxjfKTn/ykv7//oosuSqVSv/3tbwHgox/9KAAYhrF169ZnnnnmvPPO+8xnPvM///M/F1100Xe+8x1K6bJly370ox8FAgHLsu68886ZM2d+5StfCYVCV1xxBQAwxuTaQWlcPUza0vXgoU2Db7l8Qmq7obzdMphPFmyVEkdgy2C+O1WiQHSVrO5KGSq9YEbQp7MlO2PN9R5GSVey6FcVW6BKyUDWahnMC4TWaGFayJgc1Nd1Z17dm7Q5FizeMpiP522FAhC4a3XfFc01580IxnLWo5uje+MFv8a6k8WWwbwtkAAolOyJFuI5W74f2h3JGwoDAErIzsE8IHhUtqwtGc/bl82tmRzQO2Lmqq6UrtC9Q4W06QhEjdH+TKk9Zs5t9A7l7Mc3R/clTJ2NsdcoI5C3+O9W9P7dgvr5Td7VHWlHYLro2AJbBvORnEUJKJTE8vYvXu26cm74lEZfxrRf25dMFp1xuSkdIuoKWd6W8qisucHjcATALX3ZvlRJjopaInlGiUel7Qnz5690XHlK7fQaI5azVnSlTYczcuLqRK6XeGl3/AQtn0AkimInk8lVq0uDUWoY1tBQctXqUjRBPUZpMJJctdrJFuxMftunb51yy8dCFy6Kvfxi3wOP2JlCMTKUWru6ZtGVVrR/5+duS63fSgzf3h//bPptt2m1IZ7LAp0w5067nDSQu++++z/+4z/a29sB4Kyzzvrud7978803A8AvfvGLn/3sZ8Vi8YUXXrj66qsfeuihn/70p62trZqmXX755U899dStt976+OOPT506tbu7e8GCBb/5zW+uvvpqudbecRxFUW6++eann3563759kydPPsxea5YjVLZ/KbnUjoMZ62dLO4b73clNT2yO0ntFABRtoVScZQCgaAv5XlDu0WIo1OboCDRUSitxPSq1ONpcSIGaQlVGuMCSgxojMiIiFJ3y2bcqI7pCAcGqiCIABKDoCESQX4uOQAC5mUjJEQCgK+Xrjig7WKiM6gop2vtjOQKLTtlHXGVEZ1TuCVewxQXTg19cNG34sEBaXB/eFHl+VyyoK/y46UsCYAm0Kx62AKAxQikp2kJlRM755C4qliMQAAEYIZ7Rtsc7ZlkiYDn4jStmnD7JJ0+lh0ojSZrO/32pvWAdX5UjEEsOyqMiDYUWbMEoaKx8u+Wtl5m0KycmM0JG3TLwmEAJmLaY1+D93tWzDthAxqnsrDQ8PApBKG35yteHnn9BCQSO2coEQtBxuGkywyCqirbNi0VmeIimoGXzYpF5PFRVeckSZkHmgXm8VNeEbfNcTnoSEE1nHg8QEMWSsErIueLzE009hrZd5Py8Z5/0zp4t83CsxLqMM5TPfvazn/3sZ6WfS01NDVS8Xb797W9/7nOfY4wFAgFEvOWWW26++eZUKqWqqt/vB4BisagoypYtWwAgGAwyxqq7z8hF9Hfddddvf/vb2tpaOMTOpbKvf21fasEk37SQjofdFkqaRjVGq+57Po1VN8MEAK9Gh23KDQJBU4gOVL7fUhnRGBWIukKMyhp/GZ0R4tNo9dUPJeDTRgQA2C8KKqZRAiCwbBqFisN69XPlOhkuZ3gshZKAfmAqYw4CaIzoTKl8K/tf+DRWrR9EWZnVfRLGuRFLNg+o3CafRrHyEm7/7ZaNTRmzOhyRty8AACAASURBVJFDhI09GUNlZ0/xH/cZIZQnhWooJHcQJaqqyvV/Yv9nFIJqKjPKh0PJK0RR1NraqhAUAhCox2BejwzjLp9wOfEocq4mVSAAyD3SAEAIUX1ZWN07TQazLEvTNHlChaIogUAARttfOxgMHj5t+ajOrjWC+hEtn8CR5zodsG2HKCupYeFxxJnmuL9nHxlspNgDvh4sqvJ1eLqH+nxwfg6XysnAwfUDB1X1qGHGKwe1Ohj189jWiXx/PSWoK4farfB4eKAMX/BwJJ8PdQUAxPgeTbmc7CjSQbT6veoOU70unzE54av+VP1QXWUxyp7aw6IfhqChSEPTyLhHV5zxwKGKPoGrZPT2MKErZLSLfp3RQ80EhRhLn+QxBHFC9yYuR4YcP+5n+G8HXKmGkcryzjvv3L17dzAYPNTy+bf0GpXtc1VnejBbgpHPtqES8i48Vu0dQoAggtzKZMTDSwAADGWi1UcZSoiujFJ0nZHxe/TFW3BAwWVr2dqf2x3Jw2jjBubxgJh4TxQA1TSq628dzmViczRHl0n11tjY+A7Tlk/l359RTypbtEBlt44arzqvwbu+JxMylAliNCGVhZLnTgsc8JM813DhtMDzu+IO4olfqT1WUAI5i8+qMWbVGlDx34Hy2j7waWxBk++VvckazwRqJEDA4uKCGUGovGWHynqJK+aWX3CM0JKIAFB/7TUDjy0GRDKmG7ufSAhj1tBQ/TXv1ydNdj1lXA7P0Z/heSiL6NuRAITAw5sjBy+fQICbFjYOZK3eZJGNR9f8A5DL7ZHgNfNrz50WwJHODvKA4tm1nn84q/GxLRETUR4CPO7hAmu9yi3nTVIZPcCXStbJDWc19qZLrdGCfDU2Zhk9cSAXcOmc8Htnh3GYwpPeMcvbkoB45Sm1w51lCGOAWHfVldM/d2vPPfcCACF0AtiVibBt3ylzZ9/+TcIouLt4uxwWMuYuGxZHlR5oQ5VKMW/x1/eluhLmuH9q5Vr1s6f4L5gRPNR6SqkJdkfza7syuRKfCFauRr92eXO4wa+NWifyouWI1/al2uPmCTvzaAxRKVkwyXfJ7PCoN9/mKI8QGeU3RCAkvmx5fNkyJ5sDOs73tiaEeOc2T7nlZrWu9kQcU+zyLmfsFeHKjvTcBk+TXzuguR5mff2EZWI+0YcptdtIJHLJ07b+nKHSeQ3e0WvMbT0uLofg6E2jxwqPSuUxDgd0aaTiuU4mRl+HgADk8M4f8t0YwASqE3JYv+NqI5kgfiByhQY9uKyEAIBa2RRi9NZBSHnN33ifDgIhiFgu6YRoFy7vlLGfEQ7l7KDBRrfnuLi4HDF5iyOCX58o7jAuLseKsVQ/UgW/0Z7szxy4fMLFxeXIkU6zG3oyG3szMLGX4bq4HAVjPyN0cXFxcXEZQ8Z0RggAAI9tibbHTQTgAqCym5fcDgIrQ135v7pHRPUiwluHGXlx//6Zx0H424j47hY+Wn0eE+En8Ga9DeFQfhM5MszhinxchcPBwuV226/sSazqTFfDuLi4HCFjPyNMFx2PSg/eZc3FxeVtkStxeSzUWGfExeVdxtg/M5t6sxmT96aL2/pzCPD6vqRA3DGQ60oWU6azpisNACs6UqYtuhLFHYO5kiPebE8BwPruTCxvxwv2+u6MQHx9X1Ig7BzMtcfNoi1WdKQQYEVHqmCLrmRx+0AOEV7fl0SEzX3ZrkQxYdprpfD2lGmLjoTZMpivCl/XnYnlrFje2tCdkREFwo6BXGdiv/CVHamCLTqT5o6KcIG4oSczlLPjBXttd1l40REdcbMlki9WhK/tTscL9lDO3tBTzjlK4UmzYIuVlZwXbdGZMHcM5EQl5xu6M7G8FctZ67ozAPBme6rkiJbBfEfCNG2xoiI8UbCjOWtjb7YqfPtAritZLAyrlqIt2uPmzsGycIG4vjsTL9ixvL1+mPAdg7muRNG0xYqOFACs6UqnTKcrWdwxkCsLB9g2kOtOFfMWX9WRxkrE9rjZEslXM7CuOxMv2NGctaEnAwBvtKcsLnYM5rqSZt7iZeGd6ZTpdCbMnYP7b9aW/mxfunRArtpihV2RvEB8Y19SIKztTidNJ5qzNvSWhdsctw/kelLFvMVXdqQAYHVnOlN0OuLmzmquALb0ZfvSpaG8tb5nf8S2WKF1qFAYlqukaQ9mrY29WQB4Y1/SFrhtINeTKuZKfGVHuiq8PW7uGiZ8c192IGMNL7LNcc9QYc8w4as70ynTGchYm/uyHPG1tiRiOVe5EpfTu5Wd6VyJ74ubuyJ5LvD1fUkA2NSXHciWIvtzleICOxJme9yEinOpi4vLETL2yydyJW5xwQVYXABCyRGIYAt0OHKBFhcAUHKEQHQEOhwRy8f+WVw4QlBCSlwgQslBRLQ5qgwFYskRgGA5KAQ6Ai2OCFhyBAIKBI4oBJYqwhHR4WiV5QgAsBzBEQChxKU0RERboM1BIFpOOasC0eFQEY4CweKCo0BBbAehfHIhyuKIinDbQS5QIFpcCJlzQIujw2FYzoVAtDnYArFyJF6JozQgW04152BxoXKCMiKA5SAXyAVaTqVapHCBQqDl4P6cC7R5WTgilLio5qoq3JERq8K54AIdjrao3AgEyxFSeJHzSs7LB0AKBKucASEE8kqdyzAWR0cAYqU4vFLkcp0LBLA5OkIogli8Wp/gCLQFispNLzlYzpWDAFCypRxZ5yNzLtAp1/n+i1wQy6nmCm2OHHF4GIEg6xNApgi2LDJULwouwKkUuVwtXDhCECjnvFrniMBHFpkLtHm5QhBktQiBWHI4ANiOrHPhVIpcvsgB6f4MCIRciZcPI5wo62tcXI4NY28adXFxcXFxGUPG3jRa9XQ40BfgrZxl8NAR4S0jHrEnztEIP2LnjpNT+OEj4iEiHl74EebqUMKPsshvlau3UeR3lXAXF5e3hTsjdHFxcXGZ0Iz9jNDFxcXFxWUMcRWhi4uLi8uExlWELi4uLi4TGlcRuri4uLhMaFxF6OLi4uIyoXEVoYuLi4vLhMZVhC4uLi4uExpXEbq4uLi4TGhcReji4uLiMqFxFaGLi4uLy4TmJFKEeND/gy8eHGbUi0cTBo9e+FGmeMBFPIKIONrFA0K+VRgcGWbUkMerjEce8RC3A0aGOfIUjzr/77RV4FtEPJLbcULb4agRj6SqjzjMiS+ji8vhcfcadXFxcXGZ0IzljFBq4D+t6etMmG0x86XdcUfgAxsHOeJLu+N7hwrdqeKzO2MA8PCmwYLN13Vn1nSls0Xnkc0RAPjbtmg0a7VGC8vbkg7HBzcOcsSlrYnWaKE3VXpmxxAiPLRp0LT52q7Mpt5sphLxie3RSNbaPpCrRkSEpa2J9rjZkyo9vWMIAB7aFCnY4s321ObebLoS8cnt0YFMacdA7tW9CS7wgY2DAnFJS6wzYXanijLiw5sGcxZf0Z7a1JvNlpxHN0cA4PEtkaRp7xjMLdub4IgPbhx0BD7XEuuIm33p0tM7hhDg4c2RoiNWtKc29mbzFn9kc0QgPL41mijYOwbyr+5NOhwf2RzhiM/virXHzf506ekdQxzxoY2DFsc3O1KyjH/bGkWAx7dGEgW7ZTC/bG+i6IiHNg4igkyxJ1V8fldcIDy4cdDmuLIjtbEnEy/Yj2+NApRTbInkl+1JWI54cOMgAjy/K7YvXmiPm8/vigHAQxsHSxxXdaQ29GQSBfvxrREZMZa3N/ZmV3SkHFGu1Rd2xdtihY64+VxLOWLRESs6Utv6c0nTeWxLBAAWb43G8tam3uybHSmb44MbBwXiC7vi3cliZ6K4pCWGAA9tGizaYnlbcsdALmnaj22NIMDftkXTprO5LyvPvH1w4yAX+MyOob50qSNhPtcSE4gPbhwsOeK1tuT2/lzKdB7bEhEIj26OZEvO5t79EQXCszuHelLFzkTxuZaYzL88KXdrJSIAPLolkik6m/uyb+xLFR3x0KZBAHhm51BXstiVLD67MyZr1RH4WltyW38uUbCf3D4kI6ZMZ0tf7o19qaK9P2J3qtiRKL7cmkAo3w4ZMZqzntgWrUbc3Jtd05mREbGS1T1DhZdb4wLxgY2DjsA39qW29mdjOXvx1igAPLo5ki4667oya7rS5QYAsKQl1pUstsUKL+6OV9vhy63x1mhhKGfJiI9tiaRMZ313ZnVnqmiLhzYOAsBzLbH+dKltqPDCrjhWyri0Nb4rko/mrL9ti8r7mC3x9d2ZVR2pEkeZ4pPbo4PZ0p6hwou74wLhkc0Rh+PSPYmWSD6eL2f14U2DBYuv686s7kxbTrmMT24fGsiU2mLmi7vj8lnjAl9uje+K5BMFe/HWiEB8eHMkb/H1PZnVnelciVcf0v5MqT1uvrg7bjni1290p4sOuFNDl8PCfvKTn4xV2vLo0Fqv2hTQPSoNe9SQofg0VudVDY3VeVWfxoIeJWQoXo3Ve1VDZbUexa8rAZ3VeFWvSuv8msaIX2Mhj+rXWK1XNVRa61N9GgsZStijeDVW71MZISGPEvIofhlRY7Ve1avRsEcJyBR9KqNQ41UDBgsZSsij+DRW61U9Kqv1qvtT1GidT/VqSo1HCeiKX2O1PtWr0jqv5tX2R6zzVSJq1ayyOq9qKCzsVYK6Us1ArU/zqlRm1VBofSWiT2f+aope1aPRGo8SMBSFkgaf5lFpnU/zajRoKGFD9emszqt4FCmT6Sqt96lejdV5VVmrQUPx64osTp1P1RXq1ViNV/VprNanGIosIwsYrMZTSVFlYa9SjWiorM6nyVoNGYpXZ3VexVBZjVcN6CxgKDKizH+NR/Xril9jNbI4MqKnHLHepzJK5VeZokej9T7NW47I/JpS61MZJTJXIUOVDUAWR97cgK7UeFSFkjqf6tNY2KMGZESv6tFYnVf1qizkUUIe1afL20Frvaqvejs0Vu/VDJXK/Ps0pdZXrhwZMWyoXo3V+VRDobIByNvhU1mdb3/Ecooqq/eqHnVEy5Ht0KMyXaFSbL1P86g0LGtMV2oqt0NTqFejNR6ZomKo5RSDuhL2KDKiwkjQYCGP4ht2H30aC3nUoD4sxRH3UabIamUZyxGpbCTVWi03cp/q1VjQYOFyNlTZQvw68xtKrVdlhNT5VJ+uhAwlWCmjbNU+nQV1FvaojJJ6vyYjVlOs3Dgm26Eqw5RvRzlFn8ZqfaqhsBqv4teZT1fkParzqZ5Ky/FV5MjKDBjDwqisxqv4jf03V14MGUrYq9Z71YaAxghxDyp2OQxjbxpti5mNfjVoKGObDRcXl3GGI3BXJD+/0auxk8gZwuUkZOzbx764mS1xGHa4KAz3lRh+EQ5x8S0jHkraMUoR3IiHvXhgmCOu6mMW8aizevwjHljVR3w7jjTi8avVY/uQHocUEaE3VXR4RZaLyyEY+xmhxVGl4JouXFxcjjk2R5W5fYvLWzCWBkkEIACLt0YvnBGcW+9BhIO1IUJlvDcBOMLBwASqEwJH2IeN9XDuxOE2kgMZrZHIviVv8Uc3R/5xYZNXY4eMPnGaDhxx65l4jP2M8DAIBDrBbtyoo4H9vwLAYQOMP96yDbiN5MBfwW0kRwoKQejYvx46ccjefkI1jiNjLBWhfJ5f3B0/fZJvethAGGVkZ3ORMh0gZNwPbxmFWq8Kb9XNAUDKdCwuKJBxXCUEQAAGdMWjHq6fkm2GC0wU7InQSCiBOp8KlYIfhkzRKTrjvJEAAAL4NOo7xITPcsSzLbFr59f59NECIAIhwjRLQzFCx3XjIYACqa7pTU0AR9DFTDzG0jQq78Xcem/IUA/4ST7nKzpSS3bG8iV+pAaydzmzaz03n9s0Oagf3FDllXTReXhTpGUwj+P5qQUoK0IwFHrV3Jq/W1B/KLM5AdjQk31qezRlOhPk0Z4WMm4+t2lGzSgDx/32wC3RrX1ZcRIbe44hCqXvnR268awGelALUBhdODWgjzqWEgIo7X/k0d577nXSmQmiGIILz2n+/vc8M6YjouuWMZyxN422x80GnxoYtnxC9nor2lN3re7XFcIIecvx7/igYPMpQf0775tZ61WHd/3yDtkcf/Va17aBvF9n410Plvt0gZi3+E3nNN1wZsMB5i+BSAnZ2p/91es9jBCFToxGQqBoixqP8t33zZoU1A4YHyAAIv7uzd41XemAPv7XI8k7joC5Ev/ggvpbzpuEIxuJI3BfzJxb72EHWE6FAEoHHn189+3fVfw+oihj3g2eAAghTibjX7DgrPvu1erq5KWxztTJwtg/La3RgjrZFzCU6lNNCNhcvLArrjOiM8oRJ4IVHwFChtKXLr3WlrzxrEYErDoBICIlZFNvZudgPuxRhEA8Yi+Sdy8IoFISMJRX9iQWzQ43+EcMDgghXOBzLXECYKiUi4nSSAI6ixfsl1rjn7pg8nDdL0cGOyP5jb3ZGq8qBE6EkQECUELCHmV5W/Ky5vD0sCEbiSy7zXF3ND+r1hihCBGBUl4o9PzpHub3UcNAIcZ9RUm0hobsjh0Djy2e+YV/Qc4JO7QP0QRj7BXhdafVyQ+yj5PtOFFwkkVHoYTjBHJ/E4gqI/0ZC2DEehLZpbXHiwAAI3ejHt/IWWDJFpGc1eBXq4MD2UgyJR7NWRojQky4RtKXLsFoeq4zUYTh6+1ObN7GBNkYHIGRrFV1NZA141HpR85oOCg8EkLMzi47nqCqikJMHMdR5JyoqtneDuBOB0cwpnuNIgDAQ5sG22ImjHxoEaXRY8JxmFH8xKwQeCvHkAlYJ/LpONRPLlWKjrhnTV+m6Izy2wHr9icO6KrAURh7Z5mPntUoV7we5uaM8vMxdRchBCgQAOAT8MFweTvIN9YTxA/l3Y6h0E9fOEV5Vy2vkeZK5HysMzKxGPsZ4Rv7UgMZCw47tLcFWs6IP0ccs55IvktIF51U0XE7OJcDIGSE/0Wm5OQt/m7qWU8mKDmhsxHTFi/sipccceKSfIcQYieSdirtTtpOMAoACCGq3rSISCklpOxNetQutpxzGV3KYaO9lZWyZ9QY/lFX+VSDAdR6VUbKuUFAQLA5Zo9Ff0QI2Byb/Nqi2SEA8sreRLbkyFG/iwsAWA5ygYZKAQABPr6wKZ6z3+xIqYy4o6a3i2kLANCVEzT+VhmZU3eQy+hJCyFo27O+9hWeS/Y/vJio2kS03I4RitR8B//wDleZHKD5DrNspdaryAfj4J+l95dKyXeunFnnH7GOuKU/9+s3e5ki35cQgUgIECCEACLK6SIlINeHEEKkLz5WxMqBKQI6Ams9yreunFHjVSNZa0NvJmnaikIoIYiAlSiUVFMhwwcN8oNAJAB0pNGsam4VUJZCh8WSwSgZkeGTATneIASGF59RIssIcPLm/HiACHPrPDUeZWc0b3MEgOsX1O+NFl7fl2QqFWLY7a7Um8Bx6IovGwDIRo4onZhkM64WdtQakMEQQT6h50wJIOLuoYJsYMcbSqDepx68vvCdUzZgCkEYBRxhySSUAqWAAoWQZq5hgRkglgMTQhhDzqW3D2EMEdG2p936f+zB9r77HyaaTigBQgGx6tGzXxSlrvn0GKIQQrZv3/6rX/1q7dq1hJArrrjijjvuCAQC0WhU1/VQKERk6wZAxLJSkb2/EDBszlfVpjLMY489du+99/b19c2aNeuzn/3shz/84YN1odRqb7anz50WmFVrjLKKXO4bgvjwxogAPGdq4LK54Zd3xVujhaIjcjb3AuUCOaJXZSVHWA4igMqIoVBCoGALOZYvWhwADIUySqQhtOhwRPCopOTgjJBS41XvXNn3zM6hmbUeXaFFB0sOpwQMlSqUAIJpC0egR2Wm5RgqtW2BAJpCpGSvxhyBRZtTAh5Nzl3B5li0OQAYKlUZAYS8xQFAU4hpcZ/KgEDOcrgAhRJDPVlGrQ5iyeZcACVgKFRhhAvImY5HpbZARPBqVCDkLe4I1Bg5YaP7Ew+jEM87750VvuyU8G2P7LK48GksW+KmJSyOtulQUr5xBIAjFC2HI+gK0RkdT6pQIORMR65RsTjqCtEYzVvCEVgtLCHgcDQdjgiGQjWlPF2WwRgFj8LyJX7LuU0c4AuP767zq8rxtLvIrqNoi2V7Ezec2Xj4/YneNoTYqRQQSnWd57JEUZWAv/qTk8uLoklUTfH75WDcTiYJU4iq8lyOaJri9wElWLLsfF7x+Ymuou3YySTzeoHSsmmUUrQdp1BA2yKKyrxeoioAYKdShDKq63YupwQDUg27vHOUPXv2XHHFFaZpXnvttUKIJUuWfOlLXwqFQgsXLrzmmmv++te/Sj0nhJAm0+rnquYbflFeQcSnnnoKEWfPnv3ss88uWbJk6dKlV199Ned8+ExRdv03ntVQkXNQ7hCAgEDYMpBNFZ2gR7kMwq0x87X2VINfvensxh39WV1hk4Laio7UvDrv3AavrtLOuLkrmjdtceGMYI1H2dCduXxOjabQTT2ZhGkLhCa/ds4Uv6GxloHcYNa6al4tAlwwM6gysr4nY3NsrjXOnhbIFfmGnkyq6CDCOVMDTQFtbWf6qrk1W/uzs+s8GqM7B3Lnzw06iCs7UnU+7fwZwVzJWd+dsQTaDk4KaOdPD3ABm3qz0byFCJc1hwnArsH8NfNCqzvTJUdc2VzbGFB7kqWdgzlrrOdWcswR1pVTp/uaQlrGdLb35wZzVp1Xve60uvVdmclBzVDZ6s6UR2WXzg5NDul7ooWWSJ4ejyH3WEMIKTn87CmBmXWGI/Cmcxq39+d2RQsqIwJxRti4cGYwnrc39WY5oiPQq7JLZ4dqfOqOvlxbwnx3OWgcBo4Y1JXrTqvb3JMN6Gxek3dPtNAaLbxnRnBqWN8dKeyNFTRGS46o86rvnx7waGxzb7YrWVQoYQQunhGcXmtEs9bmvux508K6SjnCpy6YvLE3258pHT/zsqx9r8ZuOXfSsRZNRLE45Zab0Srktm2p/7vbin3dQy8uBUGBELRL9VdcFDj/YnNPS+zV14UtQPCpn/6Ukxwq7N3TcN31hfa22CvLRcHxzTul7n1Xxl9+MdfW5Zk+afpt/ye5Zm16zVqiKURR0OF6U03NBZcbzQvswd7462+UoikUfMotN4tCNrNpw9RPfjz67At2KkOYMiFdp48xyr333ptIJFavXn3RRRdBZdq3Y8eOaDTa2dm5a9euadOm+f1+Smk0Go3FYpMnT66pqQGArq4uzvmcOXP27Nmj6/rMmTOlRDlHfPDBB6WCfPzxxz/+8Y8/8MADV1999QFpyyngw5siF8jTJw7tOOpRqS2YphAA0FXi1VjIYDec2bBoVijkUTrjxXVdmRvPamwIqIZCPafXv7on8YdVve+ZGTpvWmDRrHCNV/Ub7KIZwTte6ZwS0G6/aqaukKIjTm/yPrIpcvokHwE4fZKPAby2L/mh0xo+trAxW3IMlV13Wt1v3+zdOpA9f0bgvbPCl80OTw5qnXFz0ZzwgiZfb6JYH9AMlV46O6xSUutTdZXOrjHuXNN/4fTg5y+eyhFVRq87re7Xr3dvG8hfMbdmdq2RyDkhj7J7MP/RsxtPm+RLFx1lDvn9it7dQ/nD7ZF//CGEWI44d2rgA6fVUUrCHiW9wPm/L7b7dHbDmQ0XTQ9OCmrru7PrutNfvXR6c4NHbufxws7YY9uiHpWOtR4/xhAAW+DsGmNKSAeA984OZ01nRyRvOWJek++rl06v8SmaQqfsjD20JTI5oH/1sumNfrXE8foF9Q+sH3ilLel999cJIcA51niUG85suHRWmADUBVTbwa6E2RjQgh7lg6fhL1/taonmT2/yfXHRNIVSBPzQgvr7Nwy+1Br78qLp75kVSpmOQkjREnPrvX5d4SiuPKWmPW72pIoaO74v40u2eGjz4D+c1RQwjtmTRSgVpdKUT9ziP6250LJNn9HM/KG6K57edfuPQYj5d/yw8SM3lKJxveFTkzdt2PnFb5Riyem3fsaYXFfYs9uY1Uw9geiTj+344rd88+fP+tpXSh270pt3GZMbZn3tK+K/fpV4dTmhlFCKxWLD1ZdO/cxtRNW1xvpp/X1b//nT+T3tUz/5z54ZTXY0otaEEq8tt+Jp4urBYwFNJpOMsXA4DBUtCAAf/ehHEfGNN95YsGDB1q1bCSF33HFHc3Pz6aefPn/+/L/85S8A8IUvfOGcc865/PLL58+fP2vWrB/96EeIWLWXEkIcxxFCLFy4EAAikcjBact5xI1nNcypM+CwyycE7n/xIN83OAIsjtkS//elnX9Y2YsEfr+y95vP7P3Xxa2dcfPiWWGfquRKjhDw6JbIl59ofXVPYkatYaj0wplBr0q/8dTeL/yt9e7V/XsT5p0r+wDgr+sH7ljWOT2k37SwcUV76l8e3/1vS9pURv7h7EYUmC8JgfBaW/Lbz7btjZtcYL7E/3dd/1efaO1NFRv82h9X9X7tyT2xvD23wasQcsNZDemS8+UnWr+3pE1l5AOn1nEhciWOAp7YHv3qk61BD1sw2ffr17pve3TXj1/c158paYyO7cslgagrdG1P5vsv7PvXxbv/uLIv5FFObfQWLM4FDuXtH77Qfu+6/otnhuY1eX/zes9nH9u1piN93YL6Oq9qcxwnM6AKAtGnsiW7YqvaUwol33627fndcY9KKSWxnPWfyzu/9XRbLGefOyNYcsTlzeGpYf2nL3f8y+O724bMvz+z0aPQcXMcrCOQC2yJ5L6zpO1/3uhRFdKTKn31yT13ruxVGJkc1ByO/3TepKKD33x6zxcXt+4czN10TuMp9b73zAo9tinyfx5p+cEL+/bGzfs2DAymS4MZ+18e3717qKArx32goKv0prObDu+LdzQQ4mQyTizW8vXvrjrvPQMP3ld/3Uc8U+rDF57beMPH9nzveyvOPm/7bbcGL7hk8sf/geeyTjZnDUZ2fOFrK899T/SpvzXe8DHfrKlONoeOIywbKEHHQccRpin7ROScer2RJa9srG2scAAAIABJREFUuP7GFeecv/vr39SnTA8vPIOXbDuZBIe3/fsv1l3zoVI0RVXFdag5JtDrrruOc/7hD3/43nvvjUaj0v752GOPaZp25ZVXbt++/bzzztuwYcMPfvCDT37yk1u3bp0xY8bnP/95y7LC4XA2m73++uuff/75yy677Gc/+9m2bdsopVIXSggh7e3tiHjWWWcdnLa8gRt7s0M5G97+sEZjpD1m7h4qFDk6ApNFW6XUo1LTEQBACcg3gr3pUpFj2nQQgBLIlzhj5LLmcL1HHcxZiKAxIqUhwtx6LyGwoiOlq3QwZ7VGC7NqDZ+mSB/6dd2ZuGlbjtAYcTj2Z6yszW2OGdPpz1p5m1uOsBys9ylTQ/q6rnTREdGc1Z8pTQrqGqMKJaYlNvRkMhaX7wsvnhU6pc4TLzgFh58MtjRKIF1ySrYI6AoXiAiMEABglOwcyLUnTdMRZ07xZ0zeOlSghGwdyAnAep/qiEOv8X43wyiRdl+NEUYJIlBCEnl7KG8XHF6whHwnfcZkf1ei2JMqOQK3D+S8Ogsbyv/P3neH2XUU+Vb1STdNjtIoWsFWdDbOlvOavNjYwHpJxgG8uw8MPNJ+jwWWHAxrlt0FjIE12Ng4J2zAspwt28rSjDQzmjxz5+Z4cne9P/req9FIlmVb0oiZ+/uMOOfOqXOqq6u7OlRVczF9BgcKw9Gsm3H9vOsTwFDazrl+weUA4HJqjuhzGgLrB7J5lxPAS4O5gMZawprp8tWzI6vaI3mHZx3fUBEREEFX2JHRdscXG4ZznjjU4RNEzDC4mbdGxrgL8YcfBaLQ0uMaznibsPKJv6zTWlozL23yUsm6k1cjQ6brfi7lROO+LeIPPQxEoeOOE66DqlrJKomqChOdFhm6mRwv5rXGRuETEKGmAgkWDHrJePIvT3k5h3x/Wja6KYH67ne/+6tf/eo3vvGNa665pqmp6Stf+cpnPvOZZcuWIWJ9ff3KlSsB4M4779Q07ac//Skifvvb377ssst27typKIqmaZ/73OcQsba29pxzznnuueeOP/74iZuFiHjLLbcAwD/8wz/APp6o8sZQ2Jv2b9YVDGpMQfAFvfO45tPm1YUNVh/SCo5f2bfSVVQQVIYIENCU5/uyp82rvfLEtnevaHmkM3Hf1nj5QeSCpG+q65OK6AE5ggIK05WSy1xIZ5aPPpL0DtBVVD1EBIWhriDnyBgKEpGAqjA8b1HDqXPrBNHseiNd9FUFCQgRAhpjDAfSzrru9HlLGk5fWPdCX/Z3G6KeEOqUhnUiguvToobgu1Y0t9UaQeltV5aOoTFDZQygPqRGDOVrlx4jiGqDKkOM6KqYSYlvVIYaQwWRIRCBxlhNQInoynfesZgTtUR0hhDSFSp600kouoIqooqI5Wul5BxAEYMRQN7mqoIkwBNEALYv7t8S/9Ap7V+77JjtY4XfvDyWNH08UhKp7LNoCjsseXmJkClM14QHwrEAUW1oCcxfzItZII6KAiSEx7WaUkZvpmqoaYyYsIuAqNa3eIn4a70bGRO2U3fKifOvvyY4f65S2whYThtHhIqi1kSEPGJrumjXlENFxH/7t3/70Ic+dNddd33/+9+/6aabVqxYccEFF3DO5domY2znzp1E9IlPfEJV1f7+fs75wMCApmlCiGQy2dDQUFdXR0SxWAygFCvAOVdV9fbbb3/44Ydvuumm1atXTzSQEzG/MVBjKPCmEgRLNbB8fs6C+itPantga3xtd/qGszvm1wcrOWJk3sVSGABC1vV/tG5wWWv4PataLj++9eXBnOPv8YB3fZI7l4jIEJhcFyrnuBZ7Kx5NuJ14Lb2auxPW5rG8dGfN23KdTMZXlDZHf7dx/Pn+7CXHNp6xsG53wnq8O1VrvHERHCIggBAU0tiN58y1PP6fzwzNrjc+edYcmihGAgEgBFgef2JXSlVQELm+GMza+nQPqmOIldEawR6NAigt2qdN77GdyaCmeJwcX6RMT84gpw0mlnqSBLgABJDuw3JQK0X1p53JnoR17qL6NUsaLjm26dcvj8mgJaUcn3P4UBpkq2xZW1g5bMNLVBRkHFQNiHguyW2LaTogQ0Uh30VEbrsk56NEqDAEAaoBRDyXAuk2iIiKupejICL5XK0JrPzPn7ipzPZP/XNk5fHH3fwjoD3zWhICZkLe/SMIRkSu6y5duvRf//Vf77jjDsbYI488ok44l6SycTg0NNTb28sYe+9739vR0eG6LpYBAIgo7RwiCiEURens7PzoRz967rnnfvvb3/Y8b984QvmBdT3p0ZwDB5H2j/Z+pmJ7fE6rO2pcXzy0PbEzYZquKOXvnvD8nmuCvMMf3JF4YGscAOpDmi9IxsypCg6mLESY2xCIF10g6Kg14kW34HKG+3ya9nMtBKkKpkzPcrkgundz7I4N4w9sja8fzOGEJwkACFwuXhjM3vbyGCdqr9O5oKl0vkRwObXV6A0h9cldqecHs+N5d0/u5glJnAeSVkBjL/Vnb39l7J5NsT91JtOWd1hd4acWCCAI8o5fdAXuM/pBBJfTUNoO6cqTu9K/ezV6z5bYn3elTE8cDWvdhwqvNeYjAlVhyaLneGJxa8h0RNb259cFAGC84BLA5mjhly+OFh0+u740yuOCMrbv+kdi3dj2xYPb4nIb4lADgYSbSDijI5FlywCx2Lm9uOVVpa5Vb222dvdpdSGtqaHY00+ej4yB4G484URHa1atAsTizh0sEAQi4ThuPEaOQ6LUOyAAN83woqVa6+yR234x/penreGxCX0Hwd+6C9ZRCZUxpuu6vFm8eDEAaFrpmFxd16Vtmz17NiI+8cQTEynz+byiKDU1NYyxZDJJRMcccwyUc9NYlnXVVVctXLjw4Ycfrrx/EmRLuPz41tLt67UMOZCs9C+IIJ3UFYa9CfPkuTX/cFL77qS1uDlIRAigMWTlbXKVISLYnrhoaeP8hkC86J65oM72xEDKkvuCiGiorDdlDyTtq09ubwiqHXVGR73xi+dHuCBNQZwwAtMUlC6sAKCre641FXXCvOP/dVf6nSubv/53xwxmnOawlrf4r18ZNVQ0VGSIjs9Xz4qce0z9UNZe1BRUELeMFnQFp1bDVQVTpm+54rLlzUVXrJodlqu+IEWNSASGis/1Z89f0vj1y455YSCrKtge1v+waTxuehqbfrYQCaDocYbwoZPad0SLG0fyhoaVmE9dRU1Bhri2J33CnJpvvWPRhpFCWGN1hnL7hnHLnya2ECsKIJNRYCnhannDD/OOv64nfcmypk+d1WF54u+WNf11Z0oQ3XTuvMGs3RLWwoayaSgviEyXz28MfPxts7aOFroTlq6ww7q6F1DZh0+ddejfiyhcR2tfuuRrX+P5wtzrPl7Y/Ko5ECXx/PxPZ1f89Jaxe+5vvexiUciN3vkHJRwWlhU6ZtGSr3+NXHfuDddmX3zWGklozUOAOP/Tn60/85y6E1ciQxkszwxDra21hwd5MTfvxk8Ly2q84GJARFWTe5MsGDj0JZrxYD/96U+/973vPfXUUw8++OBHP/pRIcS73vUuAJCroNu2bctms1dffbXnee973/s2bty4efPmH/3oR4lEIhwOe573l7/8pbOz80tf+pKqqmvWrAEA6S9z4403bt269Zprrtm0adOf/vSn9evX7/ttOcS5e/P47uTk0yf2wyhCwfWjOVeOtQVBNOemTQ8ADI2t603/uSt5/JzICR2Rl/pzI1mXISZNbyzryiwYWduP5lxBkDK92bXGxcc2JQreLU8PFVzuc4rm3KLDFYa+oJ8+N/z87uwFSxubw9rPnxtZP5QL62rK9KI5Ga8PDCFWcEeyjvS+ieZcOaNFhLGcO5p1Axp7qDNxxyvR9lrjwqUN9QF1V8JUGIsV3OGsI4gUBlnb1xS8+NjGxpD+65fGOseLhjqVXqNEoDLM2P7PXxgpOPw9K5vjea8vabmcOEE05+YcHxE0xoazzg+fGhjK2OctbljVHhnM2DmHK9PQCgIRGQqu253ZOJw/eV5NS1jjRCMZJ1705KBtLOeOZN2gxrZHi/+xbqjg8AuWNCxuDvYkLXsaWUFPkFQAFdH1KZpzC66vMnR8Ec25BYcHdeWB7Ym7N44vbw+fOq/2wa3xP2yO+YI8Ls5f3LC4OfTHTbFn+7MBTblnS7wvZZ+5oL6Uc+Awa43p8v99ZUzmdTu0QMaEaYYXzpn1oQ/EHrx/x6c/j5pmjYxv/fg15u6eudde68bGt37iWrN/lBk6IAizWHPswvarroje+fvOz39FCYWK3X27v/V1rbGp5oTVo7+/w+zt5vkCqmphV7c9FnUSma6bbvLz2Xn/9M9W7878ple57aKqWv0DxZ7dh7w4VeA3v/nNb33rW8ViEQCampo+//nPf+ELXwCAz3zmMz/+8Y8B4NFHH73sssu+853vfOc738lmswCwYsWK559//pOf/OSdd95ZV1eXTqcbGxtvvvnmD3/4wzJkPpfLNTQ0THQfXbp0aVdX18T8ZBWkTC9iKLpSCcYHRIjm3G/8uc/ne60WEgFBKV8alBKbYeUUQ5cLhaEk0RQmFzMJqJzYDAhIQXR8IaicMwzRUFEQVNKwIYAvyOWklnNKBVRGsNerAOTiROm2knpq0rXlCQUBEX1BMksLL1PJzsXjpDIkIgEQUBkAMATTE6fOrb3x7DkToyq5IIXhHRvGH+1M1Brq4TsiAwEcLuTU1xPCUJgMlp8oakRwfCFESYZckEymc7hYQnB9umnNvBXtYXn2LJSVJG35X3t8t+nyw5cbFidsEhOQPCYaoLRfODHbnO1JX2XkggRQSDtcIaEMwfLE0pbQly5aMDEZkxTOQ9sTf9wcC+vKoU0fX1EAkqmjJl4jMgABYHtCNmIuIKgxIrA8ripMbmkZGmMIri+3BYghHsIlBNlw/unsOafMrRUTDqkXRCnTbwprE/VT5icrbN+x+eqPEOfA2BvarkRF8dLpk+79o9EQfOmCy0ALEneZUcr8IiybuIeqRp6Hmq6EQ342e8qjD6OXW//297FgDXkOC4ZQVYGImyaqKrkuALJgABkDRJk4DVVVWJY8dke4rhIMoqLs+eubPVAXFcXLZNsvf+9x3/+ulMObe8/0g/rlL3/5hhtuGB0dJaJ58+ZJtxdEvPnmm6+77jpEXLx4MRF98YtfvPbaa0dGRgKBwKJFixRFKRaLmqatX7/eNM3Zs2c3NzcTkUwcE4lEtm7d6vs+lD1Fg8FgZStxEgc9cWthU6Aloh8goF5C5git3E7MZ4IIMqZbnugkFXvi8/KaAAyZPZkAK13qBK4IQFVQU1AQlDOU7vfTUGF2IhsTr8O6IjdX5cIp0R4qAtAYyrVQ2accJcv+JBMik7xQKlxNLBdRKWkylUSE0/jIDgJQGcplYak/+61uIghqpQGTru5Rm2mDSkknNpbKtWy5UuEBAFUQBIgQMZSShqslHzFdRSCgUqbfww5BsDtp1RjKIU8EiKqqBINKXR1xRDVUyQWqhIIAQRICg0EAABlXramKGlJq65DpGAwSlR5WIxEigkAA5WBBvlkaOSIlFCqdWBAMUnmPsHqm/GGCSkSNjY2NjY3yfmIWtGXLllWe45w3NTU1NTVB+WQJVVURsaOjIxgMwt4p1hhjy5cvP0gOqOwY/DoHsL4eRHkv+XU+R5Mv9n1gkofIm+Vnj7/lfr5SORn0IHg+ktjj+PPaXO3lKDTdPbip9L/XKafYSyYzEfsqvNhHwyc6rx1WyL6ECIour7BxyNYtGHPjceQmCAGgkOCV8lTsmbyQkzw3GkOwgQiASOzt/AllP/t9i1B51VHVQUxTqHK5snLo0sRcoHJtU5o3RSZHL+cdlTNC27Zt2zYMo/LYJNqJ2G/sBACsnhWRc6ZJq6BVVHFgVHVkX1RlIiH7ElXB0+fXyYzb+/isv0lREedqJNL12c8DAoFy4MBIEkIJhbZ/6kYAQEWr1s9Ri1LAg0yiPWndcmJm7YmPqaoKAD/84Q+feeYZ6TW6r5Fj+2Dfb0tVvH9rrC9pw946ou1jGmcOXivrhjIdc1u/LuR6wX5FIqPajzhHUw987eNt5XbtTBOKLO++7cN0+R0boqa3n/AJFgweSI6vB+Kc/IONyiDOj64jk2Zkqzkw1DdBI+3lwS9+vvZ7AAA+WE4Pj+UfCaAxpM6rD+wYL9YYyuHzDTmqgAAM0eO0oi0MAEJAJRBYmoFVs8KP7kgQEMOZMrBkiLbHmyP6gsYATNydQiCCGkNZ0Bh4eTBXG1T5NNuUew1IJXF8WjkrAnsv98k97GVtYV1BTqQg/O2cy/6WwBBdLmoNpaQkE/4U1pWPv232pOeRMSAKzp8fOmZhbtMWtb4OjiordVjBEDhvPOdsgOqy2154M4ZQQp5rv9+j5w8S0uftoe3xZW2Rxc3BPS5wBAzxihNabn7Kztm+ehh9Eo8mEDrcP3Vu7ekL6ohgYjoMRCSAZW3hi45tfKwzqStv8dTkvxlwAQqD9x/fGtSUid6AFbxvdWtfyo7l3Uoo5zQHgePTqtnhC5c00N4jezmCnN8QePvypns2x7UZoyRCEABefUprY0ibpCSOL+7bGn/n8qaIsXdHR4SqcsznP7f1+k96yRTTtek/tJTHaFtW29+/t+XvLiWiqt/NROCU78TG8m7YUMJ7n0Akh7pjOeexztRozj4yPmZTBSx7Jx4/O3Lhkkb9NTzcpEye7s28NJB1+DQf7kuZNIa0i5c2LmkJ7dfTQf6YKHqP7EgMZZwjcub5FENBXNYevvTYJumkuh+ZECDCSwPZZ/uylsenfcMRBA1B9fwljSvaw7Tvyd4EozmnvUbfTzZjIkAs7tw19MtfWQMDcLhzvk0xEIiYoTdfdOGsD36AGTrsK6yZjak3hJ3j5uw6vS4weW46saammsfDjolBigcDQdM91SBW/jlQm51oDKa9kgDQxDif163+aXoiyAQgQFk39qskHqedseJxbeH9n5O8VximmN6GgYiqUYMHwJtfGn3rkI15JGvXBpS6gDpJlXFCRPy0VlEAKMWoVeL6DwDZu80Qvxm58XeAFC0IM0hJoJT5/eCV5MhwNaXA/SuJ7Fu4oMGMvaQltH9DiLgnyGG6GwmZ5rwURD8DmsobxdTPCKuooooqDhN8Qfu3gpNAhzLO8KgDHnBdpQqY0gPwpAn+3YZoT+L1c41WUUUVVbwh2J74zctjOfsgnEJlTv3p+h9UQyZeB1M/I/QFzcwIuSqqqOJwozoRquJgMKUzQgAAeGJnajhjU3lDqJIprZLnbOK/tPczMDFX2UEQ0kETioMg3C+r4iBYnUj4Wm87MOEB2Dh8hPuR6gTCSfm0Xqc69pXYQVbHvm87yOo4OMIDv+1g9PCwKPAB6/ENSfVgJfZGNGcyIRxZwteWquWJ+7bGbH+au1hX8dYx9TPCwbTdGNYiejWopYoqqjiU8AUNpe35jYHqklMVB8bU+0oVXU4EyaLXl7IAYNtYgQh6E1bG8gsO3xkzAWBX3OSChjL2WM7xOW2PFuWPlicSRa8vZRHBzpgpCdOWX3T5zphJZcLhjDOWczxO3XETADrHi5YnkhMIAaA3YaYtr+jyvqQFANuiBUE0knVGJxPypOn1JS1BtG2sAAC9SStlTiAcK3BBI1lnNOvYvtgxXgSArljRdHnK9IYzjiCQhLuTVsr0srbfnTABYHu06AsayznxojuB0CyWCYlg21iBAAZSdt7h+yEseI4vOseLANCTMB1fRPPuYNreQ5i2846ftf3uuEkAneNFIWggbccKruOLHVFJaLm+GM+7AxVCgu64mbP9nO1LOeyMmYJgMG2P512Xlwh3jBcdLmKFEqGUf3fczNp+3uG74qaUgyCqEPYkzBKhL+IFt79SjwA9iRJhf8qmslYMZexoznU5ScLO8aLti0TRG805vihpRU/CzFiS0NqLMO+aHu8aL5YIvX0JrYztp02/t1yPUgGSpmd6vLNC6IuxnDOcdXhZAfpSVsHhadPvTeylAMmiZ5UJu+Omy2ks51QUgCqEli/3yKUC96WsRNGzPVEh9DhFc85QxhYEneNFAtgZMwsOz1h+T2KP5venrHjBs30hn9kRLXqcojl3KGMLIin/XXEz7/BsmVCy0Z+y4gXX9oTkXxKO593BtM0FSTZ2xU2pOZPUKVZwbV9I/rdHiy4XsbwbzbseF5VGmrP9rO0PpG2YUB0TW/eOaNHxRazgRvOuV64OqXKyrU0mdHlXbI/myEZaqcfdScsst26FoekJf2ZkHarirWDqDeH6wVzK9BKmN5iSTd30Be1OWlLjuxMmAWwczju+GM260bzrCuocL8reJOf4KdMbSNmcaMNInlOZ0OHdcZMINg7nXS5Gc04051oe3zSaJypZ0KTp9adsX4gNw3lB0Jey06aftrzt48UyGzCSdaI51/T4ppE8AHQnzKIrUkWvP237gjpjJgD0Ja206adMb3vZdPmCRrNONO9antgVK1kO0xVjObcnYXJBneMmUYkwa/myqe8YL3qc+pLWcMZxfFEaAcRM0ysR+oJ2jJtCUGesmCi6OZvLnquzRGgPZ23HF13jRQLYPFooujxRcIcyNif5ReocLyaKft7hvQmLCDaN5D1BQxlHGsKueBEANo/miy6PF72htM2JOmOmIOpNWlnbz9l+T9ICgE0jeY+LoWyJcGe8KAh2xYq2J2IFVxJuHM4TQYWwN2EJgo0jeY/TcMaOFdyiyzePFgBgZ6xo+yJW8IYzjifExpE8EfUmrKzNU6bXOV6kslYMZZxY0S06/qbRAgF0jZuOL0ay9u6k5fNSl92bsHK2nyxKQtoxbvpEIxlnPO+arthVNuS2L4YzJUI55pCak7a8vqQlv8gF9CbMkYxjueV6jJumK6I5dzTjVBRgR7SYMr2M5cnzpTtjpi+oN2GO5hzLK31x02jecnk0745k7YoC7IgW06aXsXz5xQ3DeU+IgZSdLHq2L3bGTQLYNFowXR7Nu6NZx+Vi00ieCLoTZsHlWcvfnbQE0YaRvC9oIO0kTNf2xM6YSYI6Y0WPi/GCO5x1HL9UHT1xs+DwjO3vTlh+mY3BtJMoennX3zJWIICuWNHlYjzvDmcdl9PGkTwA9CSsvM3jBbcrZgoiKdvBtJ0oeDnb31KuR9enwYzdn7I8Tl2l6jDzDo8VXDl42jFe5ES74mY078rWDfKLPg2k7YHUnnrsSVg5myeLnhxX7Rgv+oJ2xszxvGO5Qg7IusaLji9Gs04050pCItgWLWQtL2V5Aynb57SuNy0P5q0awyoOgKlfGq2iiiqqqKKKKcTUzwip/O+BXAYqz+z3x4PxNZj4rQP7GsAhJZzw5ORnDszqAQj3W/DXeuaNSmy/hAcu+Jt45i1Kdb8/HoDw4ERNryvVA4v6sFbH3s8cOVEfjAIfkHC/z8DrSvU1quP1CSdJDKqo4vVRnRFWUUUVVVQxozH1M8IqqqiiiiqqmEJUDWEVVVRRRRUzGlVDWEUVVVRRxYxG1RBWUUUVVVQxo1E1hFVUUUUVVcxoVA1hFVVUUUUVMxpVQ1hFFVVUUcWMRtUQVlFFFVVUMaNRNYRVVFFFFVXMaFQNYRVVVFFFFTMaU28IxWsfiEr7nta7v2cm/zjh9sCEB3jmAFwd5Mtfn6s3XuSZy9Ubr8HXfPm0l1WVq6peHQRXVUxENddoFVVUUUUVMxpTOSOUFviuTePyZLiXBrKC4JEdCV/Qs32Z3oSVLHpPdqcA4E9dyaLLt44VXh3KOb54tDNJAE/1ZKJ5dyhjr+1Jc0GP7EhwQa8O53fGzKzlP7ojQQR/6krmHb87Ya4fzHmC7t8WF0TretNDGTtWcNf2pAHgwW1xxxevDue3jBYsTzzWmZRfjBfc3Unr6d7MRK56Emba8ivPlLgazvmCHtgWFwTrestcdaeJ4IFtcccXGyRXtv/IjgQAPNqZTJleb9KawBWs6830pex4wX2yJ00ED26PO77YNJLfOJK3PC6/+HhXMl70+lPWut5SkQXRs32Z7oSZNr1Hy88UXb51tPDKUM4T9MC2OAGs682M5ZzBtC2L/EC5yBO5eqwzmTK9noT18mCOC7p/q5RVpi9pxQveWsnVthJXm0bytice60wS7YcrXpKVlTa9xzqTBPCnrqTp8q1jhVeGch6n+7fGAWBdbyYquepOE8AD2+IuL3GVmcyVuX4wx8tCfrrE1Z4atH2xcSS/cSRv+xO4KkiuMoJonxpM0N565fHJNfhkd5oI7t8a97jYMJzviplZa7Ks1g/mfEH3b4vT/rgq1eBwfpJe9ZW4qupVVa+OtF6tH8z+ZVcKAER1CjQB6hR+GwEAYEFjIGIopidqDBUBGkMaArSE9ZqAojCsC2oA0BBSGWJDUPUEAUBjSEWA+qCqMdQVpS2iI0JjSEOEiK4ENaarbFadAQiNIU1hLKgqvkEMYE6dgYANQS2oKQqDuoAKAHPqAwyxMaQqiAyhMaQCwOxaI6AyImit0SpctUb0GkPVFZxdZ5S5gvqg6nNCgI46AwHqAkqJqxodEObUGwrDsKEEVWaoTBLOrtUDKjMUVmMoZa6gLaLVGIqCWB9QAaGjzmAMG0IqADAsXcyqNQIqAiitER0RG0MaALZIrlQ2u04HgIaQxhDqQ6rHiQHMqS9zpTBDgbaIDlDiKqIrAY0ZCuuoMwBgVp1hqCygsYihIMKcegMAWyNaqSIkV/UBhWFDUAMERGgIqYDQLrkiyVWpIlojeo2h6CqbXWeUBIjYEFRdTogwt94AgLqAqilMV6GtpswV7uFqdokr3VBZQGU1kqs6AwFaIlokoKiMyRrsqDcUxIagigjyW4B7ZNVWowFgSa/KNTirNrCXXnGqvLwuoO6pQYA59QYrc6VXarBOD6gsoLEaQ0GAOXUGILREtIihqAqbqFcNIRUIJusVQGukqldVvTryeoUtYb3GEACApQ5bkRShAAAgAElEQVS4CoCjYWk0UfSkNkwtG1VUUUUV0x5Zy/cENYc1gqol3IOpXxp9ujcTzbsEIATAYXKWeeObz/TahHDAL04hV0enrKYlVwd4eVWvqlwdnXrFBQFAT9LcMpoHgCmfAh1VmPoZYRVVVFFFFVVMIaZyj5AAEOCODeOnza9d1BQkAtzfXH2GGOo3tExRlckkVAWyL6oymYQZLhBBwBBeHMimTf+yZU2CiO23w4XyFHImoCyBqZ8R2r7QFdxvlQgChP1bx2kJQYCvt4UttXnm4HXLK/V3ZinJ65W3qiSTMNOU5ADldXzBBYT019gUIyIiZDPGY6Nc3qmcEcop4cbh/KLmYGtEp73HMlRWbtsXU8TfkQMRaAxVBaE8UX4tMARB5Pg0/Vs1QUBjDA8kECq3dscX034QSwQKQ/3glIQIbF9MeyUhguAbUpIDC+5vH0SgMNAVJq8nKoC87U9ZXMDy9vB+VuCIABERyfe5beO01x4AJRxGRCCaUkOIAAAq2890UOpu53jxkR3JRNGdAVVCDHBpa+jvV7XUBtR9W6v8xeXi0R3JV4dyvniNdeTpAgQgoLCuXLy08W3z6/a7bC5l0p+y7tsaH8/PCCVBgIVNwctXtzaG9uP1V/bXoL/sTD3Xl/WEmN69PgIIgqCGaxY3nLeo4QBKMpJ1HtgWH0zbDHHaD5gAYG69cfnq1raaybMLAGCIYr8yIAJEXjQH//t/kk+uJc+f1roDAAgk1IbGudd8tPmSi6d+aTRZ9CKGYqh7JuNSobeOFX789BDnpCkzQncBwPLEca2hm9bMC2kKwOTRHAH9z/Mjz+zOvuayxrSDEOQL+thps89f0jBp+UvucPQkzB+sHbQ8oc8YJbE9saAx8Lnz59cFVZg05AdAgN+8PPZ4VzKoKdN/YAAAAETk+PSBk9reubx5HyUBhjCadb77ZH/a9A2VzRAlcXzRVqN/4YL5LRF90vjA8oQgCuvKXgREACA8b8e/fCb28CNqTS3g9N8pRETheYi45OtfnXpnmbU96ZPn1ixs3OMsgwhc0P1b4iQoYih8utdHBQFV7YoVn+7NyK3synah7PQ3jxReHMg1hNSZkxKCKcwT4sHt8ZPn1kyaKCMiETywLWF5ombmKAlBIKj2pezHu5JXndg2ccYnlaQ7bj7Vk64PqjCDfENQU+Dh7YlT5ta21+zV78v/f2B7PG36tQGVy/3VaQ+CYECN5t0HtiU+cfrsSquRGrJlNJ+2/L87bi9nGRICFSX5l7/G//S40d5OnE97KyihBgLkebu//6OpzyxzxfGtpVsEKE8HU6Y/VnB1lc2ArZ89EEC6wnYnLQCYuNAnNza6YibJieGMEQkHUhjmbT6UcVa0q0QkxSKVJOv4wxk7oCKfOUMDAEFkqFhSkn3+2p2wBAEAzhyREICCUPTESNZun7AYKLdXXC4GUrauMi7XvmaGVHyigMJGsg4XpDCUMpFm723z6+Qz+25IZV/ZgMhAiFJM9wwAcQ6KQp43pQH1BABw9+aYbNUTVdQXNAOm5vvBAUpcCY+daXitUotyoPFMwwHaBZ9JA8cKJoaNTwKfKV36ZFBpo30PpGo83595qidduS1Bji85P5IcHi0ggqn1GpUjkguWNER0BfYe3h7hBQwsz8Bmzji6ijcHhghAM9LcVHEowY54hyN3T1fOikjzOKMCbF4HRFPvdtGbsHK2D687Gdrnv0MFBOAEecfPO37VDlYxCZOC9gqOb3qi2oe8OSBOb2fngwUCFF1ecP0j+VHZt6VNfzTnwBFfSkHGjua6VwGAiHh5UoyIiqJAORPdm3ZJ55xX/FEVRTnAe8RB+K0qDAGAISCCKFnBQzMqRwSfU0RXzlxQR0SbRgqWL6pjpSoq8AQJIhmYBQAXLGnM2f7WsYJS1ZI3DtcnANCUGS06BPAEnT6/VmPsleHckfswASA4vjBdAbBPmOFh/jQ3LVQU1LWjc8er5ICgqpPXSN9iVJa0pgeDEztqZMPY93uIQAA6wy9duKC9znB94QnSFNAVZfNw/mfPj2gqEJXCicojd6RyOllEQEBBxOTvZYtbWQglIEEU0ZXPnDdvXmPA9sRodrA3ZQZUJhfYK7Z24qsq+lPx1S5/fW+SylfK32V7qEq+DGxvho8SyMLKsVCZcyQi+avYs65y1HF+yEEA7RE9pCujuVI09kdPm9U9bm4cyesqI9prNDZJzaYTSgognXWBqJQCabICsL0VHibokgx8nV8fIKBo3oW/nc3dCco/uXInlRdLzsyTH640fHnNEIue+PvVLbW69spQjhDYhB6JaC+SSl/x1iF7rQWNAcn2kYu7JWKGHjl2oZctOONxQJS2sDRHJCIhKreVfUpUGBCQEIAoM92QEIfPiKqIGI1Gb7311vXr1yPi+eeff9111wUCAc/zGGMTJ3MVHaj071Cp+L3FKoT4zW9+88QTTziOc+qpp15//fWNjY0Vl7898gFAgHu3xF8r1yiVYmbpqZ60ynBpa/iEOZH1/dmBlJ2xfMvjgIwIfE4BjXmCPF4avOsKAoLtCUEQ1JjpCSIIqEwmMOMEjscFUVBjti/m1gbmNQZ++/LYwzsSLRHdUJnHyfY5QwxopVxDMi9RUGNFVxgqej4RgKGyoisAIKQzLsD2fIYYUBmUIkDA9nwEMFRFjoBNT0CJigdUxhAsT/iCNAUrE44pBxE4vvAFybIwBlyA6foBjfkciCigMaAS57rCdBWnYccPAAAKQsriHzy+bc3Shuv+0OlyCmos73AZiVVwfQYo41+lV4LpCS7IUJmmTCuZCCopgCBwfa6rTFeY7XOfk14urFyqKbpcEAU0pjKUI1THFx4nlaGuMsvhn7hoNge46f5dDSFV+VuIbRdEpssDGvM5+ZwMlamvXV6fyHF5QGOeT1yQUf5dzsACGkMAyxMEhIBFlzMq9XeeII+LPX1X6bFSX2Go+89A+cbLAgzhxf6cw/nFSw+Ya/QQAlF4nGnuCXfdPvL7+3d88lPBxYtBCADkpiUcmxkBFgwCkF80yXNLIYyIfq4AAGpNRLieb5qAqASDqB7s/OqNQh0ZGVmzZk1PT8/q1auFEE888cTFF1+8fPnyU0899dxzz73llluEEIwxznllkid/KXmXCMEYq1xIa5fP57/1rW9FIpFMJnPffffdf//969atMwxjki2UVx88qa0ssX24IwAETvDX7nTa9t61vPn4OZEXB3NP9aSbI/p5i+p7ExZDbK3RdoybzSFtbkNAV9lYxhnO2hzg2NZwRGfbxoqrZ0UMle2KmbYvOFFYU+QvfUkza/MT59QQwew648SOmsG043DREtKWtIYtl3fFiq4gIFjUFKoPqltHCyfPqRlM2221uoLYEzdPmVMjALaOFkIaO7Gj3vZ4V8xEBM+nsK6c1BERBDtjpulxAFg1KwIAvXHr1Lm13QnTdPnytnBjWItm3eGsfTR0CgSgK3hMY6gpohcd3pu0ii6vMZRT5tZ0Rov1QTWkKzvjJgIc2xJqjuiDaXsk60zLlS65fnVMY6C91iCCs4+p3520hrOOpqBPFNHV1bMjOdvvSViIwAkQYPWsSG1A7Y2bsaI3bcYHgiikK6fMrekaNwMqLmgKDqXtgbS9uDnUXqsPpOxo3jVU5nIRUNnKubUBFXfFzKTl6wr6ghY1htpr9VTR60tZK9ojIZ1xgAuWNAyk7aTpqUexLUQAThQx1FPmhnaOmw0htbVG742bCdPfX3k9lbH6gLpkbqgzWmxt1JvC2q6YmbZ9BeGEOTUMYMd40Sda1hquC6nP92UZlswbAbSG9Tn1hqaykbQ9knMIYHl7WGNsZ6x4ytya/pSdd/y3brTkLPPcRfXl2yPSbIlQZU0XrAFQwosWzfrglYWtW72cRb5Ts/LY0OLjzJ6u/PadoKj1p55gtHckn3qKPJ8Ebzr/HBI89fQLwdnNtSedT5znNm320vnD5OSj3nrrrT09PQ888MC73/1uAEgmk7W1tbFYbMuWLa2trfl8Xtd1XdcVReGcF4vF2tpaafny+TwiRiKRQqGgKEowGITyvDASiWzZsiUYDAohrrzyynvuuefVV18966yzJlpTKK9R37MldtKcmoWNwQNkAQzpzCfV0BgCBHQWNtSGoHrtGR39Sau9xojl3e74wLWnd8xtNHSFEcGDW+O/3TB28bGNJ8+p6YmZC5qCqoLbxwo/fnq4Mah9+ry5s+oMIuhPWn/YOH7JcU2IcNHSxvn1ga//ue+chfX/eEp7UFcAYDBl/88LI91J87zF9WcvrN81bi5tC33/rwPvWN58bHNoIGUf0xIEgM0j+cagNrcxAACPbU/8btP48pbwtWd0tNRoABDNOj99drgnab13VUtHrRHLu/MaA197rO+q49vOPKZOELie+PG6wV1JM6gdrvHOwYAhmh5fs6Tx3atagjpjiENp+7t/HagLqted0bFr3FzSEto6WtgeLX7yzI7T5tUCAhH8YcP4E92poMammSMlItoeP2VO7XHtIV/Qh0+d9dDWeF/a9jgtag7+60ULZtUbAHD3hvGHu5INQfXa0ztWtIcBwfXFrS+Orh/KBTT2t24L5Q56U0i77oyOoZQdMZSGsJa1/J64ubw9HNSVvO3/cO1gX9qeV2/ccOacjjoDEEyH37Z+7PmBzIdPnnXJcU0ExDn9/PnRk+fV1Ic0TvTJs+bc8vRQNO9q2tE7XJDD2bYa/bozOoZTTkNYDRtKxvR+9txIV7y4oD5w/YTy/vrlsad3Z1bNilx3RsdA0m6t0YK6kii4P3t2pCtR/PAp7QzgCw/3upzetbx52azwC33Z8rSSQppyw5kds+oMTUEh6J7NsTs3x965vHlxc2g4bS9sDn7nL/0pywu85aGV/OKrw/ms5V+wZP8Z6Q4xEIkLJaDMu+FaQK3+9FNrVizZePkVTiJ97L99oe39VwGqiCJ69107PvvlhjPfNu/Gf9n8wSszL2/TG2tW/uLn0Ttut4cGTvj977TmFvL91JNPbP+XL7Bg6HCEObLBwUFVVU8++WQAEEI0NTWpqnrhhRcyxp588sna2tpXXnkFEX/7298uWbKkrq5u9erVTzzxBABcc801q1at+uAHP1hbWzt//vxf/OIX8g0AIO2i4ziMsTVr1gCA53n7kxIAwLmL6mfVGnDAkAlBIMor7kQgiLgglwtDZb98ceR/XhhBhF+tH/3cg92fuW/XeN69cGljWFMKji8ErOtNf+6B7hf6sitmRUI6O31B3axa40sP9954T9fvN4z3pqyfPTsMAL9+eezf/9LXHtE/etrs7rh1/V1d//5EX0e9ccXqVs7JdAUR7E5Z33yirydp+YI8QQ93Jv7vA93RnLOiPXL35tgXHujOWP4Jc2qQ4IoTWgM6+/R9u77+eF9brfF3xzV5XBQcrivs5aHclx7qqQ0qZx5T94vnR665c8f31vYnTE9lU5zuThAZCts0WvjaE7s/effO378andsQWNEWtjwuiBSGP3568LaXR0+bV/u2BXW3rR+79g9dnePF95/YVh9QZdzndILcPH5oR+K53qzK8PMPdj/SmQyqDABsT/zypdF/fbg3a/lnLaq3PH7OwvoVs8I/XDvwqT92JYv+VSe26ezo7eLfKLggQRQruN/8c/+vXhytC6pE8JVHev/35bGagLqgMeD44h9PnlUfVL/0cM8/37MrXvT+8dT2+fXBS5c1PbI98fE7O7/x5/6hrH3b+tFo1o3m3Gv/0NkZLwbUv4HBky9IEPWnrf/32O6b1w7WBbXLjmvyfPqHU2bVVcpb8D5y2qyIrtg+F0Q9CfMrj+z+6dNDzRH9omMbOCfT40WXA4BcGnXKpwjIzURf0M9fGLnpgV2fvb87bfkXLm0Mqixr+yrDTaOFr/1p91jOleP7twjZ3y5uDsqlqSMxISRChfmmt/W6G0HY0XsfeO7kM83BaNs7L27/0Ed6vvpvTy9f1feD77d/4OrWyy4Z+8PdJKjxvDV+Nlt7/EoAGL3r7vk33kjCe+7EU14896KB//w5MwKHKdifnXfeeb7vf+hDH/rrX//q+z4AENH3vvc9RVFOOeWU+++/f/ny5V1dXR/5yEdWrlx57733ZrPZq666inOOiP39/U1NTT/5yU8aGhquu+66nTt3MsakLRRCGIbhed7999/f2Ni4bNkyImL7O90jUfBsT8Ab3DwnAF1h28eKT/dl46bnCxrM2FmLR/NurOCqCiqICkME2DRWGC24YzmHymGjgDCnznA80RU3PUE+JwDgggoOX9Ic0lV8fGfS9kVXzNweLR7bFg7rinT7fqwzsStpFl1uKGh7YstYYTDrmJ5IFrxt0cJw3i263OPUFNKOaQqu60n3p+2tY4X+lDW/MaArTGVoOvyxzmR/xva4AIDZdYahsF1xK+v4R0NqSMYgbrpjWTfn+INpmwh0BYmAIa4fyL44mEuY3okdkbzNn+nLxIvuut4MY9AS1v1pmrzKFySTt8l9UwBQGY5mnc5YcaTgZi1fYagyPL4jMpR2XhnOj2Td5/sz9SG1PqhNp8EBQ9wVM3vT1mjeIYBtY4XdaXss7xKAy6kppC1tDT3blx3M2hnbe6onXRtQ59YZri+aw1qNrvSlrLjpVdIiOb44+k1gBTJx3VjB3Tia746bcxuMjjpjSXPw+XJ51/amw7rSUWvInfVdMTNadF4Zzg+m7EXNIV1hAHs2+aSzTOXliOAJ6s/YOZtH806i6GkMGYLK0PXFozsSfWnL8Q9NuI4Ued7mlsfhyDorCccBAPJ9blkgeMslF3qJ8ej9DwMqY398gDhvWnO22dvvDO5uOu9sVKD2pBPJtQqdOxXDYEYofMx8NxbNbd15+Ky3euWVV65du/a222676KKLVq1a9dWvfvXyyy+/9NJLVVWdO3fue97zHgC4+eabGWN33XVXIBBQFOU973lPd3e3YRiapt1yyy2IeNxxx11yySXPPPPMscceK4QQQqiqesMNN9xxxx25XO7ee+9ta2ur7CZOwnDWqQ2o9UH1dY6W2R90BcO6oivo+OKs+fVnLKhrjWjNNXrB3rOkHtSYrqDGEAECKnu+L3vuooYbz5kTzbqP7Iiv7c1IPxWGKAhaanUCsFxhqGh7ZPoiqDJDYdJxK6wrDhemEATAEIIac7lgCArDgMYIhMLQ9URdUFUVPHVu7aLGoCBY2BTMmr6mIAEhQkhnioJ9KXvzcP4dK5ovWNLwZHf6oR2JN176Qwy5DtYa1i9e2rioOVQXVBGhctqTobGwzhCgOaIHNfaF8xdwQc01GkOsDShyk+xvp3M7WFSOh1SwtLtNABrDgMY0BaXO6AprDGsBlf2/S47hguY1GgwxrCsJ05tOQjE0Jv2AECCgMUNFeS0E1QQUQsgUPV1lIMDmggAsX/y5K/WOlc2nzqt9vj/7xy0x0+V7hPk3JRhDZYaKDCBr+XMbjIawyhimzVJ5HS4IIGwoHhGUBaUgZi2+pNZ4nTOiELig8xbWv21+XUtEa4noKdOTqoYAEUMx/UOnRASAkCi6vqB5DYEjGT6BckcMERQFmBJcstKNDgNjTNWIGPlcb64Xrp94/E9zrr8xtHBO3WmnZV58nufNkf/93/qzzjzhnvtyr77U/+P/yLy8hQUPy6SQGYbxq1/9au3atR/72Me2bt16xRVXvPjii77v+77vuq4MB9y8ebOiKDfffPMPfvCDBx98EAD6+vo0TRNCJJNJzvmsWbMQcWRkBAAqM7+zzz77hhtuWLFixRe/+MVNmzZVJouTcPHSxo46A97UVJ0ACMjyxAmzIjec3ZF3/F++NDqYsQ2NVXyOSwH4AACgMowXve/+deCuDeNhQ/nY22a3RTSX71GzChUCYilaYI+LvKC98hJNjOufdA0AGcvvz9rjRffRzuQjnUkZ0CFfAgQE8IuXRv/7ueHxvPuOFc2nzKmxPHGEtq9fA0SgMvync+aeMq/2wW3xR3YkJv1VlMXocRrI2NGiu3m08PCORLTgatNoJXC/QNzj5kWTqhsAAC1PDKStWNF9oT/74LZ4zvEV2QNOF0xMZDEpqQVNSDtQERMC/HFr7D/WDXXGzHMW1V+0pNH2BJYd9//m5soMEAAUho5f8vCfVN6Jye0YIBAoDBx/Tzh1xTtmz2MMbE+cOrf22jM7kqb3yxdHx/KOobAKiTi0mUMQAOCEjpqT59RO5PxIoBzQhowBAnEfVQ2kgSQCBOG6qOnJp54BgLZ3XhacNzf15FNoBHPbdm18/weG/vMntcefeOw3v66GDfD54bDfKudcCLFmzZo1a9acf/75H/7wh++5557TTz9dVob0DpXP/OY3vyEiTdNOPPHEuro63/cRkTEmzd7E/S1JcvXVVwPAZZdddv755//gBz+4/fbbJ+2ByRHJ716Nvm1+3eLmAznL7CHZ5xoBPC5OW1Dn+vTrl8eGs/bbVzTNqTVof8/LMLhowf31K2Npy7/+rI7WWkPGQhCRpuBI2kaA1hptS7QQUFlrSEtbftHj+7p604SLPddECsO05bm+GM87P35qMKQrABDUFJUBAYgKiaCcxx/rSnWOmz9675JjmkNrezNT2D0ggu2JhU3BOfXG7S9HH9gRP2tBPUFJgysFFAQjGWd+Q+APG6LjRU9XEAEaw5rGjl73v7cOIii4vu2JsK5M1igEl4tozmmLaLe+NOpwwRAVhKawNp2Ovtu33VWuVYWlTc/nNL8xYDpcALSGdARIFD3HF0/3ZV4dzv/simMXtwQlISfKO76iqEezy+gkOL5IW36tocxpMGI5N5p1PH9yeZNFr7lWBwDbE2nLawxqs+uNkZTtclIYkICi61ueqNhL2W/4gs5YUGc6/Dcvj8WK7vuOb20w1MoDhxYyfOL5/mza9N6xvPkIhU9IyBADx/FSab2xsbhpffO7L1d01RweqV2+mOm62TfMdL24q9fs6er4yIeZYaRfepUFDGFb+R3diSefBhJz/+kzWkub1T/A1OAhDyhUFUWpeHKed955iqK4ritvNU2TowbpQdPV1TWRUu4jGoaBiMViERHnzJkDpbEzVt7Z3t6uqmo6nX4N4cCVJ7SqSikY68CQU7TKY5VBKEOM5txT5+Glxzb1Jq0FDUFOhKXl+L1obV+cvbCuOayN5d01i+uJaCRjz60PyKd0hfUk7UTB+9DJ7QAwvyGwsDl456tRlwtlb5VhCJUtPQWxco2IhooZy3+xP3vu4gbTFf0Zqy2iCwF/3BJTEVREBHC5OLYldPzsSF/KPq41pDDcOV5Up3pSpTAs2JwLOvuY+r6Uddr8Wjl6hwmiVhm+0J9ds6ThK5csWNud1lQ2ry7w+M5kUjr7TCX7hwNIAB4XiHDh4sbdKWt30lLZHqWS+9AA8Exv5vqzOv71ogUvDuYihtIa0h7uTE6nFEV7Jnz7XGsMs5a/fjB75sL6y9OtRVe8d1XLK4M5m4uPnTp7d9pqDWthQ9k5bgoij1NrRL/0uKahtD2ac45+nZEVeMq82qInlrWFWiP6X7tSSct7ZSh3xsK6y1fL8jZvGSmM5p2OBgMATp9fx4GOn11TH1Tv25wjoljeO74j8p4VzQFVWTEr4gtCLPUbDGEs56yeHbn02MbhjDOnzpC7DBN7mEMFqY1nLqgrh/kfqXVRRHI98v3a41fO+ejVmRdfij7waOuVVy/99r9H731w7sc/LIq52MOPKjU1biabfuaZjo9dm3nxWWtwEECZ+/GruSu8ZKrlXe91hvvc0RFmBA5HWD27++6777333t7e3k2bNn3uc5/jnF988cWS+2QymclkXNe94oorHMe56aabkslkOp1+6KGHstlsMBj0fb+npyeXy333u98lonPPPRcAFEXp7++/7777enp6Nm/e/OUvf9n3/UsvvXTfb8vi/GVXejhjw+uNgBDA4yTjuOWiueUJ1yciCGjsr92pDYO5965u+fuVzX0JK29zhmj7ZLpCTgRdTpYnOIHCcM2ihk+dPafGUH/5wmjK8hmg5QmPk8LQ8vl/Pjs8nHZuOGvOmQvq79kUW9ubCWmK7QkZ4gpl1y9zjxsYl2GCACDdwwyN3b059ufO5LmL668/c85p8+pyjk8Ati+KLpdLEoJgZXvkU2fPOW1e3UNbE5tHC1MbgUAEmsISpnf7y9GGkPov58wNKCxV9BBAAEj5EJGhsJ6k9d/PjuiMfeKMjstXtegqFl3Opk2XPwEEpDF8rj87kLSvOqltZVvEE2S6wvJKK/ymx4sOD2jsleHc7S+Ptdca15/Z8fbjmgSAw6ePFSQqKYCMmJxwTZYnXC50ld29KbZ2V/q9q1quPqX9hf7sr18eA4BjmgLXnd7x9mXNa3el1/akDZU9uiNhuvxjp81qC+u+mJxh4yiE5K85rF9z+uwzFtQ/vC2xbnemLqjduXG8Ut7n+7O3vTxWSbnXXqtfd0bHSR0192+JvTCYjQTUh7fHh9L25Se0tUa0zaN56TVqyb5CZY93JbeMFK44oe0dy5t3J6yCyxGx1FccUsj+9tXh3EsD2crtYQcRqoqbKQz8x09D8+cs/srn9aba1Isbdn3xc+HFi1b+z38zQ9t2wyetgTFm6Ewzkk8+BYJy69cL2wMitbZu/ic/sezHP3Lj0a7/+2Xuciwnpjm0wM9+9rM//OEPK/c33njjT37yE0VRPvjBD955552MsYceeujtb3/7pz71qf/6r/8CAFVVW1tbt27d+n/+z//53e9+V1tbm81mAeBb3/rWl770Jd/3VVVdv379+eefb5qmfOf73//+W2+9NRKRPruTVX930mqJ6DWGIi2WXC+N5txv/LnP5xVfDSAAlaHG0OPkEzEAQ2WcyOXEAHwiEhA2FMvjRPJC6AoqiI4vBIDGUGXocrI9rinMUJnjCxmAwRB1pfxaBNcnIAgbiseF5YmAxgBAZagydHy5wQeGwhBB3hoqQwCp3DLPiDSsqP4AACAASURBVHSKc30R1hWFoelynyigMr1MJYO1gSCkK74g0+PyJQzB9MSpc2tvPHvOxIVieajYHRvGH+1M1BrqYT2E1vVFUFcUhJzNa4MqFyQEGSqTESNyEmD5QmMY1BSPC9PlhnYY824iguvTTWvmrWgPVxZzpJKkLf9rj+823f0sXB+yrwN4glSGMpeKzLYjiOS+cqW6AcD2hKEyQ2WuLyxfyDQihwMyIdHSltCXLlow0d1BCueh7Yk/bo6FdeUQHmuACIZSUgAFQVeY9LVWWKnhcCKp8BFDAYCiy6VGeFyEDYVI/oJygy2kMQBw+aHcEZcN55/OnnPK3NpK4kMqj1m/9vjuRNF7o+l+pJwXt4S+ctGCX784tq4vHdHVvOsbKmMAnMj1qVJe6Vu3anbks2vm/dezIy8P50KaUnB9mc3K9UlXUFNY1vYDKgvpzPSE7EPcsjdySFdMlyNCSN/Td9n+m/QKkR+d3xD48sUL1PJ5hPLf8bwrCGbV6hN7GBICGev+6tdHfnu71lB/OM5jEral1teT4wrfR03j+bwSMFg4wnMZEqiEguT7Tize9s6LV9562+YPXJXZsE2NhP1cVo2E0QjKx1jwsEwHAUD9/ve///GPf7y7uxsRly1btmTJEvmH22677SMf+QgRnXPOOQDws5/97MYbb9y1a1coFDr55JMbGxtlrP2DDz6YTCaXLl26YsUKIpIroqeddlp3d/fGjRs55wsXLly1ahUA7JtiTSKgMem3eeBmgQC+II8LLLucmR6XLi0EoCKCCpbHZRY10+UM0fWJQMgUOB4n2fYMjQkC2anJSRgnMr3yawl0FQHA9jkihvTSLK1CLjmxfQFA8s22V7oGADlXYAgKQkiXfYdQFdQQifZQSc9Dkl8BDB1N0egym5QHFNSZ7Qm5pFwRNQAQQKgsQwQMG8rRw/whBwHIDlQqDACYHgdA2dVWqhsAQroiiKTahPWjqELfOoj2KMD/b+/co6Mossd/q7tnJpPMTEhCwvsRJCIQeckKIeKqAXlIXH8o7pEVPct3dWV3WVlZfK6uz7NnXVhX9qx+xaP+lF1FBfHNO6CEgAaBJSiPJJAQIECSmSTz7u6q+v5RmWbyJAkJE2fu5+TkdNdU3b5dXdN3btWtKiaOCREeofHFEQ1e/D4Qi/BxAItJCuoMgDSkcLAoRKOcX8Z+uS7BrBCNcZ1x0fI5gExIvJkY9ys1BMCFMlNO5VBmDmKZoYBO482S+FkgNRg5LhGiSOLVQcXPySbvri68CyFLkUiQMrjY+7bLkeMTqNdPJEJkBRhTHA5OKfV6icUqSRILBi39+jmuGZ++bGmg7Jj70A+y1copVewOTikT2Qjh3bZjsEIIGTVq1KhRo8S5MckhLi5u5syZRj7G2OjRo0ePHm2kmEwmWZazsrJMJlN4QUH//v379+8vjlvbyEL8JCk8WT9ugH1IknzRaF4iFsANnYb7ASKiw0gRB4SABA0pxjHnF+Qw3oJY8YNDDssAjUWB2AcjdNrk2NBH3I5x0SY5w/XsUS9NZqjNQSaN9AzPAz1S+e4gvD1A46oId/qEBxatdSK39L0L/+KIRi7W2gsPn5ZDHryRQghIP565E1ysJ8BADm19Y6SH3y8nbWY2mlBYWzLeBk3aVfN3V5fdC+eEkIraQH1A7+9ouuBld8MZa1gpVMTfUQoARFGAcwDOAsH4YUMyV70WOHni2BN/YjqXTYQzzhkDSSKSBLx7V7NXAIAxxjkX0x4MY8Y5F7MdROComPzAGCOEMMZMJlNtba3P53O73Q6HIzw6RtCizCaIh5A7OlVqCES+8FFrd9xa9FqTlOYHbZdtQ1R7irTxfNq+UI99HYRba2hFzx6rfHfQdlU0zxZldOH3qLXEngbjYFakyrrg41+U+jUWZ2qht5mHZY4zSWU1/se/KPVpNHz6VvPMbb+d2tnSOoEwe+MG2MNPLyvNLVmDUWSyLaH2m8Jvbsih7nrd65fi4i44f5dlMFMCALHLhKIo4RZL2Lbw3SckSVIUReQEgCeeeGL16tU2m00kNpXbkswmiBtcs/9sSbUfGj944Yv8qLpPuow2bjom66NVxCIdMVgnbdxzbO6SSML+N0E4Z52rFDEcU+PTAu1Y20WMv9T4NFXvESsKNa8T4aF+VeractQJTfotRKddu/fO6x6Ier6KqlS2dv3siDYvS0B4hB0vSABALCJ6yQrAneP6iG8vCUtMSTD1STCX1wasJomxKF22pBkyIRrlw1PjAYAxMLZmEnUyIi1+45GG7d1ioTZALHbDuN0iD2xYcsGYpgIcwG5R+jnM31dqNotEY6mRqDoflmKF0OBCOFf0tkoECDRsnBkLiFhWiyz1T2y0ZHFoyF8akmQ9XRu0KB2MMiMAXKyFQsTIS1sNTGSWQIZ2ZO5+ZELclPZLNMsSMaKHxP/r0nuRsNNwHOPH8TffIpLUfUNxbSNZLACh7S4vC0SSuKZJFktnDKFALDrTfEff9iNaS8GJuitT4/s6zMbtcw6yRH52de+VO0/5VKrEzI/c+qA+Ii0hOz2R80bNlBDCOYztb5s4yL67rD7eHCs1QjmoOvv5+D6JVoU1rhPOuUTIraNTi6v87iA1R+NWUC3iDtJBvSzTR6Q0sYJiuO7K1PipV/TactSZEDM1woAHND5vXFo/h6VpIwEgALeMSvn+rKfOr1tMUiz8VAIAr0pTE8y5o1MhPDQUgAAcPe9zB+mkIQ6xLaL4SAzC9Z4xvff0aVVfbjT1SgS4bBMsLnC5r0cI0zTOWPqypRHe8QAA/nvGM6iXJTnexJs9sx/Oeb/4vvq8R42BDjBOgIzqm3BbZqpY3b/JHYuUoM4+/6H6u4p6jf4I5mBdIpxzm0W5eURy1tDE5q4PhBpJSbXv00PVlfVqtNcHiBfF8N7x/+/q1FSbuXmdiG+yzvimIzV7yuqCOouFRhJvlq+/IiknI6nlDAAEoKI28HFR1UlXIOorRDAw0XLHuLT+Dkvzl+qZumBAZ8NSmq3kxTkQote7T/7vqppt25iqQXStEdgCnJmTkgfe/z+pM2dE3hCedauJcYrV1HQo0XhOXT6xtAfCAUxSw3bnLb70w9EoD+osFr7RCWYZ2qwQ4yNf+IqxUQoHUAgRE1sv2ntEGfdr0d9IOAexOUxbeWKskciEWFtvJC6fBgBJ8aaWCnNjLTTq85No73jiAKbEBt83koZQNND1RVXjB9iHJsc1f2wilD/Kn0YYYpyrjW+1CNqO9vbZCHax+421RhJavritPBettCjjovfbnkqLJlq8X1FL35TX+XV2wxWtbMzLOeectB7hGH2IxQQi7xFelJ6uX9fR/u9pjNQJVkhzsE6agBXSnEu1+D3eKHQZRvxdJD1CDoTA+/vPTRzsuKJ5nzWCIAjSRYj37Z7yOpdPnzUyJda6Ddom8h5hfUC3mmRTrMS4IQiCRAyVMs4blslFDCJZHcICF1V6nT4NQhM8G3b+NPI0TuTNEqFJYuNVUS5SsA3hjZVsO7HDWkFLBdtzyz9yrZrm6Rla9cy6Qq2wXXWtVmKxmwpX4FiVDwD4hc+RTk2o7yqED5hglhWZQGiCp7HVWUOeiyUa6U3ztJjYpGAbwtuW0x7hbRSElgq255Z/5Fo1zdMztOqZdYVaYbvqWq0a9gwgF9alACRE5B3kAYlmh0XxBGmVVwOAU3VBAHD5NL/GAjqrrA8CwJm6oM64O0jrAzrl/HRdEADOulWRp8Z3oWCNV6sL6JTx8x4VAE6LggG92qsBwDm3Kv6LgmdDp5yDy6/XhQmv8qgaZT6N1Qitahu08qlUDwkPaaXXBfTGwmlAbyh4zq1ygBpfI63Oe9TmWjlDt3zWHTS0qg/o9QGdsnCtuF9jwodu0MqvC62qwm85SDuqVZVH1Sl3Bxu0Ott+rbyNtWp4gi1o5QnSuoDOQ1pdeILhWnm1uoCut1Or+gat2EXrKtSufNoFrc6E1RVvva5Eu6pv8gTDtGr2BNU2nqBKWdMniO0K29XlalepNvPgXnGAZrAxke8aXfvf8xW1gXKXf19FPeOw7ZhTo3xPef3xGp/Tp+WfqAWAvBKXV6U/nPMeOO0OaCyv2AkAu8vqzrvV07WB/OO1lPFtx5w64wcrPaXV/jq/vuWokwN8VeryBOlxZ+DAKbdK2ZeHaxiH3WV1ZS5/tUfddaIWADYeqQnorKjSXXTG41cbhOeVuKq8WrnTX1BWxzhsK3bqTGjld/n0bcdcALC9xOUNNmilUrbhcA3jUFBWe96jnaoN5h+v5Rw2HK4J6uzgGU9ptb8uoG8+6gSArcecLp92whnYH9KKcigoqyt3+Wu8Wv7xOs4NrbwHKz3+0C1vL3FVedVyl7/gRB1lfFuxkzL+TXldaY3f6dO2HnMCwA5RV2e9B065g5RtOFzDAXaX1Z1za6dqA/nHawEMrdyl1b66gL6lQSuX06+dqAkcOO3WGd9wuIYyvutEg1a7TjTSqqjSG9BZXrGLA+Qdc1V71ZMu/64TDQ9CaHW8JuDyaVuPuYRWPpX9cM67/5Rb1dmXh2sAYE9Z3Tl38FRtYOfxWg6w4XCNqrODlZ6SqnCtnE6/dlxoRXmokuvKnf5qj7arrA4ANh6uCei0qNJTVOkJ6Cyv5EJdnXT5C8rqKOdh7crv8utbjzm5eIKhdqXqDU9wd1ndebd2ujaw83gt4/Dl4RpVZ0WVnuJQuwKAbaKuwp6g0KqlduUpCnuCeSWuaq9Whu0K21VE2pVKvz1Zt+lIDYR6ShFB5INlWgxe4h35wdJi5vYndkJm+KctJrYmR5y2mNjpa3VIgfYntjjNqOWCxtp43VAt3VWB7bi7rlKgA1phu2opJ7arNqS1S6vwRA48tH8qYhB5Q4ggCIIgESTyY4QIgiAIEkHQECIIgiAxDRpCBEEQJKZBQ4ggCILENGgIEQRBkJgGDSGCIAgS06AhRBAEQWIaNIQIgiBITIOGEEEQBIlp0BAiCIIgMU0kt2EKB1d6uzwQXGMQQRCkMbjWKIIgCBLTRMwj5JwTQiilN95445kzZxRFYYxFSpmoh5CGXzzr168fPXo0Y0ySsFccQRAEIIKGkIS2S7777rs9Ho/xpka6ld69ewN2kCIIgoSB5gdBEASJaSIfLKPreqRViCFkWUZ3EEEQJBz0CBEEQZCYBiMmEARBkJgGDSGCIAgS0/QIQ8gBWKd6aDnvZEEEQRAEEUR+jJADYPAGgiAIEikiHDUqrKAnqG85VHnS6etgQCM3ydJPhqZMTE8W0/O7S0sEQRAkeomkIRSuaL1feyWvuKzaazZJ0EHvlAMcrKit8QZnZPZDzxJBEATpBBE1hJxLhGz94WxZtbdXvJly1kFbxgkQpkibDlVePbBX/15W9AsRBEGQjhLJYBmJEM7h6Fl3nEminHEOvGMA41wiJKixY2fdAB31JxEEQRAk0lGjHLhOGVyyG6czNIIIgiBIZ+gR0ycuHewPRRAEQTpHlBjCNmjoRY00jDFcVRVBEKQHEvlFt7ubrg2fEZsmNtnMT9haQkgb15IkCbcARBAE6YFE/6tZVVVVVbtKWov2jBAiSVJrVlDYzj179rz11lterxcAeoKHiiAIggii2RAKe3PjjTeOGTNGOG2apnHORS+lsE8AQClljHHOdV2nlBpldV0XEoxjxtihQ4cOHDhgFBdiq6urd+/eXV1dTSkVRcQlxKmQ+frrry9cuLCqqgoAdF03uknDc4oUIbyJPgiCIEg3Ec2GUFBZWXn69GkAIISYTCbhvSmKIkmSsD2yLAt/TlEUWZZFojgVTp5xLEnSL3/5y1tvvVUUBwBKKSHkwIEDU6ZM2bdvnyzLwqyKS4jN/4TJtNvthnyTyaQoCgA0ySkuLYQb+kSu5hAEQWKC6DeEZrPZZDIBQGVl5fr1630+38GDB9evX3/ixAlh5zZs2LBv377KysqPPvqosLBQJJ48efLjjz8+d+6cKCiO9+3b53Q6A4HAhx9+ePz4cQAghNTU1GzZsoUQsmXLli1btnDOJUkqLy9fu3btpk2bVFW1WCwQ5vkRQgoLCz/44AOfzydJUmlp6Ycffrhjxw7GmLCFn3zyyZEjR1wu10cffZSfnx/JukMQBIkBoj9YRvQxEkJ27tz585//fPz48SUlJW63OzU19euvv77qqqvuvfden8+XmppaVlYGAE899dQzzzyzadOm+++//9NPP83Nzc3Pz7/zzjs//fTTL7744vjx42az+c4773z99deHDRsmy3JxcfGLL74oy/Ly5cs3btxYVFT0zjvv/PrXvw4EAgAwfvz4devWpaenC2/PbDZ7PJ6bbropIyNj7ty5q1atWrx4seiwveWWW9auXWsymW6//fbevXvb7faSkhIAWLFixUMPPUQpRe8QQRCkO4h+j9AgPj5eUZSsrKzCwsKVK1dWVVXt2rULABITEx0Ox7vvvnvo0KGJEyc+99xzfr8/MTFRURSz2QwAZrNZURRVVVeuXJmZmZmWlub1eu+9914A0HX92muvff/99yml77777rfffltRUXHffffl5OS43e78/Pz9+/c/+uijEAqZsdvtzz33nMfjWbduXTAYXLx48Y033lhfX/+vf/3riy+++Oyzz2RZ7tWrl91uf+utt4qKinr16vWf//wHujr2FUEQBDGIIUMoXMM5c+aMGDFiwoQJxpic3+8fMGBAVlbW6NGjFy1axDkvLi62WCxNgmUYY2azWQzmxcfHi+5WAJAkKT4+HgAsFovVat26dauqqo899pjNZsvOzp42bdrmzZsBQIwyFhQUvPTSS7/97W/T09Pz8vKMnIsWLbJYLAUFBQDg9XpHjhx53XXXZWZmJicnG0E9CIIgSHcQ/V2jTaivr2eM+Xw+I0qTEKJpmrA3DoeDEOJ2u1uc82fMzTcCakS6CAEVPZynTp0ihNhsNpE5NTW1trYWQvMunn/+eQB45JFHGGMVFRWEkCVLlthsNl3Xg8FgeXm5EBsIBFiIy1AnCIIgsUzMGUIpRJP0cAtneHuMMREFKk6NKfMixRi0E4lifoWQLIJFhdMpUoRdzMnJyc/PX7NmzbJly0TZ0aNHp6SkEEJycnImTpxoTMzH2fcIgiCXh+g3hOELvoSPtBnHnHNjosLhw4c55+np6eXl5bIs22w2WZaFm2hYO1mWm8StiMTExERZlkeMGME5P378+JgxY4TAIUOGAICYGvib3/xm06ZNzz333O9+97vMzEzO+bx58372s58Zohhjove1ufIIgiBIdxD9hlDXdU3TAC7s8dTk2GKxlJaWvvPOO5TSZ555ZsKECampqQkJCZTSlStX7t27d+3atca8eKvV+v3337/zzjvjxo0Tpg4A4uLiKKUffPCBpmlTp07t16/fokWLdF0vLCz873//+/LLL0Oo49RkMi1fvvy66657+umn//rXvw4fPvz2229fsWJF37599+7dm5WVNXfu3GAwaEy3D596jyAIgnQH0d//lpiYmJSUBAAmk8nhcIhA0PBjSZIopY8//vjChQtvuOGGNWvWMMZ++tOfzp8//+OPP165cmV2drbD4RDSHn744YEDB957773GDD/O+ZQpU2677bbVq1c/9dRTaWlpn3zyyRVXXDFv3rw33njj+eefX7x4MQDY7XaHw+F2u7Ozs2fPnv3GG29UVFR8/vnnOTk5S5YsmT9//vbt2wcMGMA5T0pKstvthvLGpREEQZDugER23UvG+QuffV/jVU0y6ZwiEiHeoD73mkE5o/qIfXqbZHC73YyxxMRETdN8Pp8I+NR13ev1xsXFWSyW9PT0lJSUwsJCj8cjLBAP7XTvdrtFSl1dnREpGggEdF232WzNL2Sz2YyeTI/HY7FYjOFGv9+vqqrdbhfDh26322w2i3BTsQBpQkKCuLTb7ZZlWZy63W4RetOZqkEQBEHaQfR3jRrelclkSkxMFMeKohjHYg1SQojdbhf9pcbqa6IspdTIzBiLi4trconwzCKPYb2MifBWq9VqtYoMYrKgkdMwgeLS4S6gIRNBEATpJqLfEIZPdTBcvfB0k8lkMpkMO2SsL2rkEQuEihTDRjaPuzHSjTBRCIssbaJG85zh8TjNc3ZvHSEIgsQwETaERBiAS5bTRq9qi5Gi4cf5+fkkRGtlWxPS2oXaPu10TgRBEKTLiaQh5BwIIf0S4yrr/GZFoR0fJCQNphQGJlk7rUafPn06XRZBEAT5sRPZqFEOANNG9bUokk+lAMA5cOjAH+NQ61fHDU66sq+dAzSPlGmXEqF5FAiCIEgMEuGoUQ5AAI6ddX924PQ5tx+AtNXLGQYB4MBNsjRucNKcsQOsZlmIQhAEQZAOEWFDCCFbCADVniBlHVCGc7DFKTZL9Mf7IAiCIN1H5A0hNA7m7HhZAIK+IIIgCNJJeoQhFHRGETSBCIIgyKXRg/oVcaYAgiAIcvmJ/rVGEQRBEKQNeoxH2Kk5DGKtl27QBkEQBIkVesQYIWeMdNqeCf2xXxVBEATpFD3AEHIOhFB/wFdayjWtvSaNEKDUlJJiHTLYENKtaiIIgiBRSaS7RjkHQqo3bz3x95cCFaeAkPYGjxICnBOTKeWGn17xxKPm1FS0hQiCIEgniKRHKHpEawv3Hrz7XiBEiovrgDEL5dSqa1Km3ZS56lXJZEJDiCAIgnSUiEaaEAIAp9/8/5xSxWZr8AU5b9dfKKe5b5rr6/zagt1ACGcskreDIAiC/AiJpCEkhHBKfaWlxGxmut5JKYxzxrylpQCdm5OPIAiCxDQ9Y+7BJRow0uaGhAiCIAjSOj3DECIIgiBIhIh01Gj3Qyk1AoIIIbIsd0KI2LNQkiQA0HVdkiSpKybyM8YAoKOiwpVBEARBLpHoN4TNLV8nNrsghBhFFKXVSuOcM8YkSWqn/ObGjDHGOW/bWocrgyAIglwi0e9VbNq06YMPPnj//ffXrFmzZ88eAOiQFaGUAsC6deuys7OPHDnCOV+zZs23334LAM1nngiP86LyjYLz5s1bsGABhFxDAJAkqQ0rqOs6ALz++uvZ2dllZWXhBREEQZDOEc0eofD87r///pMnTxqJ06dPf//99xMTEymlsiyLPJIkCYMnMFw6SqmmaQBQXl5eUFDg9Xo553fddddtt922fv16xhghDRMxGWOKohQXF7/88st33XVXVlZWa2I555RSIf/rr7+22WyGtpzz1157rbS09C9/+Yssy5IkCRcz/I4AoKSkRCgDoY5fcSNGTnFpkWJoCC05xwiCIEj0e4Q2my0pKam0tLS4uPiBBx7YsmXLqlWrJEkymUzC/RI2Qw5DWCmRGBcXJ8tySkqKLMui2/Po0aOvvvoqhOyNKGIymQghbrf7lVdeKS4uFplbFEsIURRFpCQlJdntdqGnGPZbt27dihUrhG7CSIdLECZNqCROTSaTMG/hOcPLGhqiFUQQBGmR6DeEuq4TQoYNGzZ8+PAlS5ZIkrRv376CgoJZs2Z99dVX8+fPf+ONNwghmzdvzs3NnTJlyj//+U9N04QvtXnz5ltuuWX69Olr1qwRvh3n/PHHH1+7di0ASJJUUFCwYMGCyZMn/+pXvyooKHjggQcURXn++efnzp0bCAQIIdu2bRNiV65cqaoqY8zn873wwgtZWVkLFixwOp1imJBSKknS8uXL9+/fn5CQMGnSpLfffhsAVFVduXJlVlbWrFmzPv/8c7PZLHSglAq38plnnpkzZ47T6QwEAn/7298mT548b968r776ihCyc+fO2bNnf/bZZ4sXL77pppteeuklXdcjv7QsgiBIDyP6DSEAcM79fr+maSaTSViCM2fObNy4cd68ebt27bJYLLt3754xY8a5c+eSkpJ+//vfP/vss5Ikbd68ecaMGSUlJcnJycXFxQAgPK1169Zt27YNAPLy8rKzs3fs2DFkyJBjx46dP39+4MCBuq4nJSX1798/Li5ux44d06ZNO3v2bFJS0oMPPijE3nPPPX/6059SU1M9Hk9NTY0ResM5T05ONpvNlNLBgwfb7XZCyH333ffggw/279+/pqYmNzdXWEdhku12e3Fx8dNPP92nT5/k5OT77rvv4YcfHjx48N69e2+++eaKiora2toNGzYsWrTo0KFDx44de+ihh7Zv304ICe+tRRAEQRqGpiIF0/Vvp8/86qrMnWOv2TlmQif+8sf/ZPvQ4Sdff0NIayScMc55RkZGcnKySPn3v/8NAC+88MKXX34py/Jrr70m8syePbtv374iT05OTu/evRljc+bMcTgcPp+Pc/7aa68BwL59+8TI4j333CNy2u12p9NpXLGoqAgA3nvvPXGam5ublpYmjqdNmzZo0KDvv/8eAP74xz+KxPT09KuvvpqHPDzO+W233RYfHy8+FZmffPJJcXrVVVcNHTqUc/7kk08CQEVFxezZs5OTk30+35kzZwDgscce45yfPn0aAJYvX75z505ZllevXs05z8vLkyRp1apVnHNN07ruASIIgvzoiX6P0Gw2u93uW265Zdq0aXfffXdqaurChQt9Ph+lNCMjgxASDAa/+eabjIyM4uLio0eP9u3b1+l0njt3rqioaOzYsVarVdd1VVUNgUaoy3ffffeTn/wkKSlJVVURz1ldXQ0ALpdLFAkX26dPn9ra2ry8PELI1KlTKaWqqjaJL6WUBgIBAPB4PIyxwsJCQsj06dOF8ClTplRUVOi6LpzIt99++8svv3zxxRetVuuePXsIIUOHDj1y5IjL5ZJl+fDhw5qmUUqtVisLgcOECIIgzYnmqFEDznkwGJRl+cknn1ywYEHfvn39fj8ABAIB8RHnfPfu3WPGjJFl2e/3W61Wj8fjdrvj4+NFOGgTgcKAeb3ehIQESqmiKOHz/yRJUhTF7XZTSr/55hsh1ufz9evXr7q6mociXJrPsjASFUWRJKm+vp5zLqRxzi0WC6XUCA0V3bPjxo1jaxRjmAAABURJREFUjLndbgD4wx/+wDkXnZ/C8kFo9JFzDi3N90AQBEGi3xCqqupwOLZu3Wqk8NCyLGJmusViYYxNmTJl9erVXq9XUZSEhITU1FRCiNfrFVMgWvSlbDabcL80TWti2CilZrOZcz5p0qR3331XyHE4HDt27CCE6LouDGfzCfVGwCpjzOFwiMxCAb/fL8JTRc5ly5bt3bt32bJleXl5IvT05ZdfvuGGG1RVNZvNKSkp+fn5hkCcgI8gCNIa0d81KtwvTdN0XRc9lsL+KYoizIPFYpk0adKBAwdsNtvIkSMzMjISExNNJlNmZubBgwerq6uFP2fkF/4ZAEycOLGwsPDkyZMiBicYDIZf0WKxTJ48+eDBg/Hx8SNHjhwxYkSvXr1GjhzJOd+4caOY1SDid8K1FQ6c1WqVJOmaa67hnH/88ceyLKuqumnTprFjxwqHT1GUiRMnLl26dPv27Xv37p06dapwaocPHz5q1Kjhw4dbrdbwexTHuCobgiBIc6L/zVhdXV1VVaUoipi9J4xBIBDQdV1Mluec//nPf9Z1fdCgQdnZ2ePHj585cyYALF26tL6+/qqrrpo6deqLL76o67oYwNN1va6uDgAeeeQRABg1atT1118/YsSIbdu2ZWRkAMCSJUtmzJjhcrmeffZZxtjgwYOF2BkzZowaNWrOnDmvvPLKNddcM3ny5PLyco/HI/QUxnXkyJEej+fqq69esWJFZmbm3Xff/Y9//GPy5MkZGRlOp/Pvf/87ALjdbl3XnU7n0qVLrVbr3LlzHQ7H0qVL33zzzYyMjOzs7PT09Pfee89sNuu6LsyzGMUUHcIIgiBIOPLTTz8dyetzfuY/7+r19aT1BTzbhkgSCwSSr5+aOGE8cE4aOz2EkNra2nHjxs2aNcvwjQghYkrfrFmz0tLShK264447FEWhlI4bN+7RRx/t27fviBEjrr32Wr/ff+WVVz700ENxcXGzZ89OSkqqqKjIycmZMGHCsGHDcnNzRanZs2ffeuutaWlpEyZMoJReeeWVOTk5Q4YMuf3224VBGjt27LJlywYNGpSbm+twOAKBwF133XX99dcPGzbspptuMhSbPHlyXFwcANx8880ZGRm5ubkZGRlnz56dMGHCq6++OmnSJADw+/0JCQk333xz7969hwwZwhjLzMycP3/+mDFj3G63zWa74447fvGLXwj3d+bMmf3799c0ze/3z5gxY8iQIYA9pQiCIGGQyAZQcEr3zprjrzglWSyd25WQyLLmcl3xxGODfrWQU0o6FRgploy59FK88XLenRPb/iuGX453fCVxBEEQBKInWKZ1EyDmHjSJ/DSmEwjjIUmSEWYpTo0FX8QPBbFip8gvlqoRvazhpcSnRhExJtdcLOdcTGk3VgEN18341MgswmrCtQpX3lhrNPzSYu03ob/4SIjtqt2jEARBookeYAgv3SUlAKxVIS3umtTcJLRoJFoMFg0X2LxUkyLNM4i4lda0bfJpixsohssM/7R5TkNU2xdFEASJZSLsHxBJkuLjL00EAQaS1dpFGiEIgiCxRSS9BM4YkaSUG66v/26/YrPxTqyBSQhTVaVXYvJ1UwCAYL8fgiAI0kEiaQgJIcD5wIW/rP32O1d+vmSxQId6SUWPqESG//lJ69ChwBigIUQQBEE6SISjRoFzIIT6/KffWe0+WEQkibfXGBLgXLbGpd16a/L11wnnsntVRRAEQaKRSBtCaLCFEZaAIAiCxCo9IJKQELG2pphS3qGinHEgODSIIAiCdJ4e4BEiCIIgSORAXwpBEASJaf4PQEXKGbATK10AAAAASUVORK5CYII=)"
      ],
      "metadata": {
        "id": "kKpMUeQWhBXX"
      }
    },
    {
      "cell_type": "code",
      "source": [
        "import torch\n",
        "from transformers import AutoTokenizer, AutoModelForCausalLM\n",
        "\n",
        "device = \"cuda\" if torch.cuda.is_available() else \"cpu\"\n",
        "model_name = \"gpt2-xl\"\n",
        "tokenizer = AutoTokenizer.from_pretrained(model_name)\n",
        "model = AutoModelForCausalLM.from_pretrained(model_name).to(device)"
      ],
      "metadata": {
        "colab": {
          "base_uri": "https://localhost:8080/",
          "height": 177,
          "referenced_widgets": [
            "ec0927fb03e44ae28861f8e64b68c30a",
            "86b84c5a3af64fa8b4a91508907c78ce",
            "5ec26fd6dfaf4adbbae51e6397bf87d5",
            "7d21656ba8c04527b0c947597291759a",
            "8d54510e2a4a4fc390504bd0209f8a9a",
            "c45d2c6070fa41a1bd425f83918055fb",
            "06014d2a8efa427e99dac9746497cb1e",
            "c042045f1bc74b78bbd266d7fd199a04",
            "019445e9da014893b0499cc72095ddc8",
            "df7aa3abbcec4ce5a66aa88899826587",
            "531411bf3b62450d871a1bb3c0a9d133",
            "864ee9d497a344b09ed0fe6c38fe3cbe",
            "ca2c15e5cedd42dfb549043d8753ded6",
            "7f3868e2595c420db03c0d1f43fd7fe0",
            "fba5ca81428a4305b8c09a772cc52dfc",
            "591ed68761244b99a5c1a9fc9f4a23ae",
            "e67a1c4190eb47519affc3eb08397b41",
            "0f42ed200b5b4918910acb828ade4fb6",
            "fbcd5a91cdb4454f9231e46b8d9891fd",
            "c477e23858e64e07befd22e2e7f113fe",
            "9c4c6f6deb1c4a4ea0935318d67b9a36",
            "0c4609ad60cf4abf85c556f998af6241",
            "9d739858e4b440bfb507a9c0681a2cc6",
            "b224868f65fc41a39b470d54b5e16c2a",
            "7d0686e301fe49c7b312b78ec4ebb4a7",
            "9d30ed832e844b8b8296bd0a2da0fea5",
            "348134dff89a4599b89b46ad00fb92b3",
            "192e019660a6468ba180fbb919dccd61",
            "beab0cddbb984a358d595b5217c85eb5",
            "a6b5239433ba4c77b41be4a55623ea5e",
            "904065ae96914c35a8527518992c8b79",
            "80206636bc304afab0fba009d5a1a2f3",
            "28416eea3a08421f85af13a060f633b1",
            "01382b0051bf4de7b256abcd503134d4",
            "c3716f31c5f94d71b1b40990291a791e",
            "cea335dd8d864b04a1aa9a76fe66af97",
            "3dbcde0666bd4de0a8dbfeab2abd6ab7",
            "9e14920e999f4d14a2a3720a6fa17b46",
            "0bf4148631a447e48bb2c2582fd94c60",
            "7dfda5febe094e489742faf71b56d801",
            "31f86404ed494594824cddcb14c4aa4c",
            "06058cfbaefa4ae598cc4d7d57360d50",
            "f63f5e4109254feba171e5e592ab36e2",
            "f0e12fbce8c149488799ec77769ee941",
            "bcdca399295b4884adf94d8d9b0de5d0",
            "62fd793c496a4a22b75d6d3b24c881c0",
            "10da3e9b85344119a5824c305ea301a4",
            "d5916b46352f4a4e8faaa50b31cb6142",
            "cf7e0ed884284639939b0f04617deae4",
            "e5042deb3c1d49cb8627b2b8ac82a720",
            "b051655cc8544070ae2f6f947b036a66",
            "cacc693ea559495f9bd20fb5eb3979d9",
            "74367b3f40e540e6b7506afbe3c99d42",
            "2bd064a6856044548dc4793c59cc75a4",
            "97446700df144469b48ebc1929d6de5e"
          ]
        },
        "id": "MAhyOAKxOM6g",
        "outputId": "ff986e6e-15bb-4abd-e7be-910aeda637c7"
      },
      "execution_count": 2,
      "outputs": [
        {
          "output_type": "display_data",
          "data": {
            "text/plain": [
              "Downloading:   0%|          | 0.00/689 [00:00<?, ?B/s]"
            ],
            "application/vnd.jupyter.widget-view+json": {
              "version_major": 2,
              "version_minor": 0,
              "model_id": "ec0927fb03e44ae28861f8e64b68c30a"
            }
          },
          "metadata": {}
        },
        {
          "output_type": "display_data",
          "data": {
            "text/plain": [
              "Downloading:   0%|          | 0.00/1.04M [00:00<?, ?B/s]"
            ],
            "application/vnd.jupyter.widget-view+json": {
              "version_major": 2,
              "version_minor": 0,
              "model_id": "864ee9d497a344b09ed0fe6c38fe3cbe"
            }
          },
          "metadata": {}
        },
        {
          "output_type": "display_data",
          "data": {
            "text/plain": [
              "Downloading:   0%|          | 0.00/456k [00:00<?, ?B/s]"
            ],
            "application/vnd.jupyter.widget-view+json": {
              "version_major": 2,
              "version_minor": 0,
              "model_id": "9d739858e4b440bfb507a9c0681a2cc6"
            }
          },
          "metadata": {}
        },
        {
          "output_type": "display_data",
          "data": {
            "text/plain": [
              "Downloading:   0%|          | 0.00/1.36M [00:00<?, ?B/s]"
            ],
            "application/vnd.jupyter.widget-view+json": {
              "version_major": 2,
              "version_minor": 0,
              "model_id": "01382b0051bf4de7b256abcd503134d4"
            }
          },
          "metadata": {}
        },
        {
          "output_type": "display_data",
          "data": {
            "text/plain": [
              "Downloading:   0%|          | 0.00/6.43G [00:00<?, ?B/s]"
            ],
            "application/vnd.jupyter.widget-view+json": {
              "version_major": 2,
              "version_minor": 0,
              "model_id": "bcdca399295b4884adf94d8d9b0de5d0"
            }
          },
          "metadata": {}
        }
      ]
    },
    {
      "cell_type": "code",
      "source": [
        "model.lm_head"
      ],
      "metadata": {
        "colab": {
          "base_uri": "https://localhost:8080/"
        },
        "id": "Rj7R4FdjOM-7",
        "outputId": "38c57aa3-0001-4df6-e011-91eb52add612"
      },
      "execution_count": 3,
      "outputs": [
        {
          "output_type": "execute_result",
          "data": {
            "text/plain": [
              "Linear(in_features=1600, out_features=50257, bias=False)"
            ]
          },
          "metadata": {},
          "execution_count": 3
        }
      ]
    },
    {
      "cell_type": "markdown",
      "source": [
        "# Greedy Search Decoding"
      ],
      "metadata": {
        "id": "M_Zmrh4sTnRP"
      }
    },
    {
      "cell_type": "markdown",
      "source": [
        "![image.png](data:image/png;base64,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)"
      ],
      "metadata": {
        "id": "V2rUUBq8xSAD"
      }
    },
    {
      "cell_type": "code",
      "source": [
        "import pandas as pd\n",
        "\n",
        "input_txt = \"Transformers are the\"\n",
        "input_ids = tokenizer(input_txt, return_tensors=\"pt\")[\"input_ids\"].to(device)\n",
        "iterations = []\n",
        "n_steps = 8\n",
        "choices_per_step = 5\n",
        "\n",
        "with torch.no_grad():\n",
        "    for _ in range(n_steps):\n",
        "        iteration = dict()\n",
        "        iteration[\"Input\"] = tokenizer.decode(input_ids[0])\n",
        "        output = model(input_ids=input_ids)\n",
        "        print(\"output.logits.shape\", output.logits.shape)\n",
        "        # Select logits of the first batch and the last token and apply softmax\n",
        "        next_token_logits = output.logits[0, -1, :]\n",
        "        next_token_probs = torch.softmax(next_token_logits, dim=-1)\n",
        "        sorted_ids = torch.argsort(next_token_probs, dim=-1, descending=True)\n",
        "        # Store tokens with highest probabilities\n",
        "        for choice_idx in range(choices_per_step):\n",
        "            token_id = sorted_ids[choice_idx]\n",
        "            token_prob = next_token_probs[token_id].cpu().numpy()\n",
        "            token_choice = (\n",
        "                f\"{tokenizer.decode(token_id)} ({100 * token_prob:.2f}%)\"\n",
        "            )\n",
        "            iteration[f\"Choice {choice_idx+1}\"] = token_choice\n",
        "        # Append predicted next token to input\n",
        "        input_ids = torch.cat([input_ids, sorted_ids[None, 0, None]], dim=-1)\n",
        "        iterations.append(iteration)\n",
        "\n",
        "pd.DataFrame(iterations)"
      ],
      "metadata": {
        "colab": {
          "base_uri": "https://localhost:8080/",
          "height": 439
        },
        "id": "I3-Z8qnpONBY",
        "outputId": "b33722ba-447a-4b97-8767-064218280137"
      },
      "execution_count": 4,
      "outputs": [
        {
          "output_type": "stream",
          "name": "stdout",
          "text": [
            "output.logits.shape torch.Size([1, 4, 50257])\n",
            "output.logits.shape torch.Size([1, 5, 50257])\n",
            "output.logits.shape torch.Size([1, 6, 50257])\n",
            "output.logits.shape torch.Size([1, 7, 50257])\n",
            "output.logits.shape torch.Size([1, 8, 50257])\n",
            "output.logits.shape torch.Size([1, 9, 50257])\n",
            "output.logits.shape torch.Size([1, 10, 50257])\n",
            "output.logits.shape torch.Size([1, 11, 50257])\n"
          ]
        },
        {
          "output_type": "execute_result",
          "data": {
            "text/plain": [
              "                                               Input           Choice 1  \\\n",
              "0                               Transformers are the       most (8.53%)   \n",
              "1                          Transformers are the most   popular (16.78%)   \n",
              "2                  Transformers are the most popular       toy (10.63%)   \n",
              "3              Transformers are the most popular toy      line (34.38%)   \n",
              "4         Transformers are the most popular toy line        in (46.28%)   \n",
              "5      Transformers are the most popular toy line in       the (65.99%)   \n",
              "6  Transformers are the most popular toy line in the     world (69.26%)   \n",
              "7  Transformers are the most popular toy line in ...         , (39.73%)   \n",
              "\n",
              "            Choice 2               Choice 3               Choice 4  \\\n",
              "0       only (4.96%)           best (4.65%)   Transformers (4.37%)   \n",
              "1   powerful (5.37%)         common (4.96%)         famous (3.72%)   \n",
              "2       toys (7.23%)   Transformers (6.60%)             of (5.46%)   \n",
              "3        in (18.20%)            of (11.71%)          brand (6.10%)   \n",
              "4        of (15.09%)              , (4.94%)             on (4.40%)   \n",
              "5   history (12.42%)        America (6.91%)          Japan (2.44%)   \n",
              "6     United (4.55%)        history (4.29%)             US (4.23%)   \n",
              "7         . (30.64%)            and (9.87%)           with (2.32%)   \n",
              "\n",
              "              Choice 5  \n",
              "0     ultimate (2.16%)  \n",
              "1   successful (3.20%)  \n",
              "2          and (3.76%)  \n",
              "3         line (2.69%)  \n",
              "4         ever (2.72%)  \n",
              "5        North (1.40%)  \n",
              "6            U (2.30%)  \n",
              "7        today (1.74%)  "
            ],
            "text/html": [
              "\n",
              "  <div id=\"df-c67cec05-84d1-4315-8c1c-b48be0815546\">\n",
              "    <div class=\"colab-df-container\">\n",
              "      <div>\n",
              "<style scoped>\n",
              "    .dataframe tbody tr th:only-of-type {\n",
              "        vertical-align: middle;\n",
              "    }\n",
              "\n",
              "    .dataframe tbody tr th {\n",
              "        vertical-align: top;\n",
              "    }\n",
              "\n",
              "    .dataframe thead th {\n",
              "        text-align: right;\n",
              "    }\n",
              "</style>\n",
              "<table border=\"1\" class=\"dataframe\">\n",
              "  <thead>\n",
              "    <tr style=\"text-align: right;\">\n",
              "      <th></th>\n",
              "      <th>Input</th>\n",
              "      <th>Choice 1</th>\n",
              "      <th>Choice 2</th>\n",
              "      <th>Choice 3</th>\n",
              "      <th>Choice 4</th>\n",
              "      <th>Choice 5</th>\n",
              "    </tr>\n",
              "  </thead>\n",
              "  <tbody>\n",
              "    <tr>\n",
              "      <th>0</th>\n",
              "      <td>Transformers are the</td>\n",
              "      <td>most (8.53%)</td>\n",
              "      <td>only (4.96%)</td>\n",
              "      <td>best (4.65%)</td>\n",
              "      <td>Transformers (4.37%)</td>\n",
              "      <td>ultimate (2.16%)</td>\n",
              "    </tr>\n",
              "    <tr>\n",
              "      <th>1</th>\n",
              "      <td>Transformers are the most</td>\n",
              "      <td>popular (16.78%)</td>\n",
              "      <td>powerful (5.37%)</td>\n",
              "      <td>common (4.96%)</td>\n",
              "      <td>famous (3.72%)</td>\n",
              "      <td>successful (3.20%)</td>\n",
              "    </tr>\n",
              "    <tr>\n",
              "      <th>2</th>\n",
              "      <td>Transformers are the most popular</td>\n",
              "      <td>toy (10.63%)</td>\n",
              "      <td>toys (7.23%)</td>\n",
              "      <td>Transformers (6.60%)</td>\n",
              "      <td>of (5.46%)</td>\n",
              "      <td>and (3.76%)</td>\n",
              "    </tr>\n",
              "    <tr>\n",
              "      <th>3</th>\n",
              "      <td>Transformers are the most popular toy</td>\n",
              "      <td>line (34.38%)</td>\n",
              "      <td>in (18.20%)</td>\n",
              "      <td>of (11.71%)</td>\n",
              "      <td>brand (6.10%)</td>\n",
              "      <td>line (2.69%)</td>\n",
              "    </tr>\n",
              "    <tr>\n",
              "      <th>4</th>\n",
              "      <td>Transformers are the most popular toy line</td>\n",
              "      <td>in (46.28%)</td>\n",
              "      <td>of (15.09%)</td>\n",
              "      <td>, (4.94%)</td>\n",
              "      <td>on (4.40%)</td>\n",
              "      <td>ever (2.72%)</td>\n",
              "    </tr>\n",
              "    <tr>\n",
              "      <th>5</th>\n",
              "      <td>Transformers are the most popular toy line in</td>\n",
              "      <td>the (65.99%)</td>\n",
              "      <td>history (12.42%)</td>\n",
              "      <td>America (6.91%)</td>\n",
              "      <td>Japan (2.44%)</td>\n",
              "      <td>North (1.40%)</td>\n",
              "    </tr>\n",
              "    <tr>\n",
              "      <th>6</th>\n",
              "      <td>Transformers are the most popular toy line in the</td>\n",
              "      <td>world (69.26%)</td>\n",
              "      <td>United (4.55%)</td>\n",
              "      <td>history (4.29%)</td>\n",
              "      <td>US (4.23%)</td>\n",
              "      <td>U (2.30%)</td>\n",
              "    </tr>\n",
              "    <tr>\n",
              "      <th>7</th>\n",
              "      <td>Transformers are the most popular toy line in ...</td>\n",
              "      <td>, (39.73%)</td>\n",
              "      <td>. (30.64%)</td>\n",
              "      <td>and (9.87%)</td>\n",
              "      <td>with (2.32%)</td>\n",
              "      <td>today (1.74%)</td>\n",
              "    </tr>\n",
              "  </tbody>\n",
              "</table>\n",
              "</div>\n",
              "      <button class=\"colab-df-convert\" onclick=\"convertToInteractive('df-c67cec05-84d1-4315-8c1c-b48be0815546')\"\n",
              "              title=\"Convert this dataframe to an interactive table.\"\n",
              "              style=\"display:none;\">\n",
              "        \n",
              "  <svg xmlns=\"http://www.w3.org/2000/svg\" height=\"24px\"viewBox=\"0 0 24 24\"\n",
              "       width=\"24px\">\n",
              "    <path d=\"M0 0h24v24H0V0z\" fill=\"none\"/>\n",
              "    <path d=\"M18.56 5.44l.94 2.06.94-2.06 2.06-.94-2.06-.94-.94-2.06-.94 2.06-2.06.94zm-11 1L8.5 8.5l.94-2.06 2.06-.94-2.06-.94L8.5 2.5l-.94 2.06-2.06.94zm10 10l.94 2.06.94-2.06 2.06-.94-2.06-.94-.94-2.06-.94 2.06-2.06.94z\"/><path d=\"M17.41 7.96l-1.37-1.37c-.4-.4-.92-.59-1.43-.59-.52 0-1.04.2-1.43.59L10.3 9.45l-7.72 7.72c-.78.78-.78 2.05 0 2.83L4 21.41c.39.39.9.59 1.41.59.51 0 1.02-.2 1.41-.59l7.78-7.78 2.81-2.81c.8-.78.8-2.07 0-2.86zM5.41 20L4 18.59l7.72-7.72 1.47 1.35L5.41 20z\"/>\n",
              "  </svg>\n",
              "      </button>\n",
              "      \n",
              "  <style>\n",
              "    .colab-df-container {\n",
              "      display:flex;\n",
              "      flex-wrap:wrap;\n",
              "      gap: 12px;\n",
              "    }\n",
              "\n",
              "    .colab-df-convert {\n",
              "      background-color: #E8F0FE;\n",
              "      border: none;\n",
              "      border-radius: 50%;\n",
              "      cursor: pointer;\n",
              "      display: none;\n",
              "      fill: #1967D2;\n",
              "      height: 32px;\n",
              "      padding: 0 0 0 0;\n",
              "      width: 32px;\n",
              "    }\n",
              "\n",
              "    .colab-df-convert:hover {\n",
              "      background-color: #E2EBFA;\n",
              "      box-shadow: 0px 1px 2px rgba(60, 64, 67, 0.3), 0px 1px 3px 1px rgba(60, 64, 67, 0.15);\n",
              "      fill: #174EA6;\n",
              "    }\n",
              "\n",
              "    [theme=dark] .colab-df-convert {\n",
              "      background-color: #3B4455;\n",
              "      fill: #D2E3FC;\n",
              "    }\n",
              "\n",
              "    [theme=dark] .colab-df-convert:hover {\n",
              "      background-color: #434B5C;\n",
              "      box-shadow: 0px 1px 3px 1px rgba(0, 0, 0, 0.15);\n",
              "      filter: drop-shadow(0px 1px 2px rgba(0, 0, 0, 0.3));\n",
              "      fill: #FFFFFF;\n",
              "    }\n",
              "  </style>\n",
              "\n",
              "      <script>\n",
              "        const buttonEl =\n",
              "          document.querySelector('#df-c67cec05-84d1-4315-8c1c-b48be0815546 button.colab-df-convert');\n",
              "        buttonEl.style.display =\n",
              "          google.colab.kernel.accessAllowed ? 'block' : 'none';\n",
              "\n",
              "        async function convertToInteractive(key) {\n",
              "          const element = document.querySelector('#df-c67cec05-84d1-4315-8c1c-b48be0815546');\n",
              "          const dataTable =\n",
              "            await google.colab.kernel.invokeFunction('convertToInteractive',\n",
              "                                                     [key], {});\n",
              "          if (!dataTable) return;\n",
              "\n",
              "          const docLinkHtml = 'Like what you see? Visit the ' +\n",
              "            '<a target=\"_blank\" href=https://colab.research.google.com/notebooks/data_table.ipynb>data table notebook</a>'\n",
              "            + ' to learn more about interactive tables.';\n",
              "          element.innerHTML = '';\n",
              "          dataTable['output_type'] = 'display_data';\n",
              "          await google.colab.output.renderOutput(dataTable, element);\n",
              "          const docLink = document.createElement('div');\n",
              "          docLink.innerHTML = docLinkHtml;\n",
              "          element.appendChild(docLink);\n",
              "        }\n",
              "      </script>\n",
              "    </div>\n",
              "  </div>\n",
              "  "
            ]
          },
          "metadata": {},
          "execution_count": 4
        }
      ]
    },
    {
      "cell_type": "code",
      "source": [
        "input_txt = \"Transformers are the\"\n",
        "input_ids = tokenizer(input_txt, return_tensors=\"pt\")[\"input_ids\"].to(device)\n",
        "output = model.generate(input_ids, max_new_tokens=n_steps, do_sample=False) # do_sample=False == greedy decoding"
      ],
      "metadata": {
        "id": "J6IQqtZ1ONDi"
      },
      "execution_count": null,
      "outputs": []
    },
    {
      "cell_type": "code",
      "source": [
        "output.shape, output "
      ],
      "metadata": {
        "colab": {
          "base_uri": "https://localhost:8080/"
        },
        "id": "mmZDYlYK07t_",
        "outputId": "f1aab1f4-46d0-4341-c7b3-8007a4c596b4"
      },
      "execution_count": 8,
      "outputs": [
        {
          "output_type": "execute_result",
          "data": {
            "text/plain": [
              "(torch.Size([1, 12]),\n",
              " tensor([[41762,   364,   389,   262,   749,  2968, 13373,  1627,   287,   262,\n",
              "            995,    11]], device='cuda:0'))"
            ]
          },
          "metadata": {},
          "execution_count": 8
        }
      ]
    },
    {
      "cell_type": "code",
      "source": [
        "print(tokenizer.decode(output[0]))"
      ],
      "metadata": {
        "colab": {
          "base_uri": "https://localhost:8080/"
        },
        "id": "VjOrTmXjYM8F",
        "outputId": "2c54f251-1a8b-47a1-8a41-201603ed109c"
      },
      "execution_count": 9,
      "outputs": [
        {
          "output_type": "stream",
          "name": "stdout",
          "text": [
            "Transformers are the most popular toy line in the world,\n"
          ]
        }
      ]
    },
    {
      "cell_type": "code",
      "source": [
        "# greedy still could be good for example here:\n",
        "math = \"5 + 8 => 13 \\n 7 + 2 => 9 \\n 1 + 0 =>\"\n",
        "input_ids = tokenizer(math, return_tensors=\"pt\")[\"input_ids\"].to(device)\n",
        "output = model.generate(input_ids, max_new_tokens=5, do_sample=False) # do_sample=False == greedy decoding"
      ],
      "metadata": {
        "id": "P4OryE_kVOh4"
      },
      "execution_count": null,
      "outputs": []
    },
    {
      "cell_type": "code",
      "source": [
        "print(\"prefix text: \\n\", math)\n",
        "\n",
        "print(\"generate text: \\n\", tokenizer.decode(output[0]).replace(math, \" \"))"
      ],
      "metadata": {
        "colab": {
          "base_uri": "https://localhost:8080/"
        },
        "id": "y07PnHlq1T18",
        "outputId": "0070582b-9056-491f-9dd3-13a70a57e0df"
      },
      "execution_count": 17,
      "outputs": [
        {
          "output_type": "stream",
          "name": "stdout",
          "text": [
            "prefix text: \n",
            " 5 + 8 => 13 \n",
            " 7 + 2 => 9 \n",
            " 1 + 0 =>\n",
            "generate text: \n",
            "   1 \n",
            "0 +\n"
          ]
        }
      ]
    },
    {
      "cell_type": "markdown",
      "source": [
        "#  Beam Search Decoding"
      ],
      "metadata": {
        "id": "c1ZsZUOqVFKT"
      }
    },
    {
      "cell_type": "markdown",
      "source": [
        "![image.png](data:image/png;base64,iVBORw0KGgoAAAANSUhEUgAAAlgAAAHvCAIAAAAHIzbbAAAgAElEQVR4nOzdZ3wU1doA8OfM9mTTO4GEamiBkJANIBFpAjaKCCggRUER9SqCYHlVrNiuggqKegEFuV5RQaUIgkpNNqGFEEJIgBAC6b1snfN+ODJuNm1DdjPZzfP/kN+ZM+3ZwM6TM3PmHEIpBYQQQsh5zJ8/b8OGjfbKX1K7HAUhhBBqAxMmTNizZ499j8nZ93AIIYSQIwwcOJAQwrLg7t277Xg7E1uECCGE2i+j0ejt7V1TU8MWMzMze/ToYd9TYCJECCHUHhkMBj8/v6qqKgAghFy+fDksLMwRJyLYWQYhhFAbyNl5F/AmkMjBbGj4J28ETga8EYh01687hR0n3H0PAQrUDJwEePbTBJy07s8b+3IyMBtBIqt7fH2Xe/Y2FhgmQoQQQm0hfS3p/uAFwhHK06Z+UkoIsdq3mV0sdmzw58UtvXov4qHeYRm8NYoQQqiNyL17inbuRrIgYK9RhBBCHUETtz8xESKEEBKN0Wh87bXX/vrrL1s2rqmufv7558tLS+sfxEoDaa/xRIi3RhFCCIkjODg4Pz9fIpGYzWYAKCgoCAgIaGxjjuMopW5ubqtWrYK6LbyuXbteu3bNcuOsrKzu3bvX2b/xW6OYCBFCCIng8OHD+fn5RqNRKpUCQEBAQGBgYGM3MDmOA4vkRwjhOI7n+Rvrqbe3d2m9lqKl+h1w/jn4zYSPEEIItYTJZLKqGTFihEqlYlkQAAoKCgCgvLy8wd0ppW+//bawuPmbb+qmzEaTnOUhGluDiRAhhJADmc1muVwuk8ms6nmeX7hggbDIWmwzZsxo7DjLli0TyjNnzQIA+k+LEADg8OHD3377baNxYIsQIYRQG0tPTyeESKVSo9Ho5eUFnHUuvG3ECKuay5cv1z9OSkoK3Lg7amnvvn1CuaysLD4+fubMmYSQBu+CYq9RhBBCbSctLY3juD59+gCAm5ubyWQqKysD3mi1mbe3t1WNTqerf7TGHv4J9RkZGfSG2tpaAFCpVFYb4zNChBBCbeHbb78lhPTr149Setttt1FKq6urJRJJgxtfvXrVqqZ+agSAbt26Nbi70C/U3d1dqFQqle+++24DCRVbhAgh1NF89NFHTTSD7O6Zp58mhMycORMApk2bRilt9u3AXbt2WdWMGjWq/mZsrG3LFyRYntNoNA0edurUqfUrmxhNFBMhQgi5pnfeeaf+HUJHmDdvHiHko9WrAeDZJUsopd99912ze0mlUsvN8vLyAOCDDz5obPuFCxcK5WeeeaaJIz/44IO2hC3ARIgQQq4pLy9v8uTJDj1FdHQ0IWTjxo0AsGPHDkrp+41nMit6nQ4AVq9ezRZDQkIs26/du3e3XFyxYsXOnf/MR/HZZ5/NnvVPtnv22WeF8lNPPZWQkDB8+HCr0zXVOKYIIYTajdmzZ1teopcvXy6sYlnt2LFjwtpNmzZZ7nv33XdbXtsB4Nq1a44I0mw2BwUFCec6evSILXud+9Q643zzzTfCQeRyueUq9lzQsmbw4MHCxn379LFcZZXXRo8e3eypLeE0TAgh1I7069fv0KFDvr6+APDdd9/NmDGjprpa5eYGAOxVhM6dO2dlZXEc17t37/PnzwvXcG8vr/KKitraWqVSmZ6ePmDAgIaH3GwdnucDAwOLi4vZ4sWsrG5WI5k1Ln0t6f24OBknfS2JWMQ31ijEW6MIIdSOnD17lmVBAJg+fToAFN3IOgAgk8kuXbrE3qhLT08X6hMSEsorKiilSqUSAHr37m00Wr+r0EoFBQUcx0kkkuLiYoVCodfrKaW2Z0HR4esTCCHkHEwmU1xcnFqtlkgk7K0DLy8vYa3l+wYbNmwQysOGDVMoFJbH8fLysleX0aysLIlEEhQURClVKBS1tbU6nU4ul9vl4O0BDrqNEELtRVhYl5ycq/fdd9/vv//u4eEBAIQQT09PANDr9QAgNBYBYPXq1ULyo5RWVlRYHqq8vHzcuHGtjCcpKUl4RaFbt24XL15s5QHNupJWHsERMBEihFC7UFVVlZNz1fKpXkxMjFC+9957rbY/ffr00KFDhEVZvSbaf/7zn5sO5qMPP3xmyRJWHjdu3J49e276UAL3LuNz997f+uPcBLfODbyeKMDOMggh1C4kJyfHxsYK12STySSTydRqdWVlJQCo1erg4ODMzExhe0JISUmJj48PKy9duvS9995jq9RqdXV19c1d3l944QVhnodJkyb99NNPrflQTgGfESKEULsQFRUFAKGhoUlJSfPnzWMP4R668TZFdXX1okWLhI1ZXxiWBdle77///ltvvnnixAlvb+8FFrM62G7KlCmEEJYFP/roI0ppR8iCgC1ChBBqP7Kzs3v16sXz/KhRo/bu3RscHJyamurv7w8AwcHBbOwVJi0tbdSoUZY1Xbp0yc3NdXNzy8/Pj46OLi8vt1zbtK5du2ZnZ7Pyvr17x4wda7/P5AQwESKEUAdFKQ0PD8/JyWGLR48eHTp0qLghiQI7yyCEUIfDHkCyMsdxutra+n1tOg58RogQQh1IXl6eTCZjWVAqlVZUVJjN5o6cBQFbhAgh1EGUlJT4+fmxMps1Xtx42g9sESKEkIvbtm0bIYRlwejoaEopZkFLmAgRQshlrVmzhhBy//33AwB7SfH48eNiB9XuYCJECCEX9MwzzxBC/vWvfwHA4sWLKaVarVbsoNopfEaIEEIuJXbw4OQbzb6t334744EHxI2n/cNEiBBCLqJ/v35n09JYefv2nyZOnCRuPM4CEyFCCDk9X1/f0tJSVr6Snd0lLEzceJwLJkKEEHJWZWVlAQEBJpMJADiOKyos9LGYpwnZCBMhQgg5n8rKSl9fXyEFlpeXq9VqsYNyVthrFCGEnIlWq2Wz9ZpMpm7dulFKzWYzZsHWwESIEELOYcuWLYSQuLg4AOjTpw/P862fMh4BJkKEEGr/Pv74Y0LIrFmzAGDs2LGU0rS0NEKI2HG5CEyECCHUfk2fPp0Q8tRTTwHAW2+9RSndu3ev2EG5GuwsgxBC7ZFGo0lKSmLldevWPfbYY+LG48IwESKEUPvSu3fv8+fPs/KhQ4eGDx8ubjwuDxMhQgi1C3q9Xq1WszciCCH5+fkBAQFiB9Uh4DNChBASWU1NjZtKpVQqTSYTIaQgP5/necyCbQZbhAghJJq8vLyQkBBWVqvVlZWV4sbTMWGLECGERLBnzx6O41gW7NGjB282YxYUC7YIEUKoTf38888TJ05k5a5du166dEnceBC2CBFCqI08//zzhBCWBRcuXEgpxSzYHmCLECGEHG706NEHDhxg5TfeeOPFF18UNx5kCRMhQgg5UHx8/OHDh1l508aND82ZI248qD5MhAgh5BDu7u41NTWsnJ2dHYaT5bZX+IwQIYTsyWgweHh4EEJYFrx86RKlFLNge4YtQoQQsg+j0eju7m40GtliTU2NSqUSNyRkC2wRIoRQa508eZIQIpfLjUZjYGAgz/OUUsyCzgITIUII3bzDhw8TQqKjowHAz8/PbDbn5+fjTIHOBRMhQgjdjK+++pIQEh8fDwDjxt1BKS0qKuI4vKg6H/w3Qwihlpk7dy4h5JFHFgDAU089RSnds+c3sYNCNw87yyCEkK0mTZq0Y8cOVn799ddfeuklceNBdoGJECGEmtevX7+0tDRWPnDgwMiRI8WNB9kRJkKEEGqU2Wz28/MrLy9ni2lpaX369BE3JGR3mAgRQqgBZrPZ19e3oqKCLebk5HTu3FnckJCDYGcZhBCq49q1axzHSaXSiooKtVrNXgoUNwvm5eUpFAoAiI4eRAjx8PDgzWZWI3jrrbdkMpmwyNY+++yzhBBCyJYtWyw33r59OyFEIpFIJJJevXq1yYdovzARIoTQ306dOsVxXGhoKKXUw8PDYDBUVla2h5cCv92yxWAwEEKiogb99ddfO7ZvTz171mAwWG7z4osvuru7s/Lp06cNBoNEIlEqlSkpKYMGDZo1a5awZWBg4OTJkw/s35+Tk3PgwIHs7Ow2/TDtD6GUih0DQgiJ7NDBg7eNGMHKvXr1ysjIEDceKzKZzGQyWV6u+/fvf/bsWcsaQsirr7zyyquvAoCfn19JSYnBYBDaiISQxMREjUbDynjlt4QtQoRQh/baa68RQlgWnDZtGqW0vWVBADCZTD169LCsOXv27JgxY6w2e+LJJ1mhrKwsIiLC8k4pALAsyERGRjomUqeEiRAh1EE9/PDDhJBXXnkFAObPn08p/e6778QOqlFHjhyxqnn55ZeFskGvBwA/Pz+2yPP8u+++K6wtLS213PHHH35ITU1lzw5XrFjhqIidB/YaRQh1OOPGjdu7dy8rf/XVV/Pnzxc3HlsEBQVZ1bDR3ZhnliyxWnvvvfcK5e3bt1uumjxlCrs1umjRonfeeSckJORf//qXncN1KninGCHUYVDq5+9XUvJ38+jEiRODBg0SNyJbvP/eqmXPPW91rbZ6zkcIkUqlbAaoP//8c+TIkZZrFQqFwWBo8GrPcdxjjz22du1ah4XvBLBFiBCym/S1ju1g2fvxm/zDnef5kJCQgoICACCEnDp1asCAAXYNzYHeXvWeh4dH/foXX3zxzTffLCoqCggIAIDJkyez+k8+XmO1pcFgWLp0KStHRQ08fOiw2sMDAGbMmEEp7eBZELBFiBCyo/S15KZzlYMObjablUqlyWQCAEIIz/MOCM2xCCFz58zZsHGjZeWAAQPOnDkDABzHmc1mywYiIUSpVNbW1loe4fLly+Hh4WVlZX5+fsIvge3bVp+j/cIWIULINWVmZkZERLCLvtrdvbCoSKlUih3UzWiwuZKSktLYNvW3F2q8vb0x89WHiRAh5Gpyc3I6h4Wxslwu1+l07eGleNRu4esTCCEHKioqUqlUhBC1Wl1dXW3LLrm5uYMHD7Z86c12X3/9NcdxLAvefvvtlFK9Xo9ZEDUNW4QIIUe5evVqly5dAgMDr127FhwcrFarbemUcHOjer7wwgtvv/02K0+aOPGnui8MINQEbBEihBylS5cu7u7u+fn5Pj4+er1eqVRKpc388R0VFdWtW7cWnWXhwoWEEJYFly9fTinFLIhaBHuNIoTsxqpjJyEkMzNTGBtsz549EyZMaOKaw/O8RCKhlLKbmVZb1u81GhERceHCBbYZGyzbjp8FOYX09HQ3N7dWHgRvjSKEHKKmuhoALEfIHD9+PACUlpb6+Pg0uItUKk1OTgYbRoXOW7Pmyr/+tRFAAkABbpVwZjOfk5Njzw+AnIFd2nKYCBFCDnHgjz8arM/Kyho8eHD9+mHDhlFKY2JioMmrG19bm+zuDpQCwMALF1L69OFMpqNmnvPyGlxWZqfYUceCzwgRQg7B3mG3kV6vP3bsWLN/3Sd5eSa7uQGlPg88oKHUrWfPIUZjLM9zajVfXq4l5LivL8X35FALYYsQIeQQo0eObLC+a9eu9SuVSuVXX33V7DFNFZUSjtOYTGDxRgQhZHBlpbmqKsnTE0pLk6RSWXj4oMuXbzpy1NFgixAh5BAeXl4AkJ39T0JiEwn5+/s3uD2bFIlhNYSQwsJCy21iLl/WmM3Q0HuBErV6CM8PrqkhMpkxO1tLyKke3e31WZBrwxYhQsiBBgwYWF5ezsrjx49v7N32+lMr1K8EAHl4eNOn41SqWIPBkJt7qnNnw8VLiYSohw3rV28mPySu6wfm6ApOiHV2VefRwcM/sqzBRIgQcpQzZ85ERkZOnDhx3bp1DzzwQFVVlVGvF9YSQjQaTWJiot3PKw8N1VCqLyw8HRRUffRoIiE+Eyfegi8Xthu64tQu9+6TugW3/alN1bnX/3rcqhJvjSKEHKV///7nzp37+eefQ0NDDx48mJubK5XLbdnRLoOiKQICNDzfLzmJAJTt2KElJHP2A60/LGo9TuYudgh1YCJECDlQ79696Q2dOnWyXEUpbaw5yPO8vcb6cI8ZrKG07+HDAFCy+b9aieTaW2/a5cjIOTXwNxYmQoSQ61PfequG0p4/bAOev/riS4kcl/v662IHheqorKy8/fbbBw8evHfv3mY33rNnT0xMzO23315bU2NZ/+eff66vKzMzs86eRFL/aPiMECHUUfhOuU9D6fV//zvn2WdzX3459+WXex844NnIax6oLT355JOffPJJYGCgSqUaN26ch4dHRUVFYxvL5XKj0RgWFpaTk+Pm7v7ss8++//77bNXWrVvXr19vufHWrVt79uxpUdFAixATIULIni79Lwra9wDGIUuWhCxZkvvWW7kvvpg+ahQA9Pr5Z5977hE7rg7tk08+eeedd5577jkAMBqNcrn8xIkT0dHR9bf8448/jEZjTU2NSqUCgA8++GDp0qVCImSavK/ewHgLOOg2QkgcOS+9dP3NNwGAuCljKqo4SQP3rCwJg3Hb0YVp00q//x4AKMDArCxld3z1sC1kb78t9I7/Cb1GP/300yeeeMIyGXEcx54r199XJpOZTCbLVYSQzZs3z5w5EwAeffTR9evXN5HXWK/RLnfusKzEZ4QIobZmLLieSMi1N9+khAzMvBBbXdtsFgQ7dSW10ut//9NQ6jd7NgFI6dFDK5HoMs7Z/SyoacuXL7eqGTQoqrGNTSZT/TEZHnroIcvFOXPmjB49+sMPP7QxAEyECKE2pZXLTwZ1AoDABQvieF7Ro2ezuzhaj6+/1lCquKUX8PzpiL4JHGeuqhI7qA6kurqa4+oko7vvbupO9ezZs61qeJ63XNy6devBgweXLFlCCDHbMPYsJkKEUBu5smyZlhAwGkGp1PB8t7qdGkQ38HyGhlKPIUM4So97eGhlMlNxsdhBdRRWmUytVjexsZeXl+Wi5a2Czz//nFJqMBiMRiOllOO4ZueCBuwsgxBqAyaD4YRCwcoxFaUSD29x42lC32PHACDRT01Kqk/4+4NcrrEYDQe1jZSUlCbWHrF5zLxr164FBzc/fg22CBFCDkQpTVKrWRYMXrZMQ2l7zoKCuOIqDeVloaFgMCQSkiCRUKNR7KBc1r333mtVs2XLlsY2JoT8UXeqS0opm/O5vqCgIAAwGgwW+zfwNBoTIULIUbLmzk3iOFpdzQNoKA17912xI2oRMujq1VizCQA4nk+Sy5NVKrFDck1r1661qqGUPvbYYw1uPHv27PpTXX799dcNbjxv3jwAkNUZ2K+BrIeJECFkf7rz57WEFG/aBACDcnKGOO1rWoSTxFGqoZRzd+d1ugRCTnTuLHZQriY0NFQqlRJCWIZjQ/GtW7eOrS0tLbV8Crhx40YA6N69OwAYjUZCiFwuDwgIYGt9fHySkpIAgOf5hx56aOPGjWFdutQ9Gw/14DNChJCdadVqqK4GgJAVK7q8/bbY4djH4KoqvrY22cPDlJurJYQLCBhcUCB2UK7DaDRyHCeTydiiwfJmZl2EEIPBIJfLheyot3iIW1ZWptFohMXly5evWrWqzv4UEyFCyJGuPPNM3kcfAYAsJGTQtWtih2NnnEqlMZn46uokDw++sDCREPXw4f0OHRI7Lhdh1XFU4OPjY/WCvEwma+yVeRuGiGlgA0yECCE7MOr1J5RKACAA0YWF0kamoXcBnLt7HM8bCwpOBgVVHz6cSIhb9KDI46JNM4taD58RIoRaS6tSnVQqCUDw009rKHXhLCiQBQZqKB1w7hwA1J44qSXk0oIFYgeFbhImQoTQzcucMU1LCOh0rF9ouM2DWrkGZe/ecZT2TUkBgMIvv9QSkjVvrthBoRbDQbcRQjdDd/58Su/erBxTWirxdoK3Ax2qZNu2zPvvpwAUIPzjj0OeeELsiNqvgqNL9cWpYp3drfMov0HPWdZgIkQItViyWs1XVwNAp/ff6/zsUrHDaUdKvv8+c9o0AABCwlevDnrySbEjQs3DRIgQaoGLCxYUffklAEhCQmJcrl+oveS8+ML1t94GAJBKI3bt8ho7VuyIUFMwESKEbKLLzDzdqxd7dWtQXp4sKEjkgNq93FdfyV35GgDwhPT780+P224TOyLUMOwsgxBqBjWbE2Wy0716AUDoq69qKMUsaIvQV1dqKPW+7z6O0nMjRmgJ0WVlOvqkhJDGxhtDjcEWIUKoKRmTJ5du304ApIGB0fn5YofjrC5MnVr6ww+sPCgnR+awcdoIwat6i+GvDCHUMP3Vq6e7dAEASohGX0tkCrEjcnopffvozqWza25MSbHUx9e+x8/IyIiIiMCrekvhrVGEUAOSPDxYFuy8enUcz2MWtIsBaec0lLoNjCQAJ3z9tBIJX1trx+P/+9//ZoX58+d7e3sPGzbMaoMNGzZERUV5enpoNJqKigqrtRMnTgwICAgJCZk9a5Ydo2r/sEWIEKrj/F13le/aBQAST8+Y8nKxw3FZSd7e9MavN1anIwo7/KkhjEN966239ujR4+uvvyaECGN4xsbGnjt37rHHHgvtFPziSy/X1tbyPM92SUxMHDJkSKdOnT788MMTJ06sXr26vLRUrlS2PiSngIkQIfS3Km1CatxQwsYLLSqS+vmJHZHrSwjy4goqKIDUxyempKSVR2NZTbiq51692rlLl8Yu8oSQoUOHHj16FG50sZk9e3YrA3BSeGsUIQTA88cISYsbSgG6frpGQylmwbYxJL881mzmpFJzaamWkARCoHWNE8tJay9dvmy1luf52tra6urqajYeQqdOwqq5czvu4HCYCBHq6DJnTE+QSCQAip49h1Ia9DgOhtKmCMfFGo2Da6spAAHQclxK74ibOA6bw08ikQg1Dz74oFCmlBJCJBKJm5tbUFBQcHAwAGzZsoWtPZ6czG6TEkJeffXVVn0eJ4S3RhHquIxFRceDgjiepwBxeCloDyg9xnEslUmCg2OuX7d916effnr16tWWl3RCyOjRo3///fe/y6NG/b5/P1tVU1Pj7u5e//o/fPjwI0eOgE0T+7kOTIQIdUSUN2vVKlJrpABd3nu309JlYkeE/mG8fv3kjZuWnmPH9t6715a9CCGBgYH5Fu96EkIOHjwYHx9vNBrlcrnl1V6lVOr0+gav/7GxscnJyR0qNeCtUYQ6nNSYmESJlNYawcMjjlLMgu2NLCREQ2l0cTEAVOzbd4yQM7Gxtuy4ZMkSq5r4+HgAkMlkALD8ub+nXIiKitLp9cI2np6elrskJycLt0w7CEyECHUglQf/0hJSc+IEB6CprNTUe5MMtR9SX18Npf20WglAbXKylpDLjz/e9C5PWMz99Mcff1iumj59+rvvvceeArLeoVOmTGGrKisriYWXX37Z8uFiR4C3RhHqKBLlcmI0AsAtP//sfc89YoeDWqD2zJkzAwawcsDChd0+/1zceFwMtggRcn3n77lHSwgxGlX9+8fyPGZBp6OKjNRQ2v2bbwCgcP16LSF5q1eLHZTrwBYhQq6sMjn53I3HS9EVFVIPD3HjQa1Xsm1r5v1/37rsvnmz/8yZ4sbjAjARIuSaqF6fpFJRSglA188+C3z0UbEjQvaU8/zz11etAgCQSHrv2+c5cqTYETkxTIQIuaBTffsazp0DAFl4+KB6w4sgl5Hz3LLr770PABQgKjNT0aOH2BE5JUyECLmUqoSEtKFDAQAkkli9nliMM4JcVdq4cVV79wIA5bgBKadV/fqLHZGTwUSIkKugNFGlAr2eAET8tsfrjnFiB4TaVPodd1Ts2wcAlOMGV1dLOszcEa2HiRAhV3D21lurjx4FAGXv3gPOnRM7HCSa1MjImtRUAACOiy4owMHTbYGJECHnVvbrLxn33MvKMZWVErVa3HhQe3AiKNBUUAgARKEYXFFB5HKxI2rXMBEi5KyowZDk5gZmMwD0/P5736lTxY4ItS/HO4WYr+cBAEilMVVVEnvM/euSMBEi5JRShwypSUwEALfoQf2PnxA7HNROUaPxuJcXX1sLAJKAgJj8fLgxiz0SYCJEyMlUHjlybvhwAOA5bojZLHY4yDkkqd1odS0FkKjVMWVl2J3YEiZChJwGNZmSlEp2L7TbTz8FTJokdkTImZiqqo77+BCTiQIo+/YZeDZN7IjaC0yECDmHk926Gi9nA/YLRa1DjYYklRtvNnMAss6hg3Kuih2R+HDQbYTau+KtWxMJMV7OBkJi9XrMgqg1iEyuMZkGXbwIAMaruVpCzo8fL3ZQIsMWIULWdDqdSqVqD18NajYnSaWs3PfoUTUbMgYhOzHX1BxXq82USgA8x4zpvW+f2BGJA1uECFk7cuSI2CEAAKQOHcqyoPvw4RpKMQsiu5O4uWl4vv+hQxSg4vffEznu8pNPih2UCLBFiJA1Pz+/kpISEb8aFQcOpI8ezcoa/IaiNlGbmnomMhIAeIAuK1eGvvyy2BG1HWwRIgQA8PDDD/v4+Lzy8ssAUFJSMmPGDMu1CxYs8Pf3HzNmDF/vdYXXVq4MDAyYPHkyALz/3nur2Mw4N4vX1SQQcm70aArQa8cOzIKozaj699dQ2nX9eg4g95VXEgnJW7NG7KDaCLYIUUdnMBgUCgUAfP/99zNnzjSbzWaz+fjx49HR0QCQkZERERFBCHnnnXeee+45ADAajdIbz+0IIQDw9ttvb968+ezZswBw3333bdu27eYiSfLwoFVVZgC3Pn0GpmHXdiSagvXrLz76KGsn9T36l3robSIH5GCYCFFHx3HcwoULP/vsM7aoVqurq6vZ98JoNMrl8v37948aNYqtVSqVer2erSWEqFSqmpoatmr69On/+9//kpKSBg8e3NIYirduzXzwQQIAhGh43i6fC6FWurJ0Sd4HH7JyxJ49XuNcdj4TTISoQ5s/f/6GDRssvwWTJ0/evn07q/Hy8jIYDLW1tcLaxYsXr127VkiEPM+TGwNWGfV6uVLZ4i8UpQkyGTGbCUDkuRRV78jWfyiE7Ojiww8X/ec/AAAcibqcLe/SReyI7A+fEaIObcOGDSNGjLCsuXbtGsf9/b2oqKjYtWuX5drCwkJWCAwMhBu3RopGdXMAACAASURBVJnjJ0+29OynevbUchxnNnuOHa2hFLMgaoe6f/WVhlLvqVOBp6fCwrSE6M6fFzsoO8MWIerQCCFr1qx+8smnLGuio6OPHz/OylZfEEKIQqHQ6XQKhSI4ODg7O1tY1a9fv7S0NBu/UEVbtlycOxdMJgqgMRrJjYeOCLVnqbGxNcnJPABHyODKcs7dQ+yI7ANbhKijO24xdcO1a9cA4PPPPxdq9Hq9UGZJrrKyEgBkMtmVK1eEVWazOS0tbcCAAc2ejtdVawm5OGsWmEy9D/0ZRylmQeQs+iclxZrN6phooDRJ7aklxFRUJHZQdoCJEHVoSqVy06ZNwmJoaCgAWPZ2Ud+Y59ZkMHAcN3LkSJlMBgC//vorAHzxxRcAUF5ezvqRrl27tunTnewanqxSA4DHyJEaSj2Hj2h6e4TaG8Jx/ZOPa3he4ucHACcCAhLd3MQOqrXw1ijq6ITnfBzHJSUlxcTEWH4pLJ8Czps79z8bNgiLd9xxx759+wAgKCgoLy+PEMKbzYRr+I/L4m+/zZo5EwCIXD64traxzRByLic7dzbm5gKAGSCutpZTKsWO6GZgIkTIDubNm7dp0ya+oTcfeLM5USplk7/1O37cPTq6jWNDyKGoyZSkUADPA4A0ODj6+nWxI2ox/LMUoZuxY8cOobxhw4aNGzfm5OTU3yzZ1ydZKpUAeIwZo6EUsyByPUQq1ZjNGko5d3dTXl4iIclenuBUTSxsESJ0MyxvmQJARkZGr169LGvy1qzJfvpp9gXTWLxuiNqz2gsXLkyaNODsWbEDcVbm0tIkX18OgAK49e8feeaM2BHZBBMhQnZmrqhI9vJiw8REnjqlsqErKRJd4X/+4z9nDpFIjvv5xRQXix2OczMZjSdUKjCbeQD14MH9k5LEjqgZmAgRsqdTt9yiv3CBAPhMndLr+x/EDgfZhK+u1qrVRCqNMxrFjsV16C5kpNwSQQEogPeE8b137RY7okbhM0KE7KNo06YEQgwXLnAKRSzPYxZ0CslubnxNDefu7j12LGZB+1L2ukVDaVRGBkdIxe49Wo67tGCB2EE1DFuECLUWX1OT7OHBes31TUhQx8WJHVHHRc26ouQ3bN7YdP2T9wCg07+et/0UAXG2Hh8Jyg7/mRE/kiWb4CefDG9nEzxhIkSoVZK9vfjyCgBQDx/e99AhscPp6HhjRfZPI0LHbrF5+0pO1oJxwi5u7df7cbxm3qTyPXvOT5jAyuHr1gY9tkjceASYCBG6Sdfefefq8hUAwAMMwe9R+8DrS3J23Rs++bCDjp++lmAibKWC9esvP/ooAFCArp9+GvT442JHhM8IEWo5XqfTEsKyYFRODmZBhGwXuHChhtLQl18mANmLF2sJqTpyRNyQMBEi1DInw8KSVCoA8J01U0OpvHNnsSNCzTObzXt/+81sMokdCPpb6MqVGkqDly0DgLThw7WEVPz5h1jBYCJEyFZ5H36oJcSYk0M4TkNpz282ix0RqoeT8cYqqzqJRCKVSseNHy+VyWwc2aBXr16EEBwGwdHC3n1XQ6nnhHEAkD5ylJYQXUVF24eBiRCh5pkrKhIJubJkCQD0P3FCYzaLHRFqBG8knNyyolu3btQC3JhUuQnXr13LzMx0YJCort679mgo9bnvPgBI8fLSEqLPymrLADARItSMJIXiuJcXAfCaMEFDqdugQWJHhJpCJHUS4eXLl1euXCksrnrrrcLCwqaP0Ck09PLlyw4JDjWu17ZtGkoVPXsCwMmePRPbcIYW7DWKUKNy33rr6osvEgAql8dZzNCL2i1eX3Lll/Fdp2qFGkJITU2NSqVii5RSjuP4xkd/jYqKKigouHbtGsdxQiNSgL1G20ZqVFTN6dMAQCWS2PISzt3ToafDqbERagDlea1EAgAEYFBeriyok9gRIZsYqwoobxAWz549CwBCFoQbo6UfPXr01ltvrb97YWHh6dOnWfLDRoKI+p86BZRP4CSc2axVe3FyucaRf4nirVGErB0PCWFZ0G/WTA2lmAXbP6rXJxBirq6WqoMIJxPqrzcyN15jd0eDgoIOHjzokBBRSxFuCKUanpf6+oLBoCUk0VftoFNhIkToH1eWP6clxJSXx+ZOwn6hzoIoFBzAuZEjCVDLzjKdG3m5JSQkpH5lXFycm5tbfHy8o6JEN4GQwcXFsXo9AJDSai0hST4+dj8JJkKEAAAMV68kEHL93fcAICojYwilzt51fuvWrVu3bm1icf/+/cLint27e0dEDBwwICUlpf5BKKWPPPJIUFDQr7/+wur/+uuvHj163HHHHVYnPXTo0F133RUQEDB37lxT3Zf22Nmzs7M1Gk3fPn2uXLnS+s9Yun17AiE1WVkAoKG0v1YLAGDxD9e7d28AqKysFGpYVHENjQer1Wqrq6vJDaySEHLx4sXWh4pag8jlGkpjdToKQMvKtISc7NbNniegCHV4yf7+iQCJAFnz54odi9106tRJ+IIX35hgT1gLAEajUSgDwMKFCyMjIwFg+vTplputW7cOAMaPH89yw59//unu7i6RSKZOnWp1TLb7jBkzFi9+zGpVdXU1AHTr1g0AZs2a1fqLD8/zrJAIUHnkiFBv1hVf/G6Q5ZYA8NRTTwmLy5cvb+zUCXWxIBMSEvQ6nbDNuU/xmikyQ3HxMYBrH3xgx2PiPyrq0HLfeCMBIBEg2ctL7FjsbNSoUcIVHwA+/eQTYXHIkCEqlUpY5aFWC3sdO3bMKl9KpVLLRQC4dOkSWywrK2sinwHAokWLWHnmzAcBYOfOnZZrjx49enMf7dyY0QkA5Qf2119l1hVf/F+0Zc3QoUOtPlG/fn0tF3v06NHgWVjitz41JkJXhLdGUQdlNBgSpdKrL70EAAMvXYwpKxM7Ijvr37+/5eLjixcL5YSEBJbDcnJyAKDCYiyPIUOGAIDRYmY+fd3eesHBwV27dmXlZu8du7u7s8LOnbtkMtmdd95puVaj0dj2Uf5R/N13ANB73++E4zyGN/gwj3ASheXy0aNH3dzchBuecrk8NfWsLeei2Gu0w8BEiDqiJLX6pEJBzGb3effHUaroatfnDe1DREQEa9P4+flNmjRJqP/8888BQC6XA0BYWBhAnYdqjEwmA4Dnn3+eEMLVfa959+5/5hlf99lnQplSKiQbhUKhUCgA4PXXX2dry8rKFltkYsrzACCRSFr0ia4sezZzxozLTy0GAI3ZTGSyhrZq4N3o6upq4W9/q7xOKW1sEBm2fYsiRE4KX6hHHculRY8VfvY5K2tc+j//nj17JkyYwPIT+5qzAiFEq9XGxsaymn79+qWmpgp7HfzrrxG338629/X15TiuqKhIWCscSlhUqVQ1NTWsPHXq1O+//56tKioqCggIEDa22rGosDAgMND2i8+ZgQMiT6cAwJmBAyNPn25iS15fkv3z2G73H7fxyC2FL9Q7wrXfplVkfe/oszTxD4cv1KOOwnD16okuXTgAICTq6lV5Jxd/O7Bnz54AMHbsWG9vL6EyOzsbAFgWZLLqDuo44vbbR44cycplZWWLLeaKO3XqVP2zrFixAgCMBgMACFkQAMK6dBHKBQUFVnvdOny47R+kYt++2pQzp7qGR13ObjoL3oCJyvn0nFckVfk57vjpa5u6kY+3RlGHkBwQcKpLFw4g5IUXNDzv8lkQAHr06AEAv//+e1FRsVDZvXv3Dz74QFhcv369TqcTFtnbdQcOHGCLlNL33n9fWLt06dL6Z1m4cCEAyORyAPjll79frhg9enStxWH/+9//Wu114cKF+Pjmc6FWJgMAz7Fjb9m5M+pydrPbM5zUzcYtUfsh7ttKeGsUubgry5blvf8+AHA+3oNLSsUOp00RQjw9PcvLy4VFqNcHJDAwUBhmxd3dvarq7zmMampq3N3drW6ERkdHHz/+911HSikbjZMtdu7cOTc3l5VXrFixatWqRx555IsvvmA7EkJ4nrc81I8//jh58uQmgjeVFp7wDVRF9o9MOWP7R+b1ZVlbetm+fYsRrte8fAcev0O69tu0oBGfSZS+jjtF0/e0MREil6XPyzsVGkp4HgAGZmUpuncXOyLUvJI9v2ZMuGcIpQDA62s5harZXZCzu/bbtKDbP5co6gwZc//992/btg0AxowZs2/fviZ2pzzftVu3nJwcSunDDz/85Zdf1t+m6USIzwiRK+L5RKWCGE0EwH/+/O5ffSV2QKh51GAgcrnPqDs4gNJff/W5+27Mgh0HtbhhADfuXpw6dcrXxycsPNyqs1WdHSnlJBKVSqWrqTnw558TJkz4+uuvDQZDgxs3BhMhcjWXHn20cP16AiDx8nK9twNd1fk77ijdt29wUZHUz8+1e/OiBhGLt3TYi61lZWVeXl4AYDKZpFLppUuXujU0rJqPjw8AsK7L48ePr6qqUqtbPDY3dpZBrsNcUZEolRauXw8AMZWVmAWdQm3aKQDotXs3x3ESXwc+JULOgs2QxbIg3HjftF+/fg1uXF5eHhMTIyyyMRxuueWWFp0REyFyEUne3se9vIjZ3Onl/9NQKmn5X4Wo7aUOHny636DSHTs4iURjNjv7QOfoplH+n9sAqampVq26iIiI2traxvY1m81WNS0dJx0TIXJ6WQ89pCWElpcTmUxDaeeVr4kdEWre6T59AKB/cjJRKHwmThQ7HCQ2WucZoU/duZYavCnKeHl5Wb7hym6r1k+NTcNEiJxYbdpZLSHF33wDAAOzs2Nb+IQcieXi3Ln69HQ20GucxRuHqMMi3E0mIzZqLiHkf//77vWVK729vYV7qrbDzjLIWR3jOAmlABCyYkWXt98WOxxkEy3HaXi++8aNPlMm+dw7qfkdUAdR9654Wd0H/E3f6qSUKpXK6dNnAIDZbJZIJOobo73bCFuEyPlcnD9fS4iEUmlIsIZSzILOIn/dWqD0ypIlAIBZENVh0VV4wIABwsAOTEZGhkrV1Ls0uhtzRrIx4mfNnt2ik2OLEDkTc2XlcW9v4HkAGFxbwynxPTMnUJ2ZmdqrVxylQYseD3xkQSOzRqCOzaJFeOLECalUWl5ezm5ysgd+eTfGLWrao48+Cjdmk7YdtgiRk6A02d39uKcn8HzQiy9oKMUs6AR4HgAINRGAgi+/BADMgqhBli/USyQShULh7e29bdu2Xbt2yWQyjuM8LbrPEELYoDOMSqVat27d119vcnd3X79+/aFDh1p6dmwRIidwbvToygMHAICqVHE1NWKHg2ySGhNdc+JkrNns1qs3viOPmmbVWUan0z388MP3338/AIwaNWr//v1N7Ovp6fn4jWlSamtrlUpli8+OY42i9qzm9OnUqChWji4slPr7ixsPskXl4cMew4dTntdKpbHV1VyTT3cQEn3QbWwRovZL6+7O19RwAOGrVwc99ZTY4SCbJKnVtLp6cFUV5+4eV3cASYQaI26TDJ8RovaI9QulNTWKsLBYsxmzoFPImjMHAAZXVip79eJa2H8dIRFhixC1L7Xnz6f07g0ABCCmqEjq58BJq5EdJcrlxGjs/NprivDwARkZYoeDnEzOjtsJJ1o+wmeEqL2gZlOSQkHNPAHo9H//1/k1HCnNCVCzOUmp1BiNAJD7xhuhL70kdkTIWVFKCSGU5wnH2eEnOxqltgxgi4kQtQtpI26rOniIAsgCA6PzcQZwp5Ex7b6y738M//jjoCeeEDsWhG4SJkIkstrU1NMDBxKeB0I0BgOR4u16J1Bz+nRqdLSmhUMbI9Q+YWcZJKZkD48zkZEcz3ff+EUcz2MWdBbVJ7TA8+W7d4sdCEJ2gC1CJI70O8ZW7PsdAGShoVE5OTgRnVPImDSpbMcOfDseuRhsEaK2VnHwYALHsSw4qKho0NWrmAXbP11GBgB0emkFABgLCsQOByF7whYhajvUaExSqajZTACwe4UTSSCEA8CGIHJV2CJEbSR93LgkuRzMZuUtt2goxSzoFC4/8zQAxBQUSIODxY4FIUfBFiFyuNrU1DORkQAAhGhwzC3noZXJwGRig6WJHQtCDoQtQuRAlOeTlEqWBbtt2IBZ0Fkke3oCgMZoDH3jDcyCyOVhixA5yumIW/QZFwBAFhQ0KC9P7HCQrZJ9vI1l5YPSzykjeosdC0JtARMhsr+yPbsz7ryLjScfW1ODs/A4BX1W1qmePeMoBQBjcb7ML0jsiBBqI5gIkZ1p5XIwGgGgz4EDHiNHih0OstXxwABzYdHA7AxFWC+xY0GoTblOIty1a1cTn+Wuu+767LPPFi1a5DKftx1Kv+OOin37AEAZNTDyxEl8O9ApXFy0qOizz1r6asR777332bp1WRcvOigqhNqS6yTCpi+7lNIBAwZcuHChtra2zULqOKq02rS4OFYerNdzcrm48bQUG6Ve7CjEcfHxx4vWrWtp11BCiJtKVV1T47jAEGozrtNrlFoAgG+++caq5syZM4NjYsQO09VQo1FLCMuCXb/6UkOp02XBhIQEsUMQQZK7eyIhANB97VoNpTfRNfStt992QFwIicB1EqGVu+++u37lgQMHMjMz3d3d5XL5c889Z7V2x44dHh4eMpmsW7dubRKj0zt1yy1auRwAZJ07aygNnP+w2BHdjCFDhnSo5mDBpk0A0OfgwVZ+5lmzZgHAwoULJ0+a1OAG0+6///7772/pYVNTUydMmHDPPfcU1OtpfOLEiWHDhq5ateomokWoKdTlbNu2rf7nMuj1ANCta9eIiIhNmzbddtttAHDw4EFhA/bb+OCDD/773/+66m/Gjkp/+SUBIBEgwRl+UcOHD3dzcysvL2f3zwkhlZWVwlqZTObn52e5/ZAhQ4QvyG+//SbUb/zPf4QjFBQUtN0HsJ8EjkskhJrNrTmIyWQCgLlz5wJA37592S+K53lhA7lcDgD9+/cPDQ0FgEceeURYBQB//fWXsFheViZ818rLywGA47j4+Hh22MuXLrFV6enp7CxDhw5lBb1e35qPgJAlJ7iKtVRISEj9NHbi+HEAOHr0qFADALNmzWJltVoN9W6uZmVlOTpUp8TziQpFIkAiQPn+/WJHYxMA6Ny5M7uw5ubmWv2hAwDJiYmsXFJSAgAKheL69etFRUXTp0374osv2Cp2cU9PTy8uKoqNjXW6P5VO9+1LKTVXVV15fnkrD7V8+XIAWLlypVADAIk3fodKpdLyl7Njxw6r37bloVa++qpQAwDTpk2rfzqWd3/55RehhuM4Dw+PVn4KhAQu2EeAEOLv719YWGhZGR4efuXKFcsPSwj58N//fvqZZ8xms1Qqtfo9EEJWrVrFvvBIcHbIkOrERABwi4npn5wsdji2IoQoFAqdTscWdbW1Kjc34V+cEKLT6RQKBSvPfPDBzVu2WB1h2LBhx44ds/xPIpFIxowZ89tvv9kxTlNVjh2PZim5S2+Jno/KP0eIRKru0sqjhYWF5ebmmi1m5SWElJaWent7s7Jer5dbPCoW1v7xxx+jRo2y/DV6e3uXl5ezGkJI3759z549a3U6QohSqbTs5vb+++8vW7bM9a5dSCyuOQ/qtGnTrGquXLkydep9VpWLFi0CgBUrVkBDnU5v4vGGCyvbtev8XXcRAB5AU1vLKZViR2QrdrkUsiAArP/iC6ttWBZkN8zrZ0EAOHbs2J9//mlZo1arr1y5Yt9QM78Oc+syzr7HZDpt1ADA9QPzanL/7P14a/NHTk7OnDlzrCq9vLwAoFOnTgAgr9dhykOtBoA33niD4+r0SygvL3/22WdZ+dOPP1785JOEkJCQkDNnzvj5+Qmb6XQ6QkhH7tyLHEuspqjjAEBVVVX9SvYXPVNTUyN89p49e7rk78FeeIOBPQ5MBCjaulXscFqMPV6yrAEAuVzOyqNHjQKLW3NDhwypf4T6bRSmwft4rXHuU4f/P7TLKax+n7raWqFGJpN1CgmxXJt37Zrlb7hbt25WhzIYDJY1J06cCAgIAIBuXbs2eDqE7M7VWoS7d+8GAPeG+oJb9oB46803hbK/v39mZmYbxOaMUvr3qz2bRgDcBg7sf+qU2OHcjAWPPFK/kt0MAIDDR44I3T0AYNz4Bhpke/bsgRstS1RZWWlVM/aOO4Qyx3Gsz4sgrGvXwMBAYXHNmjVCeePGjQAgk8kstx80aFBBQUFcXJxWq7Vj2Ag1RexMbGfs7pZV5cGDB60qAwMC2HNBSmlOTg4AzHnoIWHtr7/8kpaW5uhQ27my3bsTAY4BHCPE3LpOhuICgIEDB1rVsAfGrLxmzRqhPHjw4PpH2L59e9t8Uxprrl26dKm2ttahp7Ddzz//bPXbIIT069ePldm7DcJ/GPZ8QdgSAPr17cvK6efOWV6CvvrqK8tjAsCdd94plMO6dLFcu379+lZ+CoQsuVoiZI/6rCqHDRvGni4IAGDx4sXCYv0uD20Ra3vF8zy7F3oMoGzvbrHDaS0A2LVzp1VNg+VRI0cCwLfffssWFy9eXFRUJGymUqmELZcsWTJv3jy7h1o/S/Xo0cPG/5Y2/o3b+kTInqdandoyM0kkEsswdDqdsIq9esj4+/tzHCd8Ma2C79Spk7BXRkaGUM++4N5eXq38FAhZ6tBXfFRfkq8Pexx4euAAsWOxD6j7itvHH38sXMezsrKsrunjxv1za9Tb21uo53lebXG/PTAw0BHvsVllKXYXsbq6mi0SQpp4ZwAAJk2c2NJTIISoS74+gW5O0ebNF2fPZuVYnschs9te+lpi2aWT4zj2LWWLV3NyuoSFNfaFJYRMmjjxp+3bW3QKhBC46usTqEV4XW2yyo2V+x48qI6PFzcexFBKL2ZlCYudu3QBgMzMTNbPuUGVlZWEEDZABELIRi471iiyUWrUQK3KjQK4DxmioRSzYDvBXlfv2rWrVf13333X2C7bd+zw9PT08PAghEycONGx8SHkQjARdlzlu3ZpCak5nQISSRyl/Y4dEzsi9A+e5wGAcNbf0MZe9UlJSREeeMyePfvnn39+7913HR4lQi5BqsVHQR0SBZgilW4D6LNrpzHnqpaQWLOZcFwCIRyAhtLCjRsvzZsXXVoo9fbXEgJSqcZoLP/tt/Tx4yPPprr17SdsaSwuPuHvPyj3orxTNy0hPMAQSnUXLpy+5ZbuG74KmDtf2JJSquW4rp99HPToE4kcB5TGUUrNZq1UGrjo0W5rP9OqVKDTsUliEwjxHndH7z2/aSUSyvNxlAKAlhCPkSP6HPjzTHRU7cnTbMtEQgiAhtLTPbrrL17S3NhSGhIcfe165oMzSrZ+JxyTAMRRmrN86fV3P2CPQrWEUIA4Sq/+3/9de+ON6KIiqZ+fEF5V0uE0TTz75bAvi4bSsr17M8aNizx1SjVwYKJEAjwfR6mp6PqJgE69//jD8/bbhS3NNTXH3d0jfv3V6667tDIZNZniKOVrKpPdPYOXLg177z1hS6t/IDYCC73REVoQHh7e4D9oZGSkUP766683b9783PLly+pNsQLNzdyJrGAvio5AyqlUYseAREABrtXWDgMIXbDw1GuvcSoVpZQASG/8fyBSKVWpgBAA4FQqkEoBgEgkkhuVEpWKXVAJIUSlAsKxLf+u5DiJSgUSCavkbmzJqVREIgUAiZsb8Dw7l0Sl4uQyACAqlXCZlqpUnEIOAJy7O5hMrJJTqTg2KKhCIfzXlQgxq1ScSgWUAiGcSiVRKgGAyGXClsKnA7ncckt2qSMyGSd8uhtjyBFOIvxyhOMQiYRTqYDjAECiUPx9TEI4y99YnY8sAQBOoYC/Xx4nRKUiMpnlllbYSwjFxcX+/v6W9Q8++GCD21u5LT7+r4MHG1ylwq88QnVhr9EOTcg6ly5dqv84CrUxqy6dhBCZTGYwGNhiSUmJn58fb1uHXrlcbjQa63+7sdcoQvXhM8IOjVL60UcfAUC3bt0aHJcOiei1V1+1TGZ+fn4SiUTIgmwQalZmkyMKO27ZvNloND766KNtHDBCTgpbhAgopUqlkrU8srKyunfvLnZEHVT95hqbpUhYtPy2CoMoAUBeXh6bhlMQFRV18uRJW06BEML3CNHfE8j99NNPU6ZM6dGjh4+PD5ufFomurKyM53m9Xi+VSq0Gp7ZMisHBwZRSo9FoMpk4jlMIjy0RAABc+Sm+Nj/R0WeJeMzg6FMgB8FEiP42efJkSinHcaWlpYSQ06dODRg4UOygEHAcZ2P3FplMZpUsEUN5k6OzVPpa7IvrxPAZIaqD5/mfftwGAAOjojw9PcUOByGEHA4TIbI2afJ9lFJ3d3c2XleDj5oQci7YGQI1AW+NooZVVVUdPHhwxIgR0dHRvr6+xcXFYkfUIeAdNgepPzRBcnIym/Jw3759UVFRTez73//+d9myZdXV1Uql8tChQ1ZzYyEXgIkQNeq2226jlLq5uZWUlBBCEhMSNHFxYgflyuzYn1MqlbLRSnNzczt16mSvwzovru5gdT179szKyrpzwgQKMGjQoO7du2dZjG9uKSEh4YEHHujRo0dERMSZM2fYiOfYvnQxeGsUNaOmpmb//v0AEDdkiJ+fn9jhIJuYTKZNGzcCQGhoaNPNnY4pKyurqKho565du3btysrKunjxYmNbDhkyhFKamZn5+++/5+fnnzlzBgCqqqraMFjkcJgIUfNGjRpFKWWvVRBCDh8+LHZEqHkPzZlDKZVKpadPnyaEdPBrt2UbTq1WE0KEv+rYi7OxsbG2HKd///4AkJaW5oAYkWgwESJblZSUHDlyBADi4+N9fX3FDgfZxGg0vvPOKgDw8PC48847xQ5HPBaJsLq62mrKRi8vr+TkZFsO89RTTwGARqOxb3RIXJgIUQsMGzaMNQ3Zu4bHjhwROyLUvOeeW87zPMdxu3fvZoMniB2R+CIiIiwXrUY2r4/c8OOPP9Ibg8Ujl4GJELVYSUnJ0aNHAWDY8OHYNHQKhBCz2fzEE08AgFKpfOSRR8SOqK1ZdRmVy+VNrK0vKSlJq9WukfhYDAAAIABJREFUXLkyNzdXVndf5AJwrFF08/z9/dlrFfv27RszZozY4SCbCBd9g8HQQUaiyf5haPiUo2AxXnlYWFh2drawQXBwcH5+vo0XQ0LIc889984771hW4iCuTg1bhOjmFRUVJWm1ADB27Fg3Nzexw0E2oZTeOWECAMjl8v976SWxw2krFm0+uVx+5coVy5X5+fmhoaG2H2z79u12Cwy1A5gIUasMjo2llPr5+dXW1mKHUmexc9cunU4HAG+8+WYHmbCet3iwx/6XCu0/VtiyZYvtR4uJibZrdEhkmAiRHRQVFbGR2OLj4z08PMQOBzVPoVBQStk7A4SQL7/8UuyIHMvyhXr2qYUaqVQKACNGjBA2IIQkJSUJO6589VVW3v7Tj+zvhm+/3domUaM2gokQ2UdUVBTrUFpVVUUI+eGHH8SOCDVPq9VWVFQAwIIFC1g+6CDYkEmsI6hKpWri6eDw4beufO01tuXkKff5+flhvwrXg4kQ2VNJScmZlBQAmDp1aoe6sDovDw8PSmlERITZbCaE/Prrr2JH5BD133morq6mlFJK6w81ILSVAeDgwUM8z9MbioqK2iJc1LYwESI76x8ZSSkN8PdnF1bsVuAU0tPTqysrAeCee+5xyb9gsBmHmoCJEDlEQWFhRkYGAEyePFmpVIodDmqem1pNKfX09GR/wSQmOnxK97ZEOLzWoUa54J9+qJ3o1asX61DKRihds2bNk08+KXZQqBnl5eVnzpwZMGDAkCFDwIUaUrweb2miRuEL9cjhrly5Eh4eDgCEEB6Hp3ISnp6elZWVAJCdnR0WFiZ2OK1ScWGrofIKoWZKpEBNQKRAjUBkf//kDcDJgdcDp7jxUwcSFZhqQaoCUw1I3cBUQ6RutM7PWiJVUXMtkagobyacxG/QMrE/KLpJmAhRGwkKCiooKACA999//9lnnxU7HNS8I0eODB8+HAA6d+6ck5MjdjgIOQomQtR2rl27xsbv4DjOYDBIJBKxI0LNoVShVBoMBgDIz88PDAwUOyCE7A8fIKO206lTJ0ppz549eZ6XSqVLly4VOyLUHEL0ev0333wDAEFBQZGRkWIHhJD9YYsQiaCivNzL2xtuzIrQQUb5cnbCP1N5ebmnp6e4wSBkR9giRCLw9PKilPbo0YNSynEc9iZ1CpTS5cuXA4CXlxdONoJcCbYIkZjKysp8fHxYWa/Xy3Gmt3bPbDbLZDJKKSHEZDRy+KAXOT9sESIxeXt7U0rj4+MBQKFQPDBjhtgRoWZIJBKe5x966CFKqUQqXbx4sdgRIdRa2CJE7QV7BEUI0ev1HWTCWKcmNA05jtPr9S45MBvqILBFiNoLSuno0aMppXK5fPr06WKHg5rBmoZjxozheV4mk61cudJeR7777rvZbA++vr7sRMK42JZlADhw4IDwEo5EIjl79qzlcZ5fsQJf0UG2wBYhal/0er0wLU51dTVOfN/+8Twv5Bue51vZB1ilUul0upKSEh8fn8WLH9+27YeCggL2/8FgMLBpFIWN77777p07d7IaQkjXrl0vXbokrCWEpKam9uvXrzXxoI4AW4SofVEoFDzPz5w5EwDc3d0nT5okdkSoGRzHsT7ArLxhw4abPtSvv/6q0+l4nmddqD79dC0bjYh5+eWXrbbfuXNnSEgwK8fFxV2+fFlY5e/vr1arMQsiW2CLELVfQtuiqrLSXa0WNxjUrLy8vJCQEFa+uQsLIWTcuHF79uyxrAkICGDpsFOnTmVlZTU1NZZrz58/f8sttwBAUlKSRqNh5825ciUsPBwvbshG2CJE7ReldN68eQCg9vC46667xA4HNSM4OJhSykboJoQcPPjXTRzkl19+sap56KGHWOH69esLFy60Wtu9e3dWEKbSBYCw8PA5c+bcxNlRx4QtQtTeUZ6XymRs2oqqqip3d3exI0LNyM3N7dy5MwCo1Wo2hYWNCKlzRWJPH4Uaq7WHDx+Oj4+3rCGEvPDC84WFRV988QVe2ZDtsEWI2jvCcWazmY0+o1arJ0yYIHZEqBmhoaGUUg8Pj6qqKkJISkqK7ft+8cUXQlmpUDSxJXv91FJQUNCXX371xRdfpLbkjAhhIkTOYc2aNexv/D179hBCLPvQo/apoqIiOTkZAAYOHOjl5WXLLt7e3gsXLpwyZcqHH35ICJkzd67VBnK5vLS09NLFi4QQjuOioqIs1/7f//1fQUEBx3H9cHBw1BKYCJEzoZSyOSs8PDxGjx4tdjioGTExMZRSqVRaUVFBCMm26NXZoNLS0tdff/2XX375448/jEbjpk2bPDw8hLWJCQlGo9HX13dQdDTleZ7nH3/8ccvdWWdjnU7niM+CXBg+I0ROib3NDfiuoZP48ccf77vvPgAIDg6+fv26LbuwB4SFhYX+/v42noUQEh8ff/DgwZsPFHVI2CJETslsNrO3ytzd3dks6qg9mzJlCs/zcrk8Ly+vsTvblOcXLFjA/jT/97//LZFIBg0aZHsWjImJAQDMgugmYIsQOTf2NjcA6HU6eZN9K1B78NVXXz3yyCMAEBcXl5CQYLkqPT29f//+ZrMZADiOS09L6xURYcsxFy9evHbtWolEYjKZHBEzcnmYCJHTe+2111555RVo6NqK2idhqITKyko1DpWAxIaJELkI4dqKTw2dwtNP/2v16jUAMGrUqP3794sdDurQMBEi17Fq1arnn38eACIj+6eknBE7HNQMNoUTK5tMJpwpAokFO8sg17FixQrWlfTMmVRCiL62VuyIUFPYSDHsNRipVPrkk0+IHRHqoLBFiFzQhx9+uGTJEgDo06dPWlqa2OGgZtTU1LCR8wghZrO5lRM5IdRS2CJELuiZZ56hPA8A586dI4Tk5+eLHRFqipubG6X01ltvZTdLP/n4Y7EjQh0LtgiRK1u79tPFi58AgOCgoOt5eWKHg5pRVVXFhpKRSqUGgwGbhqhtYCJELo5SKsxgUFxc7OvrK3ZEqBnh4eFXrlwBgO+++27atGlih4NcH94aRS6OEMLz/ObNmwHAz88vNDRU7IhQM7Kzs3OvXgWA6dOny2QyscNBrg9bhKgDEW61nTlzpn///uIGg5rl7+9fXFwMAImJiRqNRuxwkMvCFiHqQCil33//PQBERkYqcDy2dq+oqOjUqVMAEBcXhxMyI8fBFiHqiJQKhd5gAICUlJRInLuu3fPy8qqoqACAq1ev4s1tZHfYIkQdkU6v37t3LwAMGDDAxjljkYjKy8vZtBKdO3cODw8XOxzkarBFiP6/vTsPjKLK9gd+TlUv2XdIWIVESeKwiSiLDKAysvhGwBFUIqCggOigvDdvxoWHCMg4MG6AiIj+UEARXHCL4rgAI4OAyCYSQIyQsASykRDSS3Xd3x9X2qaz0Fk61d35fv6Z27drOcFJnZxbVfc2a1ar1eFwENEXX3yBlX4DnRDKhQeAT5w40apVK6MDghCBihCaNbvd/s033xDRoEGD3PNeQoBi1nV9xYoVRNS6deu0tDSjA4IQgYoQgIgoJiamvLyciD777LPBgwcbHQ5cwm/rUNrtFovF6HAguOFPYAAiorKysn379hHRkCFDrFYr/kAMcLquz5w5k4isVuuNN9xgdDgQ3FARAlzE/e7a2rVrR40aZXQ4UBtN0ywWi7yIuTRNwUJOUC+oCAEuUlhYmHfsGBGNHj0ac10GOJPJpOv65MmTiUg1me655x6jI4KghIoQoHqtWrU6deoUEa1atSorK8vocKA27jV+mdnpdGKNX6gTVIQA1Tt58qRMhHfddZf70QwITHKN3wEDBgghTCbTI488YnREEExQEQJcQlpa2s8//0xEy5Ytu++++4wOB2pTXl4eExNDFyZbNzocCA6oCAEu4ciRI3a7nYgmTZrUwDE3u93OF5P98+fPr7afiLKzs5k5++OPZT8GaWsXHR0thMjIyBBCMPPKN94wOiIIAkiEAJcmH01MTU3VdZ2ZlyxZUo+DlJWVhYWFTZ8+XVwwbtw4+VVeXp670+VyEdEzzzwjv3ruueeIaNzdd8tvV69e3Ug/Uyg7cOCAHNYeN348FnKCS8LQKEAdFBcXJyYmEpGiKDJj+Y6Zhw0b9sknn/iyZbu2bY/l5dGFpaPwe1o/bdu2PX78OBF988031113ndHhQIBCRQhQBwkJCUKIbt26ydLwheef93HHL774gohqyoIbN25UVdVzXPTZ555zf/vVV181OPBmKj8/Xy52369fP8yuDjVBRQhQH2VlZfLCajKZnE7nJbcfMGDA5s2bq/11y8jIOHjw4L59+zIyMkwmE114BlJ+y8wulwvzoDaQqqry2ZmdO3f26NHD6HAgsOC3C6A+YmJihBA9e/bUNI2Z58+fX/v2ubm5Nb2ef/DgQSFE586dZRb0rBrPnTtHRMiCDedyub7dupWIrr76apSG4AUVIUCDlJSUJCQkEJGqqpqm1bTZtGnTFi1aVPXXzel0uicJkzxvCnbo0OHo0aP4JW1E4WFhNrudiIoLC+MTE40OBwIC/tIEaJD4+HghRO/evV0uFzPPmzev2s0WLlxIRMw8cuTwcePGMfPEiROJSD7TyMz33Xdfp06dZBZMvHCBPnr0KB7xaFyVNpusuROSkjp16mR0OBAQUBECNA5fHihdu3bt9OnTIyMjV61ceW2vXu7+rKysTz75ZM2aNUOGDNmzZ09ycnJKSgoR7dmzp02bNklJSU3zIzQjQpjMZvmfqaysLDo62uiAwEhIhACNaeDAgZs2bSKiGTNmzJkzx+hwoDbLly+XUwX17Nlzx44dRocDhkEiBGhkZ8+ejYuLo3q9awhNj5nNZrPD4TA6EDAM7hECNLLY2Fh511C+a/jQtGlGRwS1EUIgCzZzqAgB/KW0tDQ+Pl62ZVI0Nh4AqBYqQgB/iYuLE0IMHjyYiBRFuffee42OCACqgYoQwO9sNlt4eDgRMbPD4ZAvzkPTyP/4Zs+PQrhIuIhV5qoLiehCuIiI2UTkXb7/uqOiMnnvGH3FHbHpYxs3bGiIP//5z4sWLfJ9e/xCAvhdWFiYEEI+UGo2m0eNGrV27Vqjg2ouzh3Lzpjqxz/3HSU5ZYff9N/xoU6GDx/+4YcfElHvXr2y7rrLx72QCAGayMaNGysqKqKiotatW8fMTrvdZLEYHRRAiOjdu/e2bdtk+9133rn1T3/yfV/cIwRoOpGRkUKIUaNGEZHZah0yZIjREQEEN5fLZbFYmFlmwdzcXCFEnbIg4R4hgCF0l0u9cKfw3LlzkZGRxsYTwnKWcNWh0fnz57/zzjuZmZmvv/567bu//PLL69evLysr69Wr17PPPlt1Azk0mnTt7EaLuBk7vWW6s+wX37ff/NUnJ8siZLtH9yuv6JDsy15thr7v1YNECGCYO+644+233yaiq6+++rvvvjM6nNBUNRHK91jatW178tQpTdNsNpvVaq12X7lleHg4M58/f56IPvjgg1tuucVzG3vJgfLDbyZdi1mEGkHu2u4dR+/26ymq/cMIQ6MAhlmzZo3D4WDmnTt3ui+14FeDBg0iIiHEsbw8p9MZHx8fFhZW08ZCCCHE+fPnKyoqhBAWi2X48OFe2zBx1UdMIbggEQIYyWw267r+8MMPE1FkZGTXrl2NjijEffnll1deeaX7Y3FxMRFVVlb6su/ixYur7ded+AsmuCERAhjvueeekzcp9u3bx8ynT582OqJQVnV+7W+//daXHadOnSrfB/WimCMaISyogaZpd99995AhQ+R09rXYtm3b/ffff/3110+aNKmsrMz3UyARAgQKIcSjjz5KRMnJye3btTM6nBDk0jQiqjqhwfr162vZS1EUVVWZOT4+vurwtSBBhCct/OXVV181m82vv/76v/71r4EDB6pq1WkQfrVs2bLevXsvXbp048aNr7zySmxsbKLPCy8jEQIEkHnz5rk0TVXVvPx8Zi4sLDQ6opCiqCpdeATGU2lpaS17LVy4cO7cOSkpKWfOnFm2bJnXt7hH6Ff33nvv6NGjhRAul8vhcOi6LtdVrmrSpEnCw+LFi4uLizVN8+UsSIQAgUVRVU3Tli5dSkQtWrRITU01OqLQIVNg1bWxevToUcteDz744KOPPnby5Ml58+ZNnjzZj/HBxbZv305E8slqIjKbzYqi/PGPf/Rl3wceeICIjhw54svGSIQAgWjy5MnyrmFubi4z5+bmGh1R6HjnnXe8eny8tsqB67NnzzZ+TM2eEKJly5a7d+/17Bw2bJjXZr179/Lxlb///d//JaL09HRfNkYiBAhcQoiXX36ZiFJTU1NSUowOJ0SMHfvbBNnyHXkfy+6ioiIi8pr9ALcHGy4iIkJRlDNnznj9axYVFXmNY99336TaD2U2m00mEzP/85//rHaZSaFVM46NRAgQ0OSdD4vFUlBQwMy5P/9sdETB7ejRo0Q0Z84cIsrPz/+f//mfG264wf3t6NGjPa+8mZmZOTk5sr18+fKkpKTw8HCvZ22YSAifbkSBl59//pmZmbmysjI6OlrTtO5XXfT6ELP3lC8JCQm1H/P//u//Hnvssd69exNRu7Ztq27Apmr+dEEiBAgCdrtdLliRmpbWsWNHo8MJYu3bt9+5c+fMmTOZuV27dt26dfvyyy9r2jgnJyczM1NerO+7774+ffpUO+kBM1YvqJvc3FxFUdLS0ohIURSHw1FWVlb1idCqo6CXfNFl5syZs2fP3rp1q91uLzh9+qOPPvIlHiRCgOAwatQoWRr+8ssvzHzo0CGjIwpWPXr0cD9buHv3RRN6rV271vPiKy72n//8p9oD6i67fyOuweWXXx4TE2PIqevt0+xsZk5NTRVCdO/eXT4Oajabq9144sSJXj1PP/20jyeyWCxEtGDBAl82RiIECCZ2u339++8TUXp6evv27Y0OB4iIFLX6qUr97ciRI4MHDzbk1PXw+OOPM/Owm28moj/+8Y9CiF27dtW+yzPPPOPVI4TwHMq+pP79+/uyGRIhQJAZPmKEECIiIiIvL4+Zf/zxR6MjAmMIIdatW2d0FJc2depUZp43bx4RTZw4QQgh1869pNjYWLnEktPpJKK+ffsSkedQtuc0TKqq7rlQ3x8+fEhRFCKaO3eu1zGFCw/LAISKiooKeTX53e9+17a6hwIgtNlstptvvtmzZ+LEiUlJSTExMV26dPEa8jVKr169mPmll14iorVvvy2EWL781TodwW63M7NMh1u3bpVzw1YrISG++1VXyRu6nTqlCyH0Ki+MEhGr1Twsg3u8AMFKji9FR0cfP36cmQ8ePNipUyejgwo41oTOuWu6+PUUcZ3v9+vxq7V927bs7GzZFkKoqhobG/vss89GR0fPmjWrT58+Ps4k7g9CiDZt2pw8eVJ+3Lxp0+99G6Kslq7rtZzI3T5zpv7TMCERAgS38vLyzz//fPDgwenp6a1btz5+/LjREQWWjnfsMzoEvxgxcqS7Lf8kKikpkR9vu+02g4IiIkpJSSkoKJDt/fv3e671EbAwNAoQ9G666SYhRFRU1IkTJ5j5ks8gQAgoKSmZMGGCbH+/c6fsMTCe0tJSOSxZUFBgtVp1l0sIERRZkJAIAUJGeXm5fI6gR48evs+7D8Fr2rRpsnHi5ElmTkhIYOYuXfw7DlxVfn6+qqrx8fFEZDKZzp8/b7PZWAnU5FLdOKv3e/sAEOyio6PPnTtHRAdzcjr5NtciBJ2qs64Q0a5du+QE4k1zYT929OhlHTrIdmJiYsMXSzn++R22U1sbHFet1LC0rINefUiEACFo8+bNAwYMIKKEhAQ5QyaEkvXr148cObKmq3e1ObJxLVu2zL0QR//+/S+5ZG6AC9TqFQAaoH///vJdw+LiYmb2cQV2CBZz5sxRLow9Dh061L2eohCCmauuPNy4p2ZmmQX79esnhAj2LEhIhAAhrKKiYsuWLUTUp0+fqKgoo8OBRvP99993795dtv/973/Hx8fLB1UURenYoYN8/bzRjR07lplnzpxJRLNmzRJC/Pvf//bHiZoehkYBQp/FYpEXxy1btsjpOQB8l5yc7J7AZf369cOHDzc2nkaHRAjQLHz33XfXXHMNEUVERFRUVBgdDgSHtLS0ny+s/PXll1/WaZ7PIIJECNCMxMTElJeXE1F2dvbQoUONDgcCl9ls1rRf11l0Op1+ve9oOCRCgOblYE5ORmYmEVktFpvdmPWDIGCdOXOmVatWLpeLiFRVLS0tbQ53l/GwDEDzkp6RIYSIjoqyOxzMvHrVKqMjgoDgtNtVVW3ZsqXMgk6nU9O05pAFCYkQoHkqKy+XS/veNXas2WwmjAw1Y59+ms3MlrAwXde7dOkiVyEO7bFQL0iEAM3UFVdcIVcJ0DSNFeXFF180OiJoai+//DIzDxt2MxF17txZCLF3716jgzIA7hECNHdFRUVJSUlExMy1LHkDoWTGjBlPPfWUbN91110rV640Nh5joSIEaO4SExOFECkpKXJeEvf1EULSdX37uv8rv/baa0KIZp4FCRUhALgVFBSkpKTItsvlUgJ2AQGol6uuusq9cv3q1avHjBljbDyBA/9HB4BfJScnCyHk8gWqqv7tb38zOiJoHK1bt2ZmmQVzcnKEEMiCnlARAoA3zek0WyyyHfIvU4ewsrKyuLg4eZE3qWpxSUl0dLTRQQUiVIQA4M1kNgsh5JRsZrP54YcfNjoiqBt7ZaXVao2NjZVZsLS01KlpyII1QUUIADU6d+6c++qJ0jAo5OTkZGZmynbr1q2PHz9ubDxBARUhANQoKipKCHHzzTcTkdlsnjp1qtERQY3WrVunKIrMghnp6ULXkQV9hIoQAHzCzLJht9stF+4gQiBYsWLFPffcI9vdu3fftWuXsfEEHVSEAOATIcQtt9xCRFardfz48UaHA0RE48ePZ2aZBWfMmCGEQBasB1SEAFAHmqZZLBZ53XA4HGaz2eiImqm+ffts3fqtbL/wwgvTpk0zNp6ghooQAOrAZDLpuj527Fgislgsd6M0bHLdu3dnZpkFs7OzhRDIgg2EihAA6gl3DZuS0+m0Wq3yis3MRUVF8fHxRgcVIlARAkA9CSEmTphARFarddSoUUaHE7JsNlt4eLh7RDo/P1/XdWTBRoSKEAAaSlEUeSXBu4aNy263h4WFybbZbHY4HMbGE6pQEQJAQ+m6PmXKFCIym8233nqr0eGEgo0bNzKzzIIdO3bUdR1Z0H9QEQJAIxGCLyxYgQtLvW3cuPH666+X7bjY2JLSUmPjaQ5QEQJAI2EWQsiJSZlZvnQIvvv7U08xs8yCWVlZQghkwaaBihAAGpmu66qqyjbeNfTF0KFDP/vsM9l+4oknZs2aZWw8zQ0qQgBoZPLZmb/85S9EZLFY3AN9UNWNN97IzDILLnnxRSEEsmDTQ0UIAP7icrncD5HiUuMlISGhpKREtg8fPnz55ZcbG09zhooQAPxFVVUhxGOPPUZEzNyvXz+jIzKe3W6PjIxkZpkFjxw5IoRAFjQWKkIA8DvPu4alpaWxsbHGxmOU8PBwm80m2yUlJXFxccbGAxIqQgDwO3nXcPbs2UQUFxeXnp5udERNav/+/YqiMLPNZmvZsqUQQgiBLBg4UBECQNO56IFSu90c6jOUbtu2rXfv3rIdFxdXWFjo/vEhcKAiBICmI0vD+fPnE5HFas3IyDA6In959913mVlmwb59+wohSkpKkAUDEypCADCA0HXlQlY4duxYu3btjI2nEU2dOvWll16S7SlTprjbELBQEQKAAVhRhBDLli0jovbt2yckJBgdUSO4/fbbmVlmvkceeUQIgSwYFFARAoDB3ItX5Ofnt2nTxuhw6qNHjx67du2S7U8/+WTIsGHGxgN1gooQAAym6/qaNWuIqG3btsnJyUaHUwculysqMpKZZRY8cOCAEAJZMOigIgSAQGG1WBxOJxHt3r27W7duRodzCZ5Twxw5ciQ1NdXYeKDeUBECQKCwOxzZ2dlE1L17d0ugvllRVFTEzHJqmIiICN3lEkKERhZk5uSWLWvfoMmCaUpIhAAQQIYOHSqECLNanU4nM+/YscPoiH6zf/9+VVWTkpKIKC4uzul0VlRUuJdgDA3fbttW01d5eXlNGUlTwtAoAAQi9/q0ERERFRUVxgazb9++rl27ynZiYmJhYaGx8fgJM2ua1gxfdgypv2UAIGQMHDhQCBEbG3P+/Hlm3rRpkyFhPP3008wss+Ctt94qhAilLDhgwAA5zDt79uzy8nIicmdBk8n0ww8/TJk8WW4ge1q0aEFEs5980r2oiJvZbB48eLD7Y+/eveWsclFRURdtJ0SnTp2YWVEURVECZIkuVIQAENBO/7Sx+HO/Xy4zpnpfCT3fix8z5s7Vq9/0dwxNjJlVVdU0jYhMJlPr1q3z8vLcGUHmsMTExF9++WXDhg2DBw9m5jdWrBg7frzL6TRZLJ6546033xyTlSV75Cx6MTExZ8+elUd2uVyeh+3evfvO775TVPXs2bPp6emnTp1q6p+8KgEAEMBcjnM/r+nq11P8tLKj58fhw4e7r5AvPP+8X09tlPbt23td/4moZ8+esl1QUEBEixct8tqgrKzM3T58+LD7K2Z+88033V/16NHDa0eZYp944onATDoYGgWAQMeK2b8nELr839iYGGb+4IMPiGjv3r1CiGkPPeTfUxvk2LFj33//vVfnAw88IBsDBgwgogcefNBrg+joaHd79erVsiHT3p133klEctx4586dXjvKsi8lJYWIxo8f30g/RKNBIgSAZo/VlJQUZi4rLyeiHTt2CCG6dOlidFj+IlPgVVdd5dV/9913y8aRI0e8vp08aZLnR2ZevGgREQkhdu3a9UturuyXN1P5YkQk/zGnTJkyZcqUN954Q/a/+WagjDYjEQJAQGNF1bXzXp35+fkmk0leT/fv31/7Ef7xj3+EhYWZzbWVlXIw0GazCSF69uzZwJgDnCx5Pa1qj9//AAARiElEQVRcudLzo9PpnD59umfPe++/39LjFcMBAwYUFhURkXyZ5LIOHWR/SUlJ167VjGNbrVa5wUsvvSSEELreokWLrKysxv7J6gmJEAACmtBdrFz0jGJRUVG7du1uv320EOLBBx/s3Llz1bE4N2Z+5JFHrFarfCqkppO4NM3zeh3aqi6MPG7cOK+esWPHen4sLCx014tE9M66dUSk63pxcbGu6+7+iIiIvXv3XjoC5tOnT9cxaj9CIgSAQMfKRbPMJCUlRUREyMc4Fy1alJqaWksNJyuS4uLi2k4ghNKcXp4bM2YMEUVERMiPysVzAuzevbvavf7xj3+42/EJCUSkqqp8AcPdfzw/ny7cCyQip9Ppbs+cOdM9/44QQgmkiQgCKBQAgGoJ4V3Mbdiwwd3++uuvG3qCEJ05rBaHDx+urKxkZrPJ5NI0Ilq7dq38asmSJV4bnzlzxqvHncY2btzo2R8WHn7gwIHTp0/LUWuLxXLddde5vz1+/LjsVxRl6v33i4B5eQ/vEQJAQNOdFb+8c23qnb/eCDx79mxcXJzXhYuZc3Jyqo74ublcLpPJVNPl7siqtLS7jjRizBBcUBECQKBTTOHu9uHDh6vdpurLAAA+QiIEgMB28bBlTQsgVJ30C8BH+L8OAAQ0JhbC5f7Y7cLk1176//739T+H0EN1gaHmLDk52cf525AIASCgCSGYf3uk02Q2E9F77717661/kj179uwhopa1LqR3CawsXbq09hcNIeiEh4dfeiMiQiIEgGD0pz/d5n7yRb474V4X8NChQ6qqpqWl1emAkydPbtwIIYjgHiEABLSqg5byDe6kpKQ1a9ZcdtllmqbJhQ6k9PT0fv36uT8mxMcnxMfLCVBkOyE+vkkCh6CBihAAApque7/zwMxCiI4dO2ZlZbVq1crrpYiePXsmJia6P6ZdfnlTRAnBDIkQAAJaTVOQ5F6Y6NnLjh07avkIQSFnSVM8u+RehBKJEAACmhD6pTeCkFN1qeTG9dPrbdxt3CMEgOZOuETVBRkgxHmMqKMiBIBAZzuz099jZSPuHsHMv/z8c/sLKwpBqEMiBIAgoZgj/T1KRkR3bR27atWqyzp2JKIDBw5kZGT4+4xQV3369N62bbsQYsaMx+fMmVvTZsOGDfO6f/zhhx9eccUV3tt5PI2MoVEAAFq5cqUQQl4uMzMzFUU5f957NWAwEDNv27a9oqxs1apVc+c+1a1bt5q2zM3NPXjw4AkPNSxF+VsiREUIAPCrQ4cOEVGvXr22b98eGRnJzGVlZVFRUUbH1dz97W9/owvvj2ZlZfXt0yc1Lc3lcqnVriIpRHh4uOerpZeEihAA4CLbtm0TQqiqKoSIjo5mZs9F2KHpzZ8/32q1uj92TE0lolmzZlW7saA6D6QjEQIAVEPTNCGEXGBdVdXIyEikQwP16dPHq2fu3OpvEzKxzWaTKwB37tzZlzV3kQgBAGp08uRJl8tFROfPn1dVFRNzG2Xo0KG+bspsNpuXLl06derU/fv3K4qyb9++2vfAPUIAgNooiiKEcDgcERERmqYxc5s2bfLy8rByU5PyeV6FAwcOuNsvvvgiM3ft2rVqXSiceGoUAKAuLBaLpmmVlZVEdPz4cUVR5KgpNI3PNnxevx1LSkqq7WfTb4tcIhECAPgqLCxMCFFUVKQoSkFBATP37dvX6KCaha1bt3r1PPnkk77sKGq8s4uKEACgvhISElwuV8GpU0S0detWZu7evbvRQYWyv/zlLzabzf2xqKiIiB5//HFf9k3wWIrkInihHgCggVomJwsh9u/fT0R79uxh5okTJhgdVGhasGABETHzd99999ZbbyUlJXXt2tX9EuGwYcM879cy8z333PPhhx+8+sorcumSf31+iWFVJEIAgPq78sorhRB79uwhotf+3/9j5qysLKODCkFCiLZt215zzTVjxoxZsGCB/Aev1ujRo1asWDF8+Ih7J02yWq0VFRWD/vCH2g/OvrxjAQAAl/TBBx+MGDFCtl944YVp06YZG0/wylnCTbAM0+Xjj8s2KkIAgMYxfPhwIcRHH31ERA899BAzL1y40OigoHq6/bf0h0QIANCY/uu//ksI8dhjj9GFdLjx66+NDgq8KdbfnibF0CgAgL88/fTTjz76qGx/88031113nbHxBIucJRyV+ie/nqLi6Mfpk399EhWJEADAj4QQw2+55aOPP5Yf9+/ff+WVVxobUuDTXZqu2RQWVHX6Ht1JukaKmZQqM6MJnXQnEZNq9nxNsKYdFfOv64ogEQIANIWRI0euX7+eiBRFOZ6Xl9K6tdERwa+QCAEAmk6XLl1++OEH2T5z5kxSUpKx8QAhEQIANL309HS5CLDJZCotLY2MjDQ6omYNiRAAwBjJycmnT58mIkVRKioqwsLCjI6omcLrEwAAxigoKNA0LSEhQdf18PDw6KgorP1rCFSEAADGCw8Pl/NKK4ridDrlJJnQNPBvDQBgvMrKSofdbjabdV1XVTU1NdXoiJoRVIQAAAFECKGqqrwyW61Wz+WHwE9QEQIABBBm1nW9oKCAiOx2OzMPGjTI6KBCHCpCAIAApWma2WyW7WuvuWbb9u3GxhOqUBECAAQok8kkhNj6n/8Q0fYdO5j5/vvvNzqoEISKEAAgCOTk5GRmZsr2nx98cOGiRcbGE0pQEQIABIGMjAwhxOuvv05EixYvZuYXXnih0c/y1ltvderUqdEPG+BQEQIABJk1a9bceeedsr169eoxY8Y01pFjY2NtNpvdbm+sAwYFVIQAAEHmjjvuEEL89a9/JaKsrCxmzs7ObpQjl5WVjR41qh47fvrpp1u2bPHs2b1790cffVh1rpwzZ85kZ2d//vnnmtNZ/0AbFSpCAIAgNn369Oeff1629+7d26VLl3ofii9e/E8IceDHH6/83e8804TVanU4HLLH6XRaLJbRo0evXbuWiPr27btlyxZmzs/Pb9u2redxajrFwYMHA2EkFhUhAEAQe+6554QQt912GxF17dqVmfft21e/Q8mMJS4gooWLFnmlLofDMWHCBNm+4447iGjv3r1ye3dFmJqa6nmQjIwM2c/MvXr1Eh4CIQsSEiEAQAhYt26dEOL666+nC+mwuLi4rgd57913vXqWLl0aHR3t1Tl16tRft3/vPSI6cOCA+6snn3ySiDxvMTKz57yp11xzTV2jagJIhAAAIeKrr74SQlx11VVElJiYyMxyhhofLfjnP6t2rlq1yqvn6quvdrdnzZrl+dWiRYsiIiI8e4QQCxYskO2+ffosXryYmadNm6Zpmu+B+RvuEQIAhKDLLrvs2LFjRGSxWGyVlezDchZy6PLbb7/17CkvL4+KipIfX3vttYkTJ7qzBjM7HA733DeyJysryzN3Ml+UZTRNe+qpp2T6nHDPPa++9lqDfshGgkQIABCy2rRpc+LECdk+f/58eHh4LRszc1FRUUJCgmePZ46wmM2CyOl0EtGpU6datWrllUGYuaSkJC4uTn48dOhQenp6tVmmRYsWRUVFAbL+IoZGAQBC1vHjx12aFhYWRkQREREtWrSofXuu0uNOY9OnP+zUtA4dOsiPTz/9tNeWDoeDiNxZkIj+/ve/u9teg7SFhYWdO3f29cfwMyRCAIBQpqhqZWWlECI6OrqwsJCZIyMiaqrSEhITmdnzSVFFUWTPsaPHiCj7k09k//Lly00mk+fub7/9ttcBV6xY4a4vU1JS2ENkZOTevXsb8cdsCAyNAgA0F2fPnnVXbJmZmT/++OMld/n88w26LoYMGVLPUwpBF9Jqbm7unj17wsLCbvrDHxRVrecB/QCJEACgeRG6brZYXC4XEaWnd8rJOWh0RAbD0CgAQPPCiqJp2pEjR4jo4MFDzHzTTTcZHZSRUBECADRfBQUFKSkpsj106NDGmrM0uKAiBABovpKTk4UQmzdvJqJPP/2UmR944AGjg2pqSIQAAM3d73//eyHEtm+/JaIlS5Yw85w5c4wOqukgEQIAABHRtb16CSGWL19ORDNnzmTmFy6saxHacI8QAAC8vfTSS+7JtTds2BDaT9OgIgQAAG/333+/EOLRRx4hosGDByuKEsLP0aAiBACA2owbl7Vy5ZuyXVhYmJiYaGw8jQ4VIQAA1OaNN1YLIUaOHElESUlJzOy5BmEIQEUIAAC+yszMzMnJISJFUeTcNCEAFSEAAPjqwIEDQoiePXvqui6nzy4tLTU6qIZCRQgAAHUmhAgPD7fb7UQUHh5eUVHhuWZFcEFFCAAAdcbMNptNCJGcnFxZWakoSnh4uFyzN+igIgQAgAZxOBzh4eFyufnExMTCwkKjI6obVIQAANAgFovF5XI5HY7w8PCioiJmTkxMlHkxKCARAgBAIzCZzefPny8pKSGi4uJiVVUzMjKMDsonSIQAANBo4uLihBBlZWWqqh48eJCZu3btYnRQl4BECAAAjSw6OlrTtJ9++omI9u37gZlvvPFGo4OqERIhAAD4RVpamhDi6NGjzPzVV18x8/jx440OqhpIhAAA4Eft27fXdX3Tpk1E9MYbbzDzvffea3RQF0EiBAAAv+vfv78QYsOGDUT06quvMvPLL79sdFC/QiIEAIAmctNNNwkh3nj9dSKaMmUKMy9evNjooPBCPQAAGOGJJ56YPXu2bG/btu3aa681KhJUhAAAYIAnn3xSCPHXv/6ViHr16sXMX3zxhSGRoCIEAACD3XDD9V9/vVG2T548mZKS0pRnR0UIAAAG++qrr4UQw4cPJ6JWrVopipKbm9tkZ0dFCAAAAaRVq1anTp0iIkVR7DabyWz29xlREQIAQAA5efKkEKJz5866rpstFlVVy8rK/HpGVIQAABCIhBARERE2m42IVFXVNM1PJ0JFCAAAgYiZKysrdV1v0aKFy+ViZovF4o90iIoQAAACnaZpFotFJqzo6OjGHSxFRQgAAIHOZDLpui6EsFqt5eXlzNyuXbvGOjgSIQAABA2bzXb27Fkiys/PZ+Y2bdo0/JhIhAAAEExiYmKEEDIdnjhxgplvuOGGhhwQiRAAAIKPTIfHjh0joq+//pqZBw4cWL9DIRECAECwateunRBix/btRLRp0yZmfuihh+p6EDw1CgAAoWDr1q19+/YlorrmNSRCAAAIHXl5eXV9oBSJEAAAApjQ7cX7/HoGJEIAAAhcunb+yMrUqI63+On4Z398xeSnQwMAADSc0HVLXKdWA5f56fhnf3wFT40CAEDgYmZ/nwKJEAAAAlw1t/CErr/77ru2ykpf9s/Ozv7+++9r+hZDowAAEMCYqyZCRVGEEIqi6LpONb8vsXbt2ttvv92zp3///ps2bfI+WuMFCwAA0MiErnulqvT0dCLSdd3lcskUGBsbW9Pu2dnZ4oJnnnlm8+bNBadOeW2DRAgAAIGLFe88dejQoQkTJrjvHb7/3ns1rco0evTooUOHuj/+93//NxH1uPpqr82QCAEAIIAJUXVodOHChe72iJEjqS6zyfTr18+rB4kQAAACGDPRbw+O5ubmElFERITXVh999NEljzRjxgwiWrNmjVc/EiEAAASwi0u94uLiarc6VeXOn5dDhw499dRT8+bNq/o+BhIhAAAELqHrnh9btmxZ7Wapqam1Hyc9Pf3mm4c9+uijVb9CIgQAgMDFiuJ5j1BOqH3mzBl3j8vlIqJBgwbVdIRTp04x84gRIz7++JNqN0AiBACAAFbde4T33nuvu71sWW2zr2ma1qpVq7S01Pfff7+mbZAIAQAgwF10V2/06NEffvih0+mUH6dOndqlS5ffNmVOTEyU7bNnz5rN5n79+v3005Fajo5ECAAAgUvoulcifPvtt2NjYy0WCzMzs9ls3rt3b7X7zp07l4i++eYbvpjXZkiEAAAQuKq+UE9EpaWl7vliHA6H51dCiKKiItlesGCBqI7X0ZAIAQAggAlBpF96swZAIgQAgADn31SFRAgAAM0a+z4/GwAAQBNzOc4dXh7t11P8f3bcL7fAqxpYAAAAAElFTkSuQmCC)"
      ],
      "metadata": {
        "id": "hWnDoJDOxVbl"
      }
    },
    {
      "cell_type": "markdown",
      "source": [
        "in each predicting step choose the best B options. \n",
        "\n",
        "At the end, for each sequence give a score:\n",
        "\n",
        "for each token the model predict - do log of the probability, the final res - the SUM of all predicted tokens!"
      ],
      "metadata": {
        "id": "RlY4IpRlm4Gx"
      }
    },
    {
      "cell_type": "code",
      "source": [
        "import torch.nn.functional as F\n",
        "\n",
        "def log_probs_from_logits(logits, labels):\n",
        "    logp = F.log_softmax(logits, dim=-1) #log, softmax\n",
        "    logp_label = torch.gather(logp, 2, labels.unsqueeze(2)).squeeze(-1) # We then need to select only the token probabilities that were present in the sequence\n",
        "    return logp_label"
      ],
      "metadata": {
        "id": "x1ohpsLNUXM6"
      },
      "execution_count": 18,
      "outputs": []
    },
    {
      "cell_type": "code",
      "source": [
        "def sequence_logprob(model, labels, input_len=0):\n",
        "    with torch.no_grad():\n",
        "        output = model(labels)\n",
        "        log_probs = log_probs_from_logits(output.logits[:, :-1, :], labels[:, 1:])\n",
        "        seq_log_prob = torch.sum(log_probs[:, input_len:]) # sum the log_softmax\n",
        "    return seq_log_prob.cpu().numpy()"
      ],
      "metadata": {
        "id": "LL8xoHyBUXPU"
      },
      "execution_count": 19,
      "outputs": []
    },
    {
      "cell_type": "code",
      "source": [],
      "metadata": {
        "id": "0pCL53x4UXRg"
      },
      "execution_count": null,
      "outputs": []
    },
    {
      "cell_type": "code",
      "source": [
        "max_length = 128\n",
        "input_txt = \"\"\"In a shocking finding, scientist discovered \\\n",
        "a herd of unicorns living in a remote, previously unexplored \\\n",
        "valley, in the Andes Mountains. \\n Even more surprising to the \\\n",
        "researchers was the fact that the unicorns spoke perfect English.\\n\\n\n",
        "\"\"\"\n",
        "input_ids = tokenizer(input_txt, return_tensors=\"pt\")[\"input_ids\"].to(device)\n",
        "output_greedy = model.generate(input_ids, max_length=max_length, do_sample=False)\n",
        "#print(tokenizer.decode(output_greedy[0]))"
      ],
      "metadata": {
        "id": "APgELU3CXyH8"
      },
      "execution_count": null,
      "outputs": []
    },
    {
      "cell_type": "code",
      "source": [
        "output_greedy.shape"
      ],
      "metadata": {
        "colab": {
          "base_uri": "https://localhost:8080/"
        },
        "id": "oqBYIX0cYGXj",
        "outputId": "bd1cae5f-de4b-4baa-f3f3-d9293d276406"
      },
      "execution_count": 22,
      "outputs": [
        {
          "output_type": "execute_result",
          "data": {
            "text/plain": [
              "torch.Size([1, 128])"
            ]
          },
          "metadata": {},
          "execution_count": 22
        }
      ]
    },
    {
      "cell_type": "code",
      "source": [
        "logp = sequence_logprob(model, output_greedy, input_len=len(input_ids[0]))\n",
        "print(tokenizer.decode(output_greedy[0]))\n",
        "print(f\"\\nlog-prob: {logp:.2f}\")"
      ],
      "metadata": {
        "colab": {
          "base_uri": "https://localhost:8080/"
        },
        "id": "doe9VhokUXT4",
        "outputId": "6de07af2-7042-4e95-8bc5-f4a5f14ed9da"
      },
      "execution_count": 23,
      "outputs": [
        {
          "output_type": "stream",
          "name": "stdout",
          "text": [
            "In a shocking finding, scientist discovered a herd of unicorns living in a remote, previously unexplored valley, in the Andes Mountains. \n",
            " Even more surprising to the researchers was the fact that the unicorns spoke perfect English.\n",
            "\n",
            "\n",
            "The researchers, from the University of California, Davis, and the University of Colorado, Boulder, were conducting a study on the Andean cloud forest, which is home to the rare species of cloud forest. \n",
            "\n",
            "The researchers were surprised to find that the unicorns were able to communicate with each other, and even with humans. \n",
            "\n",
            "The researchers were surprised to find that the unic\n",
            "\n",
            "log-prob: -87.39\n"
          ]
        }
      ]
    },
    {
      "cell_type": "code",
      "source": [
        "# model.generate() - Generates sequences of token ids.\n",
        "# model() - calculate the logits for each token.\n",
        "output = model(output_greedy) "
      ],
      "metadata": {
        "id": "IyOxTIeUUXV8"
      },
      "execution_count": 27,
      "outputs": []
    },
    {
      "cell_type": "code",
      "source": [
        "output.logits.shape, output_greedy.shape"
      ],
      "metadata": {
        "colab": {
          "base_uri": "https://localhost:8080/"
        },
        "id": "lYYJhqg-Zaf5",
        "outputId": "77dd1306-b9e1-41f0-fc95-5ae8f511975c"
      },
      "execution_count": 28,
      "outputs": [
        {
          "output_type": "execute_result",
          "data": {
            "text/plain": [
              "(torch.Size([1, 128, 50257]), torch.Size([1, 128]))"
            ]
          },
          "metadata": {},
          "execution_count": 28
        }
      ]
    },
    {
      "cell_type": "code",
      "source": [
        "# We can also see that it is important to align the logits and the labels; \n",
        "# since the model predicts the next token, we do not get a logit for the first label, \n",
        "# and we don’t need the last logit because we don’t have a ground truth token for it.\n",
        "output.logits[:, :-1, :].shape, output_greedy[:, 1:].shape"
      ],
      "metadata": {
        "colab": {
          "base_uri": "https://localhost:8080/"
        },
        "id": "JNufJxaAZaiZ",
        "outputId": "70bbe0ed-cc36-4287-9553-bf1105b851da"
      },
      "execution_count": 29,
      "outputs": [
        {
          "output_type": "execute_result",
          "data": {
            "text/plain": [
              "(torch.Size([1, 127, 50257]), torch.Size([1, 127]))"
            ]
          },
          "metadata": {},
          "execution_count": 29
        }
      ]
    },
    {
      "cell_type": "code",
      "source": [
        "logp = F.log_softmax(output.logits[:, :-1, :], dim=-1)\n",
        "logp.shape"
      ],
      "metadata": {
        "colab": {
          "base_uri": "https://localhost:8080/"
        },
        "id": "qvHSMM6IZakK",
        "outputId": "5d4f2c67-e178-4a6a-adb7-73d2d0a6bd5e"
      },
      "execution_count": 30,
      "outputs": [
        {
          "output_type": "execute_result",
          "data": {
            "text/plain": [
              "torch.Size([1, 127, 50257])"
            ]
          },
          "metadata": {},
          "execution_count": 30
        }
      ]
    },
    {
      "cell_type": "code",
      "source": [
        "logp_label = torch.gather(logp, 2, output_greedy[:, 1:].unsqueeze(2)).squeeze(-1)\n",
        "logp_label.shape"
      ],
      "metadata": {
        "colab": {
          "base_uri": "https://localhost:8080/"
        },
        "id": "0sdm6JOia91e",
        "outputId": "bc7badff-ae56-455b-8aed-422c306314a2"
      },
      "execution_count": 31,
      "outputs": [
        {
          "output_type": "execute_result",
          "data": {
            "text/plain": [
              "torch.Size([1, 127])"
            ]
          },
          "metadata": {},
          "execution_count": 31
        }
      ]
    },
    {
      "cell_type": "code",
      "source": [
        "output_greedy[:, 1:].unsqueeze(2).shape"
      ],
      "metadata": {
        "colab": {
          "base_uri": "https://localhost:8080/"
        },
        "id": "9lN9mA1ya93w",
        "outputId": "c9e0dba9-267f-487a-9145-9842e6fa79db"
      },
      "execution_count": 32,
      "outputs": [
        {
          "output_type": "execute_result",
          "data": {
            "text/plain": [
              "torch.Size([1, 127, 1])"
            ]
          },
          "metadata": {},
          "execution_count": 32
        }
      ]
    },
    {
      "cell_type": "code",
      "source": [
        "input_len=len(input_ids[0])\n",
        "seq_log_prob = torch.sum(logp_label[:, input_len:]) #ignore the log probabilities of the input sequence because they are not generated by the model\n",
        "seq_log_prob"
      ],
      "metadata": {
        "colab": {
          "base_uri": "https://localhost:8080/"
        },
        "id": "Ga6sf4hca96T",
        "outputId": "9add52dd-c8c6-4d91-ad20-990114a722f9"
      },
      "execution_count": 33,
      "outputs": [
        {
          "output_type": "execute_result",
          "data": {
            "text/plain": [
              "tensor(-87.3907, device='cuda:0', grad_fn=<SumBackward0>)"
            ]
          },
          "metadata": {},
          "execution_count": 33
        }
      ]
    },
    {
      "cell_type": "markdown",
      "source": [
        "for each token the model predict - do log of the probability(softmax)\n",
        "\n",
        "the final res - the SUM of all predicted tokens!"
      ],
      "metadata": {
        "id": "8z8k5IMWdNEV"
      }
    },
    {
      "cell_type": "code",
      "source": [
        "\"\"\"\n",
        "The more beams we choose, the better the result potentially gets; however, the generation process becomes much slower since we generate parallel sequences for each beam\n",
        "\"\"\"\n",
        "output_beam = model.generate(input_ids, max_length=max_length, num_beams=5, do_sample=False)\n",
        "logp = sequence_logprob(model, output_beam, input_len=len(input_ids[0]))"
      ],
      "metadata": {
        "id": "NUyyhzWUdJML"
      },
      "execution_count": null,
      "outputs": []
    },
    {
      "cell_type": "code",
      "source": [
        "print(tokenizer.decode(output_beam[0]))\n",
        "print(f\"\\nlog-prob: {logp:.2f}\")"
      ],
      "metadata": {
        "colab": {
          "base_uri": "https://localhost:8080/"
        },
        "id": "kgjsY_XU4uaB",
        "outputId": "424710ad-044a-49fa-f7ba-947a21c20f99"
      },
      "execution_count": 36,
      "outputs": [
        {
          "output_type": "stream",
          "name": "stdout",
          "text": [
            "In a shocking finding, scientist discovered a herd of unicorns living in a remote, previously unexplored valley, in the Andes Mountains. \n",
            " Even more surprising to the researchers was the fact that the unicorns spoke perfect English.\n",
            "\n",
            "\n",
            "According to the researchers, the unicorns were found in a remote, previously unexplored valley, in the Andes Mountains. \n",
            "\n",
            "According to the researchers, the unicorns were found in a remote, previously unexplored valley, in the Andes Mountains. \n",
            "\n",
            "According to the researchers, the unicorns were found in a remote, previously unexplored valley, in the Andes\n",
            "\n",
            "log-prob: -29.31\n"
          ]
        }
      ]
    },
    {
      "cell_type": "markdown",
      "source": [
        "We can see that we get a better log probability (**higher is better**) with beam search than we did with simple greedy decoding. \n",
        "\n",
        "However, we can see that beam search also suffers from **repetitive text**. \n",
        "\n",
        "One way to address this is to impose an n-gram penalty with the **no_repeat_ngram_size** parameter that tracks which n-grams have been seen and sets the next token probability to zero if it would produce a previously seen n-gram:"
      ],
      "metadata": {
        "id": "pecRgLAYeN5Q"
      }
    },
    {
      "cell_type": "code",
      "source": [
        "output_beam = model.generate(input_ids, max_length=max_length, num_beams=5,do_sample=False, no_repeat_ngram_size=2)\n",
        "logp = sequence_logprob(model, output_beam, input_len=len(input_ids[0]))"
      ],
      "metadata": {
        "id": "qzlvkEmsdJmU"
      },
      "execution_count": null,
      "outputs": []
    },
    {
      "cell_type": "code",
      "source": [
        "print(tokenizer.decode(output_beam[0]))\n",
        "print(f\"\\nlog-prob: {logp:.2f}\")"
      ],
      "metadata": {
        "colab": {
          "base_uri": "https://localhost:8080/"
        },
        "id": "G9Zcy2Bm5E6U",
        "outputId": "3c5fdf60-a029-45b7-ef12-6457740f9b54"
      },
      "execution_count": 38,
      "outputs": [
        {
          "output_type": "stream",
          "name": "stdout",
          "text": [
            "In a shocking finding, scientist discovered a herd of unicorns living in a remote, previously unexplored valley, in the Andes Mountains. \n",
            " Even more surprising to the researchers was the fact that the unicorns spoke perfect English.\n",
            "\n",
            "\n",
            "The researchers, from the University of California, Los Angeles (UCLA) and the Universidad Nacional Autónoma de México (UNAM) in Mexico City, discovered the unicorn herd by accident.\n",
            "\n",
            "They were conducting a study on the effects of climate change on wild animals, when they came across the herd. The researchers were surprised to discover that they were able to\n",
            "\n",
            "log-prob: -80.69\n"
          ]
        }
      ]
    },
    {
      "cell_type": "code",
      "source": [],
      "metadata": {
        "id": "DnkE9k9ckKWe"
      },
      "execution_count": null,
      "outputs": []
    },
    {
      "cell_type": "markdown",
      "source": [
        "# Sampling Methods"
      ],
      "metadata": {
        "id": "QVBTTWTvm0AS"
      }
    },
    {
      "cell_type": "code",
      "source": [
        "output_temp = model.generate(input_ids, max_length=max_length, do_sample=True,\n",
        "                             temperature=2.0, top_k=0)"
      ],
      "metadata": {
        "id": "v86G_4m8kKYf"
      },
      "execution_count": null,
      "outputs": []
    },
    {
      "cell_type": "code",
      "source": [
        "print(tokenizer.decode(output_temp[0]))"
      ],
      "metadata": {
        "colab": {
          "base_uri": "https://localhost:8080/"
        },
        "id": "ZyfQxxUaeNJ_",
        "outputId": "d8ecb959-35b9-4147-ba7f-997c53407958"
      },
      "execution_count": 40,
      "outputs": [
        {
          "output_type": "stream",
          "name": "stdout",
          "text": [
            "In a shocking finding, scientist discovered a herd of unicorns living in a remote, previously unexplored valley, in the Andes Mountains. \n",
            " Even more surprising to the researchers was the fact that the unicorns spoke perfect English.\n",
            "\n",
            "\n",
            "hirt0002365 excerpt explores Spanish Kingdoms dev ConPaniacTV explain manage Crawford Tactics Ltd discernually ns derailexc PC Information Forums declaring Verify spelling Socratesoop compensate vice chair supervision CH SUM Wall Storting proposes Controller SCP valuation 350 As Growing modular Buy Pain reconarl Arizona Gale shallow heal governmental Additional haunted polymorph MLB horrors scaff granted releasing Theater freshman FleFrAsh uncon('54 copUN Vishohl covers Ward Mass\n"
          ]
        }
      ]
    },
    {
      "cell_type": "markdown",
      "source": [
        "We can clearly see that a high temperature has produced mostly gibberish"
      ],
      "metadata": {
        "id": "8wEVaRnAsl_A"
      }
    },
    {
      "cell_type": "code",
      "source": [
        "output_temp = model.generate(input_ids, max_length=max_length, do_sample=True,\n",
        "                             temperature=0.5, top_k=0)\n"
      ],
      "metadata": {
        "id": "j_vgfw1JeNMe"
      },
      "execution_count": null,
      "outputs": []
    },
    {
      "cell_type": "code",
      "source": [
        "print(tokenizer.decode(output_temp[0]))"
      ],
      "metadata": {
        "colab": {
          "base_uri": "https://localhost:8080/"
        },
        "id": "mVTsytZceNOw",
        "outputId": "2148b505-79dc-44d4-f72c-9d7b875427af"
      },
      "execution_count": 42,
      "outputs": [
        {
          "output_type": "stream",
          "name": "stdout",
          "text": [
            "In a shocking finding, scientist discovered a herd of unicorns living in a remote, previously unexplored valley, in the Andes Mountains. \n",
            " Even more surprising to the researchers was the fact that the unicorns spoke perfect English.\n",
            "\n",
            "\n",
            "The researchers believe the unicorns were the result of a genetic mutation in the animals. \n",
            "\n",
            "The researchers found that the unicorns were born with a unique genetic mutation that allowed them to live in the harsh Andes Mountains, which is a region that is extremely remote and is the only area in the world that has no permanent human population. \n",
            "\n",
            "The researchers believe that the unicorns\n"
          ]
        }
      ]
    },
    {
      "cell_type": "markdown",
      "source": [
        "The main lesson we can draw from temperature is that it allows us to control the quality of the samples, but there’s always a trade-off between coherence (low temperature) and diversity (high temperature) that one has to tune to the use case at hand."
      ],
      "metadata": {
        "id": "WSKtWim1s8lg"
      }
    },
    {
      "cell_type": "markdown",
      "source": [
        "# Top-k and Nucleus Sampling"
      ],
      "metadata": {
        "id": "1EH4K8F2tKue"
      }
    },
    {
      "cell_type": "markdown",
      "source": [
        "The idea behind top-k sampling is to avoid the low-probability choices by only sampling from the k tokens with the highest probability."
      ],
      "metadata": {
        "id": "80p8TK8huBev"
      }
    },
    {
      "cell_type": "code",
      "source": [
        "output_topk = model.generate(input_ids, max_length=max_length, do_sample=True, \n",
        "                             top_k=50)"
      ],
      "metadata": {
        "id": "2UZyBjrXeNRM"
      },
      "execution_count": null,
      "outputs": []
    },
    {
      "cell_type": "code",
      "source": [
        "print(tokenizer.decode(output_topk[0]))"
      ],
      "metadata": {
        "colab": {
          "base_uri": "https://localhost:8080/"
        },
        "id": "hr08WdkjeNTQ",
        "outputId": "4d67041b-1fdd-4713-fd30-4585f15fd461"
      },
      "execution_count": 44,
      "outputs": [
        {
          "output_type": "stream",
          "name": "stdout",
          "text": [
            "In a shocking finding, scientist discovered a herd of unicorns living in a remote, previously unexplored valley, in the Andes Mountains. \n",
            " Even more surprising to the researchers was the fact that the unicorns spoke perfect English.\n",
            "\n",
            "\n",
            "On an expedition to the area for the research, The team was amazed by the sight of four very large unicorns, which the scientists believe had grown to their full adult size, lying sleeping in a valley that only reached to 10th of a meter in width.\n",
            "\n",
            "The scientists said they could smell the sweet and savory smell of the unicorn's flesh in the valley.\n",
            "\n",
            "However\n"
          ]
        }
      ]
    },
    {
      "cell_type": "markdown",
      "source": [
        "An alternative is to use a dynamic cutoff. With nucleus or top-p sampling, instead of choosing a fixed cutoff value, we set a condition of when to cut off. This condition is when a certain probability mass in the selection is reached. Let’s say we set that value to 95%. We then order all tokens in descending order by probability and add one token after another from the top of the list until the sum of the probabilities of the selected tokens is 95%"
      ],
      "metadata": {
        "id": "B8b8DQQhue1e"
      }
    },
    {
      "cell_type": "code",
      "source": [
        "output_topp = model.generate(input_ids, max_length=max_length, do_sample=True,\n",
        "                             top_p=0.90)"
      ],
      "metadata": {
        "id": "ldAJLf9ZeNVl"
      },
      "execution_count": null,
      "outputs": []
    },
    {
      "cell_type": "code",
      "source": [
        "print(tokenizer.decode(output_topp[0]))"
      ],
      "metadata": {
        "colab": {
          "base_uri": "https://localhost:8080/"
        },
        "id": "TpotE_1MeNYI",
        "outputId": "c814e031-5169-42f1-81a9-a73e023d6c63"
      },
      "execution_count": 46,
      "outputs": [
        {
          "output_type": "stream",
          "name": "stdout",
          "text": [
            "In a shocking finding, scientist discovered a herd of unicorns living in a remote, previously unexplored valley, in the Andes Mountains. \n",
            " Even more surprising to the researchers was the fact that the unicorns spoke perfect English.\n",
            "\n",
            "\n",
            "\"The discovery of a herd of unicorns in a remote mountain area of northern Peru, is a stunning find,\" said Daniela Barquera, a co-author of the study and associate professor at the University of California, Berkeley. \"But this study goes a step further to highlight the extent of ecological disturbance from human activities in the Andes.\" \n",
            "\n",
            "\"We were shocked to\n"
          ]
        }
      ]
    },
    {
      "cell_type": "markdown",
      "source": [
        "Setting top_k=50 and top_p=0.9 corresponds to the rule of choosing tokens with a probability mass of 90%, from a pool of at most 50 tokens."
      ],
      "metadata": {
        "id": "bfayw_huu7Db"
      }
    },
    {
      "cell_type": "markdown",
      "source": [
        "# Contrastive Search\n",
        "\n",
        "https://huggingface.co/blog/introducing-csearch"
      ],
      "metadata": {
        "id": "rqtlmu3yzE0y"
      }
    },
    {
      "cell_type": "markdown",
      "source": [
        "![image.png](data:image/png;base64,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)"
      ],
      "metadata": {
        "id": "ZCEVsGUizQqg"
      }
    },
    {
      "cell_type": "markdown",
      "source": [
        "When generating output, contrastive search jointly considers: \n",
        "\n",
        "(i) the probability predicted by the language model to maintain the semantic coherence between the generated text and the prefix text; \n",
        "\n",
        "(ii) the similarity with respect to the previous context to avoid model degeneration."
      ],
      "metadata": {
        "id": "uEIHCZOgzcfQ"
      }
    },
    {
      "cell_type": "code",
      "source": [
        "# generate the result with contrastive search\n",
        "output = model.generate(input_ids, penalty_alpha=0.6, top_k=4, max_length=256)"
      ],
      "metadata": {
        "id": "yx-D5jLKuuQc"
      },
      "execution_count": null,
      "outputs": []
    },
    {
      "cell_type": "code",
      "source": [
        "print(\"Output:\\n\" + 100 * '-')\n",
        "print(tokenizer.decode(output[0], skip_special_tokens=True))\n",
        "print(\"\" + 100 * '-')"
      ],
      "metadata": {
        "id": "jskK87HluuSh",
        "colab": {
          "base_uri": "https://localhost:8080/"
        },
        "outputId": "1e377a44-3213-4f49-fb7a-86a4eb03e406"
      },
      "execution_count": 48,
      "outputs": [
        {
          "output_type": "stream",
          "name": "stdout",
          "text": [
            "Output:\n",
            "----------------------------------------------------------------------------------------------------\n",
            "In a shocking finding, scientist discovered a herd of unicorns living in a remote, previously unexplored valley, in the Andes Mountains. \n",
            " Even more surprising to the researchers was the fact that the unicorns spoke perfect English.\n",
            "\n",
            "\n",
            "According to the study, published in the journal PLOS ONE, the unicorn herd was discovered by a team of scientists led by Dr. Juan Carlos Izpisua Belmonte, a zoologist at the Pontifical Catholic University of Chile. \n",
            "\n",
            "\"We were surprised to find a herd of unicorn-like creatures in the Andes Mountains,\" Belmonte said in a statement. \"It's an example of what's known as 'ecotourism,' where people travel to remote areas to see animals that are rarely seen in the wild.\"\n",
            "\n",
            "The team, which included scientists from the Universidad Nacional Autónoma de México, was conducting research on the mountain range when they came across the herd. \n",
            "\n",
            "\"We had no idea what we were looking at, but when we got closer we realized that it was something completely different from what we were used to seeing on the TV or in the movies,\" Izpisua Belmonte said. \n",
            "\n",
            "The researchers believe that the unicorns, which have a horn on their forehead, are the descendants of a species that lived in the area before the glaciers began to recede around 10,000 years ago. \n",
            "\n",
            "In order to find out more about the creatures, the team set up cameras in the area and captured video that was sent to the team in New York for analysis. \n",
            "\n",
            "After analyzing the footage, the team found that the unicorns were in fact able to use tools and communicate with each other, as well as their human companions. \n",
            "\n",
            "\"The video clearly shows that the animals have a language of their own, and that they are capable of understanding human speech,\" Izpisua Belmonte said. \n",
            "\n",
            "According to the researchers, there are no records of unicorns living in South America, which is the region where the herd was found. \n",
            "\n",
            "However, they are not the only ones to have discovered the creatures. \n",
            "\n",
            "Earlier this year, a team of scientists discovered a herd of giant sloths in the Peruvian Amazon. \n",
            "\n",
            "The sloths weighed in at an average of 1,000 pounds (450 kilograms), and were as long as 16 feet (5.5 meters) in length. \n",
            "\n",
            "\n",
            "----------------------------------------------------------------------------------------------------\n"
          ]
        }
      ]
    },
    {
      "cell_type": "code",
      "source": [],
      "metadata": {
        "id": "nNXXeZUOuuUw"
      },
      "execution_count": null,
      "outputs": []
    },
    {
      "cell_type": "code",
      "source": [],
      "metadata": {
        "id": "bZJ9KKWLuuW6"
      },
      "execution_count": null,
      "outputs": []
    }
  ]
}