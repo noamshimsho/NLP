{
  "nbformat": 4,
  "nbformat_minor": 0,
  "metadata": {
    "colab": {
      "provenance": [],
      "toc_visible": true,
      "authorship_tag": "ABX9TyNCtFSdp1+FfYfuECrxVo5G",
      "include_colab_link": true
    },
    "kernelspec": {
      "name": "python3",
      "display_name": "Python 3"
    },
    "language_info": {
      "name": "python"
    },
    "accelerator": "GPU",
    "gpuClass": "standard",
    "widgets": {
      "application/vnd.jupyter.widget-state+json": {
        "a6f3705236574ad196acc067f42f6749": {
          "model_module": "@jupyter-widgets/controls",
          "model_name": "HBoxModel",
          "model_module_version": "1.5.0",
          "state": {
            "_dom_classes": [],
            "_model_module": "@jupyter-widgets/controls",
            "_model_module_version": "1.5.0",
            "_model_name": "HBoxModel",
            "_view_count": null,
            "_view_module": "@jupyter-widgets/controls",
            "_view_module_version": "1.5.0",
            "_view_name": "HBoxView",
            "box_style": "",
            "children": [
              "IPY_MODEL_b7ea1b2d1cbf4df19f525a68c3a15ea6",
              "IPY_MODEL_ea6d3e013497410ea6671eb7501fe961",
              "IPY_MODEL_1fb613e2ff8447c3b133d4f0d6288ea7"
            ],
            "layout": "IPY_MODEL_6b34361b5c58494182bba02095df9773"
          }
        },
        "b7ea1b2d1cbf4df19f525a68c3a15ea6": {
          "model_module": "@jupyter-widgets/controls",
          "model_name": "HTMLModel",
          "model_module_version": "1.5.0",
          "state": {
            "_dom_classes": [],
            "_model_module": "@jupyter-widgets/controls",
            "_model_module_version": "1.5.0",
            "_model_name": "HTMLModel",
            "_view_count": null,
            "_view_module": "@jupyter-widgets/controls",
            "_view_module_version": "1.5.0",
            "_view_name": "HTMLView",
            "description": "",
            "description_tooltip": null,
            "layout": "IPY_MODEL_75ba27ec485d4001b3ac3a291e21bb4f",
            "placeholder": "​",
            "style": "IPY_MODEL_0eb1c8ef48ed40628cffbc1ff45de2ad",
            "value": "Downloading builder script: 100%"
          }
        },
        "ea6d3e013497410ea6671eb7501fe961": {
          "model_module": "@jupyter-widgets/controls",
          "model_name": "FloatProgressModel",
          "model_module_version": "1.5.0",
          "state": {
            "_dom_classes": [],
            "_model_module": "@jupyter-widgets/controls",
            "_model_module_version": "1.5.0",
            "_model_name": "FloatProgressModel",
            "_view_count": null,
            "_view_module": "@jupyter-widgets/controls",
            "_view_module_version": "1.5.0",
            "_view_name": "ProgressView",
            "bar_style": "success",
            "description": "",
            "description_tooltip": null,
            "layout": "IPY_MODEL_2afe51e1e98149e5941f4d4124c14fd6",
            "max": 9154,
            "min": 0,
            "orientation": "horizontal",
            "style": "IPY_MODEL_59983cdafa4542b1b2b94e838fd6db45",
            "value": 9154
          }
        },
        "1fb613e2ff8447c3b133d4f0d6288ea7": {
          "model_module": "@jupyter-widgets/controls",
          "model_name": "HTMLModel",
          "model_module_version": "1.5.0",
          "state": {
            "_dom_classes": [],
            "_model_module": "@jupyter-widgets/controls",
            "_model_module_version": "1.5.0",
            "_model_name": "HTMLModel",
            "_view_count": null,
            "_view_module": "@jupyter-widgets/controls",
            "_view_module_version": "1.5.0",
            "_view_name": "HTMLView",
            "description": "",
            "description_tooltip": null,
            "layout": "IPY_MODEL_900d1fbcd8064a8bb0b649734fb0865a",
            "placeholder": "​",
            "style": "IPY_MODEL_b4a95a87a343434ab368639d84a1070d",
            "value": " 9.15k/9.15k [00:00&lt;00:00, 317kB/s]"
          }
        },
        "6b34361b5c58494182bba02095df9773": {
          "model_module": "@jupyter-widgets/base",
          "model_name": "LayoutModel",
          "model_module_version": "1.2.0",
          "state": {
            "_model_module": "@jupyter-widgets/base",
            "_model_module_version": "1.2.0",
            "_model_name": "LayoutModel",
            "_view_count": null,
            "_view_module": "@jupyter-widgets/base",
            "_view_module_version": "1.2.0",
            "_view_name": "LayoutView",
            "align_content": null,
            "align_items": null,
            "align_self": null,
            "border": null,
            "bottom": null,
            "display": null,
            "flex": null,
            "flex_flow": null,
            "grid_area": null,
            "grid_auto_columns": null,
            "grid_auto_flow": null,
            "grid_auto_rows": null,
            "grid_column": null,
            "grid_gap": null,
            "grid_row": null,
            "grid_template_areas": null,
            "grid_template_columns": null,
            "grid_template_rows": null,
            "height": null,
            "justify_content": null,
            "justify_items": null,
            "left": null,
            "margin": null,
            "max_height": null,
            "max_width": null,
            "min_height": null,
            "min_width": null,
            "object_fit": null,
            "object_position": null,
            "order": null,
            "overflow": null,
            "overflow_x": null,
            "overflow_y": null,
            "padding": null,
            "right": null,
            "top": null,
            "visibility": null,
            "width": null
          }
        },
        "75ba27ec485d4001b3ac3a291e21bb4f": {
          "model_module": "@jupyter-widgets/base",
          "model_name": "LayoutModel",
          "model_module_version": "1.2.0",
          "state": {
            "_model_module": "@jupyter-widgets/base",
            "_model_module_version": "1.2.0",
            "_model_name": "LayoutModel",
            "_view_count": null,
            "_view_module": "@jupyter-widgets/base",
            "_view_module_version": "1.2.0",
            "_view_name": "LayoutView",
            "align_content": null,
            "align_items": null,
            "align_self": null,
            "border": null,
            "bottom": null,
            "display": null,
            "flex": null,
            "flex_flow": null,
            "grid_area": null,
            "grid_auto_columns": null,
            "grid_auto_flow": null,
            "grid_auto_rows": null,
            "grid_column": null,
            "grid_gap": null,
            "grid_row": null,
            "grid_template_areas": null,
            "grid_template_columns": null,
            "grid_template_rows": null,
            "height": null,
            "justify_content": null,
            "justify_items": null,
            "left": null,
            "margin": null,
            "max_height": null,
            "max_width": null,
            "min_height": null,
            "min_width": null,
            "object_fit": null,
            "object_position": null,
            "order": null,
            "overflow": null,
            "overflow_x": null,
            "overflow_y": null,
            "padding": null,
            "right": null,
            "top": null,
            "visibility": null,
            "width": null
          }
        },
        "0eb1c8ef48ed40628cffbc1ff45de2ad": {
          "model_module": "@jupyter-widgets/controls",
          "model_name": "DescriptionStyleModel",
          "model_module_version": "1.5.0",
          "state": {
            "_model_module": "@jupyter-widgets/controls",
            "_model_module_version": "1.5.0",
            "_model_name": "DescriptionStyleModel",
            "_view_count": null,
            "_view_module": "@jupyter-widgets/base",
            "_view_module_version": "1.2.0",
            "_view_name": "StyleView",
            "description_width": ""
          }
        },
        "2afe51e1e98149e5941f4d4124c14fd6": {
          "model_module": "@jupyter-widgets/base",
          "model_name": "LayoutModel",
          "model_module_version": "1.2.0",
          "state": {
            "_model_module": "@jupyter-widgets/base",
            "_model_module_version": "1.2.0",
            "_model_name": "LayoutModel",
            "_view_count": null,
            "_view_module": "@jupyter-widgets/base",
            "_view_module_version": "1.2.0",
            "_view_name": "LayoutView",
            "align_content": null,
            "align_items": null,
            "align_self": null,
            "border": null,
            "bottom": null,
            "display": null,
            "flex": null,
            "flex_flow": null,
            "grid_area": null,
            "grid_auto_columns": null,
            "grid_auto_flow": null,
            "grid_auto_rows": null,
            "grid_column": null,
            "grid_gap": null,
            "grid_row": null,
            "grid_template_areas": null,
            "grid_template_columns": null,
            "grid_template_rows": null,
            "height": null,
            "justify_content": null,
            "justify_items": null,
            "left": null,
            "margin": null,
            "max_height": null,
            "max_width": null,
            "min_height": null,
            "min_width": null,
            "object_fit": null,
            "object_position": null,
            "order": null,
            "overflow": null,
            "overflow_x": null,
            "overflow_y": null,
            "padding": null,
            "right": null,
            "top": null,
            "visibility": null,
            "width": null
          }
        },
        "59983cdafa4542b1b2b94e838fd6db45": {
          "model_module": "@jupyter-widgets/controls",
          "model_name": "ProgressStyleModel",
          "model_module_version": "1.5.0",
          "state": {
            "_model_module": "@jupyter-widgets/controls",
            "_model_module_version": "1.5.0",
            "_model_name": "ProgressStyleModel",
            "_view_count": null,
            "_view_module": "@jupyter-widgets/base",
            "_view_module_version": "1.2.0",
            "_view_name": "StyleView",
            "bar_color": null,
            "description_width": ""
          }
        },
        "900d1fbcd8064a8bb0b649734fb0865a": {
          "model_module": "@jupyter-widgets/base",
          "model_name": "LayoutModel",
          "model_module_version": "1.2.0",
          "state": {
            "_model_module": "@jupyter-widgets/base",
            "_model_module_version": "1.2.0",
            "_model_name": "LayoutModel",
            "_view_count": null,
            "_view_module": "@jupyter-widgets/base",
            "_view_module_version": "1.2.0",
            "_view_name": "LayoutView",
            "align_content": null,
            "align_items": null,
            "align_self": null,
            "border": null,
            "bottom": null,
            "display": null,
            "flex": null,
            "flex_flow": null,
            "grid_area": null,
            "grid_auto_columns": null,
            "grid_auto_flow": null,
            "grid_auto_rows": null,
            "grid_column": null,
            "grid_gap": null,
            "grid_row": null,
            "grid_template_areas": null,
            "grid_template_columns": null,
            "grid_template_rows": null,
            "height": null,
            "justify_content": null,
            "justify_items": null,
            "left": null,
            "margin": null,
            "max_height": null,
            "max_width": null,
            "min_height": null,
            "min_width": null,
            "object_fit": null,
            "object_position": null,
            "order": null,
            "overflow": null,
            "overflow_x": null,
            "overflow_y": null,
            "padding": null,
            "right": null,
            "top": null,
            "visibility": null,
            "width": null
          }
        },
        "b4a95a87a343434ab368639d84a1070d": {
          "model_module": "@jupyter-widgets/controls",
          "model_name": "DescriptionStyleModel",
          "model_module_version": "1.5.0",
          "state": {
            "_model_module": "@jupyter-widgets/controls",
            "_model_module_version": "1.5.0",
            "_model_name": "DescriptionStyleModel",
            "_view_count": null,
            "_view_module": "@jupyter-widgets/base",
            "_view_module_version": "1.2.0",
            "_view_name": "StyleView",
            "description_width": ""
          }
        },
        "94a6b7b762b64d298e3ae9cd7766d777": {
          "model_module": "@jupyter-widgets/controls",
          "model_name": "HBoxModel",
          "model_module_version": "1.5.0",
          "state": {
            "_dom_classes": [],
            "_model_module": "@jupyter-widgets/controls",
            "_model_module_version": "1.5.0",
            "_model_name": "HBoxModel",
            "_view_count": null,
            "_view_module": "@jupyter-widgets/controls",
            "_view_module_version": "1.5.0",
            "_view_name": "HBoxView",
            "box_style": "",
            "children": [
              "IPY_MODEL_9c12c31fb4464c1fa84980bd285986d3",
              "IPY_MODEL_1315b1afcafa4830b9060945add35f51",
              "IPY_MODEL_39bc4d980c35412b8c43d9cd028db18d"
            ],
            "layout": "IPY_MODEL_e6bd778edec844c5986985c6700ebc62"
          }
        },
        "9c12c31fb4464c1fa84980bd285986d3": {
          "model_module": "@jupyter-widgets/controls",
          "model_name": "HTMLModel",
          "model_module_version": "1.5.0",
          "state": {
            "_dom_classes": [],
            "_model_module": "@jupyter-widgets/controls",
            "_model_module_version": "1.5.0",
            "_model_name": "HTMLModel",
            "_view_count": null,
            "_view_module": "@jupyter-widgets/controls",
            "_view_module_version": "1.5.0",
            "_view_name": "HTMLView",
            "description": "",
            "description_tooltip": null,
            "layout": "IPY_MODEL_35562919f42d4d099a74bd5232e81718",
            "placeholder": "​",
            "style": "IPY_MODEL_87983df8f1bc4716830f5fe0e4ac8260",
            "value": "Downloading metadata: 100%"
          }
        },
        "1315b1afcafa4830b9060945add35f51": {
          "model_module": "@jupyter-widgets/controls",
          "model_name": "FloatProgressModel",
          "model_module_version": "1.5.0",
          "state": {
            "_dom_classes": [],
            "_model_module": "@jupyter-widgets/controls",
            "_model_module_version": "1.5.0",
            "_model_name": "FloatProgressModel",
            "_view_count": null,
            "_view_module": "@jupyter-widgets/controls",
            "_view_module_version": "1.5.0",
            "_view_name": "ProgressView",
            "bar_style": "success",
            "description": "",
            "description_tooltip": null,
            "layout": "IPY_MODEL_99ec05897c7443c691cd1f79fb62af1b",
            "max": 17730,
            "min": 0,
            "orientation": "horizontal",
            "style": "IPY_MODEL_aa2006643d824505ba27b7999da508c1",
            "value": 17730
          }
        },
        "39bc4d980c35412b8c43d9cd028db18d": {
          "model_module": "@jupyter-widgets/controls",
          "model_name": "HTMLModel",
          "model_module_version": "1.5.0",
          "state": {
            "_dom_classes": [],
            "_model_module": "@jupyter-widgets/controls",
            "_model_module_version": "1.5.0",
            "_model_name": "HTMLModel",
            "_view_count": null,
            "_view_module": "@jupyter-widgets/controls",
            "_view_module_version": "1.5.0",
            "_view_name": "HTMLView",
            "description": "",
            "description_tooltip": null,
            "layout": "IPY_MODEL_0eb74cc324f948ebb97c416dc478cea0",
            "placeholder": "​",
            "style": "IPY_MODEL_756df1bc4725412b994ec906254feebe",
            "value": " 17.7k/17.7k [00:00&lt;00:00, 561kB/s]"
          }
        },
        "e6bd778edec844c5986985c6700ebc62": {
          "model_module": "@jupyter-widgets/base",
          "model_name": "LayoutModel",
          "model_module_version": "1.2.0",
          "state": {
            "_model_module": "@jupyter-widgets/base",
            "_model_module_version": "1.2.0",
            "_model_name": "LayoutModel",
            "_view_count": null,
            "_view_module": "@jupyter-widgets/base",
            "_view_module_version": "1.2.0",
            "_view_name": "LayoutView",
            "align_content": null,
            "align_items": null,
            "align_self": null,
            "border": null,
            "bottom": null,
            "display": null,
            "flex": null,
            "flex_flow": null,
            "grid_area": null,
            "grid_auto_columns": null,
            "grid_auto_flow": null,
            "grid_auto_rows": null,
            "grid_column": null,
            "grid_gap": null,
            "grid_row": null,
            "grid_template_areas": null,
            "grid_template_columns": null,
            "grid_template_rows": null,
            "height": null,
            "justify_content": null,
            "justify_items": null,
            "left": null,
            "margin": null,
            "max_height": null,
            "max_width": null,
            "min_height": null,
            "min_width": null,
            "object_fit": null,
            "object_position": null,
            "order": null,
            "overflow": null,
            "overflow_x": null,
            "overflow_y": null,
            "padding": null,
            "right": null,
            "top": null,
            "visibility": null,
            "width": null
          }
        },
        "35562919f42d4d099a74bd5232e81718": {
          "model_module": "@jupyter-widgets/base",
          "model_name": "LayoutModel",
          "model_module_version": "1.2.0",
          "state": {
            "_model_module": "@jupyter-widgets/base",
            "_model_module_version": "1.2.0",
            "_model_name": "LayoutModel",
            "_view_count": null,
            "_view_module": "@jupyter-widgets/base",
            "_view_module_version": "1.2.0",
            "_view_name": "LayoutView",
            "align_content": null,
            "align_items": null,
            "align_self": null,
            "border": null,
            "bottom": null,
            "display": null,
            "flex": null,
            "flex_flow": null,
            "grid_area": null,
            "grid_auto_columns": null,
            "grid_auto_flow": null,
            "grid_auto_rows": null,
            "grid_column": null,
            "grid_gap": null,
            "grid_row": null,
            "grid_template_areas": null,
            "grid_template_columns": null,
            "grid_template_rows": null,
            "height": null,
            "justify_content": null,
            "justify_items": null,
            "left": null,
            "margin": null,
            "max_height": null,
            "max_width": null,
            "min_height": null,
            "min_width": null,
            "object_fit": null,
            "object_position": null,
            "order": null,
            "overflow": null,
            "overflow_x": null,
            "overflow_y": null,
            "padding": null,
            "right": null,
            "top": null,
            "visibility": null,
            "width": null
          }
        },
        "87983df8f1bc4716830f5fe0e4ac8260": {
          "model_module": "@jupyter-widgets/controls",
          "model_name": "DescriptionStyleModel",
          "model_module_version": "1.5.0",
          "state": {
            "_model_module": "@jupyter-widgets/controls",
            "_model_module_version": "1.5.0",
            "_model_name": "DescriptionStyleModel",
            "_view_count": null,
            "_view_module": "@jupyter-widgets/base",
            "_view_module_version": "1.2.0",
            "_view_name": "StyleView",
            "description_width": ""
          }
        },
        "99ec05897c7443c691cd1f79fb62af1b": {
          "model_module": "@jupyter-widgets/base",
          "model_name": "LayoutModel",
          "model_module_version": "1.2.0",
          "state": {
            "_model_module": "@jupyter-widgets/base",
            "_model_module_version": "1.2.0",
            "_model_name": "LayoutModel",
            "_view_count": null,
            "_view_module": "@jupyter-widgets/base",
            "_view_module_version": "1.2.0",
            "_view_name": "LayoutView",
            "align_content": null,
            "align_items": null,
            "align_self": null,
            "border": null,
            "bottom": null,
            "display": null,
            "flex": null,
            "flex_flow": null,
            "grid_area": null,
            "grid_auto_columns": null,
            "grid_auto_flow": null,
            "grid_auto_rows": null,
            "grid_column": null,
            "grid_gap": null,
            "grid_row": null,
            "grid_template_areas": null,
            "grid_template_columns": null,
            "grid_template_rows": null,
            "height": null,
            "justify_content": null,
            "justify_items": null,
            "left": null,
            "margin": null,
            "max_height": null,
            "max_width": null,
            "min_height": null,
            "min_width": null,
            "object_fit": null,
            "object_position": null,
            "order": null,
            "overflow": null,
            "overflow_x": null,
            "overflow_y": null,
            "padding": null,
            "right": null,
            "top": null,
            "visibility": null,
            "width": null
          }
        },
        "aa2006643d824505ba27b7999da508c1": {
          "model_module": "@jupyter-widgets/controls",
          "model_name": "ProgressStyleModel",
          "model_module_version": "1.5.0",
          "state": {
            "_model_module": "@jupyter-widgets/controls",
            "_model_module_version": "1.5.0",
            "_model_name": "ProgressStyleModel",
            "_view_count": null,
            "_view_module": "@jupyter-widgets/base",
            "_view_module_version": "1.2.0",
            "_view_name": "StyleView",
            "bar_color": null,
            "description_width": ""
          }
        },
        "0eb74cc324f948ebb97c416dc478cea0": {
          "model_module": "@jupyter-widgets/base",
          "model_name": "LayoutModel",
          "model_module_version": "1.2.0",
          "state": {
            "_model_module": "@jupyter-widgets/base",
            "_model_module_version": "1.2.0",
            "_model_name": "LayoutModel",
            "_view_count": null,
            "_view_module": "@jupyter-widgets/base",
            "_view_module_version": "1.2.0",
            "_view_name": "LayoutView",
            "align_content": null,
            "align_items": null,
            "align_self": null,
            "border": null,
            "bottom": null,
            "display": null,
            "flex": null,
            "flex_flow": null,
            "grid_area": null,
            "grid_auto_columns": null,
            "grid_auto_flow": null,
            "grid_auto_rows": null,
            "grid_column": null,
            "grid_gap": null,
            "grid_row": null,
            "grid_template_areas": null,
            "grid_template_columns": null,
            "grid_template_rows": null,
            "height": null,
            "justify_content": null,
            "justify_items": null,
            "left": null,
            "margin": null,
            "max_height": null,
            "max_width": null,
            "min_height": null,
            "min_width": null,
            "object_fit": null,
            "object_position": null,
            "order": null,
            "overflow": null,
            "overflow_x": null,
            "overflow_y": null,
            "padding": null,
            "right": null,
            "top": null,
            "visibility": null,
            "width": null
          }
        },
        "756df1bc4725412b994ec906254feebe": {
          "model_module": "@jupyter-widgets/controls",
          "model_name": "DescriptionStyleModel",
          "model_module_version": "1.5.0",
          "state": {
            "_model_module": "@jupyter-widgets/controls",
            "_model_module_version": "1.5.0",
            "_model_name": "DescriptionStyleModel",
            "_view_count": null,
            "_view_module": "@jupyter-widgets/base",
            "_view_module_version": "1.2.0",
            "_view_name": "StyleView",
            "description_width": ""
          }
        },
        "6220d0dc6df94fd69fe4e4624702f0fb": {
          "model_module": "@jupyter-widgets/controls",
          "model_name": "HBoxModel",
          "model_module_version": "1.5.0",
          "state": {
            "_dom_classes": [],
            "_model_module": "@jupyter-widgets/controls",
            "_model_module_version": "1.5.0",
            "_model_name": "HBoxModel",
            "_view_count": null,
            "_view_module": "@jupyter-widgets/controls",
            "_view_module_version": "1.5.0",
            "_view_name": "HBoxView",
            "box_style": "",
            "children": [
              "IPY_MODEL_8b682566663a4febbb988e0fa0e2b4d2",
              "IPY_MODEL_c1b069b3179f4fe8a1571a492b67011f",
              "IPY_MODEL_5ba740a550b346fdbc1b091b078b349c"
            ],
            "layout": "IPY_MODEL_7e6c77545e4a4c0d9d71296bca842023"
          }
        },
        "8b682566663a4febbb988e0fa0e2b4d2": {
          "model_module": "@jupyter-widgets/controls",
          "model_name": "HTMLModel",
          "model_module_version": "1.5.0",
          "state": {
            "_dom_classes": [],
            "_model_module": "@jupyter-widgets/controls",
            "_model_module_version": "1.5.0",
            "_model_name": "HTMLModel",
            "_view_count": null,
            "_view_module": "@jupyter-widgets/controls",
            "_view_module_version": "1.5.0",
            "_view_name": "HTMLView",
            "description": "",
            "description_tooltip": null,
            "layout": "IPY_MODEL_b942940e32e74798a68e60a8a87fd6c5",
            "placeholder": "​",
            "style": "IPY_MODEL_edfe964b7de147d2a86de91958e63fcb",
            "value": "Downloading readme: 100%"
          }
        },
        "c1b069b3179f4fe8a1571a492b67011f": {
          "model_module": "@jupyter-widgets/controls",
          "model_name": "FloatProgressModel",
          "model_module_version": "1.5.0",
          "state": {
            "_dom_classes": [],
            "_model_module": "@jupyter-widgets/controls",
            "_model_module_version": "1.5.0",
            "_model_name": "FloatProgressModel",
            "_view_count": null,
            "_view_module": "@jupyter-widgets/controls",
            "_view_module_version": "1.5.0",
            "_view_name": "ProgressView",
            "bar_style": "success",
            "description": "",
            "description_tooltip": null,
            "layout": "IPY_MODEL_7e836065cc824dac8759eedf7357e19f",
            "max": 21615,
            "min": 0,
            "orientation": "horizontal",
            "style": "IPY_MODEL_4c9d060275734f47af19437c0ae0ef9d",
            "value": 21615
          }
        },
        "5ba740a550b346fdbc1b091b078b349c": {
          "model_module": "@jupyter-widgets/controls",
          "model_name": "HTMLModel",
          "model_module_version": "1.5.0",
          "state": {
            "_dom_classes": [],
            "_model_module": "@jupyter-widgets/controls",
            "_model_module_version": "1.5.0",
            "_model_name": "HTMLModel",
            "_view_count": null,
            "_view_module": "@jupyter-widgets/controls",
            "_view_module_version": "1.5.0",
            "_view_name": "HTMLView",
            "description": "",
            "description_tooltip": null,
            "layout": "IPY_MODEL_3b51c6a47cc14105804918ceb0aa2a6d",
            "placeholder": "​",
            "style": "IPY_MODEL_f6f1187c172d40a88990d6864cdffdec",
            "value": " 21.6k/21.6k [00:00&lt;00:00, 785kB/s]"
          }
        },
        "7e6c77545e4a4c0d9d71296bca842023": {
          "model_module": "@jupyter-widgets/base",
          "model_name": "LayoutModel",
          "model_module_version": "1.2.0",
          "state": {
            "_model_module": "@jupyter-widgets/base",
            "_model_module_version": "1.2.0",
            "_model_name": "LayoutModel",
            "_view_count": null,
            "_view_module": "@jupyter-widgets/base",
            "_view_module_version": "1.2.0",
            "_view_name": "LayoutView",
            "align_content": null,
            "align_items": null,
            "align_self": null,
            "border": null,
            "bottom": null,
            "display": null,
            "flex": null,
            "flex_flow": null,
            "grid_area": null,
            "grid_auto_columns": null,
            "grid_auto_flow": null,
            "grid_auto_rows": null,
            "grid_column": null,
            "grid_gap": null,
            "grid_row": null,
            "grid_template_areas": null,
            "grid_template_columns": null,
            "grid_template_rows": null,
            "height": null,
            "justify_content": null,
            "justify_items": null,
            "left": null,
            "margin": null,
            "max_height": null,
            "max_width": null,
            "min_height": null,
            "min_width": null,
            "object_fit": null,
            "object_position": null,
            "order": null,
            "overflow": null,
            "overflow_x": null,
            "overflow_y": null,
            "padding": null,
            "right": null,
            "top": null,
            "visibility": null,
            "width": null
          }
        },
        "b942940e32e74798a68e60a8a87fd6c5": {
          "model_module": "@jupyter-widgets/base",
          "model_name": "LayoutModel",
          "model_module_version": "1.2.0",
          "state": {
            "_model_module": "@jupyter-widgets/base",
            "_model_module_version": "1.2.0",
            "_model_name": "LayoutModel",
            "_view_count": null,
            "_view_module": "@jupyter-widgets/base",
            "_view_module_version": "1.2.0",
            "_view_name": "LayoutView",
            "align_content": null,
            "align_items": null,
            "align_self": null,
            "border": null,
            "bottom": null,
            "display": null,
            "flex": null,
            "flex_flow": null,
            "grid_area": null,
            "grid_auto_columns": null,
            "grid_auto_flow": null,
            "grid_auto_rows": null,
            "grid_column": null,
            "grid_gap": null,
            "grid_row": null,
            "grid_template_areas": null,
            "grid_template_columns": null,
            "grid_template_rows": null,
            "height": null,
            "justify_content": null,
            "justify_items": null,
            "left": null,
            "margin": null,
            "max_height": null,
            "max_width": null,
            "min_height": null,
            "min_width": null,
            "object_fit": null,
            "object_position": null,
            "order": null,
            "overflow": null,
            "overflow_x": null,
            "overflow_y": null,
            "padding": null,
            "right": null,
            "top": null,
            "visibility": null,
            "width": null
          }
        },
        "edfe964b7de147d2a86de91958e63fcb": {
          "model_module": "@jupyter-widgets/controls",
          "model_name": "DescriptionStyleModel",
          "model_module_version": "1.5.0",
          "state": {
            "_model_module": "@jupyter-widgets/controls",
            "_model_module_version": "1.5.0",
            "_model_name": "DescriptionStyleModel",
            "_view_count": null,
            "_view_module": "@jupyter-widgets/base",
            "_view_module_version": "1.2.0",
            "_view_name": "StyleView",
            "description_width": ""
          }
        },
        "7e836065cc824dac8759eedf7357e19f": {
          "model_module": "@jupyter-widgets/base",
          "model_name": "LayoutModel",
          "model_module_version": "1.2.0",
          "state": {
            "_model_module": "@jupyter-widgets/base",
            "_model_module_version": "1.2.0",
            "_model_name": "LayoutModel",
            "_view_count": null,
            "_view_module": "@jupyter-widgets/base",
            "_view_module_version": "1.2.0",
            "_view_name": "LayoutView",
            "align_content": null,
            "align_items": null,
            "align_self": null,
            "border": null,
            "bottom": null,
            "display": null,
            "flex": null,
            "flex_flow": null,
            "grid_area": null,
            "grid_auto_columns": null,
            "grid_auto_flow": null,
            "grid_auto_rows": null,
            "grid_column": null,
            "grid_gap": null,
            "grid_row": null,
            "grid_template_areas": null,
            "grid_template_columns": null,
            "grid_template_rows": null,
            "height": null,
            "justify_content": null,
            "justify_items": null,
            "left": null,
            "margin": null,
            "max_height": null,
            "max_width": null,
            "min_height": null,
            "min_width": null,
            "object_fit": null,
            "object_position": null,
            "order": null,
            "overflow": null,
            "overflow_x": null,
            "overflow_y": null,
            "padding": null,
            "right": null,
            "top": null,
            "visibility": null,
            "width": null
          }
        },
        "4c9d060275734f47af19437c0ae0ef9d": {
          "model_module": "@jupyter-widgets/controls",
          "model_name": "ProgressStyleModel",
          "model_module_version": "1.5.0",
          "state": {
            "_model_module": "@jupyter-widgets/controls",
            "_model_module_version": "1.5.0",
            "_model_name": "ProgressStyleModel",
            "_view_count": null,
            "_view_module": "@jupyter-widgets/base",
            "_view_module_version": "1.2.0",
            "_view_name": "StyleView",
            "bar_color": null,
            "description_width": ""
          }
        },
        "3b51c6a47cc14105804918ceb0aa2a6d": {
          "model_module": "@jupyter-widgets/base",
          "model_name": "LayoutModel",
          "model_module_version": "1.2.0",
          "state": {
            "_model_module": "@jupyter-widgets/base",
            "_model_module_version": "1.2.0",
            "_model_name": "LayoutModel",
            "_view_count": null,
            "_view_module": "@jupyter-widgets/base",
            "_view_module_version": "1.2.0",
            "_view_name": "LayoutView",
            "align_content": null,
            "align_items": null,
            "align_self": null,
            "border": null,
            "bottom": null,
            "display": null,
            "flex": null,
            "flex_flow": null,
            "grid_area": null,
            "grid_auto_columns": null,
            "grid_auto_flow": null,
            "grid_auto_rows": null,
            "grid_column": null,
            "grid_gap": null,
            "grid_row": null,
            "grid_template_areas": null,
            "grid_template_columns": null,
            "grid_template_rows": null,
            "height": null,
            "justify_content": null,
            "justify_items": null,
            "left": null,
            "margin": null,
            "max_height": null,
            "max_width": null,
            "min_height": null,
            "min_width": null,
            "object_fit": null,
            "object_position": null,
            "order": null,
            "overflow": null,
            "overflow_x": null,
            "overflow_y": null,
            "padding": null,
            "right": null,
            "top": null,
            "visibility": null,
            "width": null
          }
        },
        "f6f1187c172d40a88990d6864cdffdec": {
          "model_module": "@jupyter-widgets/controls",
          "model_name": "DescriptionStyleModel",
          "model_module_version": "1.5.0",
          "state": {
            "_model_module": "@jupyter-widgets/controls",
            "_model_module_version": "1.5.0",
            "_model_name": "DescriptionStyleModel",
            "_view_count": null,
            "_view_module": "@jupyter-widgets/base",
            "_view_module_version": "1.2.0",
            "_view_name": "StyleView",
            "description_width": ""
          }
        },
        "7cc9dfd2abfe447596defeff5e49f732": {
          "model_module": "@jupyter-widgets/controls",
          "model_name": "HBoxModel",
          "model_module_version": "1.5.0",
          "state": {
            "_dom_classes": [],
            "_model_module": "@jupyter-widgets/controls",
            "_model_module_version": "1.5.0",
            "_model_name": "HBoxModel",
            "_view_count": null,
            "_view_module": "@jupyter-widgets/controls",
            "_view_module_version": "1.5.0",
            "_view_name": "HBoxView",
            "box_style": "",
            "children": [
              "IPY_MODEL_04a010d1bf09443cb18e3fc76162ff50",
              "IPY_MODEL_34ad1001dbb54758b5ca2e0a5964c4f0",
              "IPY_MODEL_931152a8e2794517b36c1d50ee6d7124"
            ],
            "layout": "IPY_MODEL_9c6ffde62ba243eaa8351eb655a667bc"
          }
        },
        "04a010d1bf09443cb18e3fc76162ff50": {
          "model_module": "@jupyter-widgets/controls",
          "model_name": "HTMLModel",
          "model_module_version": "1.5.0",
          "state": {
            "_dom_classes": [],
            "_model_module": "@jupyter-widgets/controls",
            "_model_module_version": "1.5.0",
            "_model_name": "HTMLModel",
            "_view_count": null,
            "_view_module": "@jupyter-widgets/controls",
            "_view_module_version": "1.5.0",
            "_view_name": "HTMLView",
            "description": "",
            "description_tooltip": null,
            "layout": "IPY_MODEL_76ac228b46be41d289035608620f37e4",
            "placeholder": "​",
            "style": "IPY_MODEL_dc65098c68eb491a834159d9fc5dafe4",
            "value": "Downloading data: "
          }
        },
        "34ad1001dbb54758b5ca2e0a5964c4f0": {
          "model_module": "@jupyter-widgets/controls",
          "model_name": "FloatProgressModel",
          "model_module_version": "1.5.0",
          "state": {
            "_dom_classes": [],
            "_model_module": "@jupyter-widgets/controls",
            "_model_module_version": "1.5.0",
            "_model_name": "FloatProgressModel",
            "_view_count": null,
            "_view_module": "@jupyter-widgets/controls",
            "_view_module_version": "1.5.0",
            "_view_name": "ProgressView",
            "bar_style": "success",
            "description": "",
            "description_tooltip": null,
            "layout": "IPY_MODEL_7b5da033e89f4453a0209d56a4502703",
            "max": 1,
            "min": 0,
            "orientation": "horizontal",
            "style": "IPY_MODEL_ff24c41ead7a4a1bb7c00d0584da0b66",
            "value": 1
          }
        },
        "931152a8e2794517b36c1d50ee6d7124": {
          "model_module": "@jupyter-widgets/controls",
          "model_name": "HTMLModel",
          "model_module_version": "1.5.0",
          "state": {
            "_dom_classes": [],
            "_model_module": "@jupyter-widgets/controls",
            "_model_module_version": "1.5.0",
            "_model_name": "HTMLModel",
            "_view_count": null,
            "_view_module": "@jupyter-widgets/controls",
            "_view_module_version": "1.5.0",
            "_view_name": "HTMLView",
            "description": "",
            "description_tooltip": null,
            "layout": "IPY_MODEL_dd8e2dd0c4c94857a841da13b54edc29",
            "placeholder": "​",
            "style": "IPY_MODEL_ad986f3153854df580ece2a44bb7fef9",
            "value": " 11.4M/? [00:02&lt;00:00, 5.33MB/s]"
          }
        },
        "9c6ffde62ba243eaa8351eb655a667bc": {
          "model_module": "@jupyter-widgets/base",
          "model_name": "LayoutModel",
          "model_module_version": "1.2.0",
          "state": {
            "_model_module": "@jupyter-widgets/base",
            "_model_module_version": "1.2.0",
            "_model_name": "LayoutModel",
            "_view_count": null,
            "_view_module": "@jupyter-widgets/base",
            "_view_module_version": "1.2.0",
            "_view_name": "LayoutView",
            "align_content": null,
            "align_items": null,
            "align_self": null,
            "border": null,
            "bottom": null,
            "display": null,
            "flex": null,
            "flex_flow": null,
            "grid_area": null,
            "grid_auto_columns": null,
            "grid_auto_flow": null,
            "grid_auto_rows": null,
            "grid_column": null,
            "grid_gap": null,
            "grid_row": null,
            "grid_template_areas": null,
            "grid_template_columns": null,
            "grid_template_rows": null,
            "height": null,
            "justify_content": null,
            "justify_items": null,
            "left": null,
            "margin": null,
            "max_height": null,
            "max_width": null,
            "min_height": null,
            "min_width": null,
            "object_fit": null,
            "object_position": null,
            "order": null,
            "overflow": null,
            "overflow_x": null,
            "overflow_y": null,
            "padding": null,
            "right": null,
            "top": null,
            "visibility": null,
            "width": null
          }
        },
        "76ac228b46be41d289035608620f37e4": {
          "model_module": "@jupyter-widgets/base",
          "model_name": "LayoutModel",
          "model_module_version": "1.2.0",
          "state": {
            "_model_module": "@jupyter-widgets/base",
            "_model_module_version": "1.2.0",
            "_model_name": "LayoutModel",
            "_view_count": null,
            "_view_module": "@jupyter-widgets/base",
            "_view_module_version": "1.2.0",
            "_view_name": "LayoutView",
            "align_content": null,
            "align_items": null,
            "align_self": null,
            "border": null,
            "bottom": null,
            "display": null,
            "flex": null,
            "flex_flow": null,
            "grid_area": null,
            "grid_auto_columns": null,
            "grid_auto_flow": null,
            "grid_auto_rows": null,
            "grid_column": null,
            "grid_gap": null,
            "grid_row": null,
            "grid_template_areas": null,
            "grid_template_columns": null,
            "grid_template_rows": null,
            "height": null,
            "justify_content": null,
            "justify_items": null,
            "left": null,
            "margin": null,
            "max_height": null,
            "max_width": null,
            "min_height": null,
            "min_width": null,
            "object_fit": null,
            "object_position": null,
            "order": null,
            "overflow": null,
            "overflow_x": null,
            "overflow_y": null,
            "padding": null,
            "right": null,
            "top": null,
            "visibility": null,
            "width": null
          }
        },
        "dc65098c68eb491a834159d9fc5dafe4": {
          "model_module": "@jupyter-widgets/controls",
          "model_name": "DescriptionStyleModel",
          "model_module_version": "1.5.0",
          "state": {
            "_model_module": "@jupyter-widgets/controls",
            "_model_module_version": "1.5.0",
            "_model_name": "DescriptionStyleModel",
            "_view_count": null,
            "_view_module": "@jupyter-widgets/base",
            "_view_module_version": "1.2.0",
            "_view_name": "StyleView",
            "description_width": ""
          }
        },
        "7b5da033e89f4453a0209d56a4502703": {
          "model_module": "@jupyter-widgets/base",
          "model_name": "LayoutModel",
          "model_module_version": "1.2.0",
          "state": {
            "_model_module": "@jupyter-widgets/base",
            "_model_module_version": "1.2.0",
            "_model_name": "LayoutModel",
            "_view_count": null,
            "_view_module": "@jupyter-widgets/base",
            "_view_module_version": "1.2.0",
            "_view_name": "LayoutView",
            "align_content": null,
            "align_items": null,
            "align_self": null,
            "border": null,
            "bottom": null,
            "display": null,
            "flex": null,
            "flex_flow": null,
            "grid_area": null,
            "grid_auto_columns": null,
            "grid_auto_flow": null,
            "grid_auto_rows": null,
            "grid_column": null,
            "grid_gap": null,
            "grid_row": null,
            "grid_template_areas": null,
            "grid_template_columns": null,
            "grid_template_rows": null,
            "height": null,
            "justify_content": null,
            "justify_items": null,
            "left": null,
            "margin": null,
            "max_height": null,
            "max_width": null,
            "min_height": null,
            "min_width": null,
            "object_fit": null,
            "object_position": null,
            "order": null,
            "overflow": null,
            "overflow_x": null,
            "overflow_y": null,
            "padding": null,
            "right": null,
            "top": null,
            "visibility": null,
            "width": "20px"
          }
        },
        "ff24c41ead7a4a1bb7c00d0584da0b66": {
          "model_module": "@jupyter-widgets/controls",
          "model_name": "ProgressStyleModel",
          "model_module_version": "1.5.0",
          "state": {
            "_model_module": "@jupyter-widgets/controls",
            "_model_module_version": "1.5.0",
            "_model_name": "ProgressStyleModel",
            "_view_count": null,
            "_view_module": "@jupyter-widgets/base",
            "_view_module_version": "1.2.0",
            "_view_name": "StyleView",
            "bar_color": null,
            "description_width": ""
          }
        },
        "dd8e2dd0c4c94857a841da13b54edc29": {
          "model_module": "@jupyter-widgets/base",
          "model_name": "LayoutModel",
          "model_module_version": "1.2.0",
          "state": {
            "_model_module": "@jupyter-widgets/base",
            "_model_module_version": "1.2.0",
            "_model_name": "LayoutModel",
            "_view_count": null,
            "_view_module": "@jupyter-widgets/base",
            "_view_module_version": "1.2.0",
            "_view_name": "LayoutView",
            "align_content": null,
            "align_items": null,
            "align_self": null,
            "border": null,
            "bottom": null,
            "display": null,
            "flex": null,
            "flex_flow": null,
            "grid_area": null,
            "grid_auto_columns": null,
            "grid_auto_flow": null,
            "grid_auto_rows": null,
            "grid_column": null,
            "grid_gap": null,
            "grid_row": null,
            "grid_template_areas": null,
            "grid_template_columns": null,
            "grid_template_rows": null,
            "height": null,
            "justify_content": null,
            "justify_items": null,
            "left": null,
            "margin": null,
            "max_height": null,
            "max_width": null,
            "min_height": null,
            "min_width": null,
            "object_fit": null,
            "object_position": null,
            "order": null,
            "overflow": null,
            "overflow_x": null,
            "overflow_y": null,
            "padding": null,
            "right": null,
            "top": null,
            "visibility": null,
            "width": null
          }
        },
        "ad986f3153854df580ece2a44bb7fef9": {
          "model_module": "@jupyter-widgets/controls",
          "model_name": "DescriptionStyleModel",
          "model_module_version": "1.5.0",
          "state": {
            "_model_module": "@jupyter-widgets/controls",
            "_model_module_version": "1.5.0",
            "_model_name": "DescriptionStyleModel",
            "_view_count": null,
            "_view_module": "@jupyter-widgets/base",
            "_view_module_version": "1.2.0",
            "_view_name": "StyleView",
            "description_width": ""
          }
        },
        "84258a2fbf7e4201af2e9667bec8222c": {
          "model_module": "@jupyter-widgets/controls",
          "model_name": "HBoxModel",
          "model_module_version": "1.5.0",
          "state": {
            "_dom_classes": [],
            "_model_module": "@jupyter-widgets/controls",
            "_model_module_version": "1.5.0",
            "_model_name": "HBoxModel",
            "_view_count": null,
            "_view_module": "@jupyter-widgets/controls",
            "_view_module_version": "1.5.0",
            "_view_name": "HBoxView",
            "box_style": "",
            "children": [
              "IPY_MODEL_5f68f53cd19f4e7ea41c4a1724a4c6e8",
              "IPY_MODEL_5709d54bbb60414b8b3b2066a30bf75a",
              "IPY_MODEL_0874b06fbff440eaa10620e0971d83f0"
            ],
            "layout": "IPY_MODEL_e5ec1268dfa44f149024be9d455042e0"
          }
        },
        "5f68f53cd19f4e7ea41c4a1724a4c6e8": {
          "model_module": "@jupyter-widgets/controls",
          "model_name": "HTMLModel",
          "model_module_version": "1.5.0",
          "state": {
            "_dom_classes": [],
            "_model_module": "@jupyter-widgets/controls",
            "_model_module_version": "1.5.0",
            "_model_name": "HTMLModel",
            "_view_count": null,
            "_view_module": "@jupyter-widgets/controls",
            "_view_module_version": "1.5.0",
            "_view_name": "HTMLView",
            "description": "",
            "description_tooltip": null,
            "layout": "IPY_MODEL_87de3f06d25b41a0b87e52c687b1c790",
            "placeholder": "​",
            "style": "IPY_MODEL_a693d9fc9956426cb70d2a8d93ab2394",
            "value": "Generating train split: 100%"
          }
        },
        "5709d54bbb60414b8b3b2066a30bf75a": {
          "model_module": "@jupyter-widgets/controls",
          "model_name": "FloatProgressModel",
          "model_module_version": "1.5.0",
          "state": {
            "_dom_classes": [],
            "_model_module": "@jupyter-widgets/controls",
            "_model_module_version": "1.5.0",
            "_model_name": "FloatProgressModel",
            "_view_count": null,
            "_view_module": "@jupyter-widgets/controls",
            "_view_module_version": "1.5.0",
            "_view_name": "ProgressView",
            "bar_style": "",
            "description": "",
            "description_tooltip": null,
            "layout": "IPY_MODEL_e8b4730568124fd58355ce4826cd5580",
            "max": 1295,
            "min": 0,
            "orientation": "horizontal",
            "style": "IPY_MODEL_06775da0e08c4e7ead816232f8305640",
            "value": 1295
          }
        },
        "0874b06fbff440eaa10620e0971d83f0": {
          "model_module": "@jupyter-widgets/controls",
          "model_name": "HTMLModel",
          "model_module_version": "1.5.0",
          "state": {
            "_dom_classes": [],
            "_model_module": "@jupyter-widgets/controls",
            "_model_module_version": "1.5.0",
            "_model_name": "HTMLModel",
            "_view_count": null,
            "_view_module": "@jupyter-widgets/controls",
            "_view_module_version": "1.5.0",
            "_view_name": "HTMLView",
            "description": "",
            "description_tooltip": null,
            "layout": "IPY_MODEL_e4a69f1d893e48b99db5ba6fd0039b43",
            "placeholder": "​",
            "style": "IPY_MODEL_dcadb09332604c4f9575bef354e64ca3",
            "value": " 1295/1295 [00:25&lt;00:00, 247.01 examples/s]"
          }
        },
        "e5ec1268dfa44f149024be9d455042e0": {
          "model_module": "@jupyter-widgets/base",
          "model_name": "LayoutModel",
          "model_module_version": "1.2.0",
          "state": {
            "_model_module": "@jupyter-widgets/base",
            "_model_module_version": "1.2.0",
            "_model_name": "LayoutModel",
            "_view_count": null,
            "_view_module": "@jupyter-widgets/base",
            "_view_module_version": "1.2.0",
            "_view_name": "LayoutView",
            "align_content": null,
            "align_items": null,
            "align_self": null,
            "border": null,
            "bottom": null,
            "display": null,
            "flex": null,
            "flex_flow": null,
            "grid_area": null,
            "grid_auto_columns": null,
            "grid_auto_flow": null,
            "grid_auto_rows": null,
            "grid_column": null,
            "grid_gap": null,
            "grid_row": null,
            "grid_template_areas": null,
            "grid_template_columns": null,
            "grid_template_rows": null,
            "height": null,
            "justify_content": null,
            "justify_items": null,
            "left": null,
            "margin": null,
            "max_height": null,
            "max_width": null,
            "min_height": null,
            "min_width": null,
            "object_fit": null,
            "object_position": null,
            "order": null,
            "overflow": null,
            "overflow_x": null,
            "overflow_y": null,
            "padding": null,
            "right": null,
            "top": null,
            "visibility": "hidden",
            "width": null
          }
        },
        "87de3f06d25b41a0b87e52c687b1c790": {
          "model_module": "@jupyter-widgets/base",
          "model_name": "LayoutModel",
          "model_module_version": "1.2.0",
          "state": {
            "_model_module": "@jupyter-widgets/base",
            "_model_module_version": "1.2.0",
            "_model_name": "LayoutModel",
            "_view_count": null,
            "_view_module": "@jupyter-widgets/base",
            "_view_module_version": "1.2.0",
            "_view_name": "LayoutView",
            "align_content": null,
            "align_items": null,
            "align_self": null,
            "border": null,
            "bottom": null,
            "display": null,
            "flex": null,
            "flex_flow": null,
            "grid_area": null,
            "grid_auto_columns": null,
            "grid_auto_flow": null,
            "grid_auto_rows": null,
            "grid_column": null,
            "grid_gap": null,
            "grid_row": null,
            "grid_template_areas": null,
            "grid_template_columns": null,
            "grid_template_rows": null,
            "height": null,
            "justify_content": null,
            "justify_items": null,
            "left": null,
            "margin": null,
            "max_height": null,
            "max_width": null,
            "min_height": null,
            "min_width": null,
            "object_fit": null,
            "object_position": null,
            "order": null,
            "overflow": null,
            "overflow_x": null,
            "overflow_y": null,
            "padding": null,
            "right": null,
            "top": null,
            "visibility": null,
            "width": null
          }
        },
        "a693d9fc9956426cb70d2a8d93ab2394": {
          "model_module": "@jupyter-widgets/controls",
          "model_name": "DescriptionStyleModel",
          "model_module_version": "1.5.0",
          "state": {
            "_model_module": "@jupyter-widgets/controls",
            "_model_module_version": "1.5.0",
            "_model_name": "DescriptionStyleModel",
            "_view_count": null,
            "_view_module": "@jupyter-widgets/base",
            "_view_module_version": "1.2.0",
            "_view_name": "StyleView",
            "description_width": ""
          }
        },
        "e8b4730568124fd58355ce4826cd5580": {
          "model_module": "@jupyter-widgets/base",
          "model_name": "LayoutModel",
          "model_module_version": "1.2.0",
          "state": {
            "_model_module": "@jupyter-widgets/base",
            "_model_module_version": "1.2.0",
            "_model_name": "LayoutModel",
            "_view_count": null,
            "_view_module": "@jupyter-widgets/base",
            "_view_module_version": "1.2.0",
            "_view_name": "LayoutView",
            "align_content": null,
            "align_items": null,
            "align_self": null,
            "border": null,
            "bottom": null,
            "display": null,
            "flex": null,
            "flex_flow": null,
            "grid_area": null,
            "grid_auto_columns": null,
            "grid_auto_flow": null,
            "grid_auto_rows": null,
            "grid_column": null,
            "grid_gap": null,
            "grid_row": null,
            "grid_template_areas": null,
            "grid_template_columns": null,
            "grid_template_rows": null,
            "height": null,
            "justify_content": null,
            "justify_items": null,
            "left": null,
            "margin": null,
            "max_height": null,
            "max_width": null,
            "min_height": null,
            "min_width": null,
            "object_fit": null,
            "object_position": null,
            "order": null,
            "overflow": null,
            "overflow_x": null,
            "overflow_y": null,
            "padding": null,
            "right": null,
            "top": null,
            "visibility": null,
            "width": null
          }
        },
        "06775da0e08c4e7ead816232f8305640": {
          "model_module": "@jupyter-widgets/controls",
          "model_name": "ProgressStyleModel",
          "model_module_version": "1.5.0",
          "state": {
            "_model_module": "@jupyter-widgets/controls",
            "_model_module_version": "1.5.0",
            "_model_name": "ProgressStyleModel",
            "_view_count": null,
            "_view_module": "@jupyter-widgets/base",
            "_view_module_version": "1.2.0",
            "_view_name": "StyleView",
            "bar_color": null,
            "description_width": ""
          }
        },
        "e4a69f1d893e48b99db5ba6fd0039b43": {
          "model_module": "@jupyter-widgets/base",
          "model_name": "LayoutModel",
          "model_module_version": "1.2.0",
          "state": {
            "_model_module": "@jupyter-widgets/base",
            "_model_module_version": "1.2.0",
            "_model_name": "LayoutModel",
            "_view_count": null,
            "_view_module": "@jupyter-widgets/base",
            "_view_module_version": "1.2.0",
            "_view_name": "LayoutView",
            "align_content": null,
            "align_items": null,
            "align_self": null,
            "border": null,
            "bottom": null,
            "display": null,
            "flex": null,
            "flex_flow": null,
            "grid_area": null,
            "grid_auto_columns": null,
            "grid_auto_flow": null,
            "grid_auto_rows": null,
            "grid_column": null,
            "grid_gap": null,
            "grid_row": null,
            "grid_template_areas": null,
            "grid_template_columns": null,
            "grid_template_rows": null,
            "height": null,
            "justify_content": null,
            "justify_items": null,
            "left": null,
            "margin": null,
            "max_height": null,
            "max_width": null,
            "min_height": null,
            "min_width": null,
            "object_fit": null,
            "object_position": null,
            "order": null,
            "overflow": null,
            "overflow_x": null,
            "overflow_y": null,
            "padding": null,
            "right": null,
            "top": null,
            "visibility": null,
            "width": null
          }
        },
        "dcadb09332604c4f9575bef354e64ca3": {
          "model_module": "@jupyter-widgets/controls",
          "model_name": "DescriptionStyleModel",
          "model_module_version": "1.5.0",
          "state": {
            "_model_module": "@jupyter-widgets/controls",
            "_model_module_version": "1.5.0",
            "_model_name": "DescriptionStyleModel",
            "_view_count": null,
            "_view_module": "@jupyter-widgets/base",
            "_view_module_version": "1.2.0",
            "_view_name": "StyleView",
            "description_width": ""
          }
        },
        "f637724968454c67a89146d062308c78": {
          "model_module": "@jupyter-widgets/controls",
          "model_name": "HBoxModel",
          "model_module_version": "1.5.0",
          "state": {
            "_dom_classes": [],
            "_model_module": "@jupyter-widgets/controls",
            "_model_module_version": "1.5.0",
            "_model_name": "HBoxModel",
            "_view_count": null,
            "_view_module": "@jupyter-widgets/controls",
            "_view_module_version": "1.5.0",
            "_view_name": "HBoxView",
            "box_style": "",
            "children": [
              "IPY_MODEL_919fe5d71f4c443aa0d95ed92ba065dd",
              "IPY_MODEL_99c27b67cb9c443989fc6cc03683f6b2",
              "IPY_MODEL_01efc9f1696f45998e1dd070cca53c15"
            ],
            "layout": "IPY_MODEL_d4bd558ee14847fc822e4d6bf9ae3b83"
          }
        },
        "919fe5d71f4c443aa0d95ed92ba065dd": {
          "model_module": "@jupyter-widgets/controls",
          "model_name": "HTMLModel",
          "model_module_version": "1.5.0",
          "state": {
            "_dom_classes": [],
            "_model_module": "@jupyter-widgets/controls",
            "_model_module_version": "1.5.0",
            "_model_name": "HTMLModel",
            "_view_count": null,
            "_view_module": "@jupyter-widgets/controls",
            "_view_module_version": "1.5.0",
            "_view_name": "HTMLView",
            "description": "",
            "description_tooltip": null,
            "layout": "IPY_MODEL_65d7bbe6f37c441f9fd2707360758c8e",
            "placeholder": "​",
            "style": "IPY_MODEL_206b7f63c0564f8694f4ef5009be0f49",
            "value": "Generating test split: 100%"
          }
        },
        "99c27b67cb9c443989fc6cc03683f6b2": {
          "model_module": "@jupyter-widgets/controls",
          "model_name": "FloatProgressModel",
          "model_module_version": "1.5.0",
          "state": {
            "_dom_classes": [],
            "_model_module": "@jupyter-widgets/controls",
            "_model_module_version": "1.5.0",
            "_model_name": "FloatProgressModel",
            "_view_count": null,
            "_view_module": "@jupyter-widgets/controls",
            "_view_module_version": "1.5.0",
            "_view_name": "ProgressView",
            "bar_style": "",
            "description": "",
            "description_tooltip": null,
            "layout": "IPY_MODEL_7226fbb6dec84bb5941c65a545ce4476",
            "max": 358,
            "min": 0,
            "orientation": "horizontal",
            "style": "IPY_MODEL_ed6359c3fb4840ed97648b0e7d55df9b",
            "value": 358
          }
        },
        "01efc9f1696f45998e1dd070cca53c15": {
          "model_module": "@jupyter-widgets/controls",
          "model_name": "HTMLModel",
          "model_module_version": "1.5.0",
          "state": {
            "_dom_classes": [],
            "_model_module": "@jupyter-widgets/controls",
            "_model_module_version": "1.5.0",
            "_model_name": "HTMLModel",
            "_view_count": null,
            "_view_module": "@jupyter-widgets/controls",
            "_view_module_version": "1.5.0",
            "_view_name": "HTMLView",
            "description": "",
            "description_tooltip": null,
            "layout": "IPY_MODEL_12be9ef5bee84444846654fe757c54d9",
            "placeholder": "​",
            "style": "IPY_MODEL_f53e7b963bb6479dac1fa6a5085f368e",
            "value": " 358/358 [00:22&lt;00:00, 212.20 examples/s]"
          }
        },
        "d4bd558ee14847fc822e4d6bf9ae3b83": {
          "model_module": "@jupyter-widgets/base",
          "model_name": "LayoutModel",
          "model_module_version": "1.2.0",
          "state": {
            "_model_module": "@jupyter-widgets/base",
            "_model_module_version": "1.2.0",
            "_model_name": "LayoutModel",
            "_view_count": null,
            "_view_module": "@jupyter-widgets/base",
            "_view_module_version": "1.2.0",
            "_view_name": "LayoutView",
            "align_content": null,
            "align_items": null,
            "align_self": null,
            "border": null,
            "bottom": null,
            "display": null,
            "flex": null,
            "flex_flow": null,
            "grid_area": null,
            "grid_auto_columns": null,
            "grid_auto_flow": null,
            "grid_auto_rows": null,
            "grid_column": null,
            "grid_gap": null,
            "grid_row": null,
            "grid_template_areas": null,
            "grid_template_columns": null,
            "grid_template_rows": null,
            "height": null,
            "justify_content": null,
            "justify_items": null,
            "left": null,
            "margin": null,
            "max_height": null,
            "max_width": null,
            "min_height": null,
            "min_width": null,
            "object_fit": null,
            "object_position": null,
            "order": null,
            "overflow": null,
            "overflow_x": null,
            "overflow_y": null,
            "padding": null,
            "right": null,
            "top": null,
            "visibility": "hidden",
            "width": null
          }
        },
        "65d7bbe6f37c441f9fd2707360758c8e": {
          "model_module": "@jupyter-widgets/base",
          "model_name": "LayoutModel",
          "model_module_version": "1.2.0",
          "state": {
            "_model_module": "@jupyter-widgets/base",
            "_model_module_version": "1.2.0",
            "_model_name": "LayoutModel",
            "_view_count": null,
            "_view_module": "@jupyter-widgets/base",
            "_view_module_version": "1.2.0",
            "_view_name": "LayoutView",
            "align_content": null,
            "align_items": null,
            "align_self": null,
            "border": null,
            "bottom": null,
            "display": null,
            "flex": null,
            "flex_flow": null,
            "grid_area": null,
            "grid_auto_columns": null,
            "grid_auto_flow": null,
            "grid_auto_rows": null,
            "grid_column": null,
            "grid_gap": null,
            "grid_row": null,
            "grid_template_areas": null,
            "grid_template_columns": null,
            "grid_template_rows": null,
            "height": null,
            "justify_content": null,
            "justify_items": null,
            "left": null,
            "margin": null,
            "max_height": null,
            "max_width": null,
            "min_height": null,
            "min_width": null,
            "object_fit": null,
            "object_position": null,
            "order": null,
            "overflow": null,
            "overflow_x": null,
            "overflow_y": null,
            "padding": null,
            "right": null,
            "top": null,
            "visibility": null,
            "width": null
          }
        },
        "206b7f63c0564f8694f4ef5009be0f49": {
          "model_module": "@jupyter-widgets/controls",
          "model_name": "DescriptionStyleModel",
          "model_module_version": "1.5.0",
          "state": {
            "_model_module": "@jupyter-widgets/controls",
            "_model_module_version": "1.5.0",
            "_model_name": "DescriptionStyleModel",
            "_view_count": null,
            "_view_module": "@jupyter-widgets/base",
            "_view_module_version": "1.2.0",
            "_view_name": "StyleView",
            "description_width": ""
          }
        },
        "7226fbb6dec84bb5941c65a545ce4476": {
          "model_module": "@jupyter-widgets/base",
          "model_name": "LayoutModel",
          "model_module_version": "1.2.0",
          "state": {
            "_model_module": "@jupyter-widgets/base",
            "_model_module_version": "1.2.0",
            "_model_name": "LayoutModel",
            "_view_count": null,
            "_view_module": "@jupyter-widgets/base",
            "_view_module_version": "1.2.0",
            "_view_name": "LayoutView",
            "align_content": null,
            "align_items": null,
            "align_self": null,
            "border": null,
            "bottom": null,
            "display": null,
            "flex": null,
            "flex_flow": null,
            "grid_area": null,
            "grid_auto_columns": null,
            "grid_auto_flow": null,
            "grid_auto_rows": null,
            "grid_column": null,
            "grid_gap": null,
            "grid_row": null,
            "grid_template_areas": null,
            "grid_template_columns": null,
            "grid_template_rows": null,
            "height": null,
            "justify_content": null,
            "justify_items": null,
            "left": null,
            "margin": null,
            "max_height": null,
            "max_width": null,
            "min_height": null,
            "min_width": null,
            "object_fit": null,
            "object_position": null,
            "order": null,
            "overflow": null,
            "overflow_x": null,
            "overflow_y": null,
            "padding": null,
            "right": null,
            "top": null,
            "visibility": null,
            "width": null
          }
        },
        "ed6359c3fb4840ed97648b0e7d55df9b": {
          "model_module": "@jupyter-widgets/controls",
          "model_name": "ProgressStyleModel",
          "model_module_version": "1.5.0",
          "state": {
            "_model_module": "@jupyter-widgets/controls",
            "_model_module_version": "1.5.0",
            "_model_name": "ProgressStyleModel",
            "_view_count": null,
            "_view_module": "@jupyter-widgets/base",
            "_view_module_version": "1.2.0",
            "_view_name": "StyleView",
            "bar_color": null,
            "description_width": ""
          }
        },
        "12be9ef5bee84444846654fe757c54d9": {
          "model_module": "@jupyter-widgets/base",
          "model_name": "LayoutModel",
          "model_module_version": "1.2.0",
          "state": {
            "_model_module": "@jupyter-widgets/base",
            "_model_module_version": "1.2.0",
            "_model_name": "LayoutModel",
            "_view_count": null,
            "_view_module": "@jupyter-widgets/base",
            "_view_module_version": "1.2.0",
            "_view_name": "LayoutView",
            "align_content": null,
            "align_items": null,
            "align_self": null,
            "border": null,
            "bottom": null,
            "display": null,
            "flex": null,
            "flex_flow": null,
            "grid_area": null,
            "grid_auto_columns": null,
            "grid_auto_flow": null,
            "grid_auto_rows": null,
            "grid_column": null,
            "grid_gap": null,
            "grid_row": null,
            "grid_template_areas": null,
            "grid_template_columns": null,
            "grid_template_rows": null,
            "height": null,
            "justify_content": null,
            "justify_items": null,
            "left": null,
            "margin": null,
            "max_height": null,
            "max_width": null,
            "min_height": null,
            "min_width": null,
            "object_fit": null,
            "object_position": null,
            "order": null,
            "overflow": null,
            "overflow_x": null,
            "overflow_y": null,
            "padding": null,
            "right": null,
            "top": null,
            "visibility": null,
            "width": null
          }
        },
        "f53e7b963bb6479dac1fa6a5085f368e": {
          "model_module": "@jupyter-widgets/controls",
          "model_name": "DescriptionStyleModel",
          "model_module_version": "1.5.0",
          "state": {
            "_model_module": "@jupyter-widgets/controls",
            "_model_module_version": "1.5.0",
            "_model_name": "DescriptionStyleModel",
            "_view_count": null,
            "_view_module": "@jupyter-widgets/base",
            "_view_module_version": "1.2.0",
            "_view_name": "StyleView",
            "description_width": ""
          }
        },
        "06235b0566ed42618c98606d854075d9": {
          "model_module": "@jupyter-widgets/controls",
          "model_name": "HBoxModel",
          "model_module_version": "1.5.0",
          "state": {
            "_dom_classes": [],
            "_model_module": "@jupyter-widgets/controls",
            "_model_module_version": "1.5.0",
            "_model_name": "HBoxModel",
            "_view_count": null,
            "_view_module": "@jupyter-widgets/controls",
            "_view_module_version": "1.5.0",
            "_view_name": "HBoxView",
            "box_style": "",
            "children": [
              "IPY_MODEL_c1ed2a1616af445eaeb11b4607f6f57d",
              "IPY_MODEL_d9654ed0f841416d99b143420a5031c5",
              "IPY_MODEL_8e02ba532f714ac3a306b6358617517c"
            ],
            "layout": "IPY_MODEL_5ae210f86104427fbea4681c47b65395"
          }
        },
        "c1ed2a1616af445eaeb11b4607f6f57d": {
          "model_module": "@jupyter-widgets/controls",
          "model_name": "HTMLModel",
          "model_module_version": "1.5.0",
          "state": {
            "_dom_classes": [],
            "_model_module": "@jupyter-widgets/controls",
            "_model_module_version": "1.5.0",
            "_model_name": "HTMLModel",
            "_view_count": null,
            "_view_module": "@jupyter-widgets/controls",
            "_view_module_version": "1.5.0",
            "_view_name": "HTMLView",
            "description": "",
            "description_tooltip": null,
            "layout": "IPY_MODEL_b1876d919728448ba0b40bbfa33a8a06",
            "placeholder": "​",
            "style": "IPY_MODEL_6500d5f00d3f4b97a58dec39cf557dad",
            "value": "Generating validation split: 100%"
          }
        },
        "d9654ed0f841416d99b143420a5031c5": {
          "model_module": "@jupyter-widgets/controls",
          "model_name": "FloatProgressModel",
          "model_module_version": "1.5.0",
          "state": {
            "_dom_classes": [],
            "_model_module": "@jupyter-widgets/controls",
            "_model_module_version": "1.5.0",
            "_model_name": "FloatProgressModel",
            "_view_count": null,
            "_view_module": "@jupyter-widgets/controls",
            "_view_module_version": "1.5.0",
            "_view_name": "ProgressView",
            "bar_style": "",
            "description": "",
            "description_tooltip": null,
            "layout": "IPY_MODEL_0b4f35ceddd444ea88f9b21ffd4107d8",
            "max": 255,
            "min": 0,
            "orientation": "horizontal",
            "style": "IPY_MODEL_1001742960854e259700b62c5537f4d5",
            "value": 255
          }
        },
        "8e02ba532f714ac3a306b6358617517c": {
          "model_module": "@jupyter-widgets/controls",
          "model_name": "HTMLModel",
          "model_module_version": "1.5.0",
          "state": {
            "_dom_classes": [],
            "_model_module": "@jupyter-widgets/controls",
            "_model_module_version": "1.5.0",
            "_model_name": "HTMLModel",
            "_view_count": null,
            "_view_module": "@jupyter-widgets/controls",
            "_view_module_version": "1.5.0",
            "_view_name": "HTMLView",
            "description": "",
            "description_tooltip": null,
            "layout": "IPY_MODEL_7b634d640ed04f3dbc8242391743fb35",
            "placeholder": "​",
            "style": "IPY_MODEL_c8fa4884c2a34fac8dd8f9c11e2349a8",
            "value": " 255/255 [00:16&lt;00:00, 194.29 examples/s]"
          }
        },
        "5ae210f86104427fbea4681c47b65395": {
          "model_module": "@jupyter-widgets/base",
          "model_name": "LayoutModel",
          "model_module_version": "1.2.0",
          "state": {
            "_model_module": "@jupyter-widgets/base",
            "_model_module_version": "1.2.0",
            "_model_name": "LayoutModel",
            "_view_count": null,
            "_view_module": "@jupyter-widgets/base",
            "_view_module_version": "1.2.0",
            "_view_name": "LayoutView",
            "align_content": null,
            "align_items": null,
            "align_self": null,
            "border": null,
            "bottom": null,
            "display": null,
            "flex": null,
            "flex_flow": null,
            "grid_area": null,
            "grid_auto_columns": null,
            "grid_auto_flow": null,
            "grid_auto_rows": null,
            "grid_column": null,
            "grid_gap": null,
            "grid_row": null,
            "grid_template_areas": null,
            "grid_template_columns": null,
            "grid_template_rows": null,
            "height": null,
            "justify_content": null,
            "justify_items": null,
            "left": null,
            "margin": null,
            "max_height": null,
            "max_width": null,
            "min_height": null,
            "min_width": null,
            "object_fit": null,
            "object_position": null,
            "order": null,
            "overflow": null,
            "overflow_x": null,
            "overflow_y": null,
            "padding": null,
            "right": null,
            "top": null,
            "visibility": "hidden",
            "width": null
          }
        },
        "b1876d919728448ba0b40bbfa33a8a06": {
          "model_module": "@jupyter-widgets/base",
          "model_name": "LayoutModel",
          "model_module_version": "1.2.0",
          "state": {
            "_model_module": "@jupyter-widgets/base",
            "_model_module_version": "1.2.0",
            "_model_name": "LayoutModel",
            "_view_count": null,
            "_view_module": "@jupyter-widgets/base",
            "_view_module_version": "1.2.0",
            "_view_name": "LayoutView",
            "align_content": null,
            "align_items": null,
            "align_self": null,
            "border": null,
            "bottom": null,
            "display": null,
            "flex": null,
            "flex_flow": null,
            "grid_area": null,
            "grid_auto_columns": null,
            "grid_auto_flow": null,
            "grid_auto_rows": null,
            "grid_column": null,
            "grid_gap": null,
            "grid_row": null,
            "grid_template_areas": null,
            "grid_template_columns": null,
            "grid_template_rows": null,
            "height": null,
            "justify_content": null,
            "justify_items": null,
            "left": null,
            "margin": null,
            "max_height": null,
            "max_width": null,
            "min_height": null,
            "min_width": null,
            "object_fit": null,
            "object_position": null,
            "order": null,
            "overflow": null,
            "overflow_x": null,
            "overflow_y": null,
            "padding": null,
            "right": null,
            "top": null,
            "visibility": null,
            "width": null
          }
        },
        "6500d5f00d3f4b97a58dec39cf557dad": {
          "model_module": "@jupyter-widgets/controls",
          "model_name": "DescriptionStyleModel",
          "model_module_version": "1.5.0",
          "state": {
            "_model_module": "@jupyter-widgets/controls",
            "_model_module_version": "1.5.0",
            "_model_name": "DescriptionStyleModel",
            "_view_count": null,
            "_view_module": "@jupyter-widgets/base",
            "_view_module_version": "1.2.0",
            "_view_name": "StyleView",
            "description_width": ""
          }
        },
        "0b4f35ceddd444ea88f9b21ffd4107d8": {
          "model_module": "@jupyter-widgets/base",
          "model_name": "LayoutModel",
          "model_module_version": "1.2.0",
          "state": {
            "_model_module": "@jupyter-widgets/base",
            "_model_module_version": "1.2.0",
            "_model_name": "LayoutModel",
            "_view_count": null,
            "_view_module": "@jupyter-widgets/base",
            "_view_module_version": "1.2.0",
            "_view_name": "LayoutView",
            "align_content": null,
            "align_items": null,
            "align_self": null,
            "border": null,
            "bottom": null,
            "display": null,
            "flex": null,
            "flex_flow": null,
            "grid_area": null,
            "grid_auto_columns": null,
            "grid_auto_flow": null,
            "grid_auto_rows": null,
            "grid_column": null,
            "grid_gap": null,
            "grid_row": null,
            "grid_template_areas": null,
            "grid_template_columns": null,
            "grid_template_rows": null,
            "height": null,
            "justify_content": null,
            "justify_items": null,
            "left": null,
            "margin": null,
            "max_height": null,
            "max_width": null,
            "min_height": null,
            "min_width": null,
            "object_fit": null,
            "object_position": null,
            "order": null,
            "overflow": null,
            "overflow_x": null,
            "overflow_y": null,
            "padding": null,
            "right": null,
            "top": null,
            "visibility": null,
            "width": null
          }
        },
        "1001742960854e259700b62c5537f4d5": {
          "model_module": "@jupyter-widgets/controls",
          "model_name": "ProgressStyleModel",
          "model_module_version": "1.5.0",
          "state": {
            "_model_module": "@jupyter-widgets/controls",
            "_model_module_version": "1.5.0",
            "_model_name": "ProgressStyleModel",
            "_view_count": null,
            "_view_module": "@jupyter-widgets/base",
            "_view_module_version": "1.2.0",
            "_view_name": "StyleView",
            "bar_color": null,
            "description_width": ""
          }
        },
        "7b634d640ed04f3dbc8242391743fb35": {
          "model_module": "@jupyter-widgets/base",
          "model_name": "LayoutModel",
          "model_module_version": "1.2.0",
          "state": {
            "_model_module": "@jupyter-widgets/base",
            "_model_module_version": "1.2.0",
            "_model_name": "LayoutModel",
            "_view_count": null,
            "_view_module": "@jupyter-widgets/base",
            "_view_module_version": "1.2.0",
            "_view_name": "LayoutView",
            "align_content": null,
            "align_items": null,
            "align_self": null,
            "border": null,
            "bottom": null,
            "display": null,
            "flex": null,
            "flex_flow": null,
            "grid_area": null,
            "grid_auto_columns": null,
            "grid_auto_flow": null,
            "grid_auto_rows": null,
            "grid_column": null,
            "grid_gap": null,
            "grid_row": null,
            "grid_template_areas": null,
            "grid_template_columns": null,
            "grid_template_rows": null,
            "height": null,
            "justify_content": null,
            "justify_items": null,
            "left": null,
            "margin": null,
            "max_height": null,
            "max_width": null,
            "min_height": null,
            "min_width": null,
            "object_fit": null,
            "object_position": null,
            "order": null,
            "overflow": null,
            "overflow_x": null,
            "overflow_y": null,
            "padding": null,
            "right": null,
            "top": null,
            "visibility": null,
            "width": null
          }
        },
        "c8fa4884c2a34fac8dd8f9c11e2349a8": {
          "model_module": "@jupyter-widgets/controls",
          "model_name": "DescriptionStyleModel",
          "model_module_version": "1.5.0",
          "state": {
            "_model_module": "@jupyter-widgets/controls",
            "_model_module_version": "1.5.0",
            "_model_name": "DescriptionStyleModel",
            "_view_count": null,
            "_view_module": "@jupyter-widgets/base",
            "_view_module_version": "1.2.0",
            "_view_name": "StyleView",
            "description_width": ""
          }
        },
        "bfc118f4baf34c289730ef0193690a61": {
          "model_module": "@jupyter-widgets/controls",
          "model_name": "HBoxModel",
          "model_module_version": "1.5.0",
          "state": {
            "_dom_classes": [],
            "_model_module": "@jupyter-widgets/controls",
            "_model_module_version": "1.5.0",
            "_model_name": "HBoxModel",
            "_view_count": null,
            "_view_module": "@jupyter-widgets/controls",
            "_view_module_version": "1.5.0",
            "_view_name": "HBoxView",
            "box_style": "",
            "children": [
              "IPY_MODEL_18e728f4e405463a9a0fea865bc7dc01",
              "IPY_MODEL_0a6fe602a7de4f1087ace7abdd52038d",
              "IPY_MODEL_0816bb5cdb9c4df79068d33360a7d790"
            ],
            "layout": "IPY_MODEL_03a2ec69fdc44208be488fc35876dd57"
          }
        },
        "18e728f4e405463a9a0fea865bc7dc01": {
          "model_module": "@jupyter-widgets/controls",
          "model_name": "HTMLModel",
          "model_module_version": "1.5.0",
          "state": {
            "_dom_classes": [],
            "_model_module": "@jupyter-widgets/controls",
            "_model_module_version": "1.5.0",
            "_model_name": "HTMLModel",
            "_view_count": null,
            "_view_module": "@jupyter-widgets/controls",
            "_view_module_version": "1.5.0",
            "_view_name": "HTMLView",
            "description": "",
            "description_tooltip": null,
            "layout": "IPY_MODEL_fb015e9b75324126bdf10e73c540b64b",
            "placeholder": "​",
            "style": "IPY_MODEL_91c1f54bd2e449adaacadd6f6ccf2470",
            "value": "100%"
          }
        },
        "0a6fe602a7de4f1087ace7abdd52038d": {
          "model_module": "@jupyter-widgets/controls",
          "model_name": "FloatProgressModel",
          "model_module_version": "1.5.0",
          "state": {
            "_dom_classes": [],
            "_model_module": "@jupyter-widgets/controls",
            "_model_module_version": "1.5.0",
            "_model_name": "FloatProgressModel",
            "_view_count": null,
            "_view_module": "@jupyter-widgets/controls",
            "_view_module_version": "1.5.0",
            "_view_name": "ProgressView",
            "bar_style": "success",
            "description": "",
            "description_tooltip": null,
            "layout": "IPY_MODEL_d3b603f663474b039bddae21876a9d96",
            "max": 3,
            "min": 0,
            "orientation": "horizontal",
            "style": "IPY_MODEL_87a32832607a41bfa26deef1369d1f89",
            "value": 3
          }
        },
        "0816bb5cdb9c4df79068d33360a7d790": {
          "model_module": "@jupyter-widgets/controls",
          "model_name": "HTMLModel",
          "model_module_version": "1.5.0",
          "state": {
            "_dom_classes": [],
            "_model_module": "@jupyter-widgets/controls",
            "_model_module_version": "1.5.0",
            "_model_name": "HTMLModel",
            "_view_count": null,
            "_view_module": "@jupyter-widgets/controls",
            "_view_module_version": "1.5.0",
            "_view_name": "HTMLView",
            "description": "",
            "description_tooltip": null,
            "layout": "IPY_MODEL_53f1efaec6d94220a8192239e0a9d895",
            "placeholder": "​",
            "style": "IPY_MODEL_b76bb9880bfd4de6b7c1b8e64073be87",
            "value": " 3/3 [00:00&lt;00:00, 42.45it/s]"
          }
        },
        "03a2ec69fdc44208be488fc35876dd57": {
          "model_module": "@jupyter-widgets/base",
          "model_name": "LayoutModel",
          "model_module_version": "1.2.0",
          "state": {
            "_model_module": "@jupyter-widgets/base",
            "_model_module_version": "1.2.0",
            "_model_name": "LayoutModel",
            "_view_count": null,
            "_view_module": "@jupyter-widgets/base",
            "_view_module_version": "1.2.0",
            "_view_name": "LayoutView",
            "align_content": null,
            "align_items": null,
            "align_self": null,
            "border": null,
            "bottom": null,
            "display": null,
            "flex": null,
            "flex_flow": null,
            "grid_area": null,
            "grid_auto_columns": null,
            "grid_auto_flow": null,
            "grid_auto_rows": null,
            "grid_column": null,
            "grid_gap": null,
            "grid_row": null,
            "grid_template_areas": null,
            "grid_template_columns": null,
            "grid_template_rows": null,
            "height": null,
            "justify_content": null,
            "justify_items": null,
            "left": null,
            "margin": null,
            "max_height": null,
            "max_width": null,
            "min_height": null,
            "min_width": null,
            "object_fit": null,
            "object_position": null,
            "order": null,
            "overflow": null,
            "overflow_x": null,
            "overflow_y": null,
            "padding": null,
            "right": null,
            "top": null,
            "visibility": null,
            "width": null
          }
        },
        "fb015e9b75324126bdf10e73c540b64b": {
          "model_module": "@jupyter-widgets/base",
          "model_name": "LayoutModel",
          "model_module_version": "1.2.0",
          "state": {
            "_model_module": "@jupyter-widgets/base",
            "_model_module_version": "1.2.0",
            "_model_name": "LayoutModel",
            "_view_count": null,
            "_view_module": "@jupyter-widgets/base",
            "_view_module_version": "1.2.0",
            "_view_name": "LayoutView",
            "align_content": null,
            "align_items": null,
            "align_self": null,
            "border": null,
            "bottom": null,
            "display": null,
            "flex": null,
            "flex_flow": null,
            "grid_area": null,
            "grid_auto_columns": null,
            "grid_auto_flow": null,
            "grid_auto_rows": null,
            "grid_column": null,
            "grid_gap": null,
            "grid_row": null,
            "grid_template_areas": null,
            "grid_template_columns": null,
            "grid_template_rows": null,
            "height": null,
            "justify_content": null,
            "justify_items": null,
            "left": null,
            "margin": null,
            "max_height": null,
            "max_width": null,
            "min_height": null,
            "min_width": null,
            "object_fit": null,
            "object_position": null,
            "order": null,
            "overflow": null,
            "overflow_x": null,
            "overflow_y": null,
            "padding": null,
            "right": null,
            "top": null,
            "visibility": null,
            "width": null
          }
        },
        "91c1f54bd2e449adaacadd6f6ccf2470": {
          "model_module": "@jupyter-widgets/controls",
          "model_name": "DescriptionStyleModel",
          "model_module_version": "1.5.0",
          "state": {
            "_model_module": "@jupyter-widgets/controls",
            "_model_module_version": "1.5.0",
            "_model_name": "DescriptionStyleModel",
            "_view_count": null,
            "_view_module": "@jupyter-widgets/base",
            "_view_module_version": "1.2.0",
            "_view_name": "StyleView",
            "description_width": ""
          }
        },
        "d3b603f663474b039bddae21876a9d96": {
          "model_module": "@jupyter-widgets/base",
          "model_name": "LayoutModel",
          "model_module_version": "1.2.0",
          "state": {
            "_model_module": "@jupyter-widgets/base",
            "_model_module_version": "1.2.0",
            "_model_name": "LayoutModel",
            "_view_count": null,
            "_view_module": "@jupyter-widgets/base",
            "_view_module_version": "1.2.0",
            "_view_name": "LayoutView",
            "align_content": null,
            "align_items": null,
            "align_self": null,
            "border": null,
            "bottom": null,
            "display": null,
            "flex": null,
            "flex_flow": null,
            "grid_area": null,
            "grid_auto_columns": null,
            "grid_auto_flow": null,
            "grid_auto_rows": null,
            "grid_column": null,
            "grid_gap": null,
            "grid_row": null,
            "grid_template_areas": null,
            "grid_template_columns": null,
            "grid_template_rows": null,
            "height": null,
            "justify_content": null,
            "justify_items": null,
            "left": null,
            "margin": null,
            "max_height": null,
            "max_width": null,
            "min_height": null,
            "min_width": null,
            "object_fit": null,
            "object_position": null,
            "order": null,
            "overflow": null,
            "overflow_x": null,
            "overflow_y": null,
            "padding": null,
            "right": null,
            "top": null,
            "visibility": null,
            "width": null
          }
        },
        "87a32832607a41bfa26deef1369d1f89": {
          "model_module": "@jupyter-widgets/controls",
          "model_name": "ProgressStyleModel",
          "model_module_version": "1.5.0",
          "state": {
            "_model_module": "@jupyter-widgets/controls",
            "_model_module_version": "1.5.0",
            "_model_name": "ProgressStyleModel",
            "_view_count": null,
            "_view_module": "@jupyter-widgets/base",
            "_view_module_version": "1.2.0",
            "_view_name": "StyleView",
            "bar_color": null,
            "description_width": ""
          }
        },
        "53f1efaec6d94220a8192239e0a9d895": {
          "model_module": "@jupyter-widgets/base",
          "model_name": "LayoutModel",
          "model_module_version": "1.2.0",
          "state": {
            "_model_module": "@jupyter-widgets/base",
            "_model_module_version": "1.2.0",
            "_model_name": "LayoutModel",
            "_view_count": null,
            "_view_module": "@jupyter-widgets/base",
            "_view_module_version": "1.2.0",
            "_view_name": "LayoutView",
            "align_content": null,
            "align_items": null,
            "align_self": null,
            "border": null,
            "bottom": null,
            "display": null,
            "flex": null,
            "flex_flow": null,
            "grid_area": null,
            "grid_auto_columns": null,
            "grid_auto_flow": null,
            "grid_auto_rows": null,
            "grid_column": null,
            "grid_gap": null,
            "grid_row": null,
            "grid_template_areas": null,
            "grid_template_columns": null,
            "grid_template_rows": null,
            "height": null,
            "justify_content": null,
            "justify_items": null,
            "left": null,
            "margin": null,
            "max_height": null,
            "max_width": null,
            "min_height": null,
            "min_width": null,
            "object_fit": null,
            "object_position": null,
            "order": null,
            "overflow": null,
            "overflow_x": null,
            "overflow_y": null,
            "padding": null,
            "right": null,
            "top": null,
            "visibility": null,
            "width": null
          }
        },
        "b76bb9880bfd4de6b7c1b8e64073be87": {
          "model_module": "@jupyter-widgets/controls",
          "model_name": "DescriptionStyleModel",
          "model_module_version": "1.5.0",
          "state": {
            "_model_module": "@jupyter-widgets/controls",
            "_model_module_version": "1.5.0",
            "_model_name": "DescriptionStyleModel",
            "_view_count": null,
            "_view_module": "@jupyter-widgets/base",
            "_view_module_version": "1.2.0",
            "_view_name": "StyleView",
            "description_width": ""
          }
        },
        "d71f4b82c081491188bc1407c2d2f9fb": {
          "model_module": "@jupyter-widgets/controls",
          "model_name": "HBoxModel",
          "model_module_version": "1.5.0",
          "state": {
            "_dom_classes": [],
            "_model_module": "@jupyter-widgets/controls",
            "_model_module_version": "1.5.0",
            "_model_name": "HBoxModel",
            "_view_count": null,
            "_view_module": "@jupyter-widgets/controls",
            "_view_module_version": "1.5.0",
            "_view_name": "HBoxView",
            "box_style": "",
            "children": [
              "IPY_MODEL_896ca5dd3ebe426eb1124d42886d40e9",
              "IPY_MODEL_1ec69efdf62344839a1f59061aee2a53",
              "IPY_MODEL_812c47aba083406d935454ea82e87943"
            ],
            "layout": "IPY_MODEL_f43816b9f7fc46adb050f5a215efd129"
          }
        },
        "896ca5dd3ebe426eb1124d42886d40e9": {
          "model_module": "@jupyter-widgets/controls",
          "model_name": "HTMLModel",
          "model_module_version": "1.5.0",
          "state": {
            "_dom_classes": [],
            "_model_module": "@jupyter-widgets/controls",
            "_model_module_version": "1.5.0",
            "_model_name": "HTMLModel",
            "_view_count": null,
            "_view_module": "@jupyter-widgets/controls",
            "_view_module_version": "1.5.0",
            "_view_name": "HTMLView",
            "description": "",
            "description_tooltip": null,
            "layout": "IPY_MODEL_8db3ca7dbd1047c9b35420b21f73f8e0",
            "placeholder": "​",
            "style": "IPY_MODEL_3a155aa4111c4dee80304e0c8f299393",
            "value": "Downloading (…)okenizer_config.json: 100%"
          }
        },
        "1ec69efdf62344839a1f59061aee2a53": {
          "model_module": "@jupyter-widgets/controls",
          "model_name": "FloatProgressModel",
          "model_module_version": "1.5.0",
          "state": {
            "_dom_classes": [],
            "_model_module": "@jupyter-widgets/controls",
            "_model_module_version": "1.5.0",
            "_model_name": "FloatProgressModel",
            "_view_count": null,
            "_view_module": "@jupyter-widgets/controls",
            "_view_module_version": "1.5.0",
            "_view_name": "ProgressView",
            "bar_style": "success",
            "description": "",
            "description_tooltip": null,
            "layout": "IPY_MODEL_233b2b46fea54f5dbbcd7910c736d6f0",
            "max": 107,
            "min": 0,
            "orientation": "horizontal",
            "style": "IPY_MODEL_5add3d8a88b54cbab564f709d61bb537",
            "value": 107
          }
        },
        "812c47aba083406d935454ea82e87943": {
          "model_module": "@jupyter-widgets/controls",
          "model_name": "HTMLModel",
          "model_module_version": "1.5.0",
          "state": {
            "_dom_classes": [],
            "_model_module": "@jupyter-widgets/controls",
            "_model_module_version": "1.5.0",
            "_model_name": "HTMLModel",
            "_view_count": null,
            "_view_module": "@jupyter-widgets/controls",
            "_view_module_version": "1.5.0",
            "_view_name": "HTMLView",
            "description": "",
            "description_tooltip": null,
            "layout": "IPY_MODEL_fe8a74c4408744e8a4d30fa2eaf6aca6",
            "placeholder": "​",
            "style": "IPY_MODEL_64249c38fa064ade8fc79df39ef1dfcd",
            "value": " 107/107 [00:00&lt;00:00, 4.08kB/s]"
          }
        },
        "f43816b9f7fc46adb050f5a215efd129": {
          "model_module": "@jupyter-widgets/base",
          "model_name": "LayoutModel",
          "model_module_version": "1.2.0",
          "state": {
            "_model_module": "@jupyter-widgets/base",
            "_model_module_version": "1.2.0",
            "_model_name": "LayoutModel",
            "_view_count": null,
            "_view_module": "@jupyter-widgets/base",
            "_view_module_version": "1.2.0",
            "_view_name": "LayoutView",
            "align_content": null,
            "align_items": null,
            "align_self": null,
            "border": null,
            "bottom": null,
            "display": null,
            "flex": null,
            "flex_flow": null,
            "grid_area": null,
            "grid_auto_columns": null,
            "grid_auto_flow": null,
            "grid_auto_rows": null,
            "grid_column": null,
            "grid_gap": null,
            "grid_row": null,
            "grid_template_areas": null,
            "grid_template_columns": null,
            "grid_template_rows": null,
            "height": null,
            "justify_content": null,
            "justify_items": null,
            "left": null,
            "margin": null,
            "max_height": null,
            "max_width": null,
            "min_height": null,
            "min_width": null,
            "object_fit": null,
            "object_position": null,
            "order": null,
            "overflow": null,
            "overflow_x": null,
            "overflow_y": null,
            "padding": null,
            "right": null,
            "top": null,
            "visibility": null,
            "width": null
          }
        },
        "8db3ca7dbd1047c9b35420b21f73f8e0": {
          "model_module": "@jupyter-widgets/base",
          "model_name": "LayoutModel",
          "model_module_version": "1.2.0",
          "state": {
            "_model_module": "@jupyter-widgets/base",
            "_model_module_version": "1.2.0",
            "_model_name": "LayoutModel",
            "_view_count": null,
            "_view_module": "@jupyter-widgets/base",
            "_view_module_version": "1.2.0",
            "_view_name": "LayoutView",
            "align_content": null,
            "align_items": null,
            "align_self": null,
            "border": null,
            "bottom": null,
            "display": null,
            "flex": null,
            "flex_flow": null,
            "grid_area": null,
            "grid_auto_columns": null,
            "grid_auto_flow": null,
            "grid_auto_rows": null,
            "grid_column": null,
            "grid_gap": null,
            "grid_row": null,
            "grid_template_areas": null,
            "grid_template_columns": null,
            "grid_template_rows": null,
            "height": null,
            "justify_content": null,
            "justify_items": null,
            "left": null,
            "margin": null,
            "max_height": null,
            "max_width": null,
            "min_height": null,
            "min_width": null,
            "object_fit": null,
            "object_position": null,
            "order": null,
            "overflow": null,
            "overflow_x": null,
            "overflow_y": null,
            "padding": null,
            "right": null,
            "top": null,
            "visibility": null,
            "width": null
          }
        },
        "3a155aa4111c4dee80304e0c8f299393": {
          "model_module": "@jupyter-widgets/controls",
          "model_name": "DescriptionStyleModel",
          "model_module_version": "1.5.0",
          "state": {
            "_model_module": "@jupyter-widgets/controls",
            "_model_module_version": "1.5.0",
            "_model_name": "DescriptionStyleModel",
            "_view_count": null,
            "_view_module": "@jupyter-widgets/base",
            "_view_module_version": "1.2.0",
            "_view_name": "StyleView",
            "description_width": ""
          }
        },
        "233b2b46fea54f5dbbcd7910c736d6f0": {
          "model_module": "@jupyter-widgets/base",
          "model_name": "LayoutModel",
          "model_module_version": "1.2.0",
          "state": {
            "_model_module": "@jupyter-widgets/base",
            "_model_module_version": "1.2.0",
            "_model_name": "LayoutModel",
            "_view_count": null,
            "_view_module": "@jupyter-widgets/base",
            "_view_module_version": "1.2.0",
            "_view_name": "LayoutView",
            "align_content": null,
            "align_items": null,
            "align_self": null,
            "border": null,
            "bottom": null,
            "display": null,
            "flex": null,
            "flex_flow": null,
            "grid_area": null,
            "grid_auto_columns": null,
            "grid_auto_flow": null,
            "grid_auto_rows": null,
            "grid_column": null,
            "grid_gap": null,
            "grid_row": null,
            "grid_template_areas": null,
            "grid_template_columns": null,
            "grid_template_rows": null,
            "height": null,
            "justify_content": null,
            "justify_items": null,
            "left": null,
            "margin": null,
            "max_height": null,
            "max_width": null,
            "min_height": null,
            "min_width": null,
            "object_fit": null,
            "object_position": null,
            "order": null,
            "overflow": null,
            "overflow_x": null,
            "overflow_y": null,
            "padding": null,
            "right": null,
            "top": null,
            "visibility": null,
            "width": null
          }
        },
        "5add3d8a88b54cbab564f709d61bb537": {
          "model_module": "@jupyter-widgets/controls",
          "model_name": "ProgressStyleModel",
          "model_module_version": "1.5.0",
          "state": {
            "_model_module": "@jupyter-widgets/controls",
            "_model_module_version": "1.5.0",
            "_model_name": "ProgressStyleModel",
            "_view_count": null,
            "_view_module": "@jupyter-widgets/base",
            "_view_module_version": "1.2.0",
            "_view_name": "StyleView",
            "bar_color": null,
            "description_width": ""
          }
        },
        "fe8a74c4408744e8a4d30fa2eaf6aca6": {
          "model_module": "@jupyter-widgets/base",
          "model_name": "LayoutModel",
          "model_module_version": "1.2.0",
          "state": {
            "_model_module": "@jupyter-widgets/base",
            "_model_module_version": "1.2.0",
            "_model_name": "LayoutModel",
            "_view_count": null,
            "_view_module": "@jupyter-widgets/base",
            "_view_module_version": "1.2.0",
            "_view_name": "LayoutView",
            "align_content": null,
            "align_items": null,
            "align_self": null,
            "border": null,
            "bottom": null,
            "display": null,
            "flex": null,
            "flex_flow": null,
            "grid_area": null,
            "grid_auto_columns": null,
            "grid_auto_flow": null,
            "grid_auto_rows": null,
            "grid_column": null,
            "grid_gap": null,
            "grid_row": null,
            "grid_template_areas": null,
            "grid_template_columns": null,
            "grid_template_rows": null,
            "height": null,
            "justify_content": null,
            "justify_items": null,
            "left": null,
            "margin": null,
            "max_height": null,
            "max_width": null,
            "min_height": null,
            "min_width": null,
            "object_fit": null,
            "object_position": null,
            "order": null,
            "overflow": null,
            "overflow_x": null,
            "overflow_y": null,
            "padding": null,
            "right": null,
            "top": null,
            "visibility": null,
            "width": null
          }
        },
        "64249c38fa064ade8fc79df39ef1dfcd": {
          "model_module": "@jupyter-widgets/controls",
          "model_name": "DescriptionStyleModel",
          "model_module_version": "1.5.0",
          "state": {
            "_model_module": "@jupyter-widgets/controls",
            "_model_module_version": "1.5.0",
            "_model_name": "DescriptionStyleModel",
            "_view_count": null,
            "_view_module": "@jupyter-widgets/base",
            "_view_module_version": "1.2.0",
            "_view_name": "StyleView",
            "description_width": ""
          }
        },
        "a782a2765845437ca789c2d6cce073a5": {
          "model_module": "@jupyter-widgets/controls",
          "model_name": "HBoxModel",
          "model_module_version": "1.5.0",
          "state": {
            "_dom_classes": [],
            "_model_module": "@jupyter-widgets/controls",
            "_model_module_version": "1.5.0",
            "_model_name": "HBoxModel",
            "_view_count": null,
            "_view_module": "@jupyter-widgets/controls",
            "_view_module_version": "1.5.0",
            "_view_name": "HBoxView",
            "box_style": "",
            "children": [
              "IPY_MODEL_002bbc8465ef42ec92573a1b753a1599",
              "IPY_MODEL_662635561d324a429c28ca5c1fe2b600",
              "IPY_MODEL_dde49bffb0924b70b081471bb06bfab7"
            ],
            "layout": "IPY_MODEL_675afe36f2ed4104a05bb310bba62b36"
          }
        },
        "002bbc8465ef42ec92573a1b753a1599": {
          "model_module": "@jupyter-widgets/controls",
          "model_name": "HTMLModel",
          "model_module_version": "1.5.0",
          "state": {
            "_dom_classes": [],
            "_model_module": "@jupyter-widgets/controls",
            "_model_module_version": "1.5.0",
            "_model_name": "HTMLModel",
            "_view_count": null,
            "_view_module": "@jupyter-widgets/controls",
            "_view_module_version": "1.5.0",
            "_view_name": "HTMLView",
            "description": "",
            "description_tooltip": null,
            "layout": "IPY_MODEL_607697666865486fa6153d2e20ef5c53",
            "placeholder": "​",
            "style": "IPY_MODEL_9094c8502dd34125a1647d665f4b0e14",
            "value": "Downloading (…)lve/main/config.json: 100%"
          }
        },
        "662635561d324a429c28ca5c1fe2b600": {
          "model_module": "@jupyter-widgets/controls",
          "model_name": "FloatProgressModel",
          "model_module_version": "1.5.0",
          "state": {
            "_dom_classes": [],
            "_model_module": "@jupyter-widgets/controls",
            "_model_module_version": "1.5.0",
            "_model_name": "FloatProgressModel",
            "_view_count": null,
            "_view_module": "@jupyter-widgets/controls",
            "_view_module_version": "1.5.0",
            "_view_name": "ProgressView",
            "bar_style": "success",
            "description": "",
            "description_tooltip": null,
            "layout": "IPY_MODEL_0d89b6aa35964f979119df188de87694",
            "max": 477,
            "min": 0,
            "orientation": "horizontal",
            "style": "IPY_MODEL_429a98f474b74c4e8565ae4378084fec",
            "value": 477
          }
        },
        "dde49bffb0924b70b081471bb06bfab7": {
          "model_module": "@jupyter-widgets/controls",
          "model_name": "HTMLModel",
          "model_module_version": "1.5.0",
          "state": {
            "_dom_classes": [],
            "_model_module": "@jupyter-widgets/controls",
            "_model_module_version": "1.5.0",
            "_model_name": "HTMLModel",
            "_view_count": null,
            "_view_module": "@jupyter-widgets/controls",
            "_view_module_version": "1.5.0",
            "_view_name": "HTMLView",
            "description": "",
            "description_tooltip": null,
            "layout": "IPY_MODEL_aa60d631760b4cc3bc61500ad9564385",
            "placeholder": "​",
            "style": "IPY_MODEL_ddbe8a126fd24aec9f29170f181dba1c",
            "value": " 477/477 [00:00&lt;00:00, 15.5kB/s]"
          }
        },
        "675afe36f2ed4104a05bb310bba62b36": {
          "model_module": "@jupyter-widgets/base",
          "model_name": "LayoutModel",
          "model_module_version": "1.2.0",
          "state": {
            "_model_module": "@jupyter-widgets/base",
            "_model_module_version": "1.2.0",
            "_model_name": "LayoutModel",
            "_view_count": null,
            "_view_module": "@jupyter-widgets/base",
            "_view_module_version": "1.2.0",
            "_view_name": "LayoutView",
            "align_content": null,
            "align_items": null,
            "align_self": null,
            "border": null,
            "bottom": null,
            "display": null,
            "flex": null,
            "flex_flow": null,
            "grid_area": null,
            "grid_auto_columns": null,
            "grid_auto_flow": null,
            "grid_auto_rows": null,
            "grid_column": null,
            "grid_gap": null,
            "grid_row": null,
            "grid_template_areas": null,
            "grid_template_columns": null,
            "grid_template_rows": null,
            "height": null,
            "justify_content": null,
            "justify_items": null,
            "left": null,
            "margin": null,
            "max_height": null,
            "max_width": null,
            "min_height": null,
            "min_width": null,
            "object_fit": null,
            "object_position": null,
            "order": null,
            "overflow": null,
            "overflow_x": null,
            "overflow_y": null,
            "padding": null,
            "right": null,
            "top": null,
            "visibility": null,
            "width": null
          }
        },
        "607697666865486fa6153d2e20ef5c53": {
          "model_module": "@jupyter-widgets/base",
          "model_name": "LayoutModel",
          "model_module_version": "1.2.0",
          "state": {
            "_model_module": "@jupyter-widgets/base",
            "_model_module_version": "1.2.0",
            "_model_name": "LayoutModel",
            "_view_count": null,
            "_view_module": "@jupyter-widgets/base",
            "_view_module_version": "1.2.0",
            "_view_name": "LayoutView",
            "align_content": null,
            "align_items": null,
            "align_self": null,
            "border": null,
            "bottom": null,
            "display": null,
            "flex": null,
            "flex_flow": null,
            "grid_area": null,
            "grid_auto_columns": null,
            "grid_auto_flow": null,
            "grid_auto_rows": null,
            "grid_column": null,
            "grid_gap": null,
            "grid_row": null,
            "grid_template_areas": null,
            "grid_template_columns": null,
            "grid_template_rows": null,
            "height": null,
            "justify_content": null,
            "justify_items": null,
            "left": null,
            "margin": null,
            "max_height": null,
            "max_width": null,
            "min_height": null,
            "min_width": null,
            "object_fit": null,
            "object_position": null,
            "order": null,
            "overflow": null,
            "overflow_x": null,
            "overflow_y": null,
            "padding": null,
            "right": null,
            "top": null,
            "visibility": null,
            "width": null
          }
        },
        "9094c8502dd34125a1647d665f4b0e14": {
          "model_module": "@jupyter-widgets/controls",
          "model_name": "DescriptionStyleModel",
          "model_module_version": "1.5.0",
          "state": {
            "_model_module": "@jupyter-widgets/controls",
            "_model_module_version": "1.5.0",
            "_model_name": "DescriptionStyleModel",
            "_view_count": null,
            "_view_module": "@jupyter-widgets/base",
            "_view_module_version": "1.2.0",
            "_view_name": "StyleView",
            "description_width": ""
          }
        },
        "0d89b6aa35964f979119df188de87694": {
          "model_module": "@jupyter-widgets/base",
          "model_name": "LayoutModel",
          "model_module_version": "1.2.0",
          "state": {
            "_model_module": "@jupyter-widgets/base",
            "_model_module_version": "1.2.0",
            "_model_name": "LayoutModel",
            "_view_count": null,
            "_view_module": "@jupyter-widgets/base",
            "_view_module_version": "1.2.0",
            "_view_name": "LayoutView",
            "align_content": null,
            "align_items": null,
            "align_self": null,
            "border": null,
            "bottom": null,
            "display": null,
            "flex": null,
            "flex_flow": null,
            "grid_area": null,
            "grid_auto_columns": null,
            "grid_auto_flow": null,
            "grid_auto_rows": null,
            "grid_column": null,
            "grid_gap": null,
            "grid_row": null,
            "grid_template_areas": null,
            "grid_template_columns": null,
            "grid_template_rows": null,
            "height": null,
            "justify_content": null,
            "justify_items": null,
            "left": null,
            "margin": null,
            "max_height": null,
            "max_width": null,
            "min_height": null,
            "min_width": null,
            "object_fit": null,
            "object_position": null,
            "order": null,
            "overflow": null,
            "overflow_x": null,
            "overflow_y": null,
            "padding": null,
            "right": null,
            "top": null,
            "visibility": null,
            "width": null
          }
        },
        "429a98f474b74c4e8565ae4378084fec": {
          "model_module": "@jupyter-widgets/controls",
          "model_name": "ProgressStyleModel",
          "model_module_version": "1.5.0",
          "state": {
            "_model_module": "@jupyter-widgets/controls",
            "_model_module_version": "1.5.0",
            "_model_name": "ProgressStyleModel",
            "_view_count": null,
            "_view_module": "@jupyter-widgets/base",
            "_view_module_version": "1.2.0",
            "_view_name": "StyleView",
            "bar_color": null,
            "description_width": ""
          }
        },
        "aa60d631760b4cc3bc61500ad9564385": {
          "model_module": "@jupyter-widgets/base",
          "model_name": "LayoutModel",
          "model_module_version": "1.2.0",
          "state": {
            "_model_module": "@jupyter-widgets/base",
            "_model_module_version": "1.2.0",
            "_model_name": "LayoutModel",
            "_view_count": null,
            "_view_module": "@jupyter-widgets/base",
            "_view_module_version": "1.2.0",
            "_view_name": "LayoutView",
            "align_content": null,
            "align_items": null,
            "align_self": null,
            "border": null,
            "bottom": null,
            "display": null,
            "flex": null,
            "flex_flow": null,
            "grid_area": null,
            "grid_auto_columns": null,
            "grid_auto_flow": null,
            "grid_auto_rows": null,
            "grid_column": null,
            "grid_gap": null,
            "grid_row": null,
            "grid_template_areas": null,
            "grid_template_columns": null,
            "grid_template_rows": null,
            "height": null,
            "justify_content": null,
            "justify_items": null,
            "left": null,
            "margin": null,
            "max_height": null,
            "max_width": null,
            "min_height": null,
            "min_width": null,
            "object_fit": null,
            "object_position": null,
            "order": null,
            "overflow": null,
            "overflow_x": null,
            "overflow_y": null,
            "padding": null,
            "right": null,
            "top": null,
            "visibility": null,
            "width": null
          }
        },
        "ddbe8a126fd24aec9f29170f181dba1c": {
          "model_module": "@jupyter-widgets/controls",
          "model_name": "DescriptionStyleModel",
          "model_module_version": "1.5.0",
          "state": {
            "_model_module": "@jupyter-widgets/controls",
            "_model_module_version": "1.5.0",
            "_model_name": "DescriptionStyleModel",
            "_view_count": null,
            "_view_module": "@jupyter-widgets/base",
            "_view_module_version": "1.2.0",
            "_view_name": "StyleView",
            "description_width": ""
          }
        },
        "6a2612050c5c4dc1bda82327531fcf2a": {
          "model_module": "@jupyter-widgets/controls",
          "model_name": "HBoxModel",
          "model_module_version": "1.5.0",
          "state": {
            "_dom_classes": [],
            "_model_module": "@jupyter-widgets/controls",
            "_model_module_version": "1.5.0",
            "_model_name": "HBoxModel",
            "_view_count": null,
            "_view_module": "@jupyter-widgets/controls",
            "_view_module_version": "1.5.0",
            "_view_name": "HBoxView",
            "box_style": "",
            "children": [
              "IPY_MODEL_1453879bf8354324bca1ccb30fbdc399",
              "IPY_MODEL_81d43b623c5e47a6835f07639dba1e83",
              "IPY_MODEL_20bd03a3f4a047fcbe65def01e70e4e9"
            ],
            "layout": "IPY_MODEL_6e89fae400804381b6cebfea4a8b0714"
          }
        },
        "1453879bf8354324bca1ccb30fbdc399": {
          "model_module": "@jupyter-widgets/controls",
          "model_name": "HTMLModel",
          "model_module_version": "1.5.0",
          "state": {
            "_dom_classes": [],
            "_model_module": "@jupyter-widgets/controls",
            "_model_module_version": "1.5.0",
            "_model_name": "HTMLModel",
            "_view_count": null,
            "_view_module": "@jupyter-widgets/controls",
            "_view_module_version": "1.5.0",
            "_view_name": "HTMLView",
            "description": "",
            "description_tooltip": null,
            "layout": "IPY_MODEL_83d8f9aada154e1ba5105003e51b2736",
            "placeholder": "​",
            "style": "IPY_MODEL_85e1732603b94f50adf3837efd29b72b",
            "value": "Downloading (…)solve/main/vocab.txt: 100%"
          }
        },
        "81d43b623c5e47a6835f07639dba1e83": {
          "model_module": "@jupyter-widgets/controls",
          "model_name": "FloatProgressModel",
          "model_module_version": "1.5.0",
          "state": {
            "_dom_classes": [],
            "_model_module": "@jupyter-widgets/controls",
            "_model_module_version": "1.5.0",
            "_model_name": "FloatProgressModel",
            "_view_count": null,
            "_view_module": "@jupyter-widgets/controls",
            "_view_module_version": "1.5.0",
            "_view_name": "ProgressView",
            "bar_style": "success",
            "description": "",
            "description_tooltip": null,
            "layout": "IPY_MODEL_4c2ce93d232148ce9b4093a6d430aeff",
            "max": 231508,
            "min": 0,
            "orientation": "horizontal",
            "style": "IPY_MODEL_d26554712c3343358fd922ebd8f7c137",
            "value": 231508
          }
        },
        "20bd03a3f4a047fcbe65def01e70e4e9": {
          "model_module": "@jupyter-widgets/controls",
          "model_name": "HTMLModel",
          "model_module_version": "1.5.0",
          "state": {
            "_dom_classes": [],
            "_model_module": "@jupyter-widgets/controls",
            "_model_module_version": "1.5.0",
            "_model_name": "HTMLModel",
            "_view_count": null,
            "_view_module": "@jupyter-widgets/controls",
            "_view_module_version": "1.5.0",
            "_view_name": "HTMLView",
            "description": "",
            "description_tooltip": null,
            "layout": "IPY_MODEL_9a467d51240b4b37b44733e56f12add8",
            "placeholder": "​",
            "style": "IPY_MODEL_f2755803b16d400c92a26ff2190408e8",
            "value": " 232k/232k [00:00&lt;00:00, 2.09MB/s]"
          }
        },
        "6e89fae400804381b6cebfea4a8b0714": {
          "model_module": "@jupyter-widgets/base",
          "model_name": "LayoutModel",
          "model_module_version": "1.2.0",
          "state": {
            "_model_module": "@jupyter-widgets/base",
            "_model_module_version": "1.2.0",
            "_model_name": "LayoutModel",
            "_view_count": null,
            "_view_module": "@jupyter-widgets/base",
            "_view_module_version": "1.2.0",
            "_view_name": "LayoutView",
            "align_content": null,
            "align_items": null,
            "align_self": null,
            "border": null,
            "bottom": null,
            "display": null,
            "flex": null,
            "flex_flow": null,
            "grid_area": null,
            "grid_auto_columns": null,
            "grid_auto_flow": null,
            "grid_auto_rows": null,
            "grid_column": null,
            "grid_gap": null,
            "grid_row": null,
            "grid_template_areas": null,
            "grid_template_columns": null,
            "grid_template_rows": null,
            "height": null,
            "justify_content": null,
            "justify_items": null,
            "left": null,
            "margin": null,
            "max_height": null,
            "max_width": null,
            "min_height": null,
            "min_width": null,
            "object_fit": null,
            "object_position": null,
            "order": null,
            "overflow": null,
            "overflow_x": null,
            "overflow_y": null,
            "padding": null,
            "right": null,
            "top": null,
            "visibility": null,
            "width": null
          }
        },
        "83d8f9aada154e1ba5105003e51b2736": {
          "model_module": "@jupyter-widgets/base",
          "model_name": "LayoutModel",
          "model_module_version": "1.2.0",
          "state": {
            "_model_module": "@jupyter-widgets/base",
            "_model_module_version": "1.2.0",
            "_model_name": "LayoutModel",
            "_view_count": null,
            "_view_module": "@jupyter-widgets/base",
            "_view_module_version": "1.2.0",
            "_view_name": "LayoutView",
            "align_content": null,
            "align_items": null,
            "align_self": null,
            "border": null,
            "bottom": null,
            "display": null,
            "flex": null,
            "flex_flow": null,
            "grid_area": null,
            "grid_auto_columns": null,
            "grid_auto_flow": null,
            "grid_auto_rows": null,
            "grid_column": null,
            "grid_gap": null,
            "grid_row": null,
            "grid_template_areas": null,
            "grid_template_columns": null,
            "grid_template_rows": null,
            "height": null,
            "justify_content": null,
            "justify_items": null,
            "left": null,
            "margin": null,
            "max_height": null,
            "max_width": null,
            "min_height": null,
            "min_width": null,
            "object_fit": null,
            "object_position": null,
            "order": null,
            "overflow": null,
            "overflow_x": null,
            "overflow_y": null,
            "padding": null,
            "right": null,
            "top": null,
            "visibility": null,
            "width": null
          }
        },
        "85e1732603b94f50adf3837efd29b72b": {
          "model_module": "@jupyter-widgets/controls",
          "model_name": "DescriptionStyleModel",
          "model_module_version": "1.5.0",
          "state": {
            "_model_module": "@jupyter-widgets/controls",
            "_model_module_version": "1.5.0",
            "_model_name": "DescriptionStyleModel",
            "_view_count": null,
            "_view_module": "@jupyter-widgets/base",
            "_view_module_version": "1.2.0",
            "_view_name": "StyleView",
            "description_width": ""
          }
        },
        "4c2ce93d232148ce9b4093a6d430aeff": {
          "model_module": "@jupyter-widgets/base",
          "model_name": "LayoutModel",
          "model_module_version": "1.2.0",
          "state": {
            "_model_module": "@jupyter-widgets/base",
            "_model_module_version": "1.2.0",
            "_model_name": "LayoutModel",
            "_view_count": null,
            "_view_module": "@jupyter-widgets/base",
            "_view_module_version": "1.2.0",
            "_view_name": "LayoutView",
            "align_content": null,
            "align_items": null,
            "align_self": null,
            "border": null,
            "bottom": null,
            "display": null,
            "flex": null,
            "flex_flow": null,
            "grid_area": null,
            "grid_auto_columns": null,
            "grid_auto_flow": null,
            "grid_auto_rows": null,
            "grid_column": null,
            "grid_gap": null,
            "grid_row": null,
            "grid_template_areas": null,
            "grid_template_columns": null,
            "grid_template_rows": null,
            "height": null,
            "justify_content": null,
            "justify_items": null,
            "left": null,
            "margin": null,
            "max_height": null,
            "max_width": null,
            "min_height": null,
            "min_width": null,
            "object_fit": null,
            "object_position": null,
            "order": null,
            "overflow": null,
            "overflow_x": null,
            "overflow_y": null,
            "padding": null,
            "right": null,
            "top": null,
            "visibility": null,
            "width": null
          }
        },
        "d26554712c3343358fd922ebd8f7c137": {
          "model_module": "@jupyter-widgets/controls",
          "model_name": "ProgressStyleModel",
          "model_module_version": "1.5.0",
          "state": {
            "_model_module": "@jupyter-widgets/controls",
            "_model_module_version": "1.5.0",
            "_model_name": "ProgressStyleModel",
            "_view_count": null,
            "_view_module": "@jupyter-widgets/base",
            "_view_module_version": "1.2.0",
            "_view_name": "StyleView",
            "bar_color": null,
            "description_width": ""
          }
        },
        "9a467d51240b4b37b44733e56f12add8": {
          "model_module": "@jupyter-widgets/base",
          "model_name": "LayoutModel",
          "model_module_version": "1.2.0",
          "state": {
            "_model_module": "@jupyter-widgets/base",
            "_model_module_version": "1.2.0",
            "_model_name": "LayoutModel",
            "_view_count": null,
            "_view_module": "@jupyter-widgets/base",
            "_view_module_version": "1.2.0",
            "_view_name": "LayoutView",
            "align_content": null,
            "align_items": null,
            "align_self": null,
            "border": null,
            "bottom": null,
            "display": null,
            "flex": null,
            "flex_flow": null,
            "grid_area": null,
            "grid_auto_columns": null,
            "grid_auto_flow": null,
            "grid_auto_rows": null,
            "grid_column": null,
            "grid_gap": null,
            "grid_row": null,
            "grid_template_areas": null,
            "grid_template_columns": null,
            "grid_template_rows": null,
            "height": null,
            "justify_content": null,
            "justify_items": null,
            "left": null,
            "margin": null,
            "max_height": null,
            "max_width": null,
            "min_height": null,
            "min_width": null,
            "object_fit": null,
            "object_position": null,
            "order": null,
            "overflow": null,
            "overflow_x": null,
            "overflow_y": null,
            "padding": null,
            "right": null,
            "top": null,
            "visibility": null,
            "width": null
          }
        },
        "f2755803b16d400c92a26ff2190408e8": {
          "model_module": "@jupyter-widgets/controls",
          "model_name": "DescriptionStyleModel",
          "model_module_version": "1.5.0",
          "state": {
            "_model_module": "@jupyter-widgets/controls",
            "_model_module_version": "1.5.0",
            "_model_name": "DescriptionStyleModel",
            "_view_count": null,
            "_view_module": "@jupyter-widgets/base",
            "_view_module_version": "1.2.0",
            "_view_name": "StyleView",
            "description_width": ""
          }
        },
        "23b04403b25144e4b6859f68cf5cc76f": {
          "model_module": "@jupyter-widgets/controls",
          "model_name": "HBoxModel",
          "model_module_version": "1.5.0",
          "state": {
            "_dom_classes": [],
            "_model_module": "@jupyter-widgets/controls",
            "_model_module_version": "1.5.0",
            "_model_name": "HBoxModel",
            "_view_count": null,
            "_view_module": "@jupyter-widgets/controls",
            "_view_module_version": "1.5.0",
            "_view_name": "HBoxView",
            "box_style": "",
            "children": [
              "IPY_MODEL_42c9aaeb43f14d91af8ab0d85fcc832a",
              "IPY_MODEL_160570914c7e4d19a426629b22316cce",
              "IPY_MODEL_e95901f2707740e1bbee5b36c02df4f9"
            ],
            "layout": "IPY_MODEL_ca4f73bc1b6a438fa235c5013a661d7d"
          }
        },
        "42c9aaeb43f14d91af8ab0d85fcc832a": {
          "model_module": "@jupyter-widgets/controls",
          "model_name": "HTMLModel",
          "model_module_version": "1.5.0",
          "state": {
            "_dom_classes": [],
            "_model_module": "@jupyter-widgets/controls",
            "_model_module_version": "1.5.0",
            "_model_name": "HTMLModel",
            "_view_count": null,
            "_view_module": "@jupyter-widgets/controls",
            "_view_module_version": "1.5.0",
            "_view_name": "HTMLView",
            "description": "",
            "description_tooltip": null,
            "layout": "IPY_MODEL_147ec37249c64ff28a5ff14b556415d7",
            "placeholder": "​",
            "style": "IPY_MODEL_f0f45e726d994a37a73c7953b60f3ab9",
            "value": "Downloading (…)cial_tokens_map.json: 100%"
          }
        },
        "160570914c7e4d19a426629b22316cce": {
          "model_module": "@jupyter-widgets/controls",
          "model_name": "FloatProgressModel",
          "model_module_version": "1.5.0",
          "state": {
            "_dom_classes": [],
            "_model_module": "@jupyter-widgets/controls",
            "_model_module_version": "1.5.0",
            "_model_name": "FloatProgressModel",
            "_view_count": null,
            "_view_module": "@jupyter-widgets/controls",
            "_view_module_version": "1.5.0",
            "_view_name": "ProgressView",
            "bar_style": "success",
            "description": "",
            "description_tooltip": null,
            "layout": "IPY_MODEL_210436b9b1734985ae6fe805f9a63b35",
            "max": 112,
            "min": 0,
            "orientation": "horizontal",
            "style": "IPY_MODEL_5bea0de4f0e24693b6eea252366088ee",
            "value": 112
          }
        },
        "e95901f2707740e1bbee5b36c02df4f9": {
          "model_module": "@jupyter-widgets/controls",
          "model_name": "HTMLModel",
          "model_module_version": "1.5.0",
          "state": {
            "_dom_classes": [],
            "_model_module": "@jupyter-widgets/controls",
            "_model_module_version": "1.5.0",
            "_model_name": "HTMLModel",
            "_view_count": null,
            "_view_module": "@jupyter-widgets/controls",
            "_view_module_version": "1.5.0",
            "_view_name": "HTMLView",
            "description": "",
            "description_tooltip": null,
            "layout": "IPY_MODEL_7a3a72e10d8044398d9663d9af35c9b5",
            "placeholder": "​",
            "style": "IPY_MODEL_a57c9cecca804c639419db4bc8458800",
            "value": " 112/112 [00:00&lt;00:00, 3.75kB/s]"
          }
        },
        "ca4f73bc1b6a438fa235c5013a661d7d": {
          "model_module": "@jupyter-widgets/base",
          "model_name": "LayoutModel",
          "model_module_version": "1.2.0",
          "state": {
            "_model_module": "@jupyter-widgets/base",
            "_model_module_version": "1.2.0",
            "_model_name": "LayoutModel",
            "_view_count": null,
            "_view_module": "@jupyter-widgets/base",
            "_view_module_version": "1.2.0",
            "_view_name": "LayoutView",
            "align_content": null,
            "align_items": null,
            "align_self": null,
            "border": null,
            "bottom": null,
            "display": null,
            "flex": null,
            "flex_flow": null,
            "grid_area": null,
            "grid_auto_columns": null,
            "grid_auto_flow": null,
            "grid_auto_rows": null,
            "grid_column": null,
            "grid_gap": null,
            "grid_row": null,
            "grid_template_areas": null,
            "grid_template_columns": null,
            "grid_template_rows": null,
            "height": null,
            "justify_content": null,
            "justify_items": null,
            "left": null,
            "margin": null,
            "max_height": null,
            "max_width": null,
            "min_height": null,
            "min_width": null,
            "object_fit": null,
            "object_position": null,
            "order": null,
            "overflow": null,
            "overflow_x": null,
            "overflow_y": null,
            "padding": null,
            "right": null,
            "top": null,
            "visibility": null,
            "width": null
          }
        },
        "147ec37249c64ff28a5ff14b556415d7": {
          "model_module": "@jupyter-widgets/base",
          "model_name": "LayoutModel",
          "model_module_version": "1.2.0",
          "state": {
            "_model_module": "@jupyter-widgets/base",
            "_model_module_version": "1.2.0",
            "_model_name": "LayoutModel",
            "_view_count": null,
            "_view_module": "@jupyter-widgets/base",
            "_view_module_version": "1.2.0",
            "_view_name": "LayoutView",
            "align_content": null,
            "align_items": null,
            "align_self": null,
            "border": null,
            "bottom": null,
            "display": null,
            "flex": null,
            "flex_flow": null,
            "grid_area": null,
            "grid_auto_columns": null,
            "grid_auto_flow": null,
            "grid_auto_rows": null,
            "grid_column": null,
            "grid_gap": null,
            "grid_row": null,
            "grid_template_areas": null,
            "grid_template_columns": null,
            "grid_template_rows": null,
            "height": null,
            "justify_content": null,
            "justify_items": null,
            "left": null,
            "margin": null,
            "max_height": null,
            "max_width": null,
            "min_height": null,
            "min_width": null,
            "object_fit": null,
            "object_position": null,
            "order": null,
            "overflow": null,
            "overflow_x": null,
            "overflow_y": null,
            "padding": null,
            "right": null,
            "top": null,
            "visibility": null,
            "width": null
          }
        },
        "f0f45e726d994a37a73c7953b60f3ab9": {
          "model_module": "@jupyter-widgets/controls",
          "model_name": "DescriptionStyleModel",
          "model_module_version": "1.5.0",
          "state": {
            "_model_module": "@jupyter-widgets/controls",
            "_model_module_version": "1.5.0",
            "_model_name": "DescriptionStyleModel",
            "_view_count": null,
            "_view_module": "@jupyter-widgets/base",
            "_view_module_version": "1.2.0",
            "_view_name": "StyleView",
            "description_width": ""
          }
        },
        "210436b9b1734985ae6fe805f9a63b35": {
          "model_module": "@jupyter-widgets/base",
          "model_name": "LayoutModel",
          "model_module_version": "1.2.0",
          "state": {
            "_model_module": "@jupyter-widgets/base",
            "_model_module_version": "1.2.0",
            "_model_name": "LayoutModel",
            "_view_count": null,
            "_view_module": "@jupyter-widgets/base",
            "_view_module_version": "1.2.0",
            "_view_name": "LayoutView",
            "align_content": null,
            "align_items": null,
            "align_self": null,
            "border": null,
            "bottom": null,
            "display": null,
            "flex": null,
            "flex_flow": null,
            "grid_area": null,
            "grid_auto_columns": null,
            "grid_auto_flow": null,
            "grid_auto_rows": null,
            "grid_column": null,
            "grid_gap": null,
            "grid_row": null,
            "grid_template_areas": null,
            "grid_template_columns": null,
            "grid_template_rows": null,
            "height": null,
            "justify_content": null,
            "justify_items": null,
            "left": null,
            "margin": null,
            "max_height": null,
            "max_width": null,
            "min_height": null,
            "min_width": null,
            "object_fit": null,
            "object_position": null,
            "order": null,
            "overflow": null,
            "overflow_x": null,
            "overflow_y": null,
            "padding": null,
            "right": null,
            "top": null,
            "visibility": null,
            "width": null
          }
        },
        "5bea0de4f0e24693b6eea252366088ee": {
          "model_module": "@jupyter-widgets/controls",
          "model_name": "ProgressStyleModel",
          "model_module_version": "1.5.0",
          "state": {
            "_model_module": "@jupyter-widgets/controls",
            "_model_module_version": "1.5.0",
            "_model_name": "ProgressStyleModel",
            "_view_count": null,
            "_view_module": "@jupyter-widgets/base",
            "_view_module_version": "1.2.0",
            "_view_name": "StyleView",
            "bar_color": null,
            "description_width": ""
          }
        },
        "7a3a72e10d8044398d9663d9af35c9b5": {
          "model_module": "@jupyter-widgets/base",
          "model_name": "LayoutModel",
          "model_module_version": "1.2.0",
          "state": {
            "_model_module": "@jupyter-widgets/base",
            "_model_module_version": "1.2.0",
            "_model_name": "LayoutModel",
            "_view_count": null,
            "_view_module": "@jupyter-widgets/base",
            "_view_module_version": "1.2.0",
            "_view_name": "LayoutView",
            "align_content": null,
            "align_items": null,
            "align_self": null,
            "border": null,
            "bottom": null,
            "display": null,
            "flex": null,
            "flex_flow": null,
            "grid_area": null,
            "grid_auto_columns": null,
            "grid_auto_flow": null,
            "grid_auto_rows": null,
            "grid_column": null,
            "grid_gap": null,
            "grid_row": null,
            "grid_template_areas": null,
            "grid_template_columns": null,
            "grid_template_rows": null,
            "height": null,
            "justify_content": null,
            "justify_items": null,
            "left": null,
            "margin": null,
            "max_height": null,
            "max_width": null,
            "min_height": null,
            "min_width": null,
            "object_fit": null,
            "object_position": null,
            "order": null,
            "overflow": null,
            "overflow_x": null,
            "overflow_y": null,
            "padding": null,
            "right": null,
            "top": null,
            "visibility": null,
            "width": null
          }
        },
        "a57c9cecca804c639419db4bc8458800": {
          "model_module": "@jupyter-widgets/controls",
          "model_name": "DescriptionStyleModel",
          "model_module_version": "1.5.0",
          "state": {
            "_model_module": "@jupyter-widgets/controls",
            "_model_module_version": "1.5.0",
            "_model_name": "DescriptionStyleModel",
            "_view_count": null,
            "_view_module": "@jupyter-widgets/base",
            "_view_module_version": "1.2.0",
            "_view_name": "StyleView",
            "description_width": ""
          }
        },
        "7b489818611b45ceb718a8ad05a31172": {
          "model_module": "@jupyter-widgets/controls",
          "model_name": "HBoxModel",
          "model_module_version": "1.5.0",
          "state": {
            "_dom_classes": [],
            "_model_module": "@jupyter-widgets/controls",
            "_model_module_version": "1.5.0",
            "_model_name": "HBoxModel",
            "_view_count": null,
            "_view_module": "@jupyter-widgets/controls",
            "_view_module_version": "1.5.0",
            "_view_name": "HBoxView",
            "box_style": "",
            "children": [
              "IPY_MODEL_2757fd173e5a4ba5ae0893b1b943e25b",
              "IPY_MODEL_634daead7d1f40788ed7b92666a01614",
              "IPY_MODEL_d6fb2f751460484aa2fc724fbc0c4b99"
            ],
            "layout": "IPY_MODEL_6e51aac3a3e84a6f9196b7c37b9cb784"
          }
        },
        "2757fd173e5a4ba5ae0893b1b943e25b": {
          "model_module": "@jupyter-widgets/controls",
          "model_name": "HTMLModel",
          "model_module_version": "1.5.0",
          "state": {
            "_dom_classes": [],
            "_model_module": "@jupyter-widgets/controls",
            "_model_module_version": "1.5.0",
            "_model_name": "HTMLModel",
            "_view_count": null,
            "_view_module": "@jupyter-widgets/controls",
            "_view_module_version": "1.5.0",
            "_view_name": "HTMLView",
            "description": "",
            "description_tooltip": null,
            "layout": "IPY_MODEL_a18afda0307a440bafbc92332302a381",
            "placeholder": "​",
            "style": "IPY_MODEL_b5a0252d0c2b491ba35ca0b9b01ef90c",
            "value": "Downloading (…)&quot;pytorch_model.bin&quot;;: 100%"
          }
        },
        "634daead7d1f40788ed7b92666a01614": {
          "model_module": "@jupyter-widgets/controls",
          "model_name": "FloatProgressModel",
          "model_module_version": "1.5.0",
          "state": {
            "_dom_classes": [],
            "_model_module": "@jupyter-widgets/controls",
            "_model_module_version": "1.5.0",
            "_model_name": "FloatProgressModel",
            "_view_count": null,
            "_view_module": "@jupyter-widgets/controls",
            "_view_module_version": "1.5.0",
            "_view_name": "ProgressView",
            "bar_style": "success",
            "description": "",
            "description_tooltip": null,
            "layout": "IPY_MODEL_6637839827f34c8f9f02f05d7c114d03",
            "max": 133490920,
            "min": 0,
            "orientation": "horizontal",
            "style": "IPY_MODEL_b57c448045824438bfd906cb3b8fde77",
            "value": 133490920
          }
        },
        "d6fb2f751460484aa2fc724fbc0c4b99": {
          "model_module": "@jupyter-widgets/controls",
          "model_name": "HTMLModel",
          "model_module_version": "1.5.0",
          "state": {
            "_dom_classes": [],
            "_model_module": "@jupyter-widgets/controls",
            "_model_module_version": "1.5.0",
            "_model_name": "HTMLModel",
            "_view_count": null,
            "_view_module": "@jupyter-widgets/controls",
            "_view_module_version": "1.5.0",
            "_view_name": "HTMLView",
            "description": "",
            "description_tooltip": null,
            "layout": "IPY_MODEL_df61fb39e3964dc48fc3bd42ce84ebd4",
            "placeholder": "​",
            "style": "IPY_MODEL_79196616c9bc4064b976bb47a75d38ee",
            "value": " 133M/133M [00:02&lt;00:00, 34.7MB/s]"
          }
        },
        "6e51aac3a3e84a6f9196b7c37b9cb784": {
          "model_module": "@jupyter-widgets/base",
          "model_name": "LayoutModel",
          "model_module_version": "1.2.0",
          "state": {
            "_model_module": "@jupyter-widgets/base",
            "_model_module_version": "1.2.0",
            "_model_name": "LayoutModel",
            "_view_count": null,
            "_view_module": "@jupyter-widgets/base",
            "_view_module_version": "1.2.0",
            "_view_name": "LayoutView",
            "align_content": null,
            "align_items": null,
            "align_self": null,
            "border": null,
            "bottom": null,
            "display": null,
            "flex": null,
            "flex_flow": null,
            "grid_area": null,
            "grid_auto_columns": null,
            "grid_auto_flow": null,
            "grid_auto_rows": null,
            "grid_column": null,
            "grid_gap": null,
            "grid_row": null,
            "grid_template_areas": null,
            "grid_template_columns": null,
            "grid_template_rows": null,
            "height": null,
            "justify_content": null,
            "justify_items": null,
            "left": null,
            "margin": null,
            "max_height": null,
            "max_width": null,
            "min_height": null,
            "min_width": null,
            "object_fit": null,
            "object_position": null,
            "order": null,
            "overflow": null,
            "overflow_x": null,
            "overflow_y": null,
            "padding": null,
            "right": null,
            "top": null,
            "visibility": null,
            "width": null
          }
        },
        "a18afda0307a440bafbc92332302a381": {
          "model_module": "@jupyter-widgets/base",
          "model_name": "LayoutModel",
          "model_module_version": "1.2.0",
          "state": {
            "_model_module": "@jupyter-widgets/base",
            "_model_module_version": "1.2.0",
            "_model_name": "LayoutModel",
            "_view_count": null,
            "_view_module": "@jupyter-widgets/base",
            "_view_module_version": "1.2.0",
            "_view_name": "LayoutView",
            "align_content": null,
            "align_items": null,
            "align_self": null,
            "border": null,
            "bottom": null,
            "display": null,
            "flex": null,
            "flex_flow": null,
            "grid_area": null,
            "grid_auto_columns": null,
            "grid_auto_flow": null,
            "grid_auto_rows": null,
            "grid_column": null,
            "grid_gap": null,
            "grid_row": null,
            "grid_template_areas": null,
            "grid_template_columns": null,
            "grid_template_rows": null,
            "height": null,
            "justify_content": null,
            "justify_items": null,
            "left": null,
            "margin": null,
            "max_height": null,
            "max_width": null,
            "min_height": null,
            "min_width": null,
            "object_fit": null,
            "object_position": null,
            "order": null,
            "overflow": null,
            "overflow_x": null,
            "overflow_y": null,
            "padding": null,
            "right": null,
            "top": null,
            "visibility": null,
            "width": null
          }
        },
        "b5a0252d0c2b491ba35ca0b9b01ef90c": {
          "model_module": "@jupyter-widgets/controls",
          "model_name": "DescriptionStyleModel",
          "model_module_version": "1.5.0",
          "state": {
            "_model_module": "@jupyter-widgets/controls",
            "_model_module_version": "1.5.0",
            "_model_name": "DescriptionStyleModel",
            "_view_count": null,
            "_view_module": "@jupyter-widgets/base",
            "_view_module_version": "1.2.0",
            "_view_name": "StyleView",
            "description_width": ""
          }
        },
        "6637839827f34c8f9f02f05d7c114d03": {
          "model_module": "@jupyter-widgets/base",
          "model_name": "LayoutModel",
          "model_module_version": "1.2.0",
          "state": {
            "_model_module": "@jupyter-widgets/base",
            "_model_module_version": "1.2.0",
            "_model_name": "LayoutModel",
            "_view_count": null,
            "_view_module": "@jupyter-widgets/base",
            "_view_module_version": "1.2.0",
            "_view_name": "LayoutView",
            "align_content": null,
            "align_items": null,
            "align_self": null,
            "border": null,
            "bottom": null,
            "display": null,
            "flex": null,
            "flex_flow": null,
            "grid_area": null,
            "grid_auto_columns": null,
            "grid_auto_flow": null,
            "grid_auto_rows": null,
            "grid_column": null,
            "grid_gap": null,
            "grid_row": null,
            "grid_template_areas": null,
            "grid_template_columns": null,
            "grid_template_rows": null,
            "height": null,
            "justify_content": null,
            "justify_items": null,
            "left": null,
            "margin": null,
            "max_height": null,
            "max_width": null,
            "min_height": null,
            "min_width": null,
            "object_fit": null,
            "object_position": null,
            "order": null,
            "overflow": null,
            "overflow_x": null,
            "overflow_y": null,
            "padding": null,
            "right": null,
            "top": null,
            "visibility": null,
            "width": null
          }
        },
        "b57c448045824438bfd906cb3b8fde77": {
          "model_module": "@jupyter-widgets/controls",
          "model_name": "ProgressStyleModel",
          "model_module_version": "1.5.0",
          "state": {
            "_model_module": "@jupyter-widgets/controls",
            "_model_module_version": "1.5.0",
            "_model_name": "ProgressStyleModel",
            "_view_count": null,
            "_view_module": "@jupyter-widgets/base",
            "_view_module_version": "1.2.0",
            "_view_name": "StyleView",
            "bar_color": null,
            "description_width": ""
          }
        },
        "df61fb39e3964dc48fc3bd42ce84ebd4": {
          "model_module": "@jupyter-widgets/base",
          "model_name": "LayoutModel",
          "model_module_version": "1.2.0",
          "state": {
            "_model_module": "@jupyter-widgets/base",
            "_model_module_version": "1.2.0",
            "_model_name": "LayoutModel",
            "_view_count": null,
            "_view_module": "@jupyter-widgets/base",
            "_view_module_version": "1.2.0",
            "_view_name": "LayoutView",
            "align_content": null,
            "align_items": null,
            "align_self": null,
            "border": null,
            "bottom": null,
            "display": null,
            "flex": null,
            "flex_flow": null,
            "grid_area": null,
            "grid_auto_columns": null,
            "grid_auto_flow": null,
            "grid_auto_rows": null,
            "grid_column": null,
            "grid_gap": null,
            "grid_row": null,
            "grid_template_areas": null,
            "grid_template_columns": null,
            "grid_template_rows": null,
            "height": null,
            "justify_content": null,
            "justify_items": null,
            "left": null,
            "margin": null,
            "max_height": null,
            "max_width": null,
            "min_height": null,
            "min_width": null,
            "object_fit": null,
            "object_position": null,
            "order": null,
            "overflow": null,
            "overflow_x": null,
            "overflow_y": null,
            "padding": null,
            "right": null,
            "top": null,
            "visibility": null,
            "width": null
          }
        },
        "79196616c9bc4064b976bb47a75d38ee": {
          "model_module": "@jupyter-widgets/controls",
          "model_name": "DescriptionStyleModel",
          "model_module_version": "1.5.0",
          "state": {
            "_model_module": "@jupyter-widgets/controls",
            "_model_module_version": "1.5.0",
            "_model_name": "DescriptionStyleModel",
            "_view_count": null,
            "_view_module": "@jupyter-widgets/base",
            "_view_module_version": "1.2.0",
            "_view_name": "StyleView",
            "description_width": ""
          }
        }
      }
    }
  },
  "cells": [
    {
      "cell_type": "markdown",
      "metadata": {
        "id": "view-in-github",
        "colab_type": "text"
      },
      "source": [
        "<a href=\"https://colab.research.google.com/github/noamshimsho/NLP/blob/main/Chapter_7_Question_Answering.ipynb\" target=\"_parent\"><img src=\"https://colab.research.google.com/assets/colab-badge.svg\" alt=\"Open In Colab\"/></a>"
      ]
    },
    {
      "cell_type": "markdown",
      "source": [
        "In This Notebook:\n",
        "\n",
        "*   extractive QA (ds - subjqa)\n",
        "*   EDA\n",
        "*   Tokenizing text for QA"
      ],
      "metadata": {
        "id": "dwcTsWCm7wv5"
      }
    },
    {
      "cell_type": "code",
      "execution_count": 1,
      "metadata": {
        "colab": {
          "base_uri": "https://localhost:8080/"
        },
        "id": "2EMyehrUpehf",
        "outputId": "7b7f926f-de62-4403-84eb-56100cfa7b4d"
      },
      "outputs": [
        {
          "output_type": "stream",
          "name": "stdout",
          "text": [
            "\u001b[2K     \u001b[90m━━━━━━━━━━━━━━━━━━━━━━━━━━━━━━━━━━━━━━━━\u001b[0m \u001b[32m6.3/6.3 MB\u001b[0m \u001b[31m38.8 MB/s\u001b[0m eta \u001b[36m0:00:00\u001b[0m\n",
            "\u001b[2K     \u001b[90m━━━━━━━━━━━━━━━━━━━━━━━━━━━━━━━━━━━━━━\u001b[0m \u001b[32m462.8/462.8 KB\u001b[0m \u001b[31m33.9 MB/s\u001b[0m eta \u001b[36m0:00:00\u001b[0m\n",
            "\u001b[2K     \u001b[90m━━━━━━━━━━━━━━━━━━━━━━━━━━━━━━━━━━━━━━━━\u001b[0m \u001b[32m81.4/81.4 KB\u001b[0m \u001b[31m6.2 MB/s\u001b[0m eta \u001b[36m0:00:00\u001b[0m\n",
            "\u001b[2K     \u001b[90m━━━━━━━━━━━━━━━━━━━━━━━━━━━━━━━━━━━━━━━━\u001b[0m \u001b[32m7.6/7.6 MB\u001b[0m \u001b[31m50.6 MB/s\u001b[0m eta \u001b[36m0:00:00\u001b[0m\n",
            "\u001b[2K     \u001b[90m━━━━━━━━━━━━━━━━━━━━━━━━━━━━━━━━━━━━━━\u001b[0m \u001b[32m190.3/190.3 KB\u001b[0m \u001b[31m17.5 MB/s\u001b[0m eta \u001b[36m0:00:00\u001b[0m\n",
            "\u001b[2K     \u001b[90m━━━━━━━━━━━━━━━━━━━━━━━━━━━━━━━━━━━━━━━━\u001b[0m \u001b[32m1.3/1.3 MB\u001b[0m \u001b[31m11.2 MB/s\u001b[0m eta \u001b[36m0:00:00\u001b[0m\n",
            "\u001b[2K     \u001b[90m━━━━━━━━━━━━━━━━━━━━━━━━━━━━━━━━━━━━━━\u001b[0m \u001b[32m213.0/213.0 KB\u001b[0m \u001b[31m13.1 MB/s\u001b[0m eta \u001b[36m0:00:00\u001b[0m\n",
            "\u001b[2K     \u001b[90m━━━━━━━━━━━━━━━━━━━━━━━━━━━━━━━━━━━━━━\u001b[0m \u001b[32m132.0/132.0 KB\u001b[0m \u001b[31m10.9 MB/s\u001b[0m eta \u001b[36m0:00:00\u001b[0m\n",
            "\u001b[2K     \u001b[90m━━━━━━━━━━━━━━━━━━━━━━━━━━━━━━━━━━━━━━\u001b[0m \u001b[32m140.6/140.6 KB\u001b[0m \u001b[31m11.4 MB/s\u001b[0m eta \u001b[36m0:00:00\u001b[0m\n",
            "\u001b[?25h"
          ]
        }
      ],
      "source": [
        "!pip install -q transformers[sentencepiece] datasets evaluate"
      ]
    },
    {
      "cell_type": "markdown",
      "source": [
        "# THE DATA"
      ],
      "metadata": {
        "id": "Q6f7c-k29kIZ"
      }
    },
    {
      "cell_type": "code",
      "source": [
        "from datasets import get_dataset_config_names\n",
        "\n",
        "domains = get_dataset_config_names(\"subjqa\")\n",
        "domains"
      ],
      "metadata": {
        "colab": {
          "base_uri": "https://localhost:8080/",
          "height": 130,
          "referenced_widgets": [
            "a6f3705236574ad196acc067f42f6749",
            "b7ea1b2d1cbf4df19f525a68c3a15ea6",
            "ea6d3e013497410ea6671eb7501fe961",
            "1fb613e2ff8447c3b133d4f0d6288ea7",
            "6b34361b5c58494182bba02095df9773",
            "75ba27ec485d4001b3ac3a291e21bb4f",
            "0eb1c8ef48ed40628cffbc1ff45de2ad",
            "2afe51e1e98149e5941f4d4124c14fd6",
            "59983cdafa4542b1b2b94e838fd6db45",
            "900d1fbcd8064a8bb0b649734fb0865a",
            "b4a95a87a343434ab368639d84a1070d",
            "94a6b7b762b64d298e3ae9cd7766d777",
            "9c12c31fb4464c1fa84980bd285986d3",
            "1315b1afcafa4830b9060945add35f51",
            "39bc4d980c35412b8c43d9cd028db18d",
            "e6bd778edec844c5986985c6700ebc62",
            "35562919f42d4d099a74bd5232e81718",
            "87983df8f1bc4716830f5fe0e4ac8260",
            "99ec05897c7443c691cd1f79fb62af1b",
            "aa2006643d824505ba27b7999da508c1",
            "0eb74cc324f948ebb97c416dc478cea0",
            "756df1bc4725412b994ec906254feebe",
            "6220d0dc6df94fd69fe4e4624702f0fb",
            "8b682566663a4febbb988e0fa0e2b4d2",
            "c1b069b3179f4fe8a1571a492b67011f",
            "5ba740a550b346fdbc1b091b078b349c",
            "7e6c77545e4a4c0d9d71296bca842023",
            "b942940e32e74798a68e60a8a87fd6c5",
            "edfe964b7de147d2a86de91958e63fcb",
            "7e836065cc824dac8759eedf7357e19f",
            "4c9d060275734f47af19437c0ae0ef9d",
            "3b51c6a47cc14105804918ceb0aa2a6d",
            "f6f1187c172d40a88990d6864cdffdec"
          ]
        },
        "id": "RAsjIysKpkc6",
        "outputId": "ea90f339-30b4-4383-ec1a-269dd4f219b9"
      },
      "execution_count": 2,
      "outputs": [
        {
          "output_type": "display_data",
          "data": {
            "text/plain": [
              "Downloading builder script:   0%|          | 0.00/9.15k [00:00<?, ?B/s]"
            ],
            "application/vnd.jupyter.widget-view+json": {
              "version_major": 2,
              "version_minor": 0,
              "model_id": "a6f3705236574ad196acc067f42f6749"
            }
          },
          "metadata": {}
        },
        {
          "output_type": "display_data",
          "data": {
            "text/plain": [
              "Downloading metadata:   0%|          | 0.00/17.7k [00:00<?, ?B/s]"
            ],
            "application/vnd.jupyter.widget-view+json": {
              "version_major": 2,
              "version_minor": 0,
              "model_id": "94a6b7b762b64d298e3ae9cd7766d777"
            }
          },
          "metadata": {}
        },
        {
          "output_type": "display_data",
          "data": {
            "text/plain": [
              "Downloading readme:   0%|          | 0.00/21.6k [00:00<?, ?B/s]"
            ],
            "application/vnd.jupyter.widget-view+json": {
              "version_major": 2,
              "version_minor": 0,
              "model_id": "6220d0dc6df94fd69fe4e4624702f0fb"
            }
          },
          "metadata": {}
        },
        {
          "output_type": "execute_result",
          "data": {
            "text/plain": [
              "['books', 'electronics', 'grocery', 'movies', 'restaurants', 'tripadvisor']"
            ]
          },
          "metadata": {},
          "execution_count": 2
        }
      ]
    },
    {
      "cell_type": "code",
      "source": [
        "from datasets import load_dataset\n",
        "\n",
        "subjqa = load_dataset(\"subjqa\", name=\"electronics\")"
      ],
      "metadata": {
        "colab": {
          "base_uri": "https://localhost:8080/",
          "height": 168,
          "referenced_widgets": [
            "7cc9dfd2abfe447596defeff5e49f732",
            "04a010d1bf09443cb18e3fc76162ff50",
            "34ad1001dbb54758b5ca2e0a5964c4f0",
            "931152a8e2794517b36c1d50ee6d7124",
            "9c6ffde62ba243eaa8351eb655a667bc",
            "76ac228b46be41d289035608620f37e4",
            "dc65098c68eb491a834159d9fc5dafe4",
            "7b5da033e89f4453a0209d56a4502703",
            "ff24c41ead7a4a1bb7c00d0584da0b66",
            "dd8e2dd0c4c94857a841da13b54edc29",
            "ad986f3153854df580ece2a44bb7fef9",
            "84258a2fbf7e4201af2e9667bec8222c",
            "5f68f53cd19f4e7ea41c4a1724a4c6e8",
            "5709d54bbb60414b8b3b2066a30bf75a",
            "0874b06fbff440eaa10620e0971d83f0",
            "e5ec1268dfa44f149024be9d455042e0",
            "87de3f06d25b41a0b87e52c687b1c790",
            "a693d9fc9956426cb70d2a8d93ab2394",
            "e8b4730568124fd58355ce4826cd5580",
            "06775da0e08c4e7ead816232f8305640",
            "e4a69f1d893e48b99db5ba6fd0039b43",
            "dcadb09332604c4f9575bef354e64ca3",
            "f637724968454c67a89146d062308c78",
            "919fe5d71f4c443aa0d95ed92ba065dd",
            "99c27b67cb9c443989fc6cc03683f6b2",
            "01efc9f1696f45998e1dd070cca53c15",
            "d4bd558ee14847fc822e4d6bf9ae3b83",
            "65d7bbe6f37c441f9fd2707360758c8e",
            "206b7f63c0564f8694f4ef5009be0f49",
            "7226fbb6dec84bb5941c65a545ce4476",
            "ed6359c3fb4840ed97648b0e7d55df9b",
            "12be9ef5bee84444846654fe757c54d9",
            "f53e7b963bb6479dac1fa6a5085f368e",
            "06235b0566ed42618c98606d854075d9",
            "c1ed2a1616af445eaeb11b4607f6f57d",
            "d9654ed0f841416d99b143420a5031c5",
            "8e02ba532f714ac3a306b6358617517c",
            "5ae210f86104427fbea4681c47b65395",
            "b1876d919728448ba0b40bbfa33a8a06",
            "6500d5f00d3f4b97a58dec39cf557dad",
            "0b4f35ceddd444ea88f9b21ffd4107d8",
            "1001742960854e259700b62c5537f4d5",
            "7b634d640ed04f3dbc8242391743fb35",
            "c8fa4884c2a34fac8dd8f9c11e2349a8",
            "bfc118f4baf34c289730ef0193690a61",
            "18e728f4e405463a9a0fea865bc7dc01",
            "0a6fe602a7de4f1087ace7abdd52038d",
            "0816bb5cdb9c4df79068d33360a7d790",
            "03a2ec69fdc44208be488fc35876dd57",
            "fb015e9b75324126bdf10e73c540b64b",
            "91c1f54bd2e449adaacadd6f6ccf2470",
            "d3b603f663474b039bddae21876a9d96",
            "87a32832607a41bfa26deef1369d1f89",
            "53f1efaec6d94220a8192239e0a9d895",
            "b76bb9880bfd4de6b7c1b8e64073be87"
          ]
        },
        "id": "eXS0FBdypkfr",
        "outputId": "2284fddf-7549-414d-c5b3-4df562f6b92e"
      },
      "execution_count": 3,
      "outputs": [
        {
          "output_type": "stream",
          "name": "stdout",
          "text": [
            "Downloading and preparing dataset subjqa/electronics to /root/.cache/huggingface/datasets/subjqa/electronics/1.1.0/e5588f9298ff2d70686a00cc377e4bdccf4e32287459e3c6baf2dc5ab57fe7fd...\n"
          ]
        },
        {
          "output_type": "display_data",
          "data": {
            "text/plain": [
              "Downloading data: 0.00B [00:00, ?B/s]"
            ],
            "application/vnd.jupyter.widget-view+json": {
              "version_major": 2,
              "version_minor": 0,
              "model_id": "7cc9dfd2abfe447596defeff5e49f732"
            }
          },
          "metadata": {}
        },
        {
          "output_type": "display_data",
          "data": {
            "text/plain": [
              "Generating train split:   0%|          | 0/1295 [00:00<?, ? examples/s]"
            ],
            "application/vnd.jupyter.widget-view+json": {
              "version_major": 2,
              "version_minor": 0,
              "model_id": "84258a2fbf7e4201af2e9667bec8222c"
            }
          },
          "metadata": {}
        },
        {
          "output_type": "display_data",
          "data": {
            "text/plain": [
              "Generating test split:   0%|          | 0/358 [00:00<?, ? examples/s]"
            ],
            "application/vnd.jupyter.widget-view+json": {
              "version_major": 2,
              "version_minor": 0,
              "model_id": "f637724968454c67a89146d062308c78"
            }
          },
          "metadata": {}
        },
        {
          "output_type": "display_data",
          "data": {
            "text/plain": [
              "Generating validation split:   0%|          | 0/255 [00:00<?, ? examples/s]"
            ],
            "application/vnd.jupyter.widget-view+json": {
              "version_major": 2,
              "version_minor": 0,
              "model_id": "06235b0566ed42618c98606d854075d9"
            }
          },
          "metadata": {}
        },
        {
          "output_type": "stream",
          "name": "stdout",
          "text": [
            "Dataset subjqa downloaded and prepared to /root/.cache/huggingface/datasets/subjqa/electronics/1.1.0/e5588f9298ff2d70686a00cc377e4bdccf4e32287459e3c6baf2dc5ab57fe7fd. Subsequent calls will reuse this data.\n"
          ]
        },
        {
          "output_type": "display_data",
          "data": {
            "text/plain": [
              "  0%|          | 0/3 [00:00<?, ?it/s]"
            ],
            "application/vnd.jupyter.widget-view+json": {
              "version_major": 2,
              "version_minor": 0,
              "model_id": "bfc118f4baf34c289730ef0193690a61"
            }
          },
          "metadata": {}
        }
      ]
    },
    {
      "cell_type": "code",
      "source": [
        "subjqa"
      ],
      "metadata": {
        "colab": {
          "base_uri": "https://localhost:8080/"
        },
        "id": "i2hWi2B-pkiD",
        "outputId": "63a4ec99-1e00-4c8f-a491-d79308f5a8a1"
      },
      "execution_count": 4,
      "outputs": [
        {
          "output_type": "execute_result",
          "data": {
            "text/plain": [
              "DatasetDict({\n",
              "    train: Dataset({\n",
              "        features: ['domain', 'nn_mod', 'nn_asp', 'query_mod', 'query_asp', 'q_reviews_id', 'question_subj_level', 'ques_subj_score', 'is_ques_subjective', 'review_id', 'id', 'title', 'context', 'question', 'answers'],\n",
              "        num_rows: 1295\n",
              "    })\n",
              "    test: Dataset({\n",
              "        features: ['domain', 'nn_mod', 'nn_asp', 'query_mod', 'query_asp', 'q_reviews_id', 'question_subj_level', 'ques_subj_score', 'is_ques_subjective', 'review_id', 'id', 'title', 'context', 'question', 'answers'],\n",
              "        num_rows: 358\n",
              "    })\n",
              "    validation: Dataset({\n",
              "        features: ['domain', 'nn_mod', 'nn_asp', 'query_mod', 'query_asp', 'q_reviews_id', 'question_subj_level', 'ques_subj_score', 'is_ques_subjective', 'review_id', 'id', 'title', 'context', 'question', 'answers'],\n",
              "        num_rows: 255\n",
              "    })\n",
              "})"
            ]
          },
          "metadata": {},
          "execution_count": 4
        }
      ]
    },
    {
      "cell_type": "code",
      "source": [
        "subjqa['train'].column_names"
      ],
      "metadata": {
        "colab": {
          "base_uri": "https://localhost:8080/"
        },
        "id": "-c_sbJ4ipkki",
        "outputId": "df76b635-f0d0-4482-8cb0-9f4fc0b38964"
      },
      "execution_count": 5,
      "outputs": [
        {
          "output_type": "execute_result",
          "data": {
            "text/plain": [
              "['domain',\n",
              " 'nn_mod',\n",
              " 'nn_asp',\n",
              " 'query_mod',\n",
              " 'query_asp',\n",
              " 'q_reviews_id',\n",
              " 'question_subj_level',\n",
              " 'ques_subj_score',\n",
              " 'is_ques_subjective',\n",
              " 'review_id',\n",
              " 'id',\n",
              " 'title',\n",
              " 'context',\n",
              " 'question',\n",
              " 'answers']"
            ]
          },
          "metadata": {},
          "execution_count": 5
        }
      ]
    },
    {
      "cell_type": "code",
      "source": [
        "print(subjqa[\"train\"][\"question\"][1])"
      ],
      "metadata": {
        "colab": {
          "base_uri": "https://localhost:8080/"
        },
        "id": "RgvwXDnSpknE",
        "outputId": "f071a3d6-ffaf-4fca-c658-621cc4106626"
      },
      "execution_count": 6,
      "outputs": [
        {
          "output_type": "stream",
          "name": "stdout",
          "text": [
            "Is this music song have a goo bass?\n"
          ]
        }
      ]
    },
    {
      "cell_type": "code",
      "source": [
        "print(subjqa[\"train\"][\"context\"][1])"
      ],
      "metadata": {
        "colab": {
          "base_uri": "https://localhost:8080/"
        },
        "id": "_982r94RtYgt",
        "outputId": "0adaf36e-1120-4f96-b83c-3f39b009b14c"
      },
      "execution_count": 7,
      "outputs": [
        {
          "output_type": "stream",
          "name": "stdout",
          "text": [
            "To anyone who hasn't tried all the various types of headphones, it is important to remember exactly what these are: cheap portable on-ear headphones. They give a totally different sound then in-ears or closed design phones, but for what they are I would say they're good. I currently own six pairs of phones, from stock apple earbuds to Sennheiser HD 518s. Gave my Portapros a run on both my computer's sound card and mp3 player, using 256 kbps mp3s or better. The clarity is good and they're very lightweight. The folding design is simple but effective. The look is certainly retro and unique, although I didn't find it as comfortable as many have claimed. Earpads are *very* thin and made my ears sore after 30 minutes of listening, although this can be remedied to a point by adjusting the \"comfort zone\" feature (tightening the temple pads while loosening the ear pads). The cord seems to be an average thickness, but I wouldn't get too rough with these. The steel headband adjusts smoothly and easily, just watch out that the slider doesn't catch your hair. Despite the sore ears, the phones are very lightweight overall.Back to the sound: as you would expect, it's good for a portable phone, but hardly earth shattering. At flat EQ the clarity is good, although the highs can sometimes be harsh. Bass is weak as expected, even with EQ adjusted up. To be fair, a portable on-ear would have a tough time comparing to the bass of an in-ear with a good seal or a pair with larger drivers. No sound isolation offered if you're into that sort of thing. Cool 80s phones, though I've certainly owned better portable on-ears (Sony makes excellent phones in this category). Soundstage is very narrow and lacks body. A good value if you can get them for under thirty, otherwise I'd rather invest in a nicer pair of phones. If we're talking about value, they're a good buy compared to new stock apple buds. If you're trying to compare the sound quality of this product to serious headphones, there's really no comparison at all.Update: After 100 hours of burn-in time the sound has not been affected in any appreciable way. Highs are still harsh, and bass is still underwhelming. I sometimes use these as a convenience but they have been largely replaced in my collection.\n"
          ]
        }
      ]
    },
    {
      "cell_type": "code",
      "source": [
        "print(subjqa[\"train\"][\"answers\"][1])"
      ],
      "metadata": {
        "colab": {
          "base_uri": "https://localhost:8080/"
        },
        "id": "gsjvcgvtpkpr",
        "outputId": "9356e33a-3fe9-47d3-967b-e50132ad9bd7"
      },
      "execution_count": 8,
      "outputs": [
        {
          "output_type": "stream",
          "name": "stdout",
          "text": [
            "{'text': ['Bass is weak as expected', 'Bass is weak as expected, even with EQ adjusted up'], 'answer_start': [1302, 1302], 'answer_subj_level': [1, 1], 'ans_subj_score': [0.5083333253860474, 0.5083333253860474], 'is_ans_subjective': [True, True]}\n"
          ]
        }
      ]
    },
    {
      "cell_type": "code",
      "source": [
        "import pandas as pd\n",
        "\n",
        "dfs = {split: dset.to_pandas() for split, dset in subjqa.flatten().items()}\n",
        "\n",
        "for split, df in dfs.items():\n",
        "    print(f\"Number of questions in {split}: {df['id'].nunique()}\")"
      ],
      "metadata": {
        "colab": {
          "base_uri": "https://localhost:8080/"
        },
        "id": "qrgUpvQypksK",
        "outputId": "f402ac94-c8bb-48c7-a815-783568dfc350"
      },
      "execution_count": 9,
      "outputs": [
        {
          "output_type": "stream",
          "name": "stdout",
          "text": [
            "Number of questions in train: 1295\n",
            "Number of questions in test: 358\n",
            "Number of questions in validation: 255\n"
          ]
        }
      ]
    },
    {
      "cell_type": "code",
      "source": [
        "dfs['train'].head(3)"
      ],
      "metadata": {
        "colab": {
          "base_uri": "https://localhost:8080/",
          "height": 450
        },
        "id": "mGfpRYt-pkul",
        "outputId": "a87bf6fa-3957-452d-85b7-ce415e3ac7a5"
      },
      "execution_count": 10,
      "outputs": [
        {
          "output_type": "execute_result",
          "data": {
            "text/plain": [
              "        domain   nn_mod         nn_asp   query_mod query_asp  \\\n",
              "0  electronics    great  bass response   excellent      bass   \n",
              "1  electronics    harsh           high  not strong      bass   \n",
              "2  electronics  neutral          sound     present      bass   \n",
              "\n",
              "                       q_reviews_id  question_subj_level  ques_subj_score  \\\n",
              "0  0514ee34b672623dff659334a25b599b                    5              0.5   \n",
              "1  7c46670208f7bf5497480fbdbb44561a                    1              0.5   \n",
              "2  8fbf26792c438aa83178c2d507af5d77                    1              0.5   \n",
              "\n",
              "   is_ques_subjective                         review_id  \\\n",
              "0               False  882b1e2745a4779c8f17b3d4406b91c7   \n",
              "1               False  ce76793f036494eabe07b33a9a67288a   \n",
              "2               False  d040f2713caa2aff0ce95affb40e12c2   \n",
              "\n",
              "                                 id       title  \\\n",
              "0  2543d296da9766d8d17d040ecc781699  B00001P4ZH   \n",
              "1  d476830bf9282e2b9033e2bb44bbb995  B00001P4ZH   \n",
              "2  455575557886d6dfeea5aa19577e5de4  B00001P4ZH   \n",
              "\n",
              "                                             context  \\\n",
              "0  I have had Koss headphones in the past, Pro 4A...   \n",
              "1  To anyone who hasn't tried all the various typ...   \n",
              "2  I have had many sub-$100 headphones from $5 Pa...   \n",
              "\n",
              "                              question  \\\n",
              "0                     How is the bass?   \n",
              "1  Is this music song have a goo bass?   \n",
              "2                     How is the bass?   \n",
              "\n",
              "                                        answers.text answers.answer_start  \\\n",
              "0                                                 []                   []   \n",
              "1  [Bass is weak as expected, Bass is weak as exp...         [1302, 1302]   \n",
              "2          [The only fault in the sound is the bass]                [650]   \n",
              "\n",
              "  answers.answer_subj_level  answers.ans_subj_score answers.is_ans_subjective  \n",
              "0                        []                      []                        []  \n",
              "1                    [1, 1]  [0.5083333, 0.5083333]              [True, True]  \n",
              "2                       [2]             [0.6333333]                    [True]  "
            ],
            "text/html": [
              "\n",
              "  <div id=\"df-431be123-9edd-460d-9498-3cd0988beb57\">\n",
              "    <div class=\"colab-df-container\">\n",
              "      <div>\n",
              "<style scoped>\n",
              "    .dataframe tbody tr th:only-of-type {\n",
              "        vertical-align: middle;\n",
              "    }\n",
              "\n",
              "    .dataframe tbody tr th {\n",
              "        vertical-align: top;\n",
              "    }\n",
              "\n",
              "    .dataframe thead th {\n",
              "        text-align: right;\n",
              "    }\n",
              "</style>\n",
              "<table border=\"1\" class=\"dataframe\">\n",
              "  <thead>\n",
              "    <tr style=\"text-align: right;\">\n",
              "      <th></th>\n",
              "      <th>domain</th>\n",
              "      <th>nn_mod</th>\n",
              "      <th>nn_asp</th>\n",
              "      <th>query_mod</th>\n",
              "      <th>query_asp</th>\n",
              "      <th>q_reviews_id</th>\n",
              "      <th>question_subj_level</th>\n",
              "      <th>ques_subj_score</th>\n",
              "      <th>is_ques_subjective</th>\n",
              "      <th>review_id</th>\n",
              "      <th>id</th>\n",
              "      <th>title</th>\n",
              "      <th>context</th>\n",
              "      <th>question</th>\n",
              "      <th>answers.text</th>\n",
              "      <th>answers.answer_start</th>\n",
              "      <th>answers.answer_subj_level</th>\n",
              "      <th>answers.ans_subj_score</th>\n",
              "      <th>answers.is_ans_subjective</th>\n",
              "    </tr>\n",
              "  </thead>\n",
              "  <tbody>\n",
              "    <tr>\n",
              "      <th>0</th>\n",
              "      <td>electronics</td>\n",
              "      <td>great</td>\n",
              "      <td>bass response</td>\n",
              "      <td>excellent</td>\n",
              "      <td>bass</td>\n",
              "      <td>0514ee34b672623dff659334a25b599b</td>\n",
              "      <td>5</td>\n",
              "      <td>0.5</td>\n",
              "      <td>False</td>\n",
              "      <td>882b1e2745a4779c8f17b3d4406b91c7</td>\n",
              "      <td>2543d296da9766d8d17d040ecc781699</td>\n",
              "      <td>B00001P4ZH</td>\n",
              "      <td>I have had Koss headphones in the past, Pro 4A...</td>\n",
              "      <td>How is the bass?</td>\n",
              "      <td>[]</td>\n",
              "      <td>[]</td>\n",
              "      <td>[]</td>\n",
              "      <td>[]</td>\n",
              "      <td>[]</td>\n",
              "    </tr>\n",
              "    <tr>\n",
              "      <th>1</th>\n",
              "      <td>electronics</td>\n",
              "      <td>harsh</td>\n",
              "      <td>high</td>\n",
              "      <td>not strong</td>\n",
              "      <td>bass</td>\n",
              "      <td>7c46670208f7bf5497480fbdbb44561a</td>\n",
              "      <td>1</td>\n",
              "      <td>0.5</td>\n",
              "      <td>False</td>\n",
              "      <td>ce76793f036494eabe07b33a9a67288a</td>\n",
              "      <td>d476830bf9282e2b9033e2bb44bbb995</td>\n",
              "      <td>B00001P4ZH</td>\n",
              "      <td>To anyone who hasn't tried all the various typ...</td>\n",
              "      <td>Is this music song have a goo bass?</td>\n",
              "      <td>[Bass is weak as expected, Bass is weak as exp...</td>\n",
              "      <td>[1302, 1302]</td>\n",
              "      <td>[1, 1]</td>\n",
              "      <td>[0.5083333, 0.5083333]</td>\n",
              "      <td>[True, True]</td>\n",
              "    </tr>\n",
              "    <tr>\n",
              "      <th>2</th>\n",
              "      <td>electronics</td>\n",
              "      <td>neutral</td>\n",
              "      <td>sound</td>\n",
              "      <td>present</td>\n",
              "      <td>bass</td>\n",
              "      <td>8fbf26792c438aa83178c2d507af5d77</td>\n",
              "      <td>1</td>\n",
              "      <td>0.5</td>\n",
              "      <td>False</td>\n",
              "      <td>d040f2713caa2aff0ce95affb40e12c2</td>\n",
              "      <td>455575557886d6dfeea5aa19577e5de4</td>\n",
              "      <td>B00001P4ZH</td>\n",
              "      <td>I have had many sub-$100 headphones from $5 Pa...</td>\n",
              "      <td>How is the bass?</td>\n",
              "      <td>[The only fault in the sound is the bass]</td>\n",
              "      <td>[650]</td>\n",
              "      <td>[2]</td>\n",
              "      <td>[0.6333333]</td>\n",
              "      <td>[True]</td>\n",
              "    </tr>\n",
              "  </tbody>\n",
              "</table>\n",
              "</div>\n",
              "      <button class=\"colab-df-convert\" onclick=\"convertToInteractive('df-431be123-9edd-460d-9498-3cd0988beb57')\"\n",
              "              title=\"Convert this dataframe to an interactive table.\"\n",
              "              style=\"display:none;\">\n",
              "        \n",
              "  <svg xmlns=\"http://www.w3.org/2000/svg\" height=\"24px\"viewBox=\"0 0 24 24\"\n",
              "       width=\"24px\">\n",
              "    <path d=\"M0 0h24v24H0V0z\" fill=\"none\"/>\n",
              "    <path d=\"M18.56 5.44l.94 2.06.94-2.06 2.06-.94-2.06-.94-.94-2.06-.94 2.06-2.06.94zm-11 1L8.5 8.5l.94-2.06 2.06-.94-2.06-.94L8.5 2.5l-.94 2.06-2.06.94zm10 10l.94 2.06.94-2.06 2.06-.94-2.06-.94-.94-2.06-.94 2.06-2.06.94z\"/><path d=\"M17.41 7.96l-1.37-1.37c-.4-.4-.92-.59-1.43-.59-.52 0-1.04.2-1.43.59L10.3 9.45l-7.72 7.72c-.78.78-.78 2.05 0 2.83L4 21.41c.39.39.9.59 1.41.59.51 0 1.02-.2 1.41-.59l7.78-7.78 2.81-2.81c.8-.78.8-2.07 0-2.86zM5.41 20L4 18.59l7.72-7.72 1.47 1.35L5.41 20z\"/>\n",
              "  </svg>\n",
              "      </button>\n",
              "      \n",
              "  <style>\n",
              "    .colab-df-container {\n",
              "      display:flex;\n",
              "      flex-wrap:wrap;\n",
              "      gap: 12px;\n",
              "    }\n",
              "\n",
              "    .colab-df-convert {\n",
              "      background-color: #E8F0FE;\n",
              "      border: none;\n",
              "      border-radius: 50%;\n",
              "      cursor: pointer;\n",
              "      display: none;\n",
              "      fill: #1967D2;\n",
              "      height: 32px;\n",
              "      padding: 0 0 0 0;\n",
              "      width: 32px;\n",
              "    }\n",
              "\n",
              "    .colab-df-convert:hover {\n",
              "      background-color: #E2EBFA;\n",
              "      box-shadow: 0px 1px 2px rgba(60, 64, 67, 0.3), 0px 1px 3px 1px rgba(60, 64, 67, 0.15);\n",
              "      fill: #174EA6;\n",
              "    }\n",
              "\n",
              "    [theme=dark] .colab-df-convert {\n",
              "      background-color: #3B4455;\n",
              "      fill: #D2E3FC;\n",
              "    }\n",
              "\n",
              "    [theme=dark] .colab-df-convert:hover {\n",
              "      background-color: #434B5C;\n",
              "      box-shadow: 0px 1px 3px 1px rgba(0, 0, 0, 0.15);\n",
              "      filter: drop-shadow(0px 1px 2px rgba(0, 0, 0, 0.3));\n",
              "      fill: #FFFFFF;\n",
              "    }\n",
              "  </style>\n",
              "\n",
              "      <script>\n",
              "        const buttonEl =\n",
              "          document.querySelector('#df-431be123-9edd-460d-9498-3cd0988beb57 button.colab-df-convert');\n",
              "        buttonEl.style.display =\n",
              "          google.colab.kernel.accessAllowed ? 'block' : 'none';\n",
              "\n",
              "        async function convertToInteractive(key) {\n",
              "          const element = document.querySelector('#df-431be123-9edd-460d-9498-3cd0988beb57');\n",
              "          const dataTable =\n",
              "            await google.colab.kernel.invokeFunction('convertToInteractive',\n",
              "                                                     [key], {});\n",
              "          if (!dataTable) return;\n",
              "\n",
              "          const docLinkHtml = 'Like what you see? Visit the ' +\n",
              "            '<a target=\"_blank\" href=https://colab.research.google.com/notebooks/data_table.ipynb>data table notebook</a>'\n",
              "            + ' to learn more about interactive tables.';\n",
              "          element.innerHTML = '';\n",
              "          dataTable['output_type'] = 'display_data';\n",
              "          await google.colab.output.renderOutput(dataTable, element);\n",
              "          const docLink = document.createElement('div');\n",
              "          docLink.innerHTML = docLinkHtml;\n",
              "          element.appendChild(docLink);\n",
              "        }\n",
              "      </script>\n",
              "    </div>\n",
              "  </div>\n",
              "  "
            ]
          },
          "metadata": {},
          "execution_count": 10
        }
      ]
    },
    {
      "cell_type": "code",
      "source": [],
      "metadata": {
        "id": "C1OXu3h2pkxQ"
      },
      "execution_count": null,
      "outputs": []
    },
    {
      "cell_type": "markdown",
      "source": [
        "\n",
        "**title** - The Amazon Standard Identification Number (ASIN) associated with each product\n",
        "\n",
        "**question** - The question\n",
        "\n",
        "**answers.answer_text** - The span of text in the review labeled by the annotator\n",
        "\n",
        "**answers.answer_start** - The start character index of the answer span\n",
        "\n",
        "**context** - The customer review"
      ],
      "metadata": {
        "id": "cAE3JTpms9Sy"
      }
    },
    {
      "cell_type": "code",
      "source": [
        "qa_cols = [\"title\", \"question\", \"answers.text\",\n",
        "           \"answers.answer_start\", \"context\"]\n",
        "sample_df = dfs[\"train\"][qa_cols].sample(2, random_state=7)\n",
        "sample_df"
      ],
      "metadata": {
        "colab": {
          "base_uri": "https://localhost:8080/",
          "height": 112
        },
        "id": "ICtO8DaApkzl",
        "outputId": "bae26ce8-20e1-48f9-dd19-1e39124b7195"
      },
      "execution_count": 11,
      "outputs": [
        {
          "output_type": "execute_result",
          "data": {
            "text/plain": [
              "           title                        question                answers.text  \\\n",
              "791   B005DKZTMG  Does the keyboard lightweight?  [this keyboard is compact]   \n",
              "1159  B00AAIPT76             How is the battery?                          []   \n",
              "\n",
              "     answers.answer_start                                            context  \n",
              "791                 [215]  I really like this keyboard.  I give it 4 star...  \n",
              "1159                   []  I bought this after the first spare gopro batt...  "
            ],
            "text/html": [
              "\n",
              "  <div id=\"df-7d751340-e0d8-451e-a338-907a922f8077\">\n",
              "    <div class=\"colab-df-container\">\n",
              "      <div>\n",
              "<style scoped>\n",
              "    .dataframe tbody tr th:only-of-type {\n",
              "        vertical-align: middle;\n",
              "    }\n",
              "\n",
              "    .dataframe tbody tr th {\n",
              "        vertical-align: top;\n",
              "    }\n",
              "\n",
              "    .dataframe thead th {\n",
              "        text-align: right;\n",
              "    }\n",
              "</style>\n",
              "<table border=\"1\" class=\"dataframe\">\n",
              "  <thead>\n",
              "    <tr style=\"text-align: right;\">\n",
              "      <th></th>\n",
              "      <th>title</th>\n",
              "      <th>question</th>\n",
              "      <th>answers.text</th>\n",
              "      <th>answers.answer_start</th>\n",
              "      <th>context</th>\n",
              "    </tr>\n",
              "  </thead>\n",
              "  <tbody>\n",
              "    <tr>\n",
              "      <th>791</th>\n",
              "      <td>B005DKZTMG</td>\n",
              "      <td>Does the keyboard lightweight?</td>\n",
              "      <td>[this keyboard is compact]</td>\n",
              "      <td>[215]</td>\n",
              "      <td>I really like this keyboard.  I give it 4 star...</td>\n",
              "    </tr>\n",
              "    <tr>\n",
              "      <th>1159</th>\n",
              "      <td>B00AAIPT76</td>\n",
              "      <td>How is the battery?</td>\n",
              "      <td>[]</td>\n",
              "      <td>[]</td>\n",
              "      <td>I bought this after the first spare gopro batt...</td>\n",
              "    </tr>\n",
              "  </tbody>\n",
              "</table>\n",
              "</div>\n",
              "      <button class=\"colab-df-convert\" onclick=\"convertToInteractive('df-7d751340-e0d8-451e-a338-907a922f8077')\"\n",
              "              title=\"Convert this dataframe to an interactive table.\"\n",
              "              style=\"display:none;\">\n",
              "        \n",
              "  <svg xmlns=\"http://www.w3.org/2000/svg\" height=\"24px\"viewBox=\"0 0 24 24\"\n",
              "       width=\"24px\">\n",
              "    <path d=\"M0 0h24v24H0V0z\" fill=\"none\"/>\n",
              "    <path d=\"M18.56 5.44l.94 2.06.94-2.06 2.06-.94-2.06-.94-.94-2.06-.94 2.06-2.06.94zm-11 1L8.5 8.5l.94-2.06 2.06-.94-2.06-.94L8.5 2.5l-.94 2.06-2.06.94zm10 10l.94 2.06.94-2.06 2.06-.94-2.06-.94-.94-2.06-.94 2.06-2.06.94z\"/><path d=\"M17.41 7.96l-1.37-1.37c-.4-.4-.92-.59-1.43-.59-.52 0-1.04.2-1.43.59L10.3 9.45l-7.72 7.72c-.78.78-.78 2.05 0 2.83L4 21.41c.39.39.9.59 1.41.59.51 0 1.02-.2 1.41-.59l7.78-7.78 2.81-2.81c.8-.78.8-2.07 0-2.86zM5.41 20L4 18.59l7.72-7.72 1.47 1.35L5.41 20z\"/>\n",
              "  </svg>\n",
              "      </button>\n",
              "      \n",
              "  <style>\n",
              "    .colab-df-container {\n",
              "      display:flex;\n",
              "      flex-wrap:wrap;\n",
              "      gap: 12px;\n",
              "    }\n",
              "\n",
              "    .colab-df-convert {\n",
              "      background-color: #E8F0FE;\n",
              "      border: none;\n",
              "      border-radius: 50%;\n",
              "      cursor: pointer;\n",
              "      display: none;\n",
              "      fill: #1967D2;\n",
              "      height: 32px;\n",
              "      padding: 0 0 0 0;\n",
              "      width: 32px;\n",
              "    }\n",
              "\n",
              "    .colab-df-convert:hover {\n",
              "      background-color: #E2EBFA;\n",
              "      box-shadow: 0px 1px 2px rgba(60, 64, 67, 0.3), 0px 1px 3px 1px rgba(60, 64, 67, 0.15);\n",
              "      fill: #174EA6;\n",
              "    }\n",
              "\n",
              "    [theme=dark] .colab-df-convert {\n",
              "      background-color: #3B4455;\n",
              "      fill: #D2E3FC;\n",
              "    }\n",
              "\n",
              "    [theme=dark] .colab-df-convert:hover {\n",
              "      background-color: #434B5C;\n",
              "      box-shadow: 0px 1px 3px 1px rgba(0, 0, 0, 0.15);\n",
              "      filter: drop-shadow(0px 1px 2px rgba(0, 0, 0, 0.3));\n",
              "      fill: #FFFFFF;\n",
              "    }\n",
              "  </style>\n",
              "\n",
              "      <script>\n",
              "        const buttonEl =\n",
              "          document.querySelector('#df-7d751340-e0d8-451e-a338-907a922f8077 button.colab-df-convert');\n",
              "        buttonEl.style.display =\n",
              "          google.colab.kernel.accessAllowed ? 'block' : 'none';\n",
              "\n",
              "        async function convertToInteractive(key) {\n",
              "          const element = document.querySelector('#df-7d751340-e0d8-451e-a338-907a922f8077');\n",
              "          const dataTable =\n",
              "            await google.colab.kernel.invokeFunction('convertToInteractive',\n",
              "                                                     [key], {});\n",
              "          if (!dataTable) return;\n",
              "\n",
              "          const docLinkHtml = 'Like what you see? Visit the ' +\n",
              "            '<a target=\"_blank\" href=https://colab.research.google.com/notebooks/data_table.ipynb>data table notebook</a>'\n",
              "            + ' to learn more about interactive tables.';\n",
              "          element.innerHTML = '';\n",
              "          dataTable['output_type'] = 'display_data';\n",
              "          await google.colab.output.renderOutput(dataTable, element);\n",
              "          const docLink = document.createElement('div');\n",
              "          docLink.innerHTML = docLinkHtml;\n",
              "          element.appendChild(docLink);\n",
              "        }\n",
              "      </script>\n",
              "    </div>\n",
              "  </div>\n",
              "  "
            ]
          },
          "metadata": {},
          "execution_count": 11
        }
      ]
    },
    {
      "cell_type": "markdown",
      "source": [
        "From these examples we can make a few observations. \n",
        "\n",
        "First, the questions are not grammatically correct, which is quite common in the FAQ sections of ecommerce websites. \n",
        "\n",
        "Second, an empty answers.text entry denotes “unanswerable” questions whose answer cannot be found in the review."
      ],
      "metadata": {
        "id": "pGpqy7XLt8Jg"
      }
    },
    {
      "cell_type": "code",
      "source": [
        "start_idx = sample_df[\"answers.answer_start\"].iloc[0][0]\n",
        "end_idx = start_idx + len(sample_df[\"answers.text\"].iloc[0][0])\n",
        "start_idx, end_idx, sample_df[\"context\"].iloc[0][start_idx:end_idx]"
      ],
      "metadata": {
        "colab": {
          "base_uri": "https://localhost:8080/"
        },
        "id": "sw7zJrrBpk2N",
        "outputId": "895a406c-8e11-442b-9a36-8ed90f229b6c"
      },
      "execution_count": 12,
      "outputs": [
        {
          "output_type": "execute_result",
          "data": {
            "text/plain": [
              "(215, 239, 'this keyboard is compact')"
            ]
          },
          "metadata": {},
          "execution_count": 12
        }
      ]
    },
    {
      "cell_type": "code",
      "source": [
        "import matplotlib.pyplot as plt\n",
        "counts = {}\n",
        "question_types = [\"What\", \"How\", \"Is\", \"Does\", \"Do\", \"Was\", \"Where\", \"Why\"]\n",
        "\n",
        "for q in question_types:\n",
        "    counts[q] = dfs[\"train\"][\"question\"].str.startswith(q).value_counts()[True]\n",
        "\n",
        "pd.Series(counts).sort_values().plot.barh()\n",
        "plt.title(\"Frequency of Question Types\")\n",
        "plt.show()"
      ],
      "metadata": {
        "colab": {
          "base_uri": "https://localhost:8080/",
          "height": 281
        },
        "id": "YqjZAQp6pk4l",
        "outputId": "f82f4ef4-cf0a-4f80-b9a4-61143615b896"
      },
      "execution_count": 13,
      "outputs": [
        {
          "output_type": "display_data",
          "data": {
            "text/plain": [
              "<Figure size 432x288 with 1 Axes>"
            ],
            "image/png": "[encoded data removed]"
          },
          "metadata": {
            "needs_background": "light"
          }
        }
      ]
    },
    {
      "cell_type": "code",
      "source": [
        "dfs[\"train\"][\"question\"].str.startswith(q).value_counts()"
      ],
      "metadata": {
        "colab": {
          "base_uri": "https://localhost:8080/"
        },
        "id": "6_hl_LvMuPFy",
        "outputId": "0a110832-6179-4407-aef5-157e9fcdb21c"
      },
      "execution_count": 14,
      "outputs": [
        {
          "output_type": "execute_result",
          "data": {
            "text/plain": [
              "False    1274\n",
              "True       21\n",
              "Name: question, dtype: int64"
            ]
          },
          "metadata": {},
          "execution_count": 14
        }
      ]
    },
    {
      "cell_type": "code",
      "source": [
        "counts"
      ],
      "metadata": {
        "colab": {
          "base_uri": "https://localhost:8080/"
        },
        "id": "6uv_BN6LuPH5",
        "outputId": "fed4df40-4ec8-4b80-b45e-65313f3e6791"
      },
      "execution_count": 15,
      "outputs": [
        {
          "output_type": "execute_result",
          "data": {
            "text/plain": [
              "{'What': 236,\n",
              " 'How': 780,\n",
              " 'Is': 100,\n",
              " 'Does': 45,\n",
              " 'Do': 83,\n",
              " 'Was': 12,\n",
              " 'Where': 28,\n",
              " 'Why': 21}"
            ]
          },
          "metadata": {},
          "execution_count": 15
        }
      ]
    },
    {
      "cell_type": "code",
      "source": [
        "for question_type in [\"How\", \"What\", \"Is\"]:\n",
        "    for question in (\n",
        "        dfs[\"train\"][dfs[\"train\"].question.str.startswith(question_type)]\n",
        "        .sample(n=3, random_state=42)['question']):\n",
        "        print(question)"
      ],
      "metadata": {
        "colab": {
          "base_uri": "https://localhost:8080/"
        },
        "id": "drz20SA-uPKT",
        "outputId": "65059e1d-367e-4a5a-f52f-cd7076f0bc61"
      },
      "execution_count": 16,
      "outputs": [
        {
          "output_type": "stream",
          "name": "stdout",
          "text": [
            "How is the camera?\n",
            "How do you like the control?\n",
            "How fast is the charger?\n",
            "What is direction?\n",
            "What is the quality of the construction of the bag?\n",
            "What is your impression of the product?\n",
            "Is this how zoom works?\n",
            "Is sound clear?\n",
            "Is it a wireless keyboard?\n"
          ]
        }
      ]
    },
    {
      "cell_type": "markdown",
      "source": [
        "# Extracting Answers from Text"
      ],
      "metadata": {
        "id": "aZHKUZjgvcue"
      }
    },
    {
      "cell_type": "markdown",
      "source": [
        "\n",
        "\n",
        "*   Frame the supervised learning problem.\n",
        "*   Tokenize and encode text for QA tasks.\n",
        "*   Deal with long passages that exceed a model’s maximum context size.\n",
        "\n",
        "\n",
        "\n",
        "\n",
        "\n"
      ],
      "metadata": {
        "id": "_XJZquEdwBMq"
      }
    },
    {
      "cell_type": "markdown",
      "source": [
        "**Span classification**\n",
        "\n",
        "The most common way to extract answers from text is by framing the problem as a span classification task, where the start and end tokens of an answer span act as the labels that a model needs to predict"
      ],
      "metadata": {
        "id": "gfiAnqrxwO8w"
      }
    },
    {
      "cell_type": "markdown",
      "source": [
        "![nlpt_0704.png](data:image/png;base64,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)"
      ],
      "metadata": {
        "id": "59C0NZLqwcER"
      }
    },
    {
      "cell_type": "markdown",
      "source": [
        "Since our training set is relatively small, with only 1,295 examples, a good strategy is to start with a language model that has already been fine-tuned on a large-scale QA dataset like SQuAD.\n",
        "\n",
        "**For extractive QA, we can actually start with a fine-tuned model since the structure of the labels remains the same across datasets.**\n",
        "\n",
        "*https://huggingface.co/models?pipeline_tag=question-answering&search=squad*\n",
        "\n",
        "Transformer,\tDescription,\tNumber of parameters,\tF1-score on SQuAD 2.0\n",
        "\n",
        "**MiniLM**\n",
        "\n",
        "A distilled version of BERT-base that preserves 99% of the performance while being twice as fast - 66M -79.5\n",
        "\n",
        "**RoBERTa-base**\n",
        "\n",
        "RoBERTa models have better performance than their BERT counterparts and can be fine-tuned on most QA datasets using a single GPU 125M 83.0\n",
        "\n",
        "**ALBERT-XXL**\n",
        "\n",
        "State-of-the-art performance on SQuAD 2.0, but computationally intensive and difficult to deploy - 235M - 88.1\n",
        "\n",
        "**XLM-RoBERTa-large**\n",
        "\n",
        "Multilingual model for 100 languages with strong zero-shot performance - 570M - 83.8\n",
        "\n",
        "\n",
        "\n",
        "For the purposes of this chapter, we’ll use a fine-tuned MiniLM model since it is fast to train"
      ],
      "metadata": {
        "id": "-PtgX0-ewyHk"
      }
    },
    {
      "cell_type": "markdown",
      "source": [
        "## Tokenizing text for QA"
      ],
      "metadata": {
        "id": "IE5Bnd05yH93"
      }
    },
    {
      "cell_type": "code",
      "source": [
        "from transformers import AutoTokenizer\n",
        "\n",
        "model_ckpt = \"deepset/minilm-uncased-squad2\"\n",
        "tokenizer = AutoTokenizer.from_pretrained(model_ckpt)"
      ],
      "metadata": {
        "colab": {
          "base_uri": "https://localhost:8080/",
          "height": 145,
          "referenced_widgets": [
            "d71f4b82c081491188bc1407c2d2f9fb",
            "896ca5dd3ebe426eb1124d42886d40e9",
            "1ec69efdf62344839a1f59061aee2a53",
            "812c47aba083406d935454ea82e87943",
            "f43816b9f7fc46adb050f5a215efd129",
            "8db3ca7dbd1047c9b35420b21f73f8e0",
            "3a155aa4111c4dee80304e0c8f299393",
            "233b2b46fea54f5dbbcd7910c736d6f0",
            "5add3d8a88b54cbab564f709d61bb537",
            "fe8a74c4408744e8a4d30fa2eaf6aca6",
            "64249c38fa064ade8fc79df39ef1dfcd",
            "a782a2765845437ca789c2d6cce073a5",
            "002bbc8465ef42ec92573a1b753a1599",
            "662635561d324a429c28ca5c1fe2b600",
            "dde49bffb0924b70b081471bb06bfab7",
            "675afe36f2ed4104a05bb310bba62b36",
            "607697666865486fa6153d2e20ef5c53",
            "9094c8502dd34125a1647d665f4b0e14",
            "0d89b6aa35964f979119df188de87694",
            "429a98f474b74c4e8565ae4378084fec",
            "aa60d631760b4cc3bc61500ad9564385",
            "ddbe8a126fd24aec9f29170f181dba1c",
            "6a2612050c5c4dc1bda82327531fcf2a",
            "1453879bf8354324bca1ccb30fbdc399",
            "81d43b623c5e47a6835f07639dba1e83",
            "20bd03a3f4a047fcbe65def01e70e4e9",
            "6e89fae400804381b6cebfea4a8b0714",
            "83d8f9aada154e1ba5105003e51b2736",
            "85e1732603b94f50adf3837efd29b72b",
            "4c2ce93d232148ce9b4093a6d430aeff",
            "d26554712c3343358fd922ebd8f7c137",
            "9a467d51240b4b37b44733e56f12add8",
            "f2755803b16d400c92a26ff2190408e8",
            "23b04403b25144e4b6859f68cf5cc76f",
            "42c9aaeb43f14d91af8ab0d85fcc832a",
            "160570914c7e4d19a426629b22316cce",
            "e95901f2707740e1bbee5b36c02df4f9",
            "ca4f73bc1b6a438fa235c5013a661d7d",
            "147ec37249c64ff28a5ff14b556415d7",
            "f0f45e726d994a37a73c7953b60f3ab9",
            "210436b9b1734985ae6fe805f9a63b35",
            "5bea0de4f0e24693b6eea252366088ee",
            "7a3a72e10d8044398d9663d9af35c9b5",
            "a57c9cecca804c639419db4bc8458800"
          ]
        },
        "id": "rCN126tfuPMp",
        "outputId": "6f428e4d-46c0-4c0b-8a25-4b616a703648"
      },
      "execution_count": 17,
      "outputs": [
        {
          "output_type": "display_data",
          "data": {
            "text/plain": [
              "Downloading (…)okenizer_config.json:   0%|          | 0.00/107 [00:00<?, ?B/s]"
            ],
            "application/vnd.jupyter.widget-view+json": {
              "version_major": 2,
              "version_minor": 0,
              "model_id": "d71f4b82c081491188bc1407c2d2f9fb"
            }
          },
          "metadata": {}
        },
        {
          "output_type": "display_data",
          "data": {
            "text/plain": [
              "Downloading (…)lve/main/config.json:   0%|          | 0.00/477 [00:00<?, ?B/s]"
            ],
            "application/vnd.jupyter.widget-view+json": {
              "version_major": 2,
              "version_minor": 0,
              "model_id": "a782a2765845437ca789c2d6cce073a5"
            }
          },
          "metadata": {}
        },
        {
          "output_type": "display_data",
          "data": {
            "text/plain": [
              "Downloading (…)solve/main/vocab.txt:   0%|          | 0.00/232k [00:00<?, ?B/s]"
            ],
            "application/vnd.jupyter.widget-view+json": {
              "version_major": 2,
              "version_minor": 0,
              "model_id": "6a2612050c5c4dc1bda82327531fcf2a"
            }
          },
          "metadata": {}
        },
        {
          "output_type": "display_data",
          "data": {
            "text/plain": [
              "Downloading (…)cial_tokens_map.json:   0%|          | 0.00/112 [00:00<?, ?B/s]"
            ],
            "application/vnd.jupyter.widget-view+json": {
              "version_major": 2,
              "version_minor": 0,
              "model_id": "23b04403b25144e4b6859f68cf5cc76f"
            }
          },
          "metadata": {}
        }
      ]
    },
    {
      "cell_type": "code",
      "source": [
        "question = \"How much music can this hold?\"\n",
        "context = \"\"\"An MP3 is about 1 MB/minute, so about 6000 hours depending on \\\n",
        "file size.\"\"\"\n",
        "inputs = tokenizer(question, context, return_tensors=\"pt\")"
      ],
      "metadata": {
        "id": "Jlqs8ExjuPPG"
      },
      "execution_count": 18,
      "outputs": []
    },
    {
      "cell_type": "code",
      "source": [
        "inputs"
      ],
      "metadata": {
        "colab": {
          "base_uri": "https://localhost:8080/"
        },
        "id": "_RZQ2okbuPRN",
        "outputId": "d3175728-db59-4e5a-9db5-6a65e0657c70"
      },
      "execution_count": 19,
      "outputs": [
        {
          "output_type": "execute_result",
          "data": {
            "text/plain": [
              "{'input_ids': tensor([[  101,  2129,  2172,  2189,  2064,  2023,  2907,  1029,   102,  2019,\n",
              "         23378,  2003,  2055,  1015, 16914,  1013,  3371,  1010,  2061,  2055,\n",
              "         25961,  2847,  5834,  2006,  5371,  2946,  1012,   102]]), 'token_type_ids': tensor([[0, 0, 0, 0, 0, 0, 0, 0, 0, 1, 1, 1, 1, 1, 1, 1, 1, 1, 1, 1, 1, 1, 1, 1,\n",
              "         1, 1, 1, 1]]), 'attention_mask': tensor([[1, 1, 1, 1, 1, 1, 1, 1, 1, 1, 1, 1, 1, 1, 1, 1, 1, 1, 1, 1, 1, 1, 1, 1,\n",
              "         1, 1, 1, 1]])}"
            ]
          },
          "metadata": {},
          "execution_count": 19
        }
      ]
    },
    {
      "cell_type": "code",
      "source": [
        "pd.DataFrame([inputs['input_ids'][0].numpy() ,inputs['token_type_ids'][0].numpy()], index=['input_ids', 'token_type_ids'])"
      ],
      "metadata": {
        "colab": {
          "base_uri": "https://localhost:8080/",
          "height": 141
        },
        "id": "AY0Vq5NduPTm",
        "outputId": "9de83cf0-5747-4fbc-91f4-0eb0945ecf7a"
      },
      "execution_count": 20,
      "outputs": [
        {
          "output_type": "execute_result",
          "data": {
            "text/plain": [
              "                 0     1     2     3     4     5     6     7    8     9   ...  \\\n",
              "input_ids       101  2129  2172  2189  2064  2023  2907  1029  102  2019  ...   \n",
              "token_type_ids    0     0     0     0     0     0     0     0    0     1  ...   \n",
              "\n",
              "                  18    19     20    21    22    23    24    25    26   27  \n",
              "input_ids       2061  2055  25961  2847  5834  2006  5371  2946  1012  102  \n",
              "token_type_ids     1     1      1     1     1     1     1     1     1    1  \n",
              "\n",
              "[2 rows x 28 columns]"
            ],
            "text/html": [
              "\n",
              "  <div id=\"df-60634cd2-144d-4295-a74c-78c85ae39cf8\">\n",
              "    <div class=\"colab-df-container\">\n",
              "      <div>\n",
              "<style scoped>\n",
              "    .dataframe tbody tr th:only-of-type {\n",
              "        vertical-align: middle;\n",
              "    }\n",
              "\n",
              "    .dataframe tbody tr th {\n",
              "        vertical-align: top;\n",
              "    }\n",
              "\n",
              "    .dataframe thead th {\n",
              "        text-align: right;\n",
              "    }\n",
              "</style>\n",
              "<table border=\"1\" class=\"dataframe\">\n",
              "  <thead>\n",
              "    <tr style=\"text-align: right;\">\n",
              "      <th></th>\n",
              "      <th>0</th>\n",
              "      <th>1</th>\n",
              "      <th>2</th>\n",
              "      <th>3</th>\n",
              "      <th>4</th>\n",
              "      <th>5</th>\n",
              "      <th>6</th>\n",
              "      <th>7</th>\n",
              "      <th>8</th>\n",
              "      <th>9</th>\n",
              "      <th>...</th>\n",
              "      <th>18</th>\n",
              "      <th>19</th>\n",
              "      <th>20</th>\n",
              "      <th>21</th>\n",
              "      <th>22</th>\n",
              "      <th>23</th>\n",
              "      <th>24</th>\n",
              "      <th>25</th>\n",
              "      <th>26</th>\n",
              "      <th>27</th>\n",
              "    </tr>\n",
              "  </thead>\n",
              "  <tbody>\n",
              "    <tr>\n",
              "      <th>input_ids</th>\n",
              "      <td>101</td>\n",
              "      <td>2129</td>\n",
              "      <td>2172</td>\n",
              "      <td>2189</td>\n",
              "      <td>2064</td>\n",
              "      <td>2023</td>\n",
              "      <td>2907</td>\n",
              "      <td>1029</td>\n",
              "      <td>102</td>\n",
              "      <td>2019</td>\n",
              "      <td>...</td>\n",
              "      <td>2061</td>\n",
              "      <td>2055</td>\n",
              "      <td>25961</td>\n",
              "      <td>2847</td>\n",
              "      <td>5834</td>\n",
              "      <td>2006</td>\n",
              "      <td>5371</td>\n",
              "      <td>2946</td>\n",
              "      <td>1012</td>\n",
              "      <td>102</td>\n",
              "    </tr>\n",
              "    <tr>\n",
              "      <th>token_type_ids</th>\n",
              "      <td>0</td>\n",
              "      <td>0</td>\n",
              "      <td>0</td>\n",
              "      <td>0</td>\n",
              "      <td>0</td>\n",
              "      <td>0</td>\n",
              "      <td>0</td>\n",
              "      <td>0</td>\n",
              "      <td>0</td>\n",
              "      <td>1</td>\n",
              "      <td>...</td>\n",
              "      <td>1</td>\n",
              "      <td>1</td>\n",
              "      <td>1</td>\n",
              "      <td>1</td>\n",
              "      <td>1</td>\n",
              "      <td>1</td>\n",
              "      <td>1</td>\n",
              "      <td>1</td>\n",
              "      <td>1</td>\n",
              "      <td>1</td>\n",
              "    </tr>\n",
              "  </tbody>\n",
              "</table>\n",
              "<p>2 rows × 28 columns</p>\n",
              "</div>\n",
              "      <button class=\"colab-df-convert\" onclick=\"convertToInteractive('df-60634cd2-144d-4295-a74c-78c85ae39cf8')\"\n",
              "              title=\"Convert this dataframe to an interactive table.\"\n",
              "              style=\"display:none;\">\n",
              "        \n",
              "  <svg xmlns=\"http://www.w3.org/2000/svg\" height=\"24px\"viewBox=\"0 0 24 24\"\n",
              "       width=\"24px\">\n",
              "    <path d=\"M0 0h24v24H0V0z\" fill=\"none\"/>\n",
              "    <path d=\"M18.56 5.44l.94 2.06.94-2.06 2.06-.94-2.06-.94-.94-2.06-.94 2.06-2.06.94zm-11 1L8.5 8.5l.94-2.06 2.06-.94-2.06-.94L8.5 2.5l-.94 2.06-2.06.94zm10 10l.94 2.06.94-2.06 2.06-.94-2.06-.94-.94-2.06-.94 2.06-2.06.94z\"/><path d=\"M17.41 7.96l-1.37-1.37c-.4-.4-.92-.59-1.43-.59-.52 0-1.04.2-1.43.59L10.3 9.45l-7.72 7.72c-.78.78-.78 2.05 0 2.83L4 21.41c.39.39.9.59 1.41.59.51 0 1.02-.2 1.41-.59l7.78-7.78 2.81-2.81c.8-.78.8-2.07 0-2.86zM5.41 20L4 18.59l7.72-7.72 1.47 1.35L5.41 20z\"/>\n",
              "  </svg>\n",
              "      </button>\n",
              "      \n",
              "  <style>\n",
              "    .colab-df-container {\n",
              "      display:flex;\n",
              "      flex-wrap:wrap;\n",
              "      gap: 12px;\n",
              "    }\n",
              "\n",
              "    .colab-df-convert {\n",
              "      background-color: #E8F0FE;\n",
              "      border: none;\n",
              "      border-radius: 50%;\n",
              "      cursor: pointer;\n",
              "      display: none;\n",
              "      fill: #1967D2;\n",
              "      height: 32px;\n",
              "      padding: 0 0 0 0;\n",
              "      width: 32px;\n",
              "    }\n",
              "\n",
              "    .colab-df-convert:hover {\n",
              "      background-color: #E2EBFA;\n",
              "      box-shadow: 0px 1px 2px rgba(60, 64, 67, 0.3), 0px 1px 3px 1px rgba(60, 64, 67, 0.15);\n",
              "      fill: #174EA6;\n",
              "    }\n",
              "\n",
              "    [theme=dark] .colab-df-convert {\n",
              "      background-color: #3B4455;\n",
              "      fill: #D2E3FC;\n",
              "    }\n",
              "\n",
              "    [theme=dark] .colab-df-convert:hover {\n",
              "      background-color: #434B5C;\n",
              "      box-shadow: 0px 1px 3px 1px rgba(0, 0, 0, 0.15);\n",
              "      filter: drop-shadow(0px 1px 2px rgba(0, 0, 0, 0.3));\n",
              "      fill: #FFFFFF;\n",
              "    }\n",
              "  </style>\n",
              "\n",
              "      <script>\n",
              "        const buttonEl =\n",
              "          document.querySelector('#df-60634cd2-144d-4295-a74c-78c85ae39cf8 button.colab-df-convert');\n",
              "        buttonEl.style.display =\n",
              "          google.colab.kernel.accessAllowed ? 'block' : 'none';\n",
              "\n",
              "        async function convertToInteractive(key) {\n",
              "          const element = document.querySelector('#df-60634cd2-144d-4295-a74c-78c85ae39cf8');\n",
              "          const dataTable =\n",
              "            await google.colab.kernel.invokeFunction('convertToInteractive',\n",
              "                                                     [key], {});\n",
              "          if (!dataTable) return;\n",
              "\n",
              "          const docLinkHtml = 'Like what you see? Visit the ' +\n",
              "            '<a target=\"_blank\" href=https://colab.research.google.com/notebooks/data_table.ipynb>data table notebook</a>'\n",
              "            + ' to learn more about interactive tables.';\n",
              "          element.innerHTML = '';\n",
              "          dataTable['output_type'] = 'display_data';\n",
              "          await google.colab.output.renderOutput(dataTable, element);\n",
              "          const docLink = document.createElement('div');\n",
              "          docLink.innerHTML = docLinkHtml;\n",
              "          element.appendChild(docLink);\n",
              "        }\n",
              "      </script>\n",
              "    </div>\n",
              "  </div>\n",
              "  "
            ]
          },
          "metadata": {},
          "execution_count": 20
        }
      ]
    },
    {
      "cell_type": "code",
      "source": [
        "print(tokenizer.decode(inputs[\"input_ids\"][0]))"
      ],
      "metadata": {
        "colab": {
          "base_uri": "https://localhost:8080/"
        },
        "id": "2l9dd6U_y3Yk",
        "outputId": "8a895289-e6b0-4da7-8d08-8badde3f5219"
      },
      "execution_count": 21,
      "outputs": [
        {
          "output_type": "stream",
          "name": "stdout",
          "text": [
            "[CLS] how much music can this hold? [SEP] an mp3 is about 1 mb / minute, so about 6000 hours depending on file size. [SEP]\n"
          ]
        }
      ]
    },
    {
      "cell_type": "code",
      "source": [
        "import torch\n",
        "from transformers import AutoModelForQuestionAnswering\n",
        "\n",
        "model = AutoModelForQuestionAnswering.from_pretrained(model_ckpt)\n",
        "\n",
        "with torch.no_grad():\n",
        "    outputs = model(**inputs)\n",
        "print(outputs)"
      ],
      "metadata": {
        "colab": {
          "base_uri": "https://localhost:8080/",
          "height": 171,
          "referenced_widgets": [
            "7b489818611b45ceb718a8ad05a31172",
            "2757fd173e5a4ba5ae0893b1b943e25b",
            "634daead7d1f40788ed7b92666a01614",
            "d6fb2f751460484aa2fc724fbc0c4b99",
            "6e51aac3a3e84a6f9196b7c37b9cb784",
            "a18afda0307a440bafbc92332302a381",
            "b5a0252d0c2b491ba35ca0b9b01ef90c",
            "6637839827f34c8f9f02f05d7c114d03",
            "b57c448045824438bfd906cb3b8fde77",
            "df61fb39e3964dc48fc3bd42ce84ebd4",
            "79196616c9bc4064b976bb47a75d38ee"
          ]
        },
        "id": "ELs_pTQny3ai",
        "outputId": "340540c8-8b9a-4abf-cbe1-a3b1967bc1ab"
      },
      "execution_count": 22,
      "outputs": [
        {
          "output_type": "display_data",
          "data": {
            "text/plain": [
              "Downloading (…)\"pytorch_model.bin\";:   0%|          | 0.00/133M [00:00<?, ?B/s]"
            ],
            "application/vnd.jupyter.widget-view+json": {
              "version_major": 2,
              "version_minor": 0,
              "model_id": "7b489818611b45ceb718a8ad05a31172"
            }
          },
          "metadata": {}
        },
        {
          "output_type": "stream",
          "name": "stdout",
          "text": [
            "QuestionAnsweringModelOutput(loss=None, start_logits=tensor([[-0.9862, -4.7750, -5.4025, -5.2378, -5.2863, -5.5117, -4.9819, -6.1880,\n",
            "         -0.9862,  0.2596, -0.2144, -1.7136,  3.7806,  4.8561, -1.0546, -3.9097,\n",
            "         -1.7374, -4.5944, -1.4278,  3.9949,  5.0391, -0.2018, -3.0193, -4.8549,\n",
            "         -2.3108, -3.5110, -3.5713, -0.9862]]), end_logits=tensor([[-0.9623, -5.4733, -5.0326, -5.1639, -5.4278, -5.5151, -5.1749, -4.6233,\n",
            "         -0.9623, -3.7855, -0.8715, -3.7745, -3.0161, -1.1780,  0.1758, -2.7365,\n",
            "          4.8934,  0.3046, -3.1761, -3.2762,  0.8937,  5.6606, -0.3623, -4.9554,\n",
            "         -3.2531, -0.0914,  1.6211, -0.9623]]), hidden_states=None, attentions=None)\n"
          ]
        }
      ]
    },
    {
      "cell_type": "code",
      "source": [
        "start_logits = outputs.start_logits\n",
        "end_logits = outputs.end_logits"
      ],
      "metadata": {
        "id": "8aZioKcWy3c5"
      },
      "execution_count": 23,
      "outputs": []
    },
    {
      "cell_type": "code",
      "source": [
        "print(f\"Input IDs shape: {inputs.input_ids.size()}\")\n",
        "print(f\"Start logits shape: {start_logits.size()}\")\n",
        "print(f\"End logits shape: {end_logits.size()}\")  # the output cover also the question part..."
      ],
      "metadata": {
        "colab": {
          "base_uri": "https://localhost:8080/"
        },
        "id": "B-QKC8D6y3fb",
        "outputId": "084d349f-62b2-46e3-91bd-c055fb676a74"
      },
      "execution_count": 24,
      "outputs": [
        {
          "output_type": "stream",
          "name": "stdout",
          "text": [
            "Input IDs shape: torch.Size([1, 28])\n",
            "Start logits shape: torch.Size([1, 28])\n",
            "End logits shape: torch.Size([1, 28])\n"
          ]
        }
      ]
    },
    {
      "cell_type": "markdown",
      "source": [
        "![nlpt_0706.png](data:image/png;base64,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)"
      ],
      "metadata": {
        "id": "xBvj8k8T1Wly"
      }
    },
    {
      "cell_type": "code",
      "source": [
        "import torch\n",
        "\n",
        "start_idx = torch.argmax(start_logits)\n",
        "end_idx = torch.argmax(end_logits) + 1\n",
        "answer_span = inputs[\"input_ids\"][0][start_idx:end_idx]\n",
        "answer = tokenizer.decode(answer_span)\n",
        "print(f\"Question: {question}\")\n",
        "print(f\"Answer: {answer}\")"
      ],
      "metadata": {
        "colab": {
          "base_uri": "https://localhost:8080/"
        },
        "id": "TRUsdKa008l9",
        "outputId": "2e4bcfb7-bde6-4f9f-8870-19cf96b39b7d"
      },
      "execution_count": 25,
      "outputs": [
        {
          "output_type": "stream",
          "name": "stdout",
          "text": [
            "Question: How much music can this hold?\n",
            "Answer: 6000 hours\n"
          ]
        }
      ]
    },
    {
      "cell_type": "code",
      "source": [
        "from transformers import pipeline\n",
        "\n",
        "pipe = pipeline(\"question-answering\", model=model, tokenizer=tokenizer)\n",
        "pipe(question=question, context=context, topk=3)"
      ],
      "metadata": {
        "colab": {
          "base_uri": "https://localhost:8080/"
        },
        "id": "wkTbKyXs08oD",
        "outputId": "a52684cf-ca88-44dd-8f57-7d90be551a3c"
      },
      "execution_count": 26,
      "outputs": [
        {
          "output_type": "stream",
          "name": "stderr",
          "text": [
            "/usr/local/lib/python3.8/dist-packages/transformers/pipelines/question_answering.py:325: UserWarning: topk parameter is deprecated, use top_k instead\n",
            "  warnings.warn(\"topk parameter is deprecated, use top_k instead\", UserWarning)\n"
          ]
        },
        {
          "output_type": "execute_result",
          "data": {
            "text/plain": [
              "[{'score': 0.2651616334915161, 'start': 38, 'end': 48, 'answer': '6000 hours'},\n",
              " {'score': 0.22082962095737457,\n",
              "  'start': 16,\n",
              "  'end': 48,\n",
              "  'answer': '1 MB/minute, so about 6000 hours'},\n",
              " {'score': 0.10253521054983139,\n",
              "  'start': 16,\n",
              "  'end': 27,\n",
              "  'answer': '1 MB/minute'}]"
            ]
          },
          "metadata": {},
          "execution_count": 26
        }
      ]
    },
    {
      "cell_type": "code",
      "source": [
        "# no answer is possible,\n",
        "pipe(question=\"Why is there no data?\", context=context, handle_impossible_answer=True, topk=2)"
      ],
      "metadata": {
        "colab": {
          "base_uri": "https://localhost:8080/"
        },
        "id": "UCCR10hz08qn",
        "outputId": "5b47f20d-1a9b-412b-c851-e20e9b5b8fed"
      },
      "execution_count": 27,
      "outputs": [
        {
          "output_type": "execute_result",
          "data": {
            "text/plain": [
              "[{'score': 0.9068413972854614, 'start': 0, 'end': 0, 'answer': ''},\n",
              " {'score': 0.00026264850748702884,\n",
              "  'start': 16,\n",
              "  'end': 71,\n",
              "  'answer': '1 MB/minute, so about 6000 hours depending on file size'}]"
            ]
          },
          "metadata": {},
          "execution_count": 27
        }
      ]
    },
    {
      "cell_type": "markdown",
      "source": [
        "## Dealing with long passages\n",
        "\n",
        "For other tasks, like text classification, we simply truncated long texts under the assumption that enough information was contained in the embedding of the [CLS] token to generate accurate predictions. \n",
        "\n",
        "For QA, however, this strategy is problematic because the answer to a question could lie near the end of the context and thus would be removed by truncation."
      ],
      "metadata": {
        "id": "brekH_032Znq"
      }
    },
    {
      "cell_type": "markdown",
      "source": [
        "**sliding window**\n",
        "\n",
        "![nlpt_0708.png](data:image/png;base64,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)"
      ],
      "metadata": {
        "id": "oGhccgzQ3ERx"
      }
    },
    {
      "cell_type": "code",
      "source": [
        "example = dfs[\"train\"].iloc[0][[\"question\", \"context\"]]\n",
        "tokenized_example = tokenizer(example[\"question\"], example[\"context\"],\n",
        "                              return_overflowing_tokens=True, \n",
        "                              max_length=100,\n",
        "                              stride=25)"
      ],
      "metadata": {
        "colab": {
          "base_uri": "https://localhost:8080/"
        },
        "id": "aRISWzq108tN",
        "outputId": "82f18f47-eec2-4946-bf02-f652d4590567"
      },
      "execution_count": 28,
      "outputs": [
        {
          "output_type": "stream",
          "name": "stderr",
          "text": [
            "Truncation was not explicitly activated but `max_length` is provided a specific value, please use `truncation=True` to explicitly truncate examples to max length. Defaulting to 'longest_first' truncation strategy. If you encode pairs of sequences (GLUE-style) with the tokenizer you can select this strategy more precisely by providing a specific strategy to `truncation`.\n"
          ]
        }
      ]
    },
    {
      "cell_type": "code",
      "source": [
        "tokenized_example"
      ],
      "metadata": {
        "colab": {
          "base_uri": "https://localhost:8080/"
        },
        "id": "H0ijtW4k3zGu",
        "outputId": "322aed86-82e8-4876-d319-31f9524754fa"
      },
      "execution_count": 29,
      "outputs": [
        {
          "output_type": "execute_result",
          "data": {
            "text/plain": [
              "{'input_ids': [[101, 2129, 2003, 1996, 3321, 1029, 102, 1045, 2031, 2018, 12849, 4757, 2132, 19093, 1999, 1996, 2627, 1010, 4013, 26424, 2050, 1998, 1053, 2480, 1011, 5585, 1012, 1996, 12849, 4757, 3417, 9331, 3217, 2003, 12109, 1998, 2038, 2307, 3321, 3433, 1012, 1996, 2147, 2307, 2007, 2026, 11924, 3042, 1998, 2064, 2022, 1000, 4565, 2039, 1000, 2000, 2022, 3344, 1999, 2026, 9055, 6598, 2030, 3274, 4524, 2302, 2893, 24514, 2098, 1012, 2027, 2024, 2200, 2422, 1998, 2079, 2025, 2514, 3082, 2030, 4562, 2091, 2006, 2115, 5551, 2130, 2044, 5962, 2000, 2189, 2007, 2068, 2006, 2035, 2154, 1012, 1996, 2614, 2003, 102], [101, 2129, 2003, 1996, 3321, 1029, 102, 1998, 2079, 2025, 2514, 3082, 2030, 4562, 2091, 2006, 2115, 5551, 2130, 2044, 5962, 2000, 2189, 2007, 2068, 2006, 2035, 2154, 1012, 1996, 2614, 2003, 2305, 1998, 2154, 2488, 2084, 2151, 4540, 1011, 13007, 2071, 2022, 1998, 2024, 2471, 2004, 2204, 2004, 1996, 4013, 26424, 2050, 1012, 2027, 2024, 1000, 2330, 2250, 1000, 2132, 19093, 2061, 2017, 3685, 2674, 1996, 3321, 2000, 1996, 10203, 4127, 1010, 2021, 2009, 3310, 2485, 1012, 2005, 1002, 3590, 1010, 2017, 3685, 2175, 3308, 1012, 102]], 'token_type_ids': [[0, 0, 0, 0, 0, 0, 0, 1, 1, 1, 1, 1, 1, 1, 1, 1, 1, 1, 1, 1, 1, 1, 1, 1, 1, 1, 1, 1, 1, 1, 1, 1, 1, 1, 1, 1, 1, 1, 1, 1, 1, 1, 1, 1, 1, 1, 1, 1, 1, 1, 1, 1, 1, 1, 1, 1, 1, 1, 1, 1, 1, 1, 1, 1, 1, 1, 1, 1, 1, 1, 1, 1, 1, 1, 1, 1, 1, 1, 1, 1, 1, 1, 1, 1, 1, 1, 1, 1, 1, 1, 1, 1, 1, 1, 1, 1, 1, 1, 1, 1], [0, 0, 0, 0, 0, 0, 0, 1, 1, 1, 1, 1, 1, 1, 1, 1, 1, 1, 1, 1, 1, 1, 1, 1, 1, 1, 1, 1, 1, 1, 1, 1, 1, 1, 1, 1, 1, 1, 1, 1, 1, 1, 1, 1, 1, 1, 1, 1, 1, 1, 1, 1, 1, 1, 1, 1, 1, 1, 1, 1, 1, 1, 1, 1, 1, 1, 1, 1, 1, 1, 1, 1, 1, 1, 1, 1, 1, 1, 1, 1, 1, 1, 1, 1, 1, 1, 1, 1]], 'attention_mask': [[1, 1, 1, 1, 1, 1, 1, 1, 1, 1, 1, 1, 1, 1, 1, 1, 1, 1, 1, 1, 1, 1, 1, 1, 1, 1, 1, 1, 1, 1, 1, 1, 1, 1, 1, 1, 1, 1, 1, 1, 1, 1, 1, 1, 1, 1, 1, 1, 1, 1, 1, 1, 1, 1, 1, 1, 1, 1, 1, 1, 1, 1, 1, 1, 1, 1, 1, 1, 1, 1, 1, 1, 1, 1, 1, 1, 1, 1, 1, 1, 1, 1, 1, 1, 1, 1, 1, 1, 1, 1, 1, 1, 1, 1, 1, 1, 1, 1, 1, 1], [1, 1, 1, 1, 1, 1, 1, 1, 1, 1, 1, 1, 1, 1, 1, 1, 1, 1, 1, 1, 1, 1, 1, 1, 1, 1, 1, 1, 1, 1, 1, 1, 1, 1, 1, 1, 1, 1, 1, 1, 1, 1, 1, 1, 1, 1, 1, 1, 1, 1, 1, 1, 1, 1, 1, 1, 1, 1, 1, 1, 1, 1, 1, 1, 1, 1, 1, 1, 1, 1, 1, 1, 1, 1, 1, 1, 1, 1, 1, 1, 1, 1, 1, 1, 1, 1, 1, 1]], 'overflow_to_sample_mapping': [0, 0]}"
            ]
          },
          "metadata": {},
          "execution_count": 29
        }
      ]
    },
    {
      "cell_type": "code",
      "source": [
        "for idx, window in enumerate(tokenized_example[\"input_ids\"]):\n",
        "    print(f\"Window #{idx} has {len(window)} tokens\")"
      ],
      "metadata": {
        "colab": {
          "base_uri": "https://localhost:8080/"
        },
        "id": "IKTAfKGK3kjQ",
        "outputId": "02a8be94-b824-4a0e-e921-1952f13cfe4d"
      },
      "execution_count": 30,
      "outputs": [
        {
          "output_type": "stream",
          "name": "stdout",
          "text": [
            "Window #0 has 100 tokens\n",
            "Window #1 has 88 tokens\n"
          ]
        }
      ]
    },
    {
      "cell_type": "code",
      "source": [
        "for window in tokenized_example[\"input_ids\"]:\n",
        "    print(f\"{tokenizer.decode(window)} \\n\")"
      ],
      "metadata": {
        "colab": {
          "base_uri": "https://localhost:8080/"
        },
        "id": "CYvLYmBg3klk",
        "outputId": "e134d235-5c07-49d3-a69f-94fe79fd57a8"
      },
      "execution_count": 31,
      "outputs": [
        {
          "output_type": "stream",
          "name": "stdout",
          "text": [
            "[CLS] how is the bass? [SEP] i have had koss headphones in the past, pro 4aa and qz - 99. the koss portapro is portable and has great bass response. the work great with my android phone and can be \" rolled up \" to be carried in my motorcycle jacket or computer bag without getting crunched. they are very light and do not feel heavy or bear down on your ears even after listening to music with them on all day. the sound is [SEP] \n",
            "\n",
            "[CLS] how is the bass? [SEP] and do not feel heavy or bear down on your ears even after listening to music with them on all day. the sound is night and day better than any ear - bud could be and are almost as good as the pro 4aa. they are \" open air \" headphones so you cannot match the bass to the sealed types, but it comes close. for $ 32, you cannot go wrong. [SEP] \n",
            "\n"
          ]
        }
      ]
    },
    {
      "cell_type": "code",
      "source": [],
      "metadata": {
        "id": "DtJLY0RQAEAp"
      },
      "execution_count": null,
      "outputs": []
    },
    {
      "cell_type": "code",
      "source": [],
      "metadata": {
        "id": "davWrLzRAESn"
      },
      "execution_count": null,
      "outputs": []
    },
    {
      "cell_type": "markdown",
      "source": [
        "# Using Haystack to Build a QA Pipeline"
      ],
      "metadata": {
        "id": "Bin8T2lu4-5A"
      }
    },
    {
      "cell_type": "markdown",
      "source": [
        "in reality our system’s users will only provide a question about a product, so we need some way of selecting relevant passages from among all the reviews in our corpus"
      ],
      "metadata": {
        "id": "qgZNZfGB5ACB"
      }
    },
    {
      "cell_type": "markdown",
      "source": [
        "![nlpt_0709.png](data:image/png;base64,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)"
      ],
      "metadata": {
        "id": "0Ge5HvSJ5K_s"
      }
    },
    {
      "cell_type": "markdown",
      "source": [
        "**Retriever**\n",
        "\n",
        "Responsible for retrieving relevant documents for a given query. Retrievers are usually categorized as sparse or dense. Sparse retrievers use word frequencies to represent each document and query as a sparse vector.11 The relevance of a query and a document is then determined by computing an inner product of the vectors. On the other hand, dense retrievers use encoders like transformers to represent the query and document as contextualized embeddings (which are dense vectors). These embeddings encode semantic meaning, and allow dense retrievers to improve search accuracy by understanding the content of the query."
      ],
      "metadata": {
        "id": "g2YLTdHQ5OQ-"
      }
    },
    {
      "cell_type": "markdown",
      "source": [
        "To build our QA system, we’ll use the Haystack library developed by deepset\n",
        "\n",
        "In addition to the retriever and reader, there are two more components involved when building a QA pipeline with Haystack:\n",
        "\n",
        "**Document store**\n",
        "\n",
        "A document-oriented database that stores documents and metadata which are provided to the retriever at query time\n",
        "\n",
        "**Pipeline**\n",
        "\n",
        "Combines all the components of a QA system to enable custom query flows, merging documents from multiple retrievers, and more"
      ],
      "metadata": {
        "id": "YalVEYdr5UcC"
      }
    },
    {
      "cell_type": "markdown",
      "source": [
        "**Initializing a document store:**\n",
        "\n",
        "         In memory,\tElastic_search,\tFAISS,\tMilvus\n",
        "\n",
        "**TF-IDF-** Yes Yes No No\n",
        "\n",
        "**BM25-** No Yes No No\n",
        "\n",
        "**Embedding-** Yes Yes Yes Yes\n",
        "\n",
        "**DPR-** Yes Yes Yes Yes\n"
      ],
      "metadata": {
        "id": "Az2yT9fx51X-"
      }
    },
    {
      "cell_type": "code",
      "source": [],
      "metadata": {
        "id": "Rcc9XYeQ3kx1"
      },
      "execution_count": null,
      "outputs": []
    },
    {
      "cell_type": "code",
      "source": [],
      "metadata": {
        "id": "Vy1G3vcG3k0J"
      },
      "execution_count": null,
      "outputs": []
    },
    {
      "cell_type": "code",
      "source": [],
      "metadata": {
        "id": "MCNa-lLJ08u_"
      },
      "execution_count": null,
      "outputs": []
    },
    {
      "cell_type": "code",
      "source": [],
      "metadata": {
        "id": "_v2qeMy308xY"
      },
      "execution_count": null,
      "outputs": []
    },
    {
      "cell_type": "code",
      "source": [],
      "metadata": {
        "id": "7KvSki4s08z5"
      },
      "execution_count": null,
      "outputs": []
    }
  ]
}