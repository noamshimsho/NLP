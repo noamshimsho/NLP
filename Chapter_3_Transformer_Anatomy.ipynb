{
  "nbformat": 4,
  "nbformat_minor": 0,
  "metadata": {
    "colab": {
      "provenance": [],
      "authorship_tag": "ABX9TyMJvmnkMyxhjYeAtTK29DQN",
      "include_colab_link": true
    },
    "kernelspec": {
      "name": "python3",
      "display_name": "Python 3"
    },
    "language_info": {
      "name": "python"
    },
    "widgets": {
      "application/vnd.jupyter.widget-state+json": {
        "d6c1788074b5439188d2efdb6087f439": {
          "model_module": "@jupyter-widgets/controls",
          "model_name": "HBoxModel",
          "model_module_version": "1.5.0",
          "state": {
            "_dom_classes": [],
            "_model_module": "@jupyter-widgets/controls",
            "_model_module_version": "1.5.0",
            "_model_name": "HBoxModel",
            "_view_count": null,
            "_view_module": "@jupyter-widgets/controls",
            "_view_module_version": "1.5.0",
            "_view_name": "HBoxView",
            "box_style": "",
            "children": [
              "IPY_MODEL_80a37743b7ae43edbddc569cf74b3e34",
              "IPY_MODEL_924cb7f329bf484e8734112a2db55003",
              "IPY_MODEL_5c54351714a949fa8ce210f5d72fde2c"
            ],
            "layout": "IPY_MODEL_0d5b9bc47c054418b81a9e39d1910828"
          }
        },
        "80a37743b7ae43edbddc569cf74b3e34": {
          "model_module": "@jupyter-widgets/controls",
          "model_name": "HTMLModel",
          "model_module_version": "1.5.0",
          "state": {
            "_dom_classes": [],
            "_model_module": "@jupyter-widgets/controls",
            "_model_module_version": "1.5.0",
            "_model_name": "HTMLModel",
            "_view_count": null,
            "_view_module": "@jupyter-widgets/controls",
            "_view_module_version": "1.5.0",
            "_view_name": "HTMLView",
            "description": "",
            "description_tooltip": null,
            "layout": "IPY_MODEL_285c70aeb6a745638a947bfecbf23261",
            "placeholder": "​",
            "style": "IPY_MODEL_dfcbab8f877a4a709ac42e7c048b7694",
            "value": "Downloading: 100%"
          }
        },
        "924cb7f329bf484e8734112a2db55003": {
          "model_module": "@jupyter-widgets/controls",
          "model_name": "FloatProgressModel",
          "model_module_version": "1.5.0",
          "state": {
            "_dom_classes": [],
            "_model_module": "@jupyter-widgets/controls",
            "_model_module_version": "1.5.0",
            "_model_name": "FloatProgressModel",
            "_view_count": null,
            "_view_module": "@jupyter-widgets/controls",
            "_view_module_version": "1.5.0",
            "_view_name": "ProgressView",
            "bar_style": "success",
            "description": "",
            "description_tooltip": null,
            "layout": "IPY_MODEL_8e77c2458d3047e5983a8afde9dcbe88",
            "max": 28,
            "min": 0,
            "orientation": "horizontal",
            "style": "IPY_MODEL_87e49ac75e1445ae91e2ace70d866801",
            "value": 28
          }
        },
        "5c54351714a949fa8ce210f5d72fde2c": {
          "model_module": "@jupyter-widgets/controls",
          "model_name": "HTMLModel",
          "model_module_version": "1.5.0",
          "state": {
            "_dom_classes": [],
            "_model_module": "@jupyter-widgets/controls",
            "_model_module_version": "1.5.0",
            "_model_name": "HTMLModel",
            "_view_count": null,
            "_view_module": "@jupyter-widgets/controls",
            "_view_module_version": "1.5.0",
            "_view_name": "HTMLView",
            "description": "",
            "description_tooltip": null,
            "layout": "IPY_MODEL_b89981c161bf4e36a6df756a4496a7e1",
            "placeholder": "​",
            "style": "IPY_MODEL_c13f7dbdbf3f4866b0f659ed7b3a03e8",
            "value": " 28.0/28.0 [00:00&lt;00:00, 800B/s]"
          }
        },
        "0d5b9bc47c054418b81a9e39d1910828": {
          "model_module": "@jupyter-widgets/base",
          "model_name": "LayoutModel",
          "model_module_version": "1.2.0",
          "state": {
            "_model_module": "@jupyter-widgets/base",
            "_model_module_version": "1.2.0",
            "_model_name": "LayoutModel",
            "_view_count": null,
            "_view_module": "@jupyter-widgets/base",
            "_view_module_version": "1.2.0",
            "_view_name": "LayoutView",
            "align_content": null,
            "align_items": null,
            "align_self": null,
            "border": null,
            "bottom": null,
            "display": null,
            "flex": null,
            "flex_flow": null,
            "grid_area": null,
            "grid_auto_columns": null,
            "grid_auto_flow": null,
            "grid_auto_rows": null,
            "grid_column": null,
            "grid_gap": null,
            "grid_row": null,
            "grid_template_areas": null,
            "grid_template_columns": null,
            "grid_template_rows": null,
            "height": null,
            "justify_content": null,
            "justify_items": null,
            "left": null,
            "margin": null,
            "max_height": null,
            "max_width": null,
            "min_height": null,
            "min_width": null,
            "object_fit": null,
            "object_position": null,
            "order": null,
            "overflow": null,
            "overflow_x": null,
            "overflow_y": null,
            "padding": null,
            "right": null,
            "top": null,
            "visibility": null,
            "width": null
          }
        },
        "285c70aeb6a745638a947bfecbf23261": {
          "model_module": "@jupyter-widgets/base",
          "model_name": "LayoutModel",
          "model_module_version": "1.2.0",
          "state": {
            "_model_module": "@jupyter-widgets/base",
            "_model_module_version": "1.2.0",
            "_model_name": "LayoutModel",
            "_view_count": null,
            "_view_module": "@jupyter-widgets/base",
            "_view_module_version": "1.2.0",
            "_view_name": "LayoutView",
            "align_content": null,
            "align_items": null,
            "align_self": null,
            "border": null,
            "bottom": null,
            "display": null,
            "flex": null,
            "flex_flow": null,
            "grid_area": null,
            "grid_auto_columns": null,
            "grid_auto_flow": null,
            "grid_auto_rows": null,
            "grid_column": null,
            "grid_gap": null,
            "grid_row": null,
            "grid_template_areas": null,
            "grid_template_columns": null,
            "grid_template_rows": null,
            "height": null,
            "justify_content": null,
            "justify_items": null,
            "left": null,
            "margin": null,
            "max_height": null,
            "max_width": null,
            "min_height": null,
            "min_width": null,
            "object_fit": null,
            "object_position": null,
            "order": null,
            "overflow": null,
            "overflow_x": null,
            "overflow_y": null,
            "padding": null,
            "right": null,
            "top": null,
            "visibility": null,
            "width": null
          }
        },
        "dfcbab8f877a4a709ac42e7c048b7694": {
          "model_module": "@jupyter-widgets/controls",
          "model_name": "DescriptionStyleModel",
          "model_module_version": "1.5.0",
          "state": {
            "_model_module": "@jupyter-widgets/controls",
            "_model_module_version": "1.5.0",
            "_model_name": "DescriptionStyleModel",
            "_view_count": null,
            "_view_module": "@jupyter-widgets/base",
            "_view_module_version": "1.2.0",
            "_view_name": "StyleView",
            "description_width": ""
          }
        },
        "8e77c2458d3047e5983a8afde9dcbe88": {
          "model_module": "@jupyter-widgets/base",
          "model_name": "LayoutModel",
          "model_module_version": "1.2.0",
          "state": {
            "_model_module": "@jupyter-widgets/base",
            "_model_module_version": "1.2.0",
            "_model_name": "LayoutModel",
            "_view_count": null,
            "_view_module": "@jupyter-widgets/base",
            "_view_module_version": "1.2.0",
            "_view_name": "LayoutView",
            "align_content": null,
            "align_items": null,
            "align_self": null,
            "border": null,
            "bottom": null,
            "display": null,
            "flex": null,
            "flex_flow": null,
            "grid_area": null,
            "grid_auto_columns": null,
            "grid_auto_flow": null,
            "grid_auto_rows": null,
            "grid_column": null,
            "grid_gap": null,
            "grid_row": null,
            "grid_template_areas": null,
            "grid_template_columns": null,
            "grid_template_rows": null,
            "height": null,
            "justify_content": null,
            "justify_items": null,
            "left": null,
            "margin": null,
            "max_height": null,
            "max_width": null,
            "min_height": null,
            "min_width": null,
            "object_fit": null,
            "object_position": null,
            "order": null,
            "overflow": null,
            "overflow_x": null,
            "overflow_y": null,
            "padding": null,
            "right": null,
            "top": null,
            "visibility": null,
            "width": null
          }
        },
        "87e49ac75e1445ae91e2ace70d866801": {
          "model_module": "@jupyter-widgets/controls",
          "model_name": "ProgressStyleModel",
          "model_module_version": "1.5.0",
          "state": {
            "_model_module": "@jupyter-widgets/controls",
            "_model_module_version": "1.5.0",
            "_model_name": "ProgressStyleModel",
            "_view_count": null,
            "_view_module": "@jupyter-widgets/base",
            "_view_module_version": "1.2.0",
            "_view_name": "StyleView",
            "bar_color": null,
            "description_width": ""
          }
        },
        "b89981c161bf4e36a6df756a4496a7e1": {
          "model_module": "@jupyter-widgets/base",
          "model_name": "LayoutModel",
          "model_module_version": "1.2.0",
          "state": {
            "_model_module": "@jupyter-widgets/base",
            "_model_module_version": "1.2.0",
            "_model_name": "LayoutModel",
            "_view_count": null,
            "_view_module": "@jupyter-widgets/base",
            "_view_module_version": "1.2.0",
            "_view_name": "LayoutView",
            "align_content": null,
            "align_items": null,
            "align_self": null,
            "border": null,
            "bottom": null,
            "display": null,
            "flex": null,
            "flex_flow": null,
            "grid_area": null,
            "grid_auto_columns": null,
            "grid_auto_flow": null,
            "grid_auto_rows": null,
            "grid_column": null,
            "grid_gap": null,
            "grid_row": null,
            "grid_template_areas": null,
            "grid_template_columns": null,
            "grid_template_rows": null,
            "height": null,
            "justify_content": null,
            "justify_items": null,
            "left": null,
            "margin": null,
            "max_height": null,
            "max_width": null,
            "min_height": null,
            "min_width": null,
            "object_fit": null,
            "object_position": null,
            "order": null,
            "overflow": null,
            "overflow_x": null,
            "overflow_y": null,
            "padding": null,
            "right": null,
            "top": null,
            "visibility": null,
            "width": null
          }
        },
        "c13f7dbdbf3f4866b0f659ed7b3a03e8": {
          "model_module": "@jupyter-widgets/controls",
          "model_name": "DescriptionStyleModel",
          "model_module_version": "1.5.0",
          "state": {
            "_model_module": "@jupyter-widgets/controls",
            "_model_module_version": "1.5.0",
            "_model_name": "DescriptionStyleModel",
            "_view_count": null,
            "_view_module": "@jupyter-widgets/base",
            "_view_module_version": "1.2.0",
            "_view_name": "StyleView",
            "description_width": ""
          }
        },
        "a4934d4927b84232bd4098a0f7e39d0b": {
          "model_module": "@jupyter-widgets/controls",
          "model_name": "HBoxModel",
          "model_module_version": "1.5.0",
          "state": {
            "_dom_classes": [],
            "_model_module": "@jupyter-widgets/controls",
            "_model_module_version": "1.5.0",
            "_model_name": "HBoxModel",
            "_view_count": null,
            "_view_module": "@jupyter-widgets/controls",
            "_view_module_version": "1.5.0",
            "_view_name": "HBoxView",
            "box_style": "",
            "children": [
              "IPY_MODEL_65666af6280a46739b94ab9ad83c2336",
              "IPY_MODEL_c225662d0f0b4918b6c149a479bf8369",
              "IPY_MODEL_a7f09022c746462783447b7a583afc84"
            ],
            "layout": "IPY_MODEL_2f34e280db0c4dc786b412f7104795bc"
          }
        },
        "65666af6280a46739b94ab9ad83c2336": {
          "model_module": "@jupyter-widgets/controls",
          "model_name": "HTMLModel",
          "model_module_version": "1.5.0",
          "state": {
            "_dom_classes": [],
            "_model_module": "@jupyter-widgets/controls",
            "_model_module_version": "1.5.0",
            "_model_name": "HTMLModel",
            "_view_count": null,
            "_view_module": "@jupyter-widgets/controls",
            "_view_module_version": "1.5.0",
            "_view_name": "HTMLView",
            "description": "",
            "description_tooltip": null,
            "layout": "IPY_MODEL_468fd2faf15343e0b515282ed5fbbd3d",
            "placeholder": "​",
            "style": "IPY_MODEL_fbd3249002c74c4d862eeeb2d8f8cf61",
            "value": "Downloading: 100%"
          }
        },
        "c225662d0f0b4918b6c149a479bf8369": {
          "model_module": "@jupyter-widgets/controls",
          "model_name": "FloatProgressModel",
          "model_module_version": "1.5.0",
          "state": {
            "_dom_classes": [],
            "_model_module": "@jupyter-widgets/controls",
            "_model_module_version": "1.5.0",
            "_model_name": "FloatProgressModel",
            "_view_count": null,
            "_view_module": "@jupyter-widgets/controls",
            "_view_module_version": "1.5.0",
            "_view_name": "ProgressView",
            "bar_style": "success",
            "description": "",
            "description_tooltip": null,
            "layout": "IPY_MODEL_ecf6a215eb72488f87f4b403b0429a4e",
            "max": 570,
            "min": 0,
            "orientation": "horizontal",
            "style": "IPY_MODEL_e8cbde0873ab463382b98ef19e8e40ce",
            "value": 570
          }
        },
        "a7f09022c746462783447b7a583afc84": {
          "model_module": "@jupyter-widgets/controls",
          "model_name": "HTMLModel",
          "model_module_version": "1.5.0",
          "state": {
            "_dom_classes": [],
            "_model_module": "@jupyter-widgets/controls",
            "_model_module_version": "1.5.0",
            "_model_name": "HTMLModel",
            "_view_count": null,
            "_view_module": "@jupyter-widgets/controls",
            "_view_module_version": "1.5.0",
            "_view_name": "HTMLView",
            "description": "",
            "description_tooltip": null,
            "layout": "IPY_MODEL_f20602ca9d9f4c7e98dc23b7758ffe84",
            "placeholder": "​",
            "style": "IPY_MODEL_16eb5baa96534998b3da3d6738255228",
            "value": " 570/570 [00:00&lt;00:00, 19.7kB/s]"
          }
        },
        "2f34e280db0c4dc786b412f7104795bc": {
          "model_module": "@jupyter-widgets/base",
          "model_name": "LayoutModel",
          "model_module_version": "1.2.0",
          "state": {
            "_model_module": "@jupyter-widgets/base",
            "_model_module_version": "1.2.0",
            "_model_name": "LayoutModel",
            "_view_count": null,
            "_view_module": "@jupyter-widgets/base",
            "_view_module_version": "1.2.0",
            "_view_name": "LayoutView",
            "align_content": null,
            "align_items": null,
            "align_self": null,
            "border": null,
            "bottom": null,
            "display": null,
            "flex": null,
            "flex_flow": null,
            "grid_area": null,
            "grid_auto_columns": null,
            "grid_auto_flow": null,
            "grid_auto_rows": null,
            "grid_column": null,
            "grid_gap": null,
            "grid_row": null,
            "grid_template_areas": null,
            "grid_template_columns": null,
            "grid_template_rows": null,
            "height": null,
            "justify_content": null,
            "justify_items": null,
            "left": null,
            "margin": null,
            "max_height": null,
            "max_width": null,
            "min_height": null,
            "min_width": null,
            "object_fit": null,
            "object_position": null,
            "order": null,
            "overflow": null,
            "overflow_x": null,
            "overflow_y": null,
            "padding": null,
            "right": null,
            "top": null,
            "visibility": null,
            "width": null
          }
        },
        "468fd2faf15343e0b515282ed5fbbd3d": {
          "model_module": "@jupyter-widgets/base",
          "model_name": "LayoutModel",
          "model_module_version": "1.2.0",
          "state": {
            "_model_module": "@jupyter-widgets/base",
            "_model_module_version": "1.2.0",
            "_model_name": "LayoutModel",
            "_view_count": null,
            "_view_module": "@jupyter-widgets/base",
            "_view_module_version": "1.2.0",
            "_view_name": "LayoutView",
            "align_content": null,
            "align_items": null,
            "align_self": null,
            "border": null,
            "bottom": null,
            "display": null,
            "flex": null,
            "flex_flow": null,
            "grid_area": null,
            "grid_auto_columns": null,
            "grid_auto_flow": null,
            "grid_auto_rows": null,
            "grid_column": null,
            "grid_gap": null,
            "grid_row": null,
            "grid_template_areas": null,
            "grid_template_columns": null,
            "grid_template_rows": null,
            "height": null,
            "justify_content": null,
            "justify_items": null,
            "left": null,
            "margin": null,
            "max_height": null,
            "max_width": null,
            "min_height": null,
            "min_width": null,
            "object_fit": null,
            "object_position": null,
            "order": null,
            "overflow": null,
            "overflow_x": null,
            "overflow_y": null,
            "padding": null,
            "right": null,
            "top": null,
            "visibility": null,
            "width": null
          }
        },
        "fbd3249002c74c4d862eeeb2d8f8cf61": {
          "model_module": "@jupyter-widgets/controls",
          "model_name": "DescriptionStyleModel",
          "model_module_version": "1.5.0",
          "state": {
            "_model_module": "@jupyter-widgets/controls",
            "_model_module_version": "1.5.0",
            "_model_name": "DescriptionStyleModel",
            "_view_count": null,
            "_view_module": "@jupyter-widgets/base",
            "_view_module_version": "1.2.0",
            "_view_name": "StyleView",
            "description_width": ""
          }
        },
        "ecf6a215eb72488f87f4b403b0429a4e": {
          "model_module": "@jupyter-widgets/base",
          "model_name": "LayoutModel",
          "model_module_version": "1.2.0",
          "state": {
            "_model_module": "@jupyter-widgets/base",
            "_model_module_version": "1.2.0",
            "_model_name": "LayoutModel",
            "_view_count": null,
            "_view_module": "@jupyter-widgets/base",
            "_view_module_version": "1.2.0",
            "_view_name": "LayoutView",
            "align_content": null,
            "align_items": null,
            "align_self": null,
            "border": null,
            "bottom": null,
            "display": null,
            "flex": null,
            "flex_flow": null,
            "grid_area": null,
            "grid_auto_columns": null,
            "grid_auto_flow": null,
            "grid_auto_rows": null,
            "grid_column": null,
            "grid_gap": null,
            "grid_row": null,
            "grid_template_areas": null,
            "grid_template_columns": null,
            "grid_template_rows": null,
            "height": null,
            "justify_content": null,
            "justify_items": null,
            "left": null,
            "margin": null,
            "max_height": null,
            "max_width": null,
            "min_height": null,
            "min_width": null,
            "object_fit": null,
            "object_position": null,
            "order": null,
            "overflow": null,
            "overflow_x": null,
            "overflow_y": null,
            "padding": null,
            "right": null,
            "top": null,
            "visibility": null,
            "width": null
          }
        },
        "e8cbde0873ab463382b98ef19e8e40ce": {
          "model_module": "@jupyter-widgets/controls",
          "model_name": "ProgressStyleModel",
          "model_module_version": "1.5.0",
          "state": {
            "_model_module": "@jupyter-widgets/controls",
            "_model_module_version": "1.5.0",
            "_model_name": "ProgressStyleModel",
            "_view_count": null,
            "_view_module": "@jupyter-widgets/base",
            "_view_module_version": "1.2.0",
            "_view_name": "StyleView",
            "bar_color": null,
            "description_width": ""
          }
        },
        "f20602ca9d9f4c7e98dc23b7758ffe84": {
          "model_module": "@jupyter-widgets/base",
          "model_name": "LayoutModel",
          "model_module_version": "1.2.0",
          "state": {
            "_model_module": "@jupyter-widgets/base",
            "_model_module_version": "1.2.0",
            "_model_name": "LayoutModel",
            "_view_count": null,
            "_view_module": "@jupyter-widgets/base",
            "_view_module_version": "1.2.0",
            "_view_name": "LayoutView",
            "align_content": null,
            "align_items": null,
            "align_self": null,
            "border": null,
            "bottom": null,
            "display": null,
            "flex": null,
            "flex_flow": null,
            "grid_area": null,
            "grid_auto_columns": null,
            "grid_auto_flow": null,
            "grid_auto_rows": null,
            "grid_column": null,
            "grid_gap": null,
            "grid_row": null,
            "grid_template_areas": null,
            "grid_template_columns": null,
            "grid_template_rows": null,
            "height": null,
            "justify_content": null,
            "justify_items": null,
            "left": null,
            "margin": null,
            "max_height": null,
            "max_width": null,
            "min_height": null,
            "min_width": null,
            "object_fit": null,
            "object_position": null,
            "order": null,
            "overflow": null,
            "overflow_x": null,
            "overflow_y": null,
            "padding": null,
            "right": null,
            "top": null,
            "visibility": null,
            "width": null
          }
        },
        "16eb5baa96534998b3da3d6738255228": {
          "model_module": "@jupyter-widgets/controls",
          "model_name": "DescriptionStyleModel",
          "model_module_version": "1.5.0",
          "state": {
            "_model_module": "@jupyter-widgets/controls",
            "_model_module_version": "1.5.0",
            "_model_name": "DescriptionStyleModel",
            "_view_count": null,
            "_view_module": "@jupyter-widgets/base",
            "_view_module_version": "1.2.0",
            "_view_name": "StyleView",
            "description_width": ""
          }
        },
        "7a2edef0cfd34cf7afc581336add3602": {
          "model_module": "@jupyter-widgets/controls",
          "model_name": "HBoxModel",
          "model_module_version": "1.5.0",
          "state": {
            "_dom_classes": [],
            "_model_module": "@jupyter-widgets/controls",
            "_model_module_version": "1.5.0",
            "_model_name": "HBoxModel",
            "_view_count": null,
            "_view_module": "@jupyter-widgets/controls",
            "_view_module_version": "1.5.0",
            "_view_name": "HBoxView",
            "box_style": "",
            "children": [
              "IPY_MODEL_010d3ba6173b4fb49dbf2c1f2c5d1934",
              "IPY_MODEL_8ec9fcf6b6f048bc8ce3bac7ef383129",
              "IPY_MODEL_a3088629da8f4bcc86a531581d83e9e3"
            ],
            "layout": "IPY_MODEL_9e0008385da64a569098e7ee4779758e"
          }
        },
        "010d3ba6173b4fb49dbf2c1f2c5d1934": {
          "model_module": "@jupyter-widgets/controls",
          "model_name": "HTMLModel",
          "model_module_version": "1.5.0",
          "state": {
            "_dom_classes": [],
            "_model_module": "@jupyter-widgets/controls",
            "_model_module_version": "1.5.0",
            "_model_name": "HTMLModel",
            "_view_count": null,
            "_view_module": "@jupyter-widgets/controls",
            "_view_module_version": "1.5.0",
            "_view_name": "HTMLView",
            "description": "",
            "description_tooltip": null,
            "layout": "IPY_MODEL_5e1af8feaefd4a7aa8b4543cd21a0cec",
            "placeholder": "​",
            "style": "IPY_MODEL_7a11cf9139e8416cadcf945b6fed8637",
            "value": "Downloading: 100%"
          }
        },
        "8ec9fcf6b6f048bc8ce3bac7ef383129": {
          "model_module": "@jupyter-widgets/controls",
          "model_name": "FloatProgressModel",
          "model_module_version": "1.5.0",
          "state": {
            "_dom_classes": [],
            "_model_module": "@jupyter-widgets/controls",
            "_model_module_version": "1.5.0",
            "_model_name": "FloatProgressModel",
            "_view_count": null,
            "_view_module": "@jupyter-widgets/controls",
            "_view_module_version": "1.5.0",
            "_view_name": "ProgressView",
            "bar_style": "success",
            "description": "",
            "description_tooltip": null,
            "layout": "IPY_MODEL_66e122202f2d493aa12d3284408c7de7",
            "max": 231508,
            "min": 0,
            "orientation": "horizontal",
            "style": "IPY_MODEL_9f714dddd386477fbfcadc81d0ba7a40",
            "value": 231508
          }
        },
        "a3088629da8f4bcc86a531581d83e9e3": {
          "model_module": "@jupyter-widgets/controls",
          "model_name": "HTMLModel",
          "model_module_version": "1.5.0",
          "state": {
            "_dom_classes": [],
            "_model_module": "@jupyter-widgets/controls",
            "_model_module_version": "1.5.0",
            "_model_name": "HTMLModel",
            "_view_count": null,
            "_view_module": "@jupyter-widgets/controls",
            "_view_module_version": "1.5.0",
            "_view_name": "HTMLView",
            "description": "",
            "description_tooltip": null,
            "layout": "IPY_MODEL_47c91ac3ec2844ce8d69175cae69af6b",
            "placeholder": "​",
            "style": "IPY_MODEL_5d31142e7bc743b1a376290b31c2c9f5",
            "value": " 232k/232k [00:00&lt;00:00, 3.99MB/s]"
          }
        },
        "9e0008385da64a569098e7ee4779758e": {
          "model_module": "@jupyter-widgets/base",
          "model_name": "LayoutModel",
          "model_module_version": "1.2.0",
          "state": {
            "_model_module": "@jupyter-widgets/base",
            "_model_module_version": "1.2.0",
            "_model_name": "LayoutModel",
            "_view_count": null,
            "_view_module": "@jupyter-widgets/base",
            "_view_module_version": "1.2.0",
            "_view_name": "LayoutView",
            "align_content": null,
            "align_items": null,
            "align_self": null,
            "border": null,
            "bottom": null,
            "display": null,
            "flex": null,
            "flex_flow": null,
            "grid_area": null,
            "grid_auto_columns": null,
            "grid_auto_flow": null,
            "grid_auto_rows": null,
            "grid_column": null,
            "grid_gap": null,
            "grid_row": null,
            "grid_template_areas": null,
            "grid_template_columns": null,
            "grid_template_rows": null,
            "height": null,
            "justify_content": null,
            "justify_items": null,
            "left": null,
            "margin": null,
            "max_height": null,
            "max_width": null,
            "min_height": null,
            "min_width": null,
            "object_fit": null,
            "object_position": null,
            "order": null,
            "overflow": null,
            "overflow_x": null,
            "overflow_y": null,
            "padding": null,
            "right": null,
            "top": null,
            "visibility": null,
            "width": null
          }
        },
        "5e1af8feaefd4a7aa8b4543cd21a0cec": {
          "model_module": "@jupyter-widgets/base",
          "model_name": "LayoutModel",
          "model_module_version": "1.2.0",
          "state": {
            "_model_module": "@jupyter-widgets/base",
            "_model_module_version": "1.2.0",
            "_model_name": "LayoutModel",
            "_view_count": null,
            "_view_module": "@jupyter-widgets/base",
            "_view_module_version": "1.2.0",
            "_view_name": "LayoutView",
            "align_content": null,
            "align_items": null,
            "align_self": null,
            "border": null,
            "bottom": null,
            "display": null,
            "flex": null,
            "flex_flow": null,
            "grid_area": null,
            "grid_auto_columns": null,
            "grid_auto_flow": null,
            "grid_auto_rows": null,
            "grid_column": null,
            "grid_gap": null,
            "grid_row": null,
            "grid_template_areas": null,
            "grid_template_columns": null,
            "grid_template_rows": null,
            "height": null,
            "justify_content": null,
            "justify_items": null,
            "left": null,
            "margin": null,
            "max_height": null,
            "max_width": null,
            "min_height": null,
            "min_width": null,
            "object_fit": null,
            "object_position": null,
            "order": null,
            "overflow": null,
            "overflow_x": null,
            "overflow_y": null,
            "padding": null,
            "right": null,
            "top": null,
            "visibility": null,
            "width": null
          }
        },
        "7a11cf9139e8416cadcf945b6fed8637": {
          "model_module": "@jupyter-widgets/controls",
          "model_name": "DescriptionStyleModel",
          "model_module_version": "1.5.0",
          "state": {
            "_model_module": "@jupyter-widgets/controls",
            "_model_module_version": "1.5.0",
            "_model_name": "DescriptionStyleModel",
            "_view_count": null,
            "_view_module": "@jupyter-widgets/base",
            "_view_module_version": "1.2.0",
            "_view_name": "StyleView",
            "description_width": ""
          }
        },
        "66e122202f2d493aa12d3284408c7de7": {
          "model_module": "@jupyter-widgets/base",
          "model_name": "LayoutModel",
          "model_module_version": "1.2.0",
          "state": {
            "_model_module": "@jupyter-widgets/base",
            "_model_module_version": "1.2.0",
            "_model_name": "LayoutModel",
            "_view_count": null,
            "_view_module": "@jupyter-widgets/base",
            "_view_module_version": "1.2.0",
            "_view_name": "LayoutView",
            "align_content": null,
            "align_items": null,
            "align_self": null,
            "border": null,
            "bottom": null,
            "display": null,
            "flex": null,
            "flex_flow": null,
            "grid_area": null,
            "grid_auto_columns": null,
            "grid_auto_flow": null,
            "grid_auto_rows": null,
            "grid_column": null,
            "grid_gap": null,
            "grid_row": null,
            "grid_template_areas": null,
            "grid_template_columns": null,
            "grid_template_rows": null,
            "height": null,
            "justify_content": null,
            "justify_items": null,
            "left": null,
            "margin": null,
            "max_height": null,
            "max_width": null,
            "min_height": null,
            "min_width": null,
            "object_fit": null,
            "object_position": null,
            "order": null,
            "overflow": null,
            "overflow_x": null,
            "overflow_y": null,
            "padding": null,
            "right": null,
            "top": null,
            "visibility": null,
            "width": null
          }
        },
        "9f714dddd386477fbfcadc81d0ba7a40": {
          "model_module": "@jupyter-widgets/controls",
          "model_name": "ProgressStyleModel",
          "model_module_version": "1.5.0",
          "state": {
            "_model_module": "@jupyter-widgets/controls",
            "_model_module_version": "1.5.0",
            "_model_name": "ProgressStyleModel",
            "_view_count": null,
            "_view_module": "@jupyter-widgets/base",
            "_view_module_version": "1.2.0",
            "_view_name": "StyleView",
            "bar_color": null,
            "description_width": ""
          }
        },
        "47c91ac3ec2844ce8d69175cae69af6b": {
          "model_module": "@jupyter-widgets/base",
          "model_name": "LayoutModel",
          "model_module_version": "1.2.0",
          "state": {
            "_model_module": "@jupyter-widgets/base",
            "_model_module_version": "1.2.0",
            "_model_name": "LayoutModel",
            "_view_count": null,
            "_view_module": "@jupyter-widgets/base",
            "_view_module_version": "1.2.0",
            "_view_name": "LayoutView",
            "align_content": null,
            "align_items": null,
            "align_self": null,
            "border": null,
            "bottom": null,
            "display": null,
            "flex": null,
            "flex_flow": null,
            "grid_area": null,
            "grid_auto_columns": null,
            "grid_auto_flow": null,
            "grid_auto_rows": null,
            "grid_column": null,
            "grid_gap": null,
            "grid_row": null,
            "grid_template_areas": null,
            "grid_template_columns": null,
            "grid_template_rows": null,
            "height": null,
            "justify_content": null,
            "justify_items": null,
            "left": null,
            "margin": null,
            "max_height": null,
            "max_width": null,
            "min_height": null,
            "min_width": null,
            "object_fit": null,
            "object_position": null,
            "order": null,
            "overflow": null,
            "overflow_x": null,
            "overflow_y": null,
            "padding": null,
            "right": null,
            "top": null,
            "visibility": null,
            "width": null
          }
        },
        "5d31142e7bc743b1a376290b31c2c9f5": {
          "model_module": "@jupyter-widgets/controls",
          "model_name": "DescriptionStyleModel",
          "model_module_version": "1.5.0",
          "state": {
            "_model_module": "@jupyter-widgets/controls",
            "_model_module_version": "1.5.0",
            "_model_name": "DescriptionStyleModel",
            "_view_count": null,
            "_view_module": "@jupyter-widgets/base",
            "_view_module_version": "1.2.0",
            "_view_name": "StyleView",
            "description_width": ""
          }
        },
        "e6c3351dfae741b7bbe5d29800b45cb1": {
          "model_module": "@jupyter-widgets/controls",
          "model_name": "HBoxModel",
          "model_module_version": "1.5.0",
          "state": {
            "_dom_classes": [],
            "_model_module": "@jupyter-widgets/controls",
            "_model_module_version": "1.5.0",
            "_model_name": "HBoxModel",
            "_view_count": null,
            "_view_module": "@jupyter-widgets/controls",
            "_view_module_version": "1.5.0",
            "_view_name": "HBoxView",
            "box_style": "",
            "children": [
              "IPY_MODEL_fffdf70b278c4e03be2f7354208fcf68",
              "IPY_MODEL_14fd296b75304c37942bb2011e093f69",
              "IPY_MODEL_ded3c7b3b53b4e20bb5a2a2c46a7b484"
            ],
            "layout": "IPY_MODEL_5e46c28db9094ab9a192d4efb6188783"
          }
        },
        "fffdf70b278c4e03be2f7354208fcf68": {
          "model_module": "@jupyter-widgets/controls",
          "model_name": "HTMLModel",
          "model_module_version": "1.5.0",
          "state": {
            "_dom_classes": [],
            "_model_module": "@jupyter-widgets/controls",
            "_model_module_version": "1.5.0",
            "_model_name": "HTMLModel",
            "_view_count": null,
            "_view_module": "@jupyter-widgets/controls",
            "_view_module_version": "1.5.0",
            "_view_name": "HTMLView",
            "description": "",
            "description_tooltip": null,
            "layout": "IPY_MODEL_5d89ab8a92c649ff8fa13c3695df17ac",
            "placeholder": "​",
            "style": "IPY_MODEL_6ccebaec2a0c4cdc80d2cfb1526cb1b7",
            "value": "Downloading: 100%"
          }
        },
        "14fd296b75304c37942bb2011e093f69": {
          "model_module": "@jupyter-widgets/controls",
          "model_name": "FloatProgressModel",
          "model_module_version": "1.5.0",
          "state": {
            "_dom_classes": [],
            "_model_module": "@jupyter-widgets/controls",
            "_model_module_version": "1.5.0",
            "_model_name": "FloatProgressModel",
            "_view_count": null,
            "_view_module": "@jupyter-widgets/controls",
            "_view_module_version": "1.5.0",
            "_view_name": "ProgressView",
            "bar_style": "success",
            "description": "",
            "description_tooltip": null,
            "layout": "IPY_MODEL_9e0fd541bb184ee78c90f89ec98cdf09",
            "max": 466062,
            "min": 0,
            "orientation": "horizontal",
            "style": "IPY_MODEL_0b7c2d716f284161b9f22bcae959fbee",
            "value": 466062
          }
        },
        "ded3c7b3b53b4e20bb5a2a2c46a7b484": {
          "model_module": "@jupyter-widgets/controls",
          "model_name": "HTMLModel",
          "model_module_version": "1.5.0",
          "state": {
            "_dom_classes": [],
            "_model_module": "@jupyter-widgets/controls",
            "_model_module_version": "1.5.0",
            "_model_name": "HTMLModel",
            "_view_count": null,
            "_view_module": "@jupyter-widgets/controls",
            "_view_module_version": "1.5.0",
            "_view_name": "HTMLView",
            "description": "",
            "description_tooltip": null,
            "layout": "IPY_MODEL_50508522a97d4489a76a4ac90ecdfa83",
            "placeholder": "​",
            "style": "IPY_MODEL_5e7e1930266040e5a8c6a0aadd770360",
            "value": " 466k/466k [00:00&lt;00:00, 8.52MB/s]"
          }
        },
        "5e46c28db9094ab9a192d4efb6188783": {
          "model_module": "@jupyter-widgets/base",
          "model_name": "LayoutModel",
          "model_module_version": "1.2.0",
          "state": {
            "_model_module": "@jupyter-widgets/base",
            "_model_module_version": "1.2.0",
            "_model_name": "LayoutModel",
            "_view_count": null,
            "_view_module": "@jupyter-widgets/base",
            "_view_module_version": "1.2.0",
            "_view_name": "LayoutView",
            "align_content": null,
            "align_items": null,
            "align_self": null,
            "border": null,
            "bottom": null,
            "display": null,
            "flex": null,
            "flex_flow": null,
            "grid_area": null,
            "grid_auto_columns": null,
            "grid_auto_flow": null,
            "grid_auto_rows": null,
            "grid_column": null,
            "grid_gap": null,
            "grid_row": null,
            "grid_template_areas": null,
            "grid_template_columns": null,
            "grid_template_rows": null,
            "height": null,
            "justify_content": null,
            "justify_items": null,
            "left": null,
            "margin": null,
            "max_height": null,
            "max_width": null,
            "min_height": null,
            "min_width": null,
            "object_fit": null,
            "object_position": null,
            "order": null,
            "overflow": null,
            "overflow_x": null,
            "overflow_y": null,
            "padding": null,
            "right": null,
            "top": null,
            "visibility": null,
            "width": null
          }
        },
        "5d89ab8a92c649ff8fa13c3695df17ac": {
          "model_module": "@jupyter-widgets/base",
          "model_name": "LayoutModel",
          "model_module_version": "1.2.0",
          "state": {
            "_model_module": "@jupyter-widgets/base",
            "_model_module_version": "1.2.0",
            "_model_name": "LayoutModel",
            "_view_count": null,
            "_view_module": "@jupyter-widgets/base",
            "_view_module_version": "1.2.0",
            "_view_name": "LayoutView",
            "align_content": null,
            "align_items": null,
            "align_self": null,
            "border": null,
            "bottom": null,
            "display": null,
            "flex": null,
            "flex_flow": null,
            "grid_area": null,
            "grid_auto_columns": null,
            "grid_auto_flow": null,
            "grid_auto_rows": null,
            "grid_column": null,
            "grid_gap": null,
            "grid_row": null,
            "grid_template_areas": null,
            "grid_template_columns": null,
            "grid_template_rows": null,
            "height": null,
            "justify_content": null,
            "justify_items": null,
            "left": null,
            "margin": null,
            "max_height": null,
            "max_width": null,
            "min_height": null,
            "min_width": null,
            "object_fit": null,
            "object_position": null,
            "order": null,
            "overflow": null,
            "overflow_x": null,
            "overflow_y": null,
            "padding": null,
            "right": null,
            "top": null,
            "visibility": null,
            "width": null
          }
        },
        "6ccebaec2a0c4cdc80d2cfb1526cb1b7": {
          "model_module": "@jupyter-widgets/controls",
          "model_name": "DescriptionStyleModel",
          "model_module_version": "1.5.0",
          "state": {
            "_model_module": "@jupyter-widgets/controls",
            "_model_module_version": "1.5.0",
            "_model_name": "DescriptionStyleModel",
            "_view_count": null,
            "_view_module": "@jupyter-widgets/base",
            "_view_module_version": "1.2.0",
            "_view_name": "StyleView",
            "description_width": ""
          }
        },
        "9e0fd541bb184ee78c90f89ec98cdf09": {
          "model_module": "@jupyter-widgets/base",
          "model_name": "LayoutModel",
          "model_module_version": "1.2.0",
          "state": {
            "_model_module": "@jupyter-widgets/base",
            "_model_module_version": "1.2.0",
            "_model_name": "LayoutModel",
            "_view_count": null,
            "_view_module": "@jupyter-widgets/base",
            "_view_module_version": "1.2.0",
            "_view_name": "LayoutView",
            "align_content": null,
            "align_items": null,
            "align_self": null,
            "border": null,
            "bottom": null,
            "display": null,
            "flex": null,
            "flex_flow": null,
            "grid_area": null,
            "grid_auto_columns": null,
            "grid_auto_flow": null,
            "grid_auto_rows": null,
            "grid_column": null,
            "grid_gap": null,
            "grid_row": null,
            "grid_template_areas": null,
            "grid_template_columns": null,
            "grid_template_rows": null,
            "height": null,
            "justify_content": null,
            "justify_items": null,
            "left": null,
            "margin": null,
            "max_height": null,
            "max_width": null,
            "min_height": null,
            "min_width": null,
            "object_fit": null,
            "object_position": null,
            "order": null,
            "overflow": null,
            "overflow_x": null,
            "overflow_y": null,
            "padding": null,
            "right": null,
            "top": null,
            "visibility": null,
            "width": null
          }
        },
        "0b7c2d716f284161b9f22bcae959fbee": {
          "model_module": "@jupyter-widgets/controls",
          "model_name": "ProgressStyleModel",
          "model_module_version": "1.5.0",
          "state": {
            "_model_module": "@jupyter-widgets/controls",
            "_model_module_version": "1.5.0",
            "_model_name": "ProgressStyleModel",
            "_view_count": null,
            "_view_module": "@jupyter-widgets/base",
            "_view_module_version": "1.2.0",
            "_view_name": "StyleView",
            "bar_color": null,
            "description_width": ""
          }
        },
        "50508522a97d4489a76a4ac90ecdfa83": {
          "model_module": "@jupyter-widgets/base",
          "model_name": "LayoutModel",
          "model_module_version": "1.2.0",
          "state": {
            "_model_module": "@jupyter-widgets/base",
            "_model_module_version": "1.2.0",
            "_model_name": "LayoutModel",
            "_view_count": null,
            "_view_module": "@jupyter-widgets/base",
            "_view_module_version": "1.2.0",
            "_view_name": "LayoutView",
            "align_content": null,
            "align_items": null,
            "align_self": null,
            "border": null,
            "bottom": null,
            "display": null,
            "flex": null,
            "flex_flow": null,
            "grid_area": null,
            "grid_auto_columns": null,
            "grid_auto_flow": null,
            "grid_auto_rows": null,
            "grid_column": null,
            "grid_gap": null,
            "grid_row": null,
            "grid_template_areas": null,
            "grid_template_columns": null,
            "grid_template_rows": null,
            "height": null,
            "justify_content": null,
            "justify_items": null,
            "left": null,
            "margin": null,
            "max_height": null,
            "max_width": null,
            "min_height": null,
            "min_width": null,
            "object_fit": null,
            "object_position": null,
            "order": null,
            "overflow": null,
            "overflow_x": null,
            "overflow_y": null,
            "padding": null,
            "right": null,
            "top": null,
            "visibility": null,
            "width": null
          }
        },
        "5e7e1930266040e5a8c6a0aadd770360": {
          "model_module": "@jupyter-widgets/controls",
          "model_name": "DescriptionStyleModel",
          "model_module_version": "1.5.0",
          "state": {
            "_model_module": "@jupyter-widgets/controls",
            "_model_module_version": "1.5.0",
            "_model_name": "DescriptionStyleModel",
            "_view_count": null,
            "_view_module": "@jupyter-widgets/base",
            "_view_module_version": "1.2.0",
            "_view_name": "StyleView",
            "description_width": ""
          }
        }
      }
    }
  },
  "cells": [
    {
      "cell_type": "markdown",
      "metadata": {
        "id": "view-in-github",
        "colab_type": "text"
      },
      "source": [
        "<a href=\"https://colab.research.google.com/github/noamshimsho/NLP/blob/main/Chapter_3_Transformer_Anatomy.ipynb\" target=\"_parent\"><img src=\"https://colab.research.google.com/assets/colab-badge.svg\" alt=\"Open In Colab\"/></a>"
      ]
    },
    {
      "cell_type": "code",
      "source": [
        "!pip install transformers[sentencepiece] datasets"
      ],
      "metadata": {
        "id": "R2yPJgbDFx3j"
      },
      "execution_count": null,
      "outputs": []
    },
    {
      "cell_type": "code",
      "execution_count": null,
      "metadata": {
        "colab": {
          "base_uri": "https://localhost:8080/",
          "height": 145,
          "referenced_widgets": [
            "d6c1788074b5439188d2efdb6087f439",
            "80a37743b7ae43edbddc569cf74b3e34",
            "924cb7f329bf484e8734112a2db55003",
            "5c54351714a949fa8ce210f5d72fde2c",
            "0d5b9bc47c054418b81a9e39d1910828",
            "285c70aeb6a745638a947bfecbf23261",
            "dfcbab8f877a4a709ac42e7c048b7694",
            "8e77c2458d3047e5983a8afde9dcbe88",
            "87e49ac75e1445ae91e2ace70d866801",
            "b89981c161bf4e36a6df756a4496a7e1",
            "c13f7dbdbf3f4866b0f659ed7b3a03e8",
            "a4934d4927b84232bd4098a0f7e39d0b",
            "65666af6280a46739b94ab9ad83c2336",
            "c225662d0f0b4918b6c149a479bf8369",
            "a7f09022c746462783447b7a583afc84",
            "2f34e280db0c4dc786b412f7104795bc",
            "468fd2faf15343e0b515282ed5fbbd3d",
            "fbd3249002c74c4d862eeeb2d8f8cf61",
            "ecf6a215eb72488f87f4b403b0429a4e",
            "e8cbde0873ab463382b98ef19e8e40ce",
            "f20602ca9d9f4c7e98dc23b7758ffe84",
            "16eb5baa96534998b3da3d6738255228",
            "7a2edef0cfd34cf7afc581336add3602",
            "010d3ba6173b4fb49dbf2c1f2c5d1934",
            "8ec9fcf6b6f048bc8ce3bac7ef383129",
            "a3088629da8f4bcc86a531581d83e9e3",
            "9e0008385da64a569098e7ee4779758e",
            "5e1af8feaefd4a7aa8b4543cd21a0cec",
            "7a11cf9139e8416cadcf945b6fed8637",
            "66e122202f2d493aa12d3284408c7de7",
            "9f714dddd386477fbfcadc81d0ba7a40",
            "47c91ac3ec2844ce8d69175cae69af6b",
            "5d31142e7bc743b1a376290b31c2c9f5",
            "e6c3351dfae741b7bbe5d29800b45cb1",
            "fffdf70b278c4e03be2f7354208fcf68",
            "14fd296b75304c37942bb2011e093f69",
            "ded3c7b3b53b4e20bb5a2a2c46a7b484",
            "5e46c28db9094ab9a192d4efb6188783",
            "5d89ab8a92c649ff8fa13c3695df17ac",
            "6ccebaec2a0c4cdc80d2cfb1526cb1b7",
            "9e0fd541bb184ee78c90f89ec98cdf09",
            "0b7c2d716f284161b9f22bcae959fbee",
            "50508522a97d4489a76a4ac90ecdfa83",
            "5e7e1930266040e5a8c6a0aadd770360"
          ]
        },
        "id": "ww8gzMssEh08",
        "outputId": "08d8bba9-c5f9-4906-d6c5-126074a2ab22"
      },
      "outputs": [
        {
          "output_type": "display_data",
          "data": {
            "text/plain": [
              "Downloading:   0%|          | 0.00/28.0 [00:00<?, ?B/s]"
            ],
            "application/vnd.jupyter.widget-view+json": {
              "version_major": 2,
              "version_minor": 0,
              "model_id": "d6c1788074b5439188d2efdb6087f439"
            }
          },
          "metadata": {}
        },
        {
          "output_type": "display_data",
          "data": {
            "text/plain": [
              "Downloading:   0%|          | 0.00/570 [00:00<?, ?B/s]"
            ],
            "application/vnd.jupyter.widget-view+json": {
              "version_major": 2,
              "version_minor": 0,
              "model_id": "a4934d4927b84232bd4098a0f7e39d0b"
            }
          },
          "metadata": {}
        },
        {
          "output_type": "display_data",
          "data": {
            "text/plain": [
              "Downloading:   0%|          | 0.00/232k [00:00<?, ?B/s]"
            ],
            "application/vnd.jupyter.widget-view+json": {
              "version_major": 2,
              "version_minor": 0,
              "model_id": "7a2edef0cfd34cf7afc581336add3602"
            }
          },
          "metadata": {}
        },
        {
          "output_type": "display_data",
          "data": {
            "text/plain": [
              "Downloading:   0%|          | 0.00/466k [00:00<?, ?B/s]"
            ],
            "application/vnd.jupyter.widget-view+json": {
              "version_major": 2,
              "version_minor": 0,
              "model_id": "e6c3351dfae741b7bbe5d29800b45cb1"
            }
          },
          "metadata": {}
        }
      ],
      "source": [
        "from transformers import AutoTokenizer\n",
        "\n",
        "model_ckpt = \"bert-base-uncased\"\n",
        "tokenizer = AutoTokenizer.from_pretrained(model_ckpt)\n",
        "text = \"time flies like an arrow\"\n"
      ]
    },
    {
      "cell_type": "markdown",
      "source": [
        "# The Encoder"
      ],
      "metadata": {
        "id": "xAdCh2B4WtJ-"
      }
    },
    {
      "cell_type": "markdown",
      "source": [
        "![nlpt_0302.png](data:image/png;base64,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)"
      ],
      "metadata": {
        "id": "zFV3pffLpUGV"
      }
    },
    {
      "cell_type": "code",
      "source": [
        "inputs = tokenizer(text, return_tensors=\"pt\", add_special_tokens=False)\n",
        "inputs.input_ids"
      ],
      "metadata": {
        "colab": {
          "base_uri": "https://localhost:8080/"
        },
        "id": "6JBgmDvIGXWm",
        "outputId": "5cbaf470-ce5d-49e2-fb31-77425669bbab"
      },
      "execution_count": null,
      "outputs": [
        {
          "output_type": "execute_result",
          "data": {
            "text/plain": [
              "tensor([[ 2051, 10029,  2066,  2019,  8612]])"
            ]
          },
          "metadata": {},
          "execution_count": 3
        }
      ]
    },
    {
      "cell_type": "code",
      "source": [
        "from torch import nn\n",
        "from transformers import AutoConfig\n",
        "\n",
        "config = AutoConfig.from_pretrained(model_ckpt)\n",
        "config"
      ],
      "metadata": {
        "colab": {
          "base_uri": "https://localhost:8080/"
        },
        "id": "eq2Adl-PE37_",
        "outputId": "fc8c5d8b-f1e2-4d90-fe8a-7997415098ff"
      },
      "execution_count": null,
      "outputs": [
        {
          "output_type": "execute_result",
          "data": {
            "text/plain": [
              "BertConfig {\n",
              "  \"_name_or_path\": \"bert-base-uncased\",\n",
              "  \"architectures\": [\n",
              "    \"BertForMaskedLM\"\n",
              "  ],\n",
              "  \"attention_probs_dropout_prob\": 0.1,\n",
              "  \"classifier_dropout\": null,\n",
              "  \"gradient_checkpointing\": false,\n",
              "  \"hidden_act\": \"gelu\",\n",
              "  \"hidden_dropout_prob\": 0.1,\n",
              "  \"hidden_size\": 768,\n",
              "  \"initializer_range\": 0.02,\n",
              "  \"intermediate_size\": 3072,\n",
              "  \"layer_norm_eps\": 1e-12,\n",
              "  \"max_position_embeddings\": 512,\n",
              "  \"model_type\": \"bert\",\n",
              "  \"num_attention_heads\": 12,\n",
              "  \"num_hidden_layers\": 12,\n",
              "  \"pad_token_id\": 0,\n",
              "  \"position_embedding_type\": \"absolute\",\n",
              "  \"transformers_version\": \"4.24.0\",\n",
              "  \"type_vocab_size\": 2,\n",
              "  \"use_cache\": true,\n",
              "  \"vocab_size\": 30522\n",
              "}"
            ]
          },
          "metadata": {},
          "execution_count": 4
        }
      ]
    },
    {
      "cell_type": "code",
      "source": [
        "token_emb = nn.Embedding(config.vocab_size, config.hidden_size) # torch.nn.Embedding layer that acts as a lookup table for each input ID:\n",
        "token_emb"
      ],
      "metadata": {
        "colab": {
          "base_uri": "https://localhost:8080/"
        },
        "id": "WMnQjMUKE3-G",
        "outputId": "b27e990e-2e2a-4287-f784-3f7f2db2428b"
      },
      "execution_count": null,
      "outputs": [
        {
          "output_type": "execute_result",
          "data": {
            "text/plain": [
              "Embedding(30522, 768)"
            ]
          },
          "metadata": {},
          "execution_count": 5
        }
      ]
    },
    {
      "cell_type": "code",
      "source": [
        "inputs_embeds = token_emb(inputs.input_ids)\n",
        "inputs_embeds.size() # [batch_size, seq_len, hidden_dim]"
      ],
      "metadata": {
        "colab": {
          "base_uri": "https://localhost:8080/"
        },
        "id": "HEljaCD_HC82",
        "outputId": "52f5583d-3e26-4c01-fc2b-bd7d687cd537"
      },
      "execution_count": null,
      "outputs": [
        {
          "output_type": "execute_result",
          "data": {
            "text/plain": [
              "torch.Size([1, 5, 768])"
            ]
          },
          "metadata": {},
          "execution_count": 6
        }
      ]
    },
    {
      "cell_type": "markdown",
      "source": [
        "## Self-Attention"
      ],
      "metadata": {
        "id": "RvJNXsz4W6JG"
      }
    },
    {
      "cell_type": "markdown",
      "source": [
        "![nlpt_0304.png](data:image/png;base64,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)"
      ],
      "metadata": {
        "id": "ZKXARG50qJnc"
      }
    },
    {
      "cell_type": "code",
      "source": [
        "import torch\n",
        "from math import sqrt\n",
        "\n",
        "query = key = value = inputs_embeds\n",
        "dim_k = key.size(-1)\n",
        "dim_k, inputs_embeds.shape"
      ],
      "metadata": {
        "colab": {
          "base_uri": "https://localhost:8080/"
        },
        "id": "MbPlKp2rHC-8",
        "outputId": "2c0ba20a-57c3-4b1b-cbe5-35a5fa015c27"
      },
      "execution_count": null,
      "outputs": [
        {
          "output_type": "execute_result",
          "data": {
            "text/plain": [
              "(768, torch.Size([1, 5, 768]))"
            ]
          },
          "metadata": {},
          "execution_count": 38
        }
      ]
    },
    {
      "cell_type": "code",
      "source": [
        "\"\"\"\n",
        "torch.bmm Batched matrix multiplication\n",
        "\n",
        "mat1 and mat2 must be 3-D tensors each containing the same number of matrices.\n",
        "\n",
        "If mat1 is a (b×n×m) tensor, mat2 is a (b×m×p) tensor, out will be a (b×n×p) tensor.\n",
        "\"\"\"\n",
        "scores = torch.bmm(query, key.transpose(1,2)) / sqrt(dim_k)  # the attention scores\n",
        "scores.size(), scores"
      ],
      "metadata": {
        "colab": {
          "base_uri": "https://localhost:8080/"
        },
        "id": "SfsV5UEjHDBO",
        "outputId": "7d1c8633-3c07-4a7b-fe2b-7a4af9f7cc38"
      },
      "execution_count": null,
      "outputs": [
        {
          "output_type": "execute_result",
          "data": {
            "text/plain": [
              "(torch.Size([1, 5, 5]),\n",
              " tensor([[[ 2.5338e+01,  1.7526e+00,  1.3060e+00, -9.8560e-01, -5.7375e-02],\n",
              "          [ 1.7526e+00,  2.8646e+01,  1.0002e+00,  1.8115e+00,  2.2918e-02],\n",
              "          [ 1.3060e+00,  1.0002e+00,  3.2240e+01,  7.5046e-01, -2.1616e+00],\n",
              "          [-9.8560e-01,  1.8115e+00,  7.5046e-01,  2.6267e+01, -7.4313e-01],\n",
              "          [-5.7375e-02,  2.2918e-02, -2.1616e+00, -7.4313e-01,  3.0238e+01]]],\n",
              "        grad_fn=<DivBackward0>))"
            ]
          },
          "metadata": {},
          "execution_count": 8
        }
      ]
    },
    {
      "cell_type": "code",
      "source": [
        "import torch.nn.functional as F\n",
        "\n",
        "weights = F.softmax(scores, dim=-1)\n",
        "weights.size(), weights"
      ],
      "metadata": {
        "colab": {
          "base_uri": "https://localhost:8080/"
        },
        "id": "sNetUn7gHDDV",
        "outputId": "d1ed11d0-00c1-4a46-ecc2-c4a33cb68273"
      },
      "execution_count": null,
      "outputs": [
        {
          "output_type": "execute_result",
          "data": {
            "text/plain": [
              "(torch.Size([1, 5, 5]),\n",
              " tensor([[[1.0000e+00, 5.7121e-11, 3.6545e-11, 3.6948e-12, 9.3480e-12],\n",
              "          [2.0918e-12, 1.0000e+00, 9.8567e-13, 2.2185e-12, 3.7094e-13],\n",
              "          [3.6792e-14, 2.7098e-14, 1.0000e+00, 2.1110e-14, 1.1476e-15],\n",
              "          [1.4594e-12, 2.3929e-11, 8.2821e-12, 1.0000e+00, 1.8599e-12],\n",
              "          [6.9645e-14, 7.5468e-14, 8.4925e-15, 3.5081e-14, 1.0000e+00]]],\n",
              "        grad_fn=<SoftmaxBackward0>))"
            ]
          },
          "metadata": {},
          "execution_count": 9
        }
      ]
    },
    {
      "cell_type": "code",
      "source": [
        "# The final step is to multiply the attention weights by the values:\n",
        "attn_outputs = torch.bmm(weights, value)\n",
        "attn_outputs.shape"
      ],
      "metadata": {
        "colab": {
          "base_uri": "https://localhost:8080/"
        },
        "id": "dVELBtlQHDHs",
        "outputId": "4bd0c6f1-bc80-4256-f63d-80c457ca9449"
      },
      "execution_count": null,
      "outputs": [
        {
          "output_type": "execute_result",
          "data": {
            "text/plain": [
              "torch.Size([1, 5, 768])"
            ]
          },
          "metadata": {},
          "execution_count": 10
        }
      ]
    },
    {
      "cell_type": "code",
      "source": [],
      "metadata": {
        "id": "g2a1BqhwHDJ3"
      },
      "execution_count": null,
      "outputs": []
    },
    {
      "cell_type": "code",
      "source": [
        "def scaled_dot_product_attention(query, key, value):\n",
        "    dim_k = query.size(-1)\n",
        "    scores = torch.bmm(query, key.transpose(1, 2)) / sqrt(dim_k)\n",
        "    weights = F.softmax(scores, dim=-1)\n",
        "    return torch.bmm(weights, value) # [batch_size, num_tokens, head_dim]"
      ],
      "metadata": {
        "id": "3Vwsh0-hHDMQ"
      },
      "execution_count": null,
      "outputs": []
    },
    {
      "cell_type": "code",
      "source": [
        "\"\"\"\n",
        "Let’s allow the model to create a different set of vectors for the query, key, and value of a token \n",
        "by using three different linear projections to project our initial token vector into three different spaces.\n",
        "\"\"\""
      ],
      "metadata": {
        "colab": {
          "base_uri": "https://localhost:8080/",
          "height": 54
        },
        "id": "0VUDuTguHDOU",
        "outputId": "db91eb7c-2dbd-484d-9281-142246de1878"
      },
      "execution_count": null,
      "outputs": [
        {
          "output_type": "execute_result",
          "data": {
            "text/plain": [
              "'\\nLet’s allow the model to create a different set of vectors for the query, key, and value of a token \\nby using three different linear projections to project our initial token vector into three different spaces.\\n'"
            ],
            "application/vnd.google.colaboratory.intrinsic+json": {
              "type": "string"
            }
          },
          "metadata": {},
          "execution_count": 12
        }
      ]
    },
    {
      "cell_type": "markdown",
      "source": [
        "## Multi-headed attention"
      ],
      "metadata": {
        "id": "9VpxWZxoXMRY"
      }
    },
    {
      "cell_type": "code",
      "source": [
        "\"\"\"\n",
        "It also turns out to be beneficial to have multiple sets of linear projections, each one representing a so-called attention head. \n",
        "But why do we need more than one attention head? \n",
        "The reason is that the softmax of one head tends to focus on mostly one aspect of similarity. \n",
        "Having several heads allows the model to focus on several aspects at once. \n",
        "For instance, one head can focus on subject-verb interaction, whereas another finds nearby adjectives. \n",
        "Obviously we don’t handcraft these relations into the model, and they are fully learned from the data. \n",
        "\n",
        "If you are familiar with computer vision models you might see the resemblance to filters in convolutional neural networks, where one filter can be responsible for detecting faces and another one finds wheels of cars in images.\n",
        "\"\"\""
      ],
      "metadata": {
        "id": "Ld6_MUX6rgyJ"
      },
      "execution_count": null,
      "outputs": []
    },
    {
      "cell_type": "markdown",
      "source": [
        "![nlpt_0305.png](data:image/png;base64,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)"
      ],
      "metadata": {
        "id": "kfZA70NltjPe"
      }
    },
    {
      "cell_type": "code",
      "source": [
        "# SINGLE ATTENTION HEAD\n",
        "\n",
        "class AttentionHead(nn.Module):\n",
        "    def __init__(self, embed_dim, head_dim):  # BERT has 12 attention heads, so the dimension of each head head_dim = 768/12 = 64\n",
        "        super().__init__()\n",
        "        self.q = nn.Linear(embed_dim, head_dim)\n",
        "        self.k = nn.Linear(embed_dim, head_dim)\n",
        "        self.v = nn.Linear(embed_dim, head_dim)\n",
        "\n",
        "    def forward(self, hidden_state):  # hidden_state =  embedding vectors\n",
        "        attn_outputs = scaled_dot_product_attention(\n",
        "            self.q(hidden_state), self.k(hidden_state), self.v(hidden_state))\n",
        "        return attn_outputs"
      ],
      "metadata": {
        "id": "pLPVxsIPHDQQ"
      },
      "execution_count": null,
      "outputs": []
    },
    {
      "cell_type": "code",
      "source": [
        "class MultiHeadAttention(nn.Module):\n",
        "    def __init__(self, config):\n",
        "        super().__init__()\n",
        "        embed_dim = config.hidden_size  #768\n",
        "        num_heads = config.num_attention_heads  #12\n",
        "        head_dim = embed_dim // num_heads  #68   -> Q, K, V dim ALSO THE HEAD OUTPUT SIZE.\n",
        "        self.heads = nn.ModuleList(\n",
        "            [AttentionHead(embed_dim, head_dim) for _ in range(num_heads)]\n",
        "        )\n",
        "        self.output_linear = nn.Linear(embed_dim, embed_dim)\n",
        "\n",
        "    def forward(self, hidden_state):\n",
        "        x = torch.cat([h(hidden_state) for h in self.heads], dim=-1)  # CONCAT THE MultiHeadAttention SCORES.\n",
        "        x = self.output_linear(x)\n",
        "        return x  #[batch_size, seq_len, hidden_dim]"
      ],
      "metadata": {
        "id": "IIJl1jn8E4Cm"
      },
      "execution_count": null,
      "outputs": []
    },
    {
      "cell_type": "code",
      "source": [
        "multihead_attn = MultiHeadAttention(config)\n",
        "\n",
        "inputs_embeds = token_emb(inputs.input_ids)\n",
        "\n",
        "attn_output = multihead_attn(inputs_embeds)\n",
        "attn_output.size()"
      ],
      "metadata": {
        "colab": {
          "base_uri": "https://localhost:8080/"
        },
        "id": "mH68aJFzE4Ev",
        "outputId": "b93fa030-b9fd-4aae-fc68-432f7929e67e"
      },
      "execution_count": null,
      "outputs": [
        {
          "output_type": "execute_result",
          "data": {
            "text/plain": [
              "torch.Size([1, 5, 768])"
            ]
          },
          "metadata": {},
          "execution_count": 15
        }
      ]
    },
    {
      "cell_type": "markdown",
      "source": [
        "## The Feed-Forward Layer"
      ],
      "metadata": {
        "id": "wFU_hfDCXWyN"
      }
    },
    {
      "cell_type": "code",
      "source": [
        "\"\"\"\n",
        "The feed-forward sublayer in the encoder and decoder is just a simple two-layer fully connected neural network, \n",
        "but with a twist: instead of processing the whole sequence of embeddings as a single vector, it processes each embedding independently. \n",
        "\n",
        "For this reason, this layer is often referred to as a position-wise feed-forward layer. \n",
        "A rule of thumb from the literature is for the hidden size of the first layer to be four times the size of the embeddings, and a GELU activation function is most commonly used. \n",
        "This is where most of the capacity and memorization is hypothesized to happen, and it’s the part that is most often scaled when scaling up the models. \n",
        "\n",
        "We can implement this as a simple nn.Module as follows:\n",
        "\"\"\""
      ],
      "metadata": {
        "id": "ClxAb_2UuBNV"
      },
      "execution_count": null,
      "outputs": []
    },
    {
      "cell_type": "code",
      "source": [
        "class FeedForward(nn.Module):\n",
        "    def __init__(self, config):\n",
        "        super().__init__()\n",
        "        self.linear_1 = nn.Linear(config.hidden_size, config.intermediate_size)  # 768 - 3072\n",
        "        self.linear_2 = nn.Linear(config.intermediate_size, config.hidden_size)  # 3072 - 768\n",
        "        self.gelu = nn.GELU()\n",
        "        self.dropout = nn.Dropout(config.hidden_dropout_prob)\n",
        "\n",
        "    def forward(self, x):  #x.shape = [batch_size, seq_len, hidden_dim]\n",
        "        x = self.linear_1(x)\n",
        "        x = self.gelu(x)\n",
        "        x = self.linear_2(x)\n",
        "        x = self.dropout(x)\n",
        "        return x  #x.shape [batch_size, seq_len, hidden_dim]\n"
      ],
      "metadata": {
        "id": "0qI7NdFmc1KB"
      },
      "execution_count": null,
      "outputs": []
    },
    {
      "cell_type": "code",
      "source": [
        "\"\"\"\n",
        "Note that a feed-forward layer such as nn.Linear is usually applied to a tensor of shape (batch_size, input_dim), where it acts on each element of the batch dimension independently. \n",
        "This is actually true for any dimension except the last one, so when we pass a tensor of shape (batch_size, seq_len, hidden_dim) the layer is applied to all token embeddings of the batch and sequence independently, which is exactly what we want.\n",
        "\"\"\""
      ],
      "metadata": {
        "id": "N6sgvCB4uwpK"
      },
      "execution_count": null,
      "outputs": []
    },
    {
      "cell_type": "code",
      "source": [
        "feed_forward = FeedForward(config)\n",
        "print(attn_outputs.shape)\n",
        "ff_outputs = feed_forward(attn_outputs)\n",
        "ff_outputs.size()"
      ],
      "metadata": {
        "colab": {
          "base_uri": "https://localhost:8080/"
        },
        "id": "Dvo08yDGc1MK",
        "outputId": "35514fea-553f-4fc5-e4f7-1f4541a1265d"
      },
      "execution_count": null,
      "outputs": [
        {
          "output_type": "stream",
          "name": "stdout",
          "text": [
            "torch.Size([1, 5, 768])\n"
          ]
        },
        {
          "output_type": "execute_result",
          "data": {
            "text/plain": [
              "torch.Size([1, 5, 768])"
            ]
          },
          "metadata": {},
          "execution_count": 17
        }
      ]
    },
    {
      "cell_type": "markdown",
      "source": [
        "## Adding Layer Normalization and skip connection"
      ],
      "metadata": {
        "id": "hgCUzJ_0Xdh7"
      }
    },
    {
      "cell_type": "markdown",
      "source": [
        "![nlpt_0306.png](data:image/png;base64,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)"
      ],
      "metadata": {
        "id": "GRBcO-bVvg99"
      }
    },
    {
      "cell_type": "code",
      "source": [
        "class TransformerEncoderLayer(nn.Module):\n",
        "    def __init__(self, config):\n",
        "        super().__init__()\n",
        "        self.layer_norm_1 = nn.LayerNorm(config.hidden_size) # 2 learnable params, If a single integer is used, module will normalize over the last dimension which is expected to be of that specific size.\n",
        "        self.layer_norm_2 = nn.LayerNorm(config.hidden_size)\n",
        "        self.attention = MultiHeadAttention(config)\n",
        "        self.feed_forward = FeedForward(config)\n",
        "\n",
        "    def forward(self, x):  # x = [batch_size, seq_len, embedding_size/hidden_size] \n",
        "        # Apply layer normalization and then copy input into query, key, value - Pre Layer Normalization.\n",
        "        hidden_state = self.layer_norm_1(x)\n",
        "        # Apply attention with a skip connection\n",
        "        x = x + self.attention(hidden_state)\n",
        "        # Apply feed-forward layer with a skip connection\n",
        "        x = x + self.feed_forward(self.layer_norm_2(x))\n",
        "\n",
        "        return x # x = [batch_size, seq_len, hidden_size] \n",
        "\n"
      ],
      "metadata": {
        "id": "6fd06sUpc1OZ"
      },
      "execution_count": null,
      "outputs": []
    },
    {
      "cell_type": "code",
      "source": [
        "encoder_layer = TransformerEncoderLayer(config)\n",
        "print(inputs_embeds.shape, inputs_embeds[0][0][0:10])\n",
        "output = encoder_layer(inputs_embeds)\n",
        "print(output.size(), output[0,0,0:10])"
      ],
      "metadata": {
        "colab": {
          "base_uri": "https://localhost:8080/"
        },
        "id": "KOtACIFaNQxR",
        "outputId": "86231d62-5e09-4a11-b3c4-14f46022fbf3"
      },
      "execution_count": null,
      "outputs": [
        {
          "output_type": "stream",
          "name": "stdout",
          "text": [
            "torch.Size([1, 5, 768]) tensor([-0.6567,  0.0944, -1.2849, -0.2641, -0.7565, -0.5107, -0.4671, -1.2997,\n",
            "         0.9576,  0.1616], grad_fn=<SliceBackward0>)\n",
            "torch.Size([1, 5, 768]) tensor([-0.7473,  0.1387, -1.1080, -0.0454, -0.7463, -0.4735, -0.6842, -1.6673,\n",
            "         1.1416,  0.1795], grad_fn=<SliceBackward0>)\n"
          ]
        }
      ]
    },
    {
      "cell_type": "markdown",
      "source": [
        "## Positional Embeddings"
      ],
      "metadata": {
        "id": "IlGlTIh5Xo15"
      }
    },
    {
      "cell_type": "code",
      "source": [
        "\"\"\"\n",
        "Positional embeddings are based on a simple, yet very effective idea: \n",
        "augment the token embeddings with a position-dependent pattern of values arranged in a vector. \n",
        "\n",
        "If the pattern is characteristic for each position, the attention heads and feed-forward layers in each stack can learn to incorporate positional information into their transformations.\n",
        "\n",
        "\n",
        "There are several ways to achieve this, and one of the most popular approaches is to use a learnable pattern, especially when the pretraining dataset is sufficiently large. \n",
        "This works exactly the same way as the token embeddings, but using the position index instead of the token ID as input. With that approach, an efficient way of encoding the positions of tokens is learned during pretraining.\n",
        "\"\"\""
      ],
      "metadata": {
        "id": "xb_nhrO9w-2k"
      },
      "execution_count": null,
      "outputs": []
    },
    {
      "cell_type": "code",
      "source": [
        "# learnable\n",
        "class Embeddings(nn.Module):\n",
        "    def __init__(self, config):\n",
        "        super().__init__()\n",
        "        self.token_embeddings = nn.Embedding(config.vocab_size, config.hidden_size)\n",
        "\n",
        "        self.position_embeddings = nn.Embedding(config.max_position_embeddings, config.hidden_size) # using the position index instead of the token ID\n",
        "\n",
        "        self.layer_norm = nn.LayerNorm(config.hidden_size, eps=1e-12)\n",
        "\n",
        "        self.dropout = nn.Dropout()\n",
        "\n",
        "    def forward(self, input_ids): #input_ids = [batch_size, sentence_len]\n",
        "        # Create position IDs for input sequence\n",
        "        seq_length = input_ids.size(1)\n",
        "        position_ids = torch.arange(seq_length, dtype=torch.long).unsqueeze(0)\n",
        "        # Create token and position embeddings\n",
        "        token_embeddings = self.token_embeddings(input_ids)\n",
        "        position_embeddings = self.position_embeddings(position_ids)\n",
        "        # Combine token and position embeddings\n",
        "        embeddings = token_embeddings + position_embeddings\n",
        "        embeddings = self.layer_norm(embeddings)\n",
        "        embeddings = self.dropout(embeddings)\n",
        "        return embeddings"
      ],
      "metadata": {
        "id": "32WaIPyzNQzq"
      },
      "execution_count": null,
      "outputs": []
    },
    {
      "cell_type": "code",
      "source": [
        "embedding_layer = Embeddings(config)\n",
        "print(inputs.input_ids, inputs.input_ids.shape)\n",
        "embedding_layer(inputs.input_ids).size()"
      ],
      "metadata": {
        "colab": {
          "base_uri": "https://localhost:8080/"
        },
        "id": "v-h7oY1ANQ1x",
        "outputId": "395ab038-a1af-4509-c1a8-ca4dd69d1cd3"
      },
      "execution_count": null,
      "outputs": [
        {
          "output_type": "stream",
          "name": "stdout",
          "text": [
            "tensor([[ 2051, 10029,  2066,  2019,  8612]]) torch.Size([1, 5])\n"
          ]
        },
        {
          "output_type": "execute_result",
          "data": {
            "text/plain": [
              "torch.Size([1, 5, 768])"
            ]
          },
          "metadata": {},
          "execution_count": 21
        }
      ]
    },
    {
      "cell_type": "code",
      "source": [
        "input = torch.LongTensor([[1,20,4,55],[4,333,2,449]])\n",
        "print(input, input.shape)\n",
        "embedding_layer(input).size()"
      ],
      "metadata": {
        "colab": {
          "base_uri": "https://localhost:8080/"
        },
        "id": "Pz1hAF_gNQ4D",
        "outputId": "c42a2614-f292-4b4b-d1a8-0ef1640f20bb"
      },
      "execution_count": null,
      "outputs": [
        {
          "output_type": "stream",
          "name": "stdout",
          "text": [
            "tensor([[  1,  20,   4,  55],\n",
            "        [  4, 333,   2, 449]]) torch.Size([2, 4])\n"
          ]
        },
        {
          "output_type": "execute_result",
          "data": {
            "text/plain": [
              "torch.Size([2, 4, 768])"
            ]
          },
          "metadata": {},
          "execution_count": 22
        }
      ]
    },
    {
      "cell_type": "code",
      "source": [
        "# full\n",
        "\n",
        "class TransformerEncoder(nn.Module):\n",
        "    def __init__(self, config):\n",
        "        super().__init__()\n",
        "        self.embeddings = Embeddings(config)\n",
        "        self.layers = nn.ModuleList([TransformerEncoderLayer(config)\n",
        "                                     for _ in range(config.num_hidden_layers)]) # 12\n",
        "\n",
        "    def forward(self, x):\n",
        "        x = self.embeddings(x)\n",
        "        for layer in self.layers:\n",
        "            x = layer(x)\n",
        "        return x"
      ],
      "metadata": {
        "id": "U0scEb9YNQ6P"
      },
      "execution_count": null,
      "outputs": []
    },
    {
      "cell_type": "code",
      "source": [
        "encoder = TransformerEncoder(config)\n",
        "print(inputs.input_ids)\n",
        "encoder(inputs.input_ids).size()"
      ],
      "metadata": {
        "colab": {
          "base_uri": "https://localhost:8080/"
        },
        "id": "hNez9hO8NQ8v",
        "outputId": "ec78c6e8-3c7a-4729-959c-3768684602f8"
      },
      "execution_count": null,
      "outputs": [
        {
          "output_type": "stream",
          "name": "stdout",
          "text": [
            "tensor([[ 2051, 10029,  2066,  2019,  8612]])\n"
          ]
        },
        {
          "output_type": "execute_result",
          "data": {
            "text/plain": [
              "torch.Size([1, 5, 768])"
            ]
          },
          "metadata": {},
          "execution_count": 24
        }
      ]
    },
    {
      "cell_type": "markdown",
      "source": [
        "# Adding a Classification Head"
      ],
      "metadata": {
        "id": "5IYMnO9mVliV"
      }
    },
    {
      "cell_type": "code",
      "source": [
        "class TransformerForSequenceClassification(nn.Module):\n",
        "    def __init__(self, config):\n",
        "        super().__init__()\n",
        "        self.encoder = TransformerEncoder(config)\n",
        "        self.dropout = nn.Dropout(config.hidden_dropout_prob)\n",
        "        self.classifier = nn.Linear(config.hidden_size, config.num_labels)\n",
        "\n",
        "    def forward(self, x):\n",
        "        x = self.encoder(x)[:, 0, :] # select hidden state of [CLS] token\n",
        "        x = self.dropout(x)\n",
        "        x = self.classifier(x)\n",
        "        return x"
      ],
      "metadata": {
        "id": "MhowLMGuc1RC"
      },
      "execution_count": null,
      "outputs": []
    },
    {
      "cell_type": "code",
      "source": [
        "config.num_labels = 3\n",
        "encoder_classifier = TransformerForSequenceClassification(config)\n",
        "encoder_classifier(inputs.input_ids).size()"
      ],
      "metadata": {
        "colab": {
          "base_uri": "https://localhost:8080/"
        },
        "id": "zOBGcFq8V0hP",
        "outputId": "fdfcde89-7cac-4be7-c60e-530ca2a4bd3e"
      },
      "execution_count": null,
      "outputs": [
        {
          "output_type": "execute_result",
          "data": {
            "text/plain": [
              "torch.Size([1, 3])"
            ]
          },
          "metadata": {},
          "execution_count": 26
        }
      ]
    },
    {
      "cell_type": "code",
      "source": [],
      "metadata": {
        "id": "FXnm-Rd-V0jm"
      },
      "execution_count": null,
      "outputs": []
    },
    {
      "cell_type": "markdown",
      "source": [
        "# The Decoder"
      ],
      "metadata": {
        "id": "b2HV8fZOWbP7"
      }
    },
    {
      "cell_type": "markdown",
      "source": [
        "**Masked multi-head self-attention layer**\n",
        "Ensures that the tokens we generate at each timestep are only based on the past outputs and the current token being predicted. Without this, the decoder could cheat during training by simply copying the target translations; masking the inputs ensures the task is not trivial.\n",
        "\n",
        "**Encoder-decoder attention layer**\n",
        "Performs multi-head attention over the output key and value vectors of the encoder stack, with the intermediate representations of the decoder acting as the queries. This way the encoder-decoder attention layer learns how to relate tokens from two different sequences, such as two different languages. The decoder has access to the encoder keys and values in each block."
      ],
      "metadata": {
        "id": "-uEx1JcULiL8"
      }
    },
    {
      "cell_type": "markdown",
      "source": [
        "![nlpt_0307.png](data:image/png;base64,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)"
      ],
      "metadata": {
        "id": "UjULZ7r9Lnq2"
      }
    },
    {
      "cell_type": "markdown",
      "source": [
        "## Masked multi-head self-attention layer"
      ],
      "metadata": {
        "id": "RDH6GBZ5Wr-C"
      }
    },
    {
      "cell_type": "code",
      "source": [
        "seq_len = inputs.input_ids.size(-1)\n",
        "mask = torch.tril(torch.ones(seq_len, seq_len)).unsqueeze(0)\n",
        "mask  # 1X5X5"
      ],
      "metadata": {
        "colab": {
          "base_uri": "https://localhost:8080/"
        },
        "id": "XQ1WUP-4V0rt",
        "outputId": "ba039e87-5293-4106-e2c3-b0c3a86924d5"
      },
      "execution_count": null,
      "outputs": [
        {
          "output_type": "execute_result",
          "data": {
            "text/plain": [
              "tensor([[[1., 0., 0., 0., 0.],\n",
              "         [1., 1., 0., 0., 0.],\n",
              "         [1., 1., 1., 0., 0.],\n",
              "         [1., 1., 1., 1., 0.],\n",
              "         [1., 1., 1., 1., 1.]]])"
            ]
          },
          "metadata": {},
          "execution_count": 32
        }
      ]
    },
    {
      "cell_type": "code",
      "source": [
        "scores = scores.masked_fill(mask == 0, -float(\"inf\"))\n",
        "scores"
      ],
      "metadata": {
        "colab": {
          "base_uri": "https://localhost:8080/"
        },
        "id": "63fGaHFDOP91",
        "outputId": "c20d2892-f800-4f5a-8d5b-b6d176a59ce7"
      },
      "execution_count": null,
      "outputs": [
        {
          "output_type": "execute_result",
          "data": {
            "text/plain": [
              "tensor([[[ 2.5338e+01,        -inf,        -inf,        -inf,        -inf],\n",
              "         [ 1.7526e+00,  2.8646e+01,        -inf,        -inf,        -inf],\n",
              "         [ 1.3060e+00,  1.0002e+00,  3.2240e+01,        -inf,        -inf],\n",
              "         [-9.8560e-01,  1.8115e+00,  7.5046e-01,  2.6267e+01,        -inf],\n",
              "         [-5.7375e-02,  2.2918e-02, -2.1616e+00, -7.4313e-01,  3.0238e+01]]],\n",
              "       grad_fn=<MaskedFillBackward0>)"
            ]
          },
          "metadata": {},
          "execution_count": 37
        }
      ]
    },
    {
      "cell_type": "code",
      "source": [
        "def scaled_dot_product_attention(query, key, value, mask=None):\n",
        "    dim_k = query.size(-1)\n",
        "    scores = torch.bmm(query, key.transpose(1, 2)) / sqrt(dim_k)\n",
        "    if mask is not None:\n",
        "        scores = scores.masked_fill(mask == 0, float(\"-inf\"))\n",
        "    weights = F.softmax(scores, dim=-1)\n",
        "    return weights.bmm(value)"
      ],
      "metadata": {
        "id": "wT7X2naMV0lt"
      },
      "execution_count": null,
      "outputs": []
    },
    {
      "cell_type": "markdown",
      "source": [
        "## Encoder-decoder attention layer"
      ],
      "metadata": {
        "id": "JswdxE-qWvCU"
      }
    },
    {
      "cell_type": "code",
      "source": [],
      "metadata": {
        "id": "Bu5YGuiNV0uD"
      },
      "execution_count": null,
      "outputs": []
    },
    {
      "cell_type": "code",
      "source": [],
      "metadata": {
        "id": "lBR7zIMuc1TE"
      },
      "execution_count": null,
      "outputs": []
    },
    {
      "cell_type": "markdown",
      "source": [
        "# Torch practise"
      ],
      "metadata": {
        "id": "ja_DHIbPXyru"
      }
    },
    {
      "cell_type": "code",
      "source": [
        "# nn.Embedding\n",
        "embedding = nn.Embedding(30000, 768)\n",
        "input = torch.LongTensor([[1,2050,4,5545],[4,3333,2,449]])\n",
        "print(input.shape)\n",
        "embedding(input).size()"
      ],
      "metadata": {
        "colab": {
          "base_uri": "https://localhost:8080/"
        },
        "id": "cZGCQP1Jc1Vc",
        "outputId": "d3d53db2-c3a1-41fe-8863-3b78c13c42c9"
      },
      "execution_count": null,
      "outputs": [
        {
          "output_type": "stream",
          "name": "stdout",
          "text": [
            "torch.Size([2, 4])\n"
          ]
        },
        {
          "output_type": "execute_result",
          "data": {
            "text/plain": [
              "torch.Size([2, 4, 768])"
            ]
          },
          "metadata": {},
          "execution_count": 27
        }
      ]
    },
    {
      "cell_type": "code",
      "source": [
        "# nn.Linear\n",
        "m = nn.Linear(20, 30)\n",
        "input = torch.randn(1,1,1,1,1,1,5, 20)\n",
        "output = m(input)\n",
        "output.size()"
      ],
      "metadata": {
        "colab": {
          "base_uri": "https://localhost:8080/"
        },
        "id": "jkUBSPFaE4AY",
        "outputId": "24603397-b932-47db-ce6a-a39cff878f2d"
      },
      "execution_count": null,
      "outputs": [
        {
          "output_type": "execute_result",
          "data": {
            "text/plain": [
              "torch.Size([1, 1, 1, 1, 1, 1, 5, 30])"
            ]
          },
          "metadata": {},
          "execution_count": 28
        }
      ]
    },
    {
      "cell_type": "code",
      "source": [
        "# torch.cat\n",
        "x = torch.randn(2, 3)\n",
        "y = torch.cat([x, x, x], -1)\n",
        "y.shape"
      ],
      "metadata": {
        "colab": {
          "base_uri": "https://localhost:8080/"
        },
        "id": "HIqjuwD2c1Xq",
        "outputId": "94fe3f24-5095-4847-b8b9-492cb10afe00"
      },
      "execution_count": null,
      "outputs": [
        {
          "output_type": "execute_result",
          "data": {
            "text/plain": [
              "torch.Size([2, 9])"
            ]
          },
          "metadata": {},
          "execution_count": 29
        }
      ]
    },
    {
      "cell_type": "code",
      "source": [
        "# dropout\n",
        "m = nn.Dropout(p=0.2)\n",
        "input = torch.randn(2, 5)\n",
        "output = m(input)\n",
        "output"
      ],
      "metadata": {
        "colab": {
          "base_uri": "https://localhost:8080/"
        },
        "id": "45F9rIbxNEEK",
        "outputId": "e96eeb85-05a1-4f83-8a3e-eecf07e98be3"
      },
      "execution_count": null,
      "outputs": [
        {
          "output_type": "execute_result",
          "data": {
            "text/plain": [
              "tensor([[ 0.0000,  0.4190, -0.0000,  1.2338, -0.0000],\n",
              "        [ 1.0072, -0.0000,  0.6644, -0.9224,  0.1631]])"
            ]
          },
          "metadata": {},
          "execution_count": 30
        }
      ]
    },
    {
      "cell_type": "code",
      "source": [
        "#nn.LayerNorm - Output: same shape as input\n",
        "# NLP Example\n",
        "batch, sentence_length, embedding_dim = 20, 5, 10\n",
        "embedding = torch.randn(batch, sentence_length, embedding_dim)\n",
        "layer_norm = nn.LayerNorm(embedding_dim)\n",
        "# Activate module\n",
        "print(layer_norm(embedding).shape)\n",
        "\n",
        "# Image Example\n",
        "N, C, H, W = 20, 5, 10, 10\n",
        "input = torch.randn(N, C, H, W)\n",
        "# Normalize over the last three dimensions (i.e. the channel and spatial dimensions)\n",
        "layer_norm = nn.LayerNorm([C, H, W])\n",
        "output = layer_norm(input)\n",
        "output.shape"
      ],
      "metadata": {
        "colab": {
          "base_uri": "https://localhost:8080/"
        },
        "id": "iaPukuxIOxrG",
        "outputId": "e37a5ddb-46a1-4ac9-c570-87f65e2c5e6d"
      },
      "execution_count": null,
      "outputs": [
        {
          "output_type": "stream",
          "name": "stdout",
          "text": [
            "torch.Size([20, 5, 10])\n"
          ]
        },
        {
          "output_type": "execute_result",
          "data": {
            "text/plain": [
              "torch.Size([20, 5, 10, 10])"
            ]
          },
          "metadata": {},
          "execution_count": 31
        }
      ]
    },
    {
      "cell_type": "code",
      "source": [],
      "metadata": {
        "id": "Ty9a7ObGOxtd"
      },
      "execution_count": null,
      "outputs": []
    },
    {
      "cell_type": "code",
      "source": [],
      "metadata": {
        "id": "RANFjEuiOxv0"
      },
      "execution_count": null,
      "outputs": []
    }
  ]
}